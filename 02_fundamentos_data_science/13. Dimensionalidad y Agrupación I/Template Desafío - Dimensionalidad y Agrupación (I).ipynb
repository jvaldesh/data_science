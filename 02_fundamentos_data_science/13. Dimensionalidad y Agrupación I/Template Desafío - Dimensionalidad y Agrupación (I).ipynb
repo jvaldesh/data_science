{
 "cells": [
  {
   "cell_type": "markdown",
   "metadata": {},
   "source": [
    "### Desafío - Dimensionalidad y Agrupación (I)\n",
    "\n",
    "<br>\n",
    "<br>\n",
    "\n",
    "Nombre: **Julio Valdés**\n",
    "\n",
    "Profesor: Gabriel Tamayo\n",
    "\n",
    "Generación: **G5**\n",
    "\n",
    "\n",
    "* Para poder realizar esta actividad debes haber revisado la lectura y videos correspondiente a la unidad.\n",
    "* Crea una carpeta de trabajo y guarda todos los archivos correspondientes (notebook y csv).\n",
    "* Una vez terminado el desafío, comprime la carpeta y sube el .zip\n",
    "\n",
    "\n",
    "### Contexto\n",
    "\n",
    "Para esta actividad utilizaremos un subconjunto de 25 items de la International Personality Item Pool, aplicados a 2800 individuos. El objetivo de esta información es desarrollar perfiles de personalidad en base a una serie de oraciones asociadas a las características Amabilidad, Escrupolisidad, Extroversión, Neuroticismo, Apertura. Los individuos deben responder qué tan adecuada es la oración respecto a su personalidad en base a 6 categorías:\n",
    "* 1: No me representa para nada.\n",
    "* 2: No me representa.\n",
    "* 3: Algunas cosas no me representan.\n",
    "* 4: Algunas cosas me representan.\n",
    "* 5: Me representa.\n",
    "* 6: Me representa completamente.\n",
    "\n",
    "Las 25 preguntas son:\n",
    "* A1 Soy indiferente a los sentimientos de otros.\n",
    "* A2 Me preocupo del bienestar de otros.\n",
    "* A3 Sé cómo confortar a otros.\n",
    "* A4 Me agradan los niños.\n",
    "* A5 Hago sentir tranquila a la gente.\n",
    "* C1 Soy exacto en mi trabajo.\n",
    "* C2 Sigo con mis tareas hasta que todo esté perfecto.\n",
    "* C3 Hago cosas siguiendo un plan.\n",
    "* C4 Hago cosas con el mínimo esfuerzo.\n",
    "* C5 Pierdo mi tiempo.\n",
    "* E1 No hablo mucho con las personas.\n",
    "* E2 Me es dificil acercarme a otros.\n",
    "* E3 Sé cómo cautivar gente.\n",
    "* E4 Hago amigos de forma fácil.\n",
    "* E5 Puedo tomar el cargo de las cosas.\n",
    "* N1 Me enojo con facilidad.\n",
    "* N2 Me irrito con facilidad.\n",
    "* N3 Tengo cambios de humor frecuentes.\n",
    "* N4 Usualmente me siento melancólico.\n",
    "* N5 Entro en pánico con facilidad.\n",
    "* O1 Estoy lleno de ideas.\n",
    "* O2 Evito leer material difícil.\n",
    "* O3 Tiendo a llevar la conversación a niveles más altos.\n",
    "* O4 Dedico tiempo a la reflexión de cosas.\n",
    "* O5 No profundizaré sobre una materia específica.\n",
    "\n",
    "Se registraron una serie de covariables sobre características demográficas de los encuestados:\n",
    "* gender Hombre = 1, Mujer =2.\n",
    "* education 1 = Educación Media Incompleta, 2 = Educación Media Completa, 3 = Educación Universitaria Incompleta, 4 = Educación Universitaria Completa 5 = Estudios de Postgrado.\n",
    "* age Edad en Años.\n",
    "\n",
    "\n",
    "Implementaremos un modelo de extracción factorial para identificar los principales perfiles\n",
    "psicológicos.\n"
   ]
  },
  {
   "cell_type": "markdown",
   "metadata": {},
   "source": [
    "### Desafío 1: Lectura de archivos\n",
    "\n",
    "Importe las librerías necesarias para el análisis factorial siguiendo las convenciones.\n",
    "Importe la base de datos bfi.csv y asígnela a un objeto df.\n",
    "Solicite las primeras 5 observaciones con head."
   ]
  },
  {
   "cell_type": "code",
   "execution_count": 155,
   "metadata": {},
   "outputs": [
    {
     "data": {
      "text/html": [
       "<div>\n",
       "<style scoped>\n",
       "    .dataframe tbody tr th:only-of-type {\n",
       "        vertical-align: middle;\n",
       "    }\n",
       "\n",
       "    .dataframe tbody tr th {\n",
       "        vertical-align: top;\n",
       "    }\n",
       "\n",
       "    .dataframe thead th {\n",
       "        text-align: right;\n",
       "    }\n",
       "</style>\n",
       "<table border=\"1\" class=\"dataframe\">\n",
       "  <thead>\n",
       "    <tr style=\"text-align: right;\">\n",
       "      <th></th>\n",
       "      <th>A1</th>\n",
       "      <th>A2</th>\n",
       "      <th>A3</th>\n",
       "      <th>A4</th>\n",
       "      <th>A5</th>\n",
       "      <th>C1</th>\n",
       "      <th>C2</th>\n",
       "      <th>C3</th>\n",
       "      <th>C4</th>\n",
       "      <th>C5</th>\n",
       "      <th>...</th>\n",
       "      <th>N4</th>\n",
       "      <th>N5</th>\n",
       "      <th>O1</th>\n",
       "      <th>O2</th>\n",
       "      <th>O3</th>\n",
       "      <th>O4</th>\n",
       "      <th>O5</th>\n",
       "      <th>gender</th>\n",
       "      <th>education</th>\n",
       "      <th>age</th>\n",
       "    </tr>\n",
       "  </thead>\n",
       "  <tbody>\n",
       "    <tr>\n",
       "      <th>0</th>\n",
       "      <td>2.0</td>\n",
       "      <td>4.0</td>\n",
       "      <td>3.0</td>\n",
       "      <td>4.0</td>\n",
       "      <td>4.0</td>\n",
       "      <td>2.0</td>\n",
       "      <td>3.0</td>\n",
       "      <td>3.0</td>\n",
       "      <td>4.0</td>\n",
       "      <td>4.0</td>\n",
       "      <td>...</td>\n",
       "      <td>2.0</td>\n",
       "      <td>3.0</td>\n",
       "      <td>3.0</td>\n",
       "      <td>6</td>\n",
       "      <td>3.0</td>\n",
       "      <td>4.0</td>\n",
       "      <td>3.0</td>\n",
       "      <td>1</td>\n",
       "      <td>NaN</td>\n",
       "      <td>16</td>\n",
       "    </tr>\n",
       "    <tr>\n",
       "      <th>1</th>\n",
       "      <td>2.0</td>\n",
       "      <td>4.0</td>\n",
       "      <td>5.0</td>\n",
       "      <td>2.0</td>\n",
       "      <td>5.0</td>\n",
       "      <td>5.0</td>\n",
       "      <td>4.0</td>\n",
       "      <td>4.0</td>\n",
       "      <td>3.0</td>\n",
       "      <td>4.0</td>\n",
       "      <td>...</td>\n",
       "      <td>5.0</td>\n",
       "      <td>5.0</td>\n",
       "      <td>4.0</td>\n",
       "      <td>2</td>\n",
       "      <td>4.0</td>\n",
       "      <td>3.0</td>\n",
       "      <td>3.0</td>\n",
       "      <td>2</td>\n",
       "      <td>NaN</td>\n",
       "      <td>18</td>\n",
       "    </tr>\n",
       "    <tr>\n",
       "      <th>2</th>\n",
       "      <td>5.0</td>\n",
       "      <td>4.0</td>\n",
       "      <td>5.0</td>\n",
       "      <td>4.0</td>\n",
       "      <td>4.0</td>\n",
       "      <td>4.0</td>\n",
       "      <td>5.0</td>\n",
       "      <td>4.0</td>\n",
       "      <td>2.0</td>\n",
       "      <td>5.0</td>\n",
       "      <td>...</td>\n",
       "      <td>2.0</td>\n",
       "      <td>3.0</td>\n",
       "      <td>4.0</td>\n",
       "      <td>2</td>\n",
       "      <td>5.0</td>\n",
       "      <td>5.0</td>\n",
       "      <td>2.0</td>\n",
       "      <td>2</td>\n",
       "      <td>NaN</td>\n",
       "      <td>17</td>\n",
       "    </tr>\n",
       "    <tr>\n",
       "      <th>3</th>\n",
       "      <td>4.0</td>\n",
       "      <td>4.0</td>\n",
       "      <td>6.0</td>\n",
       "      <td>5.0</td>\n",
       "      <td>5.0</td>\n",
       "      <td>4.0</td>\n",
       "      <td>4.0</td>\n",
       "      <td>3.0</td>\n",
       "      <td>5.0</td>\n",
       "      <td>5.0</td>\n",
       "      <td>...</td>\n",
       "      <td>4.0</td>\n",
       "      <td>1.0</td>\n",
       "      <td>3.0</td>\n",
       "      <td>3</td>\n",
       "      <td>4.0</td>\n",
       "      <td>3.0</td>\n",
       "      <td>5.0</td>\n",
       "      <td>2</td>\n",
       "      <td>NaN</td>\n",
       "      <td>17</td>\n",
       "    </tr>\n",
       "    <tr>\n",
       "      <th>4</th>\n",
       "      <td>2.0</td>\n",
       "      <td>3.0</td>\n",
       "      <td>3.0</td>\n",
       "      <td>4.0</td>\n",
       "      <td>5.0</td>\n",
       "      <td>4.0</td>\n",
       "      <td>4.0</td>\n",
       "      <td>5.0</td>\n",
       "      <td>3.0</td>\n",
       "      <td>2.0</td>\n",
       "      <td>...</td>\n",
       "      <td>4.0</td>\n",
       "      <td>3.0</td>\n",
       "      <td>3.0</td>\n",
       "      <td>3</td>\n",
       "      <td>4.0</td>\n",
       "      <td>3.0</td>\n",
       "      <td>3.0</td>\n",
       "      <td>1</td>\n",
       "      <td>NaN</td>\n",
       "      <td>17</td>\n",
       "    </tr>\n",
       "  </tbody>\n",
       "</table>\n",
       "<p>5 rows × 28 columns</p>\n",
       "</div>"
      ],
      "text/plain": [
       "    A1   A2   A3   A4   A5   C1   C2   C3   C4   C5  ...   N4   N5   O1  O2  \\\n",
       "0  2.0  4.0  3.0  4.0  4.0  2.0  3.0  3.0  4.0  4.0  ...  2.0  3.0  3.0   6   \n",
       "1  2.0  4.0  5.0  2.0  5.0  5.0  4.0  4.0  3.0  4.0  ...  5.0  5.0  4.0   2   \n",
       "2  5.0  4.0  5.0  4.0  4.0  4.0  5.0  4.0  2.0  5.0  ...  2.0  3.0  4.0   2   \n",
       "3  4.0  4.0  6.0  5.0  5.0  4.0  4.0  3.0  5.0  5.0  ...  4.0  1.0  3.0   3   \n",
       "4  2.0  3.0  3.0  4.0  5.0  4.0  4.0  5.0  3.0  2.0  ...  4.0  3.0  3.0   3   \n",
       "\n",
       "    O3   O4   O5  gender  education  age  \n",
       "0  3.0  4.0  3.0       1        NaN   16  \n",
       "1  4.0  3.0  3.0       2        NaN   18  \n",
       "2  5.0  5.0  2.0       2        NaN   17  \n",
       "3  4.0  3.0  5.0       2        NaN   17  \n",
       "4  4.0  3.0  3.0       1        NaN   17  \n",
       "\n",
       "[5 rows x 28 columns]"
      ]
     },
     "execution_count": 155,
     "metadata": {},
     "output_type": "execute_result"
    }
   ],
   "source": [
    "import pandas as pd\n",
    "import numpy as np\n",
    "import matplotlib.pyplot as plt\n",
    "%matplotlib inline\n",
    "import scipy.stats as stats\n",
    "import seaborn as sns\n",
    "import factor_analyzer as factor\n",
    "import missingno as msngo\n",
    "\n",
    "plt.style.use('seaborn')\n",
    "df = pd.read_csv('bfi.csv').drop('Unnamed: 0', axis=1)\n",
    "df.head(5)"
   ]
  },
  {
   "cell_type": "markdown",
   "metadata": {},
   "source": [
    "### Desafío 2: Preprocesamiento\n",
    "* Elimine las columnas redundantes de la base, tal como 'Unnamed: 0' .\n",
    "* Analice el patrón de datos perdidos con missingno . Comente cuáles son las principales variables con mayores tasas de valores perdidos.\n",
    "* Genere un nuevo objeto donde almacenará la base sin valores perdidos."
   ]
  },
  {
   "cell_type": "code",
   "execution_count": 156,
   "metadata": {},
   "outputs": [
    {
     "data": {
      "text/plain": [
       "<matplotlib.axes._subplots.AxesSubplot at 0x1c2203ccf8>"
      ]
     },
     "execution_count": 156,
     "metadata": {},
     "output_type": "execute_result"
    },
    {
     "data": {
      "text/plain": [
       "<Figure size 288x288 with 0 Axes>"
      ]
     },
     "metadata": {},
     "output_type": "display_data"
    },
    {
     "data": {
      "image/png": "[encoded data removed]",
      "text/plain": [
       "<Figure size 1800x720 with 2 Axes>"
      ]
     },
     "metadata": {},
     "output_type": "display_data"
    }
   ],
   "source": [
    "plt.figure(figsize=(4,4))\n",
    "msngo.matrix(df)"
   ]
  },
  {
   "cell_type": "code",
   "execution_count": 157,
   "metadata": {},
   "outputs": [
    {
     "name": "stdout",
     "output_type": "stream",
     "text": [
      "A1 0.006\n",
      "A2 0.01\n",
      "A3 0.009\n",
      "A4 0.007\n",
      "A5 0.006\n",
      "C1 0.008\n",
      "C2 0.009\n",
      "C3 0.007\n",
      "C4 0.009\n",
      "C5 0.006\n",
      "E1 0.008\n",
      "E2 0.006\n",
      "E3 0.009\n",
      "E4 0.003\n",
      "E5 0.008\n",
      "N1 0.008\n",
      "N2 0.008\n",
      "N3 0.004\n",
      "N4 0.013\n",
      "N5 0.01\n",
      "O1 0.008\n",
      "O2 0.0\n",
      "O3 0.01\n",
      "O4 0.005\n",
      "O5 0.007\n",
      "gender 0.0\n",
      "education 0.08\n",
      "age 0.0\n"
     ]
    }
   ],
   "source": [
    "for colname, serie in df.iteritems():\n",
    "    if serie.isna().value_counts('%')[False] == 1.0:\n",
    "        print(colname, 0.0)\n",
    "    else:\n",
    "        print(colname, serie.isna().value_counts('%')[True].round(3))"
   ]
  },
  {
   "cell_type": "markdown",
   "metadata": {},
   "source": [
    "### Las principales variables  con mayores tasas de valores perdidos son: education, N4, A2, N5 y O3"
   ]
  },
  {
   "cell_type": "code",
   "execution_count": 158,
   "metadata": {},
   "outputs": [],
   "source": [
    "df_clean = df.dropna()"
   ]
  },
  {
   "cell_type": "markdown",
   "metadata": {},
   "source": [
    "### Desafío 3: Descripción\n",
    "* Separe en un nuevo objeto DataFrame la batería de preguntas a extraer.\n",
    "* Reporte las medias para cada uno de las preguntas de la batería. Esto lo puede lograr con un dotplot.\n",
    "* Genere una matriz de correlaciones con este nuevo objeto. Visualícelo con heatmap .\n",
    "* Comente sobre los principales patrones de correlación entre las preguntas de la batería."
   ]
  },
  {
   "cell_type": "code",
   "execution_count": 159,
   "metadata": {},
   "outputs": [
    {
     "data": {
      "text/plain": [
       "[<matplotlib.lines.Line2D at 0x1a21657f28>]"
      ]
     },
     "execution_count": 159,
     "metadata": {},
     "output_type": "execute_result"
    },
    {
     "data": {
      "image/png": "[encoded data removed]",
      "text/plain": [
       "<Figure size 1440x576 with 1 Axes>"
      ]
     },
     "metadata": {},
     "output_type": "display_data"
    }
   ],
   "source": [
    "df_preguntas = df_clean.loc[:, \"A1\":\"O5\"]\n",
    "\n",
    "variable = []\n",
    "mean = []\n",
    "for colname, serie in df_preguntas.iteritems():\n",
    "    variable.append(colname)\n",
    "    mean.append(serie.mean())\n",
    "    df_mean = pd.DataFrame({'var':variable, 'mean': mean}).sort_values(by=['mean'])\n",
    "\n",
    "plt.figure(figsize=(20,8))\n",
    "plt.plot(df_mean['mean'], df_mean['var'], 'o')"
   ]
  },
  {
   "cell_type": "code",
   "execution_count": 160,
   "metadata": {},
   "outputs": [
    {
     "data": {
      "text/plain": [
       "<matplotlib.axes._subplots.AxesSubplot at 0x1c226945f8>"
      ]
     },
     "execution_count": 160,
     "metadata": {},
     "output_type": "execute_result"
    },
    {
     "data": {
      "image/png": "[encoded data removed]",
      "text/plain": [
       "<Figure size 1008x720 with 2 Axes>"
      ]
     },
     "metadata": {},
     "output_type": "display_data"
    }
   ],
   "source": [
    "plt.figure(figsize=(14,10))\n",
    "corr_mat = df_preguntas.corr()\n",
    "sns.heatmap(corr_mat[abs(corr_mat) >= 0.3], cmap='Blues', annot=True)"
   ]
  },
  {
   "cell_type": "markdown",
   "metadata": {},
   "source": [
    "#### En el gráfico anterior se observan algunos grupos de variables correlacionadas. Los principales grupos son:\n",
    "* A2, A3, A4, A5 (Amabilidad)\n",
    "* C1, C2, C3, C4, C5 (Escrupolisidad)\n",
    "* E1, E2, E3, E4, E5 (Extroversión)\n",
    "* N1, N2, N3, N4, N5 (Neuroticismo)\n"
   ]
  },
  {
   "cell_type": "markdown",
   "metadata": {},
   "source": [
    "### Desafío 4: Extracción de factores\n",
    "* Antes de iniciar la extracción de factores, inspeccione la ideonidad de la batería de preguntas para realizar un análisis factorial mediante la prueba de esferacidad de Barlett y Kaiser-MeyerOlkin. Comente los resultados.\n",
    "* Instancie un objeto con FactorAnalyzer() donde se estimen 10 dimensiones latentes y no se aplique rotación.\n",
    "* Genere un scree plot entre los eigenvalues del modelo y la cantidad de dimensiones estimables.\n",
    "* Refactorice el objeto con FactorAnalyzer() con rotacion (rotacion = 'promax') y la cantidad de dimensiones válidas que informó el scree plot.\n",
    "* Extraiga las cargas del modelo e identifique qué items están asociados a cada factor. Comente sobre qué significa cada factor construído."
   ]
  },
  {
   "cell_type": "code",
   "execution_count": 161,
   "metadata": {},
   "outputs": [
    {
     "name": "stdout",
     "output_type": "stream",
     "text": [
      "(16509.6735504972, 0.0)\n",
      "(array([0.73783211, 0.83426339, 0.87158082, 0.87042369, 0.90061871,\n",
      "       0.83810325, 0.78841959, 0.84946345, 0.82364592, 0.86188771,\n",
      "       0.84151427, 0.88389524, 0.89307072, 0.87818653, 0.89404239,\n",
      "       0.7781268 , 0.77845262, 0.86005895, 0.88625489, 0.86049617,\n",
      "       0.85501182, 0.78381059, 0.83374388, 0.78111794, 0.75804877]), 0.8468295031833752)\n"
     ]
    }
   ],
   "source": [
    "# prueba de esferacidad\n",
    "print(factor.calculate_bartlett_sphericity(df_preguntas))\n",
    "# prueba KMO\n",
    "print(factor.calculate_kmo(df_preguntas))"
   ]
  },
  {
   "cell_type": "markdown",
   "metadata": {},
   "source": [
    "#### Comentarios:\n",
    "* Al realizar la prueba de esferacidad de Barlett se decide rechazar la hipótesis nula y continuar con la extracción de factores dado el p-value igual a 0.0.\n",
    "* Al realizar la prueba KMO obtenemos un puntaje global de 0.85 lo que nos confirma que podemos continuar con la extracción de factores dado el puntaje global mayor a 0.7. Se observa que a nivel de variables todas presentan puntajes sobre 0.7 por lo que son significativas para las correlaciones parciales dentro de la matriz."
   ]
  },
  {
   "cell_type": "code",
   "execution_count": 162,
   "metadata": {},
   "outputs": [
    {
     "data": {
      "image/png": "[encoded data removed]",
      "text/plain": [
       "<Figure size 720x360 with 1 Axes>"
      ]
     },
     "metadata": {},
     "output_type": "display_data"
    }
   ],
   "source": [
    "fa = factor.FactorAnalyzer(n_factors=10, rotation = None)\n",
    "fa.fit(df_preguntas)\n",
    "# Check Eigenvalues - Reportan que tanta varianza se puede atribuir un factor específico\n",
    "ev, v = fa.get_eigenvalues()\n",
    "# La cantidad de factores a generar será igual a los factores con un ev mayor a 1.\n",
    "plt.figure(figsize=(10,5))\n",
    "plt.scatter(range(1, 11), ev[:10])\n",
    "plt.plot(range(1, 11), ev[:10])\n",
    "plt.title('Scree Plot')\n",
    "plt.xlabel('Factors')\n",
    "plt.ylabel('Eigenvalue')\n",
    "plt.axhline(1, color=\"r\")\n",
    "plt.grid()\n",
    "plt.show()"
   ]
  },
  {
   "cell_type": "markdown",
   "metadata": {},
   "source": [
    "#### La cantidad de dimensiones válidas de acuerdo a lo obtenido en el scree plot son 6"
   ]
  },
  {
   "cell_type": "code",
   "execution_count": 163,
   "metadata": {},
   "outputs": [
    {
     "data": {
      "image/png": "[encoded data removed]",
      "text/plain": [
       "<Figure size 720x360 with 1 Axes>"
      ]
     },
     "metadata": {},
     "output_type": "display_data"
    }
   ],
   "source": [
    "fa = factor.FactorAnalyzer(n_factors=6, rotation = 'promax')\n",
    "fa.fit(df_preguntas)\n",
    "\n",
    "# Check Eigenvalues - Reportan que tanta varianza se puede atribuir un factor específico\n",
    "ev, v = fa.get_eigenvalues()\n",
    "# La cantidad de factores a generar será igual a los factores con un ev mayor a 1.\n",
    "plt.figure(figsize=(10,5))\n",
    "plt.scatter(range(1, 7), ev[:6])\n",
    "plt.plot(range(1, 7), ev[:6])\n",
    "plt.title('Scree Plot')\n",
    "plt.xlabel('Factors')\n",
    "plt.ylabel('Eigenvalue')\n",
    "plt.axhline(1, color=\"r\")\n",
    "plt.grid()\n",
    "plt.show()"
   ]
  },
  {
   "cell_type": "code",
   "execution_count": 164,
   "metadata": {},
   "outputs": [
    {
     "data": {
      "text/html": [
       "<div>\n",
       "<style scoped>\n",
       "    .dataframe tbody tr th:only-of-type {\n",
       "        vertical-align: middle;\n",
       "    }\n",
       "\n",
       "    .dataframe tbody tr th {\n",
       "        vertical-align: top;\n",
       "    }\n",
       "\n",
       "    .dataframe thead th {\n",
       "        text-align: right;\n",
       "    }\n",
       "</style>\n",
       "<table border=\"1\" class=\"dataframe\">\n",
       "  <thead>\n",
       "    <tr style=\"text-align: right;\">\n",
       "      <th></th>\n",
       "      <th>0</th>\n",
       "      <th>1</th>\n",
       "      <th>2</th>\n",
       "      <th>3</th>\n",
       "      <th>4</th>\n",
       "      <th>5</th>\n",
       "    </tr>\n",
       "  </thead>\n",
       "  <tbody>\n",
       "    <tr>\n",
       "      <th>A1</th>\n",
       "      <td></td>\n",
       "      <td></td>\n",
       "      <td></td>\n",
       "      <td></td>\n",
       "      <td></td>\n",
       "      <td></td>\n",
       "    </tr>\n",
       "    <tr>\n",
       "      <th>A2</th>\n",
       "      <td></td>\n",
       "      <td></td>\n",
       "      <td></td>\n",
       "      <td></td>\n",
       "      <td>0.64</td>\n",
       "      <td></td>\n",
       "    </tr>\n",
       "    <tr>\n",
       "      <th>A3</th>\n",
       "      <td></td>\n",
       "      <td></td>\n",
       "      <td></td>\n",
       "      <td></td>\n",
       "      <td>0.49</td>\n",
       "      <td></td>\n",
       "    </tr>\n",
       "    <tr>\n",
       "      <th>A4</th>\n",
       "      <td></td>\n",
       "      <td></td>\n",
       "      <td></td>\n",
       "      <td></td>\n",
       "      <td>0.32</td>\n",
       "      <td></td>\n",
       "    </tr>\n",
       "    <tr>\n",
       "      <th>A5</th>\n",
       "      <td></td>\n",
       "      <td>0.32</td>\n",
       "      <td></td>\n",
       "      <td></td>\n",
       "      <td>0.31</td>\n",
       "      <td></td>\n",
       "    </tr>\n",
       "    <tr>\n",
       "      <th>C1</th>\n",
       "      <td></td>\n",
       "      <td></td>\n",
       "      <td>0.59</td>\n",
       "      <td></td>\n",
       "      <td></td>\n",
       "      <td></td>\n",
       "    </tr>\n",
       "    <tr>\n",
       "      <th>C2</th>\n",
       "      <td></td>\n",
       "      <td></td>\n",
       "      <td>0.74</td>\n",
       "      <td></td>\n",
       "      <td></td>\n",
       "      <td></td>\n",
       "    </tr>\n",
       "    <tr>\n",
       "      <th>C3</th>\n",
       "      <td></td>\n",
       "      <td></td>\n",
       "      <td>0.61</td>\n",
       "      <td></td>\n",
       "      <td></td>\n",
       "      <td></td>\n",
       "    </tr>\n",
       "    <tr>\n",
       "      <th>C4</th>\n",
       "      <td></td>\n",
       "      <td></td>\n",
       "      <td></td>\n",
       "      <td></td>\n",
       "      <td></td>\n",
       "      <td>0.48</td>\n",
       "    </tr>\n",
       "    <tr>\n",
       "      <th>C5</th>\n",
       "      <td></td>\n",
       "      <td></td>\n",
       "      <td></td>\n",
       "      <td></td>\n",
       "      <td></td>\n",
       "      <td></td>\n",
       "    </tr>\n",
       "    <tr>\n",
       "      <th>E1</th>\n",
       "      <td></td>\n",
       "      <td></td>\n",
       "      <td></td>\n",
       "      <td></td>\n",
       "      <td></td>\n",
       "      <td></td>\n",
       "    </tr>\n",
       "    <tr>\n",
       "      <th>E2</th>\n",
       "      <td></td>\n",
       "      <td></td>\n",
       "      <td></td>\n",
       "      <td></td>\n",
       "      <td></td>\n",
       "      <td></td>\n",
       "    </tr>\n",
       "    <tr>\n",
       "      <th>E3</th>\n",
       "      <td></td>\n",
       "      <td>0.56</td>\n",
       "      <td></td>\n",
       "      <td></td>\n",
       "      <td></td>\n",
       "      <td>0.35</td>\n",
       "    </tr>\n",
       "    <tr>\n",
       "      <th>E4</th>\n",
       "      <td></td>\n",
       "      <td>0.65</td>\n",
       "      <td></td>\n",
       "      <td></td>\n",
       "      <td></td>\n",
       "      <td></td>\n",
       "    </tr>\n",
       "    <tr>\n",
       "      <th>E5</th>\n",
       "      <td></td>\n",
       "      <td>0.52</td>\n",
       "      <td></td>\n",
       "      <td></td>\n",
       "      <td></td>\n",
       "      <td></td>\n",
       "    </tr>\n",
       "    <tr>\n",
       "      <th>N1</th>\n",
       "      <td>0.9</td>\n",
       "      <td></td>\n",
       "      <td></td>\n",
       "      <td></td>\n",
       "      <td></td>\n",
       "      <td></td>\n",
       "    </tr>\n",
       "    <tr>\n",
       "      <th>N2</th>\n",
       "      <td>0.9</td>\n",
       "      <td></td>\n",
       "      <td></td>\n",
       "      <td></td>\n",
       "      <td></td>\n",
       "      <td></td>\n",
       "    </tr>\n",
       "    <tr>\n",
       "      <th>N3</th>\n",
       "      <td>0.73</td>\n",
       "      <td></td>\n",
       "      <td></td>\n",
       "      <td></td>\n",
       "      <td></td>\n",
       "      <td></td>\n",
       "    </tr>\n",
       "    <tr>\n",
       "      <th>N4</th>\n",
       "      <td>0.46</td>\n",
       "      <td></td>\n",
       "      <td></td>\n",
       "      <td></td>\n",
       "      <td></td>\n",
       "      <td></td>\n",
       "    </tr>\n",
       "    <tr>\n",
       "      <th>N5</th>\n",
       "      <td>0.48</td>\n",
       "      <td></td>\n",
       "      <td></td>\n",
       "      <td></td>\n",
       "      <td></td>\n",
       "      <td></td>\n",
       "    </tr>\n",
       "    <tr>\n",
       "      <th>O1</th>\n",
       "      <td></td>\n",
       "      <td></td>\n",
       "      <td></td>\n",
       "      <td></td>\n",
       "      <td></td>\n",
       "      <td></td>\n",
       "    </tr>\n",
       "    <tr>\n",
       "      <th>O2</th>\n",
       "      <td></td>\n",
       "      <td></td>\n",
       "      <td></td>\n",
       "      <td>0.51</td>\n",
       "      <td></td>\n",
       "      <td></td>\n",
       "    </tr>\n",
       "    <tr>\n",
       "      <th>O3</th>\n",
       "      <td></td>\n",
       "      <td></td>\n",
       "      <td></td>\n",
       "      <td></td>\n",
       "      <td></td>\n",
       "      <td></td>\n",
       "    </tr>\n",
       "    <tr>\n",
       "      <th>O4</th>\n",
       "      <td></td>\n",
       "      <td></td>\n",
       "      <td></td>\n",
       "      <td></td>\n",
       "      <td></td>\n",
       "      <td></td>\n",
       "    </tr>\n",
       "    <tr>\n",
       "      <th>O5</th>\n",
       "      <td></td>\n",
       "      <td></td>\n",
       "      <td></td>\n",
       "      <td>0.6</td>\n",
       "      <td></td>\n",
       "      <td></td>\n",
       "    </tr>\n",
       "  </tbody>\n",
       "</table>\n",
       "</div>"
      ],
      "text/plain": [
       "       0     1     2     3     4     5\n",
       "A1                                    \n",
       "A2                          0.64      \n",
       "A3                          0.49      \n",
       "A4                          0.32      \n",
       "A5        0.32              0.31      \n",
       "C1              0.59                  \n",
       "C2              0.74                  \n",
       "C3              0.61                  \n",
       "C4                                0.48\n",
       "C5                                    \n",
       "E1                                    \n",
       "E2                                    \n",
       "E3        0.56                    0.35\n",
       "E4        0.65                        \n",
       "E5        0.52                        \n",
       "N1   0.9                              \n",
       "N2   0.9                              \n",
       "N3  0.73                              \n",
       "N4  0.46                              \n",
       "N5  0.48                              \n",
       "O1                                    \n",
       "O2                    0.51            \n",
       "O3                                    \n",
       "O4                                    \n",
       "O5                     0.6            "
      ]
     },
     "execution_count": 164,
     "metadata": {},
     "output_type": "execute_result"
    }
   ],
   "source": [
    "factor1_values = fa.fit_transform(df_preguntas)\n",
    "loadings = pd.DataFrame(fa.loadings_, index = df_preguntas.columns)\n",
    "loadings.applymap(lambda x: np.where(x < .3, ' ', round(x, 2)))"
   ]
  },
  {
   "cell_type": "code",
   "execution_count": 165,
   "metadata": {},
   "outputs": [
    {
     "data": {
      "text/plain": [
       "(array([2.76179519, 2.68798872, 2.18883474, 1.44616808, 1.37069463,\n",
       "        0.93462342]),\n",
       " array([0.11047181, 0.10751955, 0.08755339, 0.05784672, 0.05482779,\n",
       "        0.03738494]),\n",
       " array([0.11047181, 0.21799136, 0.30554475, 0.36339147, 0.41821925,\n",
       "        0.45560419]))"
      ]
     },
     "execution_count": 165,
     "metadata": {},
     "output_type": "execute_result"
    }
   ],
   "source": [
    "factor_var = fa.get_factor_variance()\n",
    "factor_var"
   ]
  },
  {
   "cell_type": "markdown",
   "metadata": {},
   "source": [
    "### Comentarios\n",
    "#### Al extraer la carga del modelo se pueden observar los siguientes grupos de variables:\n",
    "* A2, A3, A4, A5 asociados con la característica de Amabilidad: Factor 4\n",
    "* C1, C2, C3 asociados con la característica de Escrupolisidad: Factor 2\n",
    "* E3, E4, E5 asociados con la característica de Extroversión: Factor 1\n",
    "* N1, N2, N3, N4, N5 asociados con la característica de Neuroticismo: Factor 0\n",
    "* O2, O5 asociados con la característica de Apertura: Factor 3\n",
    "\n",
    "#### La varianza acumulada de los factores indica que el modelo explica el 46% de la variabilidad de los datos."
   ]
  },
  {
   "cell_type": "markdown",
   "metadata": {},
   "source": [
    "### Desafío 5: Modelación de factores\n",
    "* Extraiga los puntajes del modelo factorial a su base de datos.\n",
    "*  Modele y comente brevemente sobre cuáles son los principales determinantes de cada factor en base al siguiente modelo estimable:\n",
    "\n",
    "\n",
    "$${y}={{\\beta }_{0} + {\\beta }_{1} \\cdot {gender} + {\\beta }_{2} \\cdot {education} + {\\beta }_{3} \\cdot {age} +{\\epsilon}_{i}}$$\n",
    "\n",
    "\n",
    "<br>\n",
    "Tips: Utilice statsmodels para la generación del modelo y comente que tan significativos son los regresores, estos  afectan positiva o negativamente el factor estimado?.\n"
   ]
  },
  {
   "cell_type": "code",
   "execution_count": 171,
   "metadata": {},
   "outputs": [
    {
     "data": {
      "text/html": [
       "<div>\n",
       "<style scoped>\n",
       "    .dataframe tbody tr th:only-of-type {\n",
       "        vertical-align: middle;\n",
       "    }\n",
       "\n",
       "    .dataframe tbody tr th {\n",
       "        vertical-align: top;\n",
       "    }\n",
       "\n",
       "    .dataframe thead th {\n",
       "        text-align: right;\n",
       "    }\n",
       "</style>\n",
       "<table border=\"1\" class=\"dataframe\">\n",
       "  <thead>\n",
       "    <tr style=\"text-align: right;\">\n",
       "      <th></th>\n",
       "      <th>Neuroticismo</th>\n",
       "      <th>Extroversión</th>\n",
       "      <th>Escrupolisidad</th>\n",
       "      <th>Apertura</th>\n",
       "      <th>Amabilidad</th>\n",
       "      <th>Factor 6</th>\n",
       "      <th>gender</th>\n",
       "      <th>education</th>\n",
       "      <th>age</th>\n",
       "    </tr>\n",
       "  </thead>\n",
       "  <tbody>\n",
       "    <tr>\n",
       "      <th>5</th>\n",
       "      <td>1.279171</td>\n",
       "      <td>0.000082</td>\n",
       "      <td>1.457212</td>\n",
       "      <td>-0.345160</td>\n",
       "      <td>-0.075729</td>\n",
       "      <td>0.197519</td>\n",
       "      <td>2</td>\n",
       "      <td>3.0</td>\n",
       "      <td>21</td>\n",
       "    </tr>\n",
       "    <tr>\n",
       "      <th>7</th>\n",
       "      <td>-1.773292</td>\n",
       "      <td>0.848142</td>\n",
       "      <td>-1.511693</td>\n",
       "      <td>0.260017</td>\n",
       "      <td>-1.934329</td>\n",
       "      <td>-1.440113</td>\n",
       "      <td>1</td>\n",
       "      <td>2.0</td>\n",
       "      <td>19</td>\n",
       "    </tr>\n",
       "    <tr>\n",
       "      <th>10</th>\n",
       "      <td>0.214909</td>\n",
       "      <td>-0.170640</td>\n",
       "      <td>-0.245855</td>\n",
       "      <td>0.368303</td>\n",
       "      <td>-0.216236</td>\n",
       "      <td>-0.152767</td>\n",
       "      <td>1</td>\n",
       "      <td>1.0</td>\n",
       "      <td>21</td>\n",
       "    </tr>\n",
       "    <tr>\n",
       "      <th>14</th>\n",
       "      <td>-0.074288</td>\n",
       "      <td>-0.324243</td>\n",
       "      <td>0.336190</td>\n",
       "      <td>0.179723</td>\n",
       "      <td>-1.579900</td>\n",
       "      <td>-0.938596</td>\n",
       "      <td>1</td>\n",
       "      <td>1.0</td>\n",
       "      <td>17</td>\n",
       "    </tr>\n",
       "    <tr>\n",
       "      <th>22</th>\n",
       "      <td>0.226286</td>\n",
       "      <td>-0.880137</td>\n",
       "      <td>-1.347977</td>\n",
       "      <td>-0.325867</td>\n",
       "      <td>0.717213</td>\n",
       "      <td>-0.142786</td>\n",
       "      <td>1</td>\n",
       "      <td>5.0</td>\n",
       "      <td>68</td>\n",
       "    </tr>\n",
       "    <tr>\n",
       "      <th>23</th>\n",
       "      <td>0.315536</td>\n",
       "      <td>0.993906</td>\n",
       "      <td>0.042770</td>\n",
       "      <td>-0.702357</td>\n",
       "      <td>0.906266</td>\n",
       "      <td>1.080599</td>\n",
       "      <td>2</td>\n",
       "      <td>2.0</td>\n",
       "      <td>27</td>\n",
       "    </tr>\n",
       "    <tr>\n",
       "      <th>24</th>\n",
       "      <td>0.991991</td>\n",
       "      <td>-0.807847</td>\n",
       "      <td>1.047810</td>\n",
       "      <td>-0.625486</td>\n",
       "      <td>-0.129800</td>\n",
       "      <td>-0.063065</td>\n",
       "      <td>1</td>\n",
       "      <td>1.0</td>\n",
       "      <td>18</td>\n",
       "    </tr>\n",
       "    <tr>\n",
       "      <th>25</th>\n",
       "      <td>1.648925</td>\n",
       "      <td>-1.045651</td>\n",
       "      <td>0.235251</td>\n",
       "      <td>-0.381872</td>\n",
       "      <td>0.609441</td>\n",
       "      <td>-0.380616</td>\n",
       "      <td>2</td>\n",
       "      <td>3.0</td>\n",
       "      <td>20</td>\n",
       "    </tr>\n",
       "    <tr>\n",
       "      <th>26</th>\n",
       "      <td>-0.313670</td>\n",
       "      <td>0.142823</td>\n",
       "      <td>0.950795</td>\n",
       "      <td>-1.488124</td>\n",
       "      <td>-0.609876</td>\n",
       "      <td>-0.573108</td>\n",
       "      <td>2</td>\n",
       "      <td>5.0</td>\n",
       "      <td>51</td>\n",
       "    </tr>\n",
       "    <tr>\n",
       "      <th>28</th>\n",
       "      <td>0.453501</td>\n",
       "      <td>-0.434989</td>\n",
       "      <td>-0.415126</td>\n",
       "      <td>0.045152</td>\n",
       "      <td>-0.511815</td>\n",
       "      <td>-0.829698</td>\n",
       "      <td>2</td>\n",
       "      <td>3.0</td>\n",
       "      <td>33</td>\n",
       "    </tr>\n",
       "  </tbody>\n",
       "</table>\n",
       "</div>"
      ],
      "text/plain": [
       "    Neuroticismo  Extroversión  Escrupolisidad  Apertura  Amabilidad  \\\n",
       "5       1.279171      0.000082        1.457212 -0.345160   -0.075729   \n",
       "7      -1.773292      0.848142       -1.511693  0.260017   -1.934329   \n",
       "10      0.214909     -0.170640       -0.245855  0.368303   -0.216236   \n",
       "14     -0.074288     -0.324243        0.336190  0.179723   -1.579900   \n",
       "22      0.226286     -0.880137       -1.347977 -0.325867    0.717213   \n",
       "23      0.315536      0.993906        0.042770 -0.702357    0.906266   \n",
       "24      0.991991     -0.807847        1.047810 -0.625486   -0.129800   \n",
       "25      1.648925     -1.045651        0.235251 -0.381872    0.609441   \n",
       "26     -0.313670      0.142823        0.950795 -1.488124   -0.609876   \n",
       "28      0.453501     -0.434989       -0.415126  0.045152   -0.511815   \n",
       "\n",
       "    Factor 6  gender  education  age  \n",
       "5   0.197519       2        3.0   21  \n",
       "7  -1.440113       1        2.0   19  \n",
       "10 -0.152767       1        1.0   21  \n",
       "14 -0.938596       1        1.0   17  \n",
       "22 -0.142786       1        5.0   68  \n",
       "23  1.080599       2        2.0   27  \n",
       "24 -0.063065       1        1.0   18  \n",
       "25 -0.380616       2        3.0   20  \n",
       "26 -0.573108       2        5.0   51  \n",
       "28 -0.829698       2        3.0   33  "
      ]
     },
     "execution_count": 171,
     "metadata": {},
     "output_type": "execute_result"
    }
   ],
   "source": [
    "fa_scores = fa.transform(df_preguntas)\n",
    "df_factors = df_preguntas.copy()\n",
    "df_factors['Neuroticismo'] = fa_scores[:, 0]\n",
    "df_factors['Extroversión'] = fa_scores[:, 1]\n",
    "df_factors['Escrupolisidad'] = fa_scores[:, 2]\n",
    "df_factors['Apertura'] = fa_scores[:, 3]\n",
    "df_factors['Amabilidad'] = fa_scores[:, 4]\n",
    "df_factors['Factor 6'] = fa_scores[:, 5]\n",
    "df_factors['gender'] = df_clean['gender']\n",
    "df_factors['education'] = df_clean['education']\n",
    "df_factors['age'] = df_clean['age']\n",
    "df_factors = df_factors.loc[:, 'Neuroticismo':'age']\n",
    "df_factors.head(10)"
   ]
  },
  {
   "cell_type": "code",
   "execution_count": 206,
   "metadata": {},
   "outputs": [
    {
     "data": {
      "text/html": [
       "<table class=\"simpletable\">\n",
       "<tr>\n",
       "      <td></td>         <th>coef</th>     <th>std err</th>      <th>t</th>      <th>P>|t|</th>  <th>[0.025</th>    <th>0.975]</th>  \n",
       "</tr>\n",
       "<tr>\n",
       "  <th>Intercept</th> <td>   -0.4953</td> <td>    0.098</td> <td>   -5.080</td> <td> 0.000</td> <td>   -0.687</td> <td>   -0.304</td>\n",
       "</tr>\n",
       "<tr>\n",
       "  <th>gender</th>    <td>    0.2157</td> <td>    0.041</td> <td>    5.252</td> <td> 0.000</td> <td>    0.135</td> <td>    0.296</td>\n",
       "</tr>\n",
       "<tr>\n",
       "  <th>education</th> <td>   -0.0143</td> <td>    0.018</td> <td>   -0.797</td> <td> 0.425</td> <td>   -0.049</td> <td>    0.021</td>\n",
       "</tr>\n",
       "<tr>\n",
       "  <th>age</th>       <td>    0.0061</td> <td>    0.002</td> <td>    3.272</td> <td> 0.001</td> <td>    0.002</td> <td>    0.010</td>\n",
       "</tr>\n",
       "</table>"
      ],
      "text/plain": [
       "<class 'statsmodels.iolib.table.SimpleTable'>"
      ]
     },
     "execution_count": 206,
     "metadata": {},
     "output_type": "execute_result"
    }
   ],
   "source": [
    "import statsmodels.api as sm\n",
    "import statsmodels.formula.api as smf\n",
    "\n",
    "# Modelo 1 para Neuroticismo\n",
    "m1_logit = smf.ols('Neuroticismo ~ gender + education + age', df_factors).fit()\n",
    "m1_logit.summary().tables[1]"
   ]
  },
  {
   "cell_type": "code",
   "execution_count": 207,
   "metadata": {},
   "outputs": [
    {
     "data": {
      "text/html": [
       "<table class=\"simpletable\">\n",
       "<tr>\n",
       "      <td></td>         <th>coef</th>     <th>std err</th>      <th>t</th>      <th>P>|t|</th>  <th>[0.025</th>    <th>0.975]</th>  \n",
       "</tr>\n",
       "<tr>\n",
       "  <th>Intercept</th> <td>    0.0407</td> <td>    0.099</td> <td>    0.410</td> <td> 0.682</td> <td>   -0.154</td> <td>    0.235</td>\n",
       "</tr>\n",
       "<tr>\n",
       "  <th>gender</th>    <td>    0.1592</td> <td>    0.042</td> <td>    3.810</td> <td> 0.000</td> <td>    0.077</td> <td>    0.241</td>\n",
       "</tr>\n",
       "<tr>\n",
       "  <th>education</th> <td>   -0.0053</td> <td>    0.018</td> <td>   -0.294</td> <td> 0.769</td> <td>   -0.041</td> <td>    0.030</td>\n",
       "</tr>\n",
       "<tr>\n",
       "  <th>age</th>       <td>   -0.0098</td> <td>    0.002</td> <td>   -5.164</td> <td> 0.000</td> <td>   -0.014</td> <td>   -0.006</td>\n",
       "</tr>\n",
       "</table>"
      ],
      "text/plain": [
       "<class 'statsmodels.iolib.table.SimpleTable'>"
      ]
     },
     "execution_count": 207,
     "metadata": {},
     "output_type": "execute_result"
    }
   ],
   "source": [
    "# Modelo 2 para Extroversion\n",
    "m2_logit = smf.ols('Extroversión ~ gender + education + age', df_factors).fit()\n",
    "m2_logit.summary().tables[1]"
   ]
  },
  {
   "cell_type": "code",
   "execution_count": 209,
   "metadata": {},
   "outputs": [
    {
     "data": {
      "text/html": [
       "<table class=\"simpletable\">\n",
       "<tr>\n",
       "      <td></td>         <th>coef</th>     <th>std err</th>      <th>t</th>      <th>P>|t|</th>  <th>[0.025</th>    <th>0.975]</th>  \n",
       "</tr>\n",
       "<tr>\n",
       "  <th>Intercept</th> <td>   -0.4968</td> <td>    0.095</td> <td>   -5.256</td> <td> 0.000</td> <td>   -0.682</td> <td>   -0.311</td>\n",
       "</tr>\n",
       "<tr>\n",
       "  <th>gender</th>    <td>    0.1740</td> <td>    0.040</td> <td>    4.373</td> <td> 0.000</td> <td>    0.096</td> <td>    0.252</td>\n",
       "</tr>\n",
       "<tr>\n",
       "  <th>education</th> <td>    0.0029</td> <td>    0.017</td> <td>    0.167</td> <td> 0.867</td> <td>   -0.031</td> <td>    0.037</td>\n",
       "</tr>\n",
       "<tr>\n",
       "  <th>age</th>       <td>    0.0067</td> <td>    0.002</td> <td>    3.680</td> <td> 0.000</td> <td>    0.003</td> <td>    0.010</td>\n",
       "</tr>\n",
       "</table>"
      ],
      "text/plain": [
       "<class 'statsmodels.iolib.table.SimpleTable'>"
      ]
     },
     "execution_count": 209,
     "metadata": {},
     "output_type": "execute_result"
    }
   ],
   "source": [
    "# Modelo 3 para Escrupolisidad\n",
    "m3_logit = smf.ols('Escrupolisidad ~ gender + education + age', df_factors).fit()\n",
    "m3_logit.summary().tables[1]"
   ]
  },
  {
   "cell_type": "code",
   "execution_count": 210,
   "metadata": {},
   "outputs": [
    {
     "data": {
      "text/html": [
       "<table class=\"simpletable\">\n",
       "<tr>\n",
       "      <td></td>         <th>coef</th>     <th>std err</th>      <th>t</th>      <th>P>|t|</th>  <th>[0.025</th>    <th>0.975]</th>  \n",
       "</tr>\n",
       "<tr>\n",
       "  <th>Intercept</th> <td>    0.0746</td> <td>    0.088</td> <td>    0.844</td> <td> 0.399</td> <td>   -0.099</td> <td>    0.248</td>\n",
       "</tr>\n",
       "<tr>\n",
       "  <th>gender</th>    <td>    0.1990</td> <td>    0.037</td> <td>    5.348</td> <td> 0.000</td> <td>    0.126</td> <td>    0.272</td>\n",
       "</tr>\n",
       "<tr>\n",
       "  <th>education</th> <td>   -0.0895</td> <td>    0.016</td> <td>   -5.517</td> <td> 0.000</td> <td>   -0.121</td> <td>   -0.058</td>\n",
       "</tr>\n",
       "<tr>\n",
       "  <th>age</th>       <td>   -0.0041</td> <td>    0.002</td> <td>   -2.434</td> <td> 0.015</td> <td>   -0.007</td> <td>   -0.001</td>\n",
       "</tr>\n",
       "</table>"
      ],
      "text/plain": [
       "<class 'statsmodels.iolib.table.SimpleTable'>"
      ]
     },
     "execution_count": 210,
     "metadata": {},
     "output_type": "execute_result"
    }
   ],
   "source": [
    "# Modelo 4 para Apertura\n",
    "m4_logit = smf.ols('Apertura ~ gender + education + age', df_factors).fit()\n",
    "m4_logit.summary().tables[1]"
   ]
  },
  {
   "cell_type": "code",
   "execution_count": 204,
   "metadata": {},
   "outputs": [
    {
     "data": {
      "text/html": [
       "<table class=\"simpletable\">\n",
       "<tr>\n",
       "      <td></td>         <th>coef</th>     <th>std err</th>      <th>t</th>      <th>P>|t|</th>  <th>[0.025</th>    <th>0.975]</th>  \n",
       "</tr>\n",
       "<tr>\n",
       "  <th>Intercept</th> <td>   -1.0360</td> <td>    0.088</td> <td>  -11.804</td> <td> 0.000</td> <td>   -1.208</td> <td>   -0.864</td>\n",
       "</tr>\n",
       "<tr>\n",
       "  <th>gender</th>    <td>    0.4430</td> <td>    0.037</td> <td>   11.986</td> <td> 0.000</td> <td>    0.371</td> <td>    0.515</td>\n",
       "</tr>\n",
       "<tr>\n",
       "  <th>education</th> <td>    0.0159</td> <td>    0.016</td> <td>    0.984</td> <td> 0.325</td> <td>   -0.016</td> <td>    0.047</td>\n",
       "</tr>\n",
       "<tr>\n",
       "  <th>age</th>       <td>    0.0083</td> <td>    0.002</td> <td>    4.937</td> <td> 0.000</td> <td>    0.005</td> <td>    0.012</td>\n",
       "</tr>\n",
       "</table>"
      ],
      "text/plain": [
       "<class 'statsmodels.iolib.table.SimpleTable'>"
      ]
     },
     "execution_count": 204,
     "metadata": {},
     "output_type": "execute_result"
    }
   ],
   "source": [
    "# Modelo 5 para Amabilidad\n",
    "m5_logit = smf.ols('Amabilidad ~ gender + education + age', df_factors).fit()\n",
    "m5_logit.summary().tables[1]"
   ]
  },
  {
   "cell_type": "markdown",
   "metadata": {},
   "source": [
    "#### Comentarios\n",
    "* El neuroticismo es mayor para las mujeres y aumenta a medida que aumenta la edad. La educación no es significativa para explicar el neuroticismo considerando el p-val mayor a 0.05\n",
    "* La extroversión es mayor para las mujeres y disminuye a medida aumenta la edad. La educación no es significativa para explicar la extroversión considerando el p-val mayor a 0.05\n",
    "* La escrupolisidad es mayor para las mujeres y aumenta a medida aumenta la edad. La educación no es significativa para explicar la escrupolisidad considerando el p-val mayor a 0.05\n",
    "* La apertura es mayor para las mujeres y disminuye con niveles más altos de educación y a medida que aumenta la edad.\n",
    "* La amabilidad es mayor para las mujeres y aumenta a medida que aumenta la edad. La educación no es significativa para explicar la escrupolisidad considerando el p-val mayor a 0.05"
   ]
  },
  {
   "cell_type": "code",
   "execution_count": null,
   "metadata": {},
   "outputs": [],
   "source": []
  }
 ],
 "metadata": {
  "hide_input": false,
  "kernelspec": {
   "display_name": "Python 3",
   "language": "python",
   "name": "python3"
  },
  "language_info": {
   "codemirror_mode": {
    "name": "ipython",
    "version": 3
   },
   "file_extension": ".py",
   "mimetype": "text/x-python",
   "name": "python",
   "nbconvert_exporter": "python",
   "pygments_lexer": "ipython3",
   "version": "3.7.3"
  }
 },
 "nbformat": 4,
 "nbformat_minor": 2
}
