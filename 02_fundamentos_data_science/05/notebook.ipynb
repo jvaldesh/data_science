{
 "cells": [
  {
   "cell_type": "markdown",
   "metadata": {},
   "source": [
    "# Desafío - Gráficos"
   ]
  },
  {
   "cell_type": "markdown",
   "metadata": {},
   "source": [
    "## Desafío 1. Genere una submuestra de casos"
   ]
  },
  {
   "cell_type": "code",
   "execution_count": 117,
   "metadata": {},
   "outputs": [
    {
     "data": {
      "text/html": [
       "<div>\n",
       "<style scoped>\n",
       "    .dataframe tbody tr th:only-of-type {\n",
       "        vertical-align: middle;\n",
       "    }\n",
       "\n",
       "    .dataframe tbody tr th {\n",
       "        vertical-align: top;\n",
       "    }\n",
       "\n",
       "    .dataframe thead th {\n",
       "        text-align: right;\n",
       "    }\n",
       "</style>\n",
       "<table border=\"1\" class=\"dataframe\">\n",
       "  <thead>\n",
       "    <tr style=\"text-align: right;\">\n",
       "      <th></th>\n",
       "      <th>undp_hdi</th>\n",
       "      <th>ccodealp</th>\n",
       "      <th>ht_region</th>\n",
       "      <th>gle_cgdpc</th>\n",
       "      <th>imf_pop</th>\n",
       "      <th>wef_imort</th>\n",
       "      <th>who_alc2000</th>\n",
       "      <th>who_tobt</th>\n",
       "      <th>wdi_exph</th>\n",
       "    </tr>\n",
       "  </thead>\n",
       "  <tbody>\n",
       "    <tr>\n",
       "      <th>64</th>\n",
       "      <td>0.924</td>\n",
       "      <td>DEU</td>\n",
       "      <td>WesternDem</td>\n",
       "      <td>39486.6990</td>\n",
       "      <td>80.983002</td>\n",
       "      <td>3.400000</td>\n",
       "      <td>11.03</td>\n",
       "      <td>30.700001</td>\n",
       "      <td>11.297001</td>\n",
       "    </tr>\n",
       "    <tr>\n",
       "      <th>83</th>\n",
       "      <td>0.466</td>\n",
       "      <td>CIV</td>\n",
       "      <td>SubSaharian</td>\n",
       "      <td>1354.2900</td>\n",
       "      <td>22.524000</td>\n",
       "      <td>76.199997</td>\n",
       "      <td>3.15</td>\n",
       "      <td>NaN</td>\n",
       "      <td>5.716274</td>\n",
       "    </tr>\n",
       "    <tr>\n",
       "      <th>98</th>\n",
       "      <td>0.719</td>\n",
       "      <td>LBY</td>\n",
       "      <td>NorthAfrica</td>\n",
       "      <td>4102.8398</td>\n",
       "      <td>6.266000</td>\n",
       "      <td>13.200000</td>\n",
       "      <td>0.00</td>\n",
       "      <td>NaN</td>\n",
       "      <td>4.968935</td>\n",
       "    </tr>\n",
       "    <tr>\n",
       "      <th>58</th>\n",
       "      <td>0.893</td>\n",
       "      <td>FIN</td>\n",
       "      <td>WesternDem</td>\n",
       "      <td>36958.2110</td>\n",
       "      <td>5.427000</td>\n",
       "      <td>2.400000</td>\n",
       "      <td>8.80</td>\n",
       "      <td>21.799999</td>\n",
       "      <td>9.679909</td>\n",
       "    </tr>\n",
       "    <tr>\n",
       "      <th>81</th>\n",
       "      <td>0.898</td>\n",
       "      <td>ISR</td>\n",
       "      <td>NorthAfrica</td>\n",
       "      <td>25926.2500</td>\n",
       "      <td>8.212000</td>\n",
       "      <td>3.300000</td>\n",
       "      <td>2.62</td>\n",
       "      <td>30.400000</td>\n",
       "      <td>7.808308</td>\n",
       "    </tr>\n",
       "  </tbody>\n",
       "</table>\n",
       "</div>"
      ],
      "text/plain": [
       "    undp_hdi ccodealp    ht_region   gle_cgdpc    imf_pop  wef_imort  \\\n",
       "64     0.924      DEU   WesternDem  39486.6990  80.983002   3.400000   \n",
       "83     0.466      CIV  SubSaharian   1354.2900  22.524000  76.199997   \n",
       "98     0.719      LBY  NorthAfrica   4102.8398   6.266000  13.200000   \n",
       "58     0.893      FIN   WesternDem  36958.2110   5.427000   2.400000   \n",
       "81     0.898      ISR  NorthAfrica  25926.2500   8.212000   3.300000   \n",
       "\n",
       "    who_alc2000   who_tobt   wdi_exph  \n",
       "64        11.03  30.700001  11.297001  \n",
       "83         3.15        NaN   5.716274  \n",
       "98         0.00        NaN   4.968935  \n",
       "58         8.80  21.799999   9.679909  \n",
       "81         2.62  30.400000   7.808308  "
      ]
     },
     "execution_count": 117,
     "metadata": {},
     "output_type": "execute_result"
    }
   ],
   "source": [
    "import pandas as pd\n",
    "df = pd.read_csv('qog_std_cs_jan18.csv')\n",
    "df_sample = df.sample(frac=0.5, random_state=5526)\n",
    "df_sub = df_sample.loc[:, ['undp_hdi', 'ccodealp', 'ht_region', 'gle_cgdpc', 'imf_pop', 'wef_imort', 'who_alc2000', 'who_tobt', 'wdi_exph']]\n",
    "df_sub['ht_region'] = df_sub['ht_region'].replace([1, 2, 3, 4, 5, 6, 7, 8, 9, 10], ['EastEurope', 'LatAm', 'NorthAfrica', 'SubSaharian', 'WesternDem', 'EastAsia', 'SouthEastAsia', 'SouthAsia', 'Pacific', 'Caribbean'])\n",
    "df_sub.head()"
   ]
  },
  {
   "cell_type": "markdown",
   "metadata": {},
   "source": [
    "## Desafío 2. Genere una función que ingrese su objeto y devuelva:"
   ]
  },
  {
   "cell_type": "code",
   "execution_count": 64,
   "metadata": {},
   "outputs": [
    {
     "name": "stdout",
     "output_type": "stream",
     "text": [
      "Columna undp_hdi\n",
      "count    90.000000\n",
      "mean      0.687256\n",
      "std       0.147244\n",
      "min       0.351000\n",
      "25%       0.559750\n",
      "50%       0.721500\n",
      "75%       0.792750\n",
      "max       0.924000\n",
      "Name: undp_hdi, dtype: float64\n",
      "Columna ccodealp\n",
      "COG    1\n",
      "AFG    1\n",
      "IRQ    1\n",
      "ECU    1\n",
      "CIV    1\n",
      "SLV    1\n",
      "LIE    1\n",
      "BEN    1\n",
      "POL    1\n",
      "MNE    1\n",
      "MMR    1\n",
      "TWN    1\n",
      "BLR    1\n",
      "CPV    1\n",
      "CHL    1\n",
      "ROU    1\n",
      "QAT    1\n",
      "DEU    1\n",
      "STP    1\n",
      "VCT    1\n",
      "SRB    1\n",
      "MWI    1\n",
      "GEO    1\n",
      "BWA    1\n",
      "UZB    1\n",
      "VNM    1\n",
      "FSM    1\n",
      "SYR    1\n",
      "SLB    1\n",
      "GHA    1\n",
      "      ..\n",
      "ISL    1\n",
      "SOM    1\n",
      "MOZ    1\n",
      "IDN    1\n",
      "PRT    1\n",
      "MDV    1\n",
      "MCO    1\n",
      "NER    1\n",
      "GIN    1\n",
      "ARG    1\n",
      "MLI    1\n",
      "ALB    1\n",
      "BDI    1\n",
      "BGR    1\n",
      "COL    1\n",
      "MHL    1\n",
      "UKR    1\n",
      "GRC    1\n",
      "KWT    1\n",
      "ISR    1\n",
      "AZE    1\n",
      "JOR    1\n",
      "PRK    1\n",
      "BEL    1\n",
      "MDG    1\n",
      "LSO    1\n",
      "TUR    1\n",
      "NAM    1\n",
      "KIR    1\n",
      "LKA    1\n",
      "Name: ccodealp, Length: 97, dtype: int64\n",
      "Columna ht_region\n",
      "SubSaharian      23\n",
      "EastEurope       16\n",
      "NorthAfrica      14\n",
      "LatAm            10\n",
      "WesternDem       10\n",
      "SouthEastAsia     6\n",
      "Pacific           6\n",
      "EastAsia          4\n",
      "SouthAsia         4\n",
      "Caribbean         4\n",
      "Name: ht_region, dtype: int64\n",
      "Columna gle_cgdpc\n",
      "count        97.000000\n",
      "mean      13671.963121\n",
      "std       20514.032447\n",
      "min         332.269990\n",
      "25%        2223.010000\n",
      "50%        6912.279800\n",
      "75%       14563.140000\n",
      "max      108481.130000\n",
      "Name: gle_cgdpc, dtype: float64\n",
      "Columna imf_pop\n",
      "count     70.000000\n",
      "mean      25.397543\n",
      "std       39.522762\n",
      "min        0.011000\n",
      "25%        3.003750\n",
      "50%       10.664000\n",
      "75%       30.488000\n",
      "max      252.164993\n",
      "Name: imf_pop, dtype: float64\n",
      "Columna wef_imort\n",
      "count    73.000000\n",
      "mean     24.400473\n",
      "std      21.856249\n",
      "min       1.700000\n",
      "25%       7.300000\n",
      "50%      15.100000\n",
      "75%      40.900002\n",
      "max      79.599998\n",
      "Name: wef_imort, dtype: float64\n",
      "Columna who_alc2000\n",
      "count    90.000000\n",
      "mean      4.302222\n",
      "std       3.744807\n",
      "min       0.000000\n",
      "25%       1.152500\n",
      "50%       3.250000\n",
      "75%       7.377500\n",
      "max      13.940000\n",
      "Name: who_alc2000, dtype: float64\n",
      "Columna who_tobt\n",
      "count    59.000000\n",
      "mean     23.537288\n",
      "std       9.849031\n",
      "min       6.300000\n",
      "25%      16.899999\n",
      "50%      23.500000\n",
      "75%      29.500000\n",
      "max      54.000000\n",
      "Name: who_tobt, dtype: float64\n",
      "Columna wdi_exph\n",
      "count    93.000000\n",
      "mean      6.872550\n",
      "std       2.744941\n",
      "min       2.187062\n",
      "25%       5.151412\n",
      "50%       6.350246\n",
      "75%       8.182274\n",
      "max      17.135723\n",
      "Name: wdi_exph, dtype: float64\n"
     ]
    }
   ],
   "source": [
    "def estadisticas(df):\n",
    "    for column, serie in df.iteritems():\n",
    "        print(\"Columna {}\".format(column))\n",
    "        if serie.dtype == 'float64':\n",
    "            # columna es continua, calcula medidas descriptivas    \n",
    "            print(serie.describe())\n",
    "        else:\n",
    "            # columna es discreta, calcula frecuencia\n",
    "            print(serie.value_counts())\n",
    "\n",
    "estadisticas(df_sub)"
   ]
  },
  {
   "cell_type": "markdown",
   "metadata": {},
   "source": [
    "### Estadísticas descriptivas para gle_cgdpc , undp_hdi , imf_pop"
   ]
  },
  {
   "cell_type": "code",
   "execution_count": 66,
   "metadata": {},
   "outputs": [
    {
     "name": "stdout",
     "output_type": "stream",
     "text": [
      "Columna gle_cgdpc\n",
      "count        97.000000\n",
      "mean      13671.963121\n",
      "std       20514.032447\n",
      "min         332.269990\n",
      "25%        2223.010000\n",
      "50%        6912.279800\n",
      "75%       14563.140000\n",
      "max      108481.130000\n",
      "Name: gle_cgdpc, dtype: float64\n",
      "Columna undp_hdi\n",
      "count    90.000000\n",
      "mean      0.687256\n",
      "std       0.147244\n",
      "min       0.351000\n",
      "25%       0.559750\n",
      "50%       0.721500\n",
      "75%       0.792750\n",
      "max       0.924000\n",
      "Name: undp_hdi, dtype: float64\n",
      "Columna imf_pop\n",
      "count     70.000000\n",
      "mean      25.397543\n",
      "std       39.522762\n",
      "min        0.011000\n",
      "25%        3.003750\n",
      "50%       10.664000\n",
      "75%       30.488000\n",
      "max      252.164993\n",
      "Name: imf_pop, dtype: float64\n"
     ]
    }
   ],
   "source": [
    "estadisticas(df_sub.loc[:, ['gle_cgdpc', 'undp_hdi', 'imf_pop']])"
   ]
  },
  {
   "cell_type": "markdown",
   "metadata": {},
   "source": [
    "## Desafío 3. Genere una función que liste las observaciones perdidas de una variable"
   ]
  },
  {
   "cell_type": "code",
   "execution_count": 123,
   "metadata": {},
   "outputs": [
    {
     "name": "stdout",
     "output_type": "stream",
     "text": [
      "La columna undp_hdi tiene 7 datos perdidos y corresponde a un 0.07216494845360824\n",
      "La columna ccodealp tiene 0 datos perdidos y corresponde a un 0.0\n",
      "La columna ht_region tiene 0 datos perdidos y corresponde a un 0.0\n",
      "La columna gle_cgdpc tiene 0 datos perdidos y corresponde a un 0.0\n",
      "La columna imf_pop tiene 27 datos perdidos y corresponde a un 0.27835051546391754\n",
      "La columna wef_imort tiene 24 datos perdidos y corresponde a un 0.24742268041237114\n",
      "La columna who_alc2000 tiene 7 datos perdidos y corresponde a un 0.07216494845360824\n",
      "La columna who_tobt tiene 38 datos perdidos y corresponde a un 0.3917525773195876\n",
      "La columna wdi_exph tiene 4 datos perdidos y corresponde a un 0.041237113402061855\n"
     ]
    }
   ],
   "source": [
    "def observaciones_perdidas(dataframe, var, print_list = False):\n",
    "    \"\"\"\n",
    "    observaciones_perdidas: Retorna la cantidad de casos perdidos y el porcentaje correspondiente.\n",
    "    @param dataframe: La función debe ingresar un objeto DataFrame\n",
    "    @param var: Variable a inspeccionar\n",
    "    @param print_list: Opción para imprimir la lista de observaciones perdidas en la variable\n",
    "    @return Cuando print_list == True, retorna la lista de casos considerando el codigo del pais (ccodealp). Sino retorna la cantidad de casos perdidos y el porcentaje correspondiente\n",
    "    \"\"\"\n",
    "    cantidad = dataframe[var].isna().value_counts().get(True)\n",
    "    porcentaje = dataframe[var].isna().value_counts(normalize = True).get(True)\n",
    "    \n",
    "    if print_list == True:\n",
    "        return dataframe[dataframe[var].isna()]['ccodealp']\n",
    "    \n",
    "    return cantidad, porcentaje\n",
    "    \n",
    "for column, serie in df_sub.iteritems():\n",
    "    cantidad, porcentaje = observaciones_perdidas(df_sub, column)\n",
    "    if cantidad == None:\n",
    "        cantidad = 0\n",
    "    if porcentaje == None:\n",
    "        porcentaje = 0.0\n",
    "    print(\"La columna {} tiene {} datos perdidos y corresponde a un {}\".format(column, cantidad, porcentaje))\n",
    "    \n",
    "\n"
   ]
  },
  {
   "cell_type": "markdown",
   "metadata": {},
   "source": [
    "### Tres países con mayor ausencia de datos (se considera codigo de pais ya que no esta nombre)"
   ]
  },
  {
   "cell_type": "code",
   "execution_count": 124,
   "metadata": {},
   "outputs": [
    {
     "name": "stdout",
     "output_type": "stream",
     "text": [
      "Columna who_tobt\n",
      "83     CIV\n",
      "98     LBY\n",
      "172    TGO\n",
      "190    VEN\n",
      "111    MCO\n",
      "105    MDV\n",
      "17     BOL\n",
      "145    KNA\n",
      "169    SYR\n",
      "89     PRK\n",
      "91     KWT\n",
      "102    MDG\n",
      "141    QAT\n",
      "0      AFG\n",
      "149    STP\n",
      "37     TWN\n",
      "5      ATG\n",
      "176    TUN\n",
      "19     BWA\n",
      "52     SLV\n",
      "114    MNE\n",
      "192    YEM\n",
      "79     IRQ\n",
      "22     SLB\n",
      "130    PLW\n",
      "99     LIE\n",
      "129    MHL\n",
      "144    RWA\n",
      "182    MKD\n",
      "128    FSM\n",
      "68     GRD\n",
      "148    SMR\n",
      "147    VCT\n",
      "70     GIN\n",
      "26     BDI\n",
      "159    SOM\n",
      "175    ARE\n",
      "179    TUV\n",
      "Name: ccodealp, dtype: object\n",
      "Columna imf_pop\n",
      "40     COG\n",
      "190    VEN\n",
      "111    MCO\n",
      "145    KNA\n",
      "169    SYR\n",
      "89     PRK\n",
      "102    MDG\n",
      "149    STP\n",
      "5      ATG\n",
      "176    TUN\n",
      "19     BWA\n",
      "52     SLV\n",
      "192    YEM\n",
      "99     LIE\n",
      "1      ALB\n",
      "65     GHA\n",
      "72     HTI\n",
      "118    NAM\n",
      "42     CRI\n",
      "76     IND\n",
      "73     HND\n",
      "68     GRD\n",
      "95     LSO\n",
      "26     BDI\n",
      "125    NER\n",
      "159    SOM\n",
      "175    ARE\n",
      "Name: ccodealp, dtype: object\n",
      "Columna wef_imort\n",
      "172    TGO\n",
      "40     COG\n",
      "111    MCO\n",
      "105    MDV\n",
      "145    KNA\n",
      "89     PRK\n",
      "0      AFG\n",
      "189    UZB\n",
      "149    STP\n",
      "5      ATG\n",
      "79     IRQ\n",
      "22     SLB\n",
      "130    PLW\n",
      "99     LIE\n",
      "129    MHL\n",
      "27     BLR\n",
      "128    FSM\n",
      "68     GRD\n",
      "148    SMR\n",
      "147    VCT\n",
      "66     KIR\n",
      "125    NER\n",
      "159    SOM\n",
      "179    TUV\n",
      "Name: ccodealp, dtype: object\n"
     ]
    }
   ],
   "source": [
    "#who_tobt, imf_pop, wef_imort\n",
    "print(\"Columna who_tobt\")\n",
    "print(observaciones_perdidas(df_sub, 'who_tobt', True))\n",
    "print(\"Columna imf_pop\")\n",
    "print(observaciones_perdidas(df_sub, 'imf_pop', True))\n",
    "print(\"Columna wef_imort\")\n",
    "print(observaciones_perdidas(df_sub, 'wef_imort', True))"
   ]
  },
  {
   "cell_type": "markdown",
   "metadata": {},
   "source": [
    "## Desafío 4. Grafique los histogramas"
   ]
  },
  {
   "cell_type": "code",
   "execution_count": 151,
   "metadata": {},
   "outputs": [
    {
     "data": {
      "image/png": "[encoded data removed]",
      "text/plain": [
       "<Figure size 1080x360 with 1 Axes>"
      ]
     },
     "metadata": {
      "needs_background": "light"
     },
     "output_type": "display_data"
    },
    {
     "data": {
      "image/png": "[encoded data removed]",
      "text/plain": [
       "<Figure size 1080x360 with 1 Axes>"
      ]
     },
     "metadata": {
      "needs_background": "light"
     },
     "output_type": "display_data"
    },
    {
     "data": {
      "image/png": "[encoded data removed]",
      "text/plain": [
       "<Figure size 1080x360 with 1 Axes>"
      ]
     },
     "metadata": {
      "needs_background": "light"
     },
     "output_type": "display_data"
    },
    {
     "data": {
      "image/png": "[encoded data removed]",
      "text/plain": [
       "<Figure size 1080x360 with 1 Axes>"
      ]
     },
     "metadata": {
      "needs_background": "light"
     },
     "output_type": "display_data"
    }
   ],
   "source": [
    "import matplotlib.pyplot as plt\n",
    "\n",
    "def histograma(dataframe, var, true_mean, sample_mean = False):\n",
    "    \"\"\"\n",
    "    histograma: Grafique un histograma en conjunto y señala las medias\n",
    "    @param dataframe:  La base de datos donde se encuentran los datos específicos.\n",
    "    @param var:  La variable a graficar\n",
    "    @param sample_mean: Si es verdadero, genera una recta vertical indicando la media de la variable en la selección muestral\n",
    "    @param true_mean: Si es verdadero, genera una recta vertical indicando la media de variable en la base de datos completa\n",
    "    \"\"\"\n",
    "    \n",
    "    var_dropna_sub = dataframe[var].dropna()\n",
    "    plt.figure(figsize = (15, 5))\n",
    "    plt.hist(var_dropna_sub, color='gray', alpha=.4)\n",
    "    if true_mean is not False:\n",
    "        plt.axvline(true_mean, color='dodgerblue', linestyle='--', lw=2)\n",
    "        \n",
    "    if sample_mean is not False:\n",
    "        plt.axvline(sample_mean, color='tomato', linestyle='--', lw=2)\n",
    "\n",
    "for var in ['wef_imort', 'who_alc2000', 'who_tobt', 'wdi_exph']:\n",
    "    true_mean = df[var].dropna().mean()\n",
    "    sample_mean = df_sub[var].dropna().mean()\n",
    "    histograma(df_sub, var, true_mean, sample_mean)\n"
   ]
  },
  {
   "cell_type": "markdown",
   "metadata": {},
   "source": [
    "### La media de la submuestra es mayor a la media completa en las variables wef_imort, who_tobt y wdi_exph"
   ]
  },
  {
   "cell_type": "markdown",
   "metadata": {},
   "source": [
    "## Desafío 5. Genere una función que devuelva un dotplot"
   ]
  },
  {
   "cell_type": "code",
   "execution_count": 180,
   "metadata": {},
   "outputs": [
    {
     "data": {
      "image/png": "[encoded data removed]",
      "text/plain": [
       "<Figure size 1080x360 with 1 Axes>"
      ]
     },
     "metadata": {
      "needs_background": "light"
     },
     "output_type": "display_data"
    },
    {
     "data": {
      "image/png": "[encoded data removed]",
      "text/plain": [
       "<Figure size 1080x360 with 1 Axes>"
      ]
     },
     "metadata": {
      "needs_background": "light"
     },
     "output_type": "display_data"
    },
    {
     "data": {
      "image/png": "[encoded data removed]",
      "text/plain": [
       "<Figure size 1080x360 with 1 Axes>"
      ]
     },
     "metadata": {
      "needs_background": "light"
     },
     "output_type": "display_data"
    }
   ],
   "source": [
    "def dotplot(dataframe, plot_var, plot_by, global_stat = False, statistic = 'mean'):\n",
    "    \"\"\"\n",
    "    dotplot: Devuelve un dotplot\n",
    "    @param dataframe: La tabla de datos donde buscar las variables.\n",
    "    @param plot_var: La variable a analizar y extraer las medias.\n",
    "    @param plot_by: La variable agrupadora.\n",
    "    @param global_stat: Booleano. Si es True debe graficar la media global de la variable. Por defecto debe ser False.\n",
    "    @param statistic: Debe presentar dos opciones. mean para la media y median para la mediana. Por defecto debe ser mean.\n",
    "    \"\"\"\n",
    "    if statistic == 'mean':\n",
    "        group_statistic = df_sub.groupby('ht_region')[plot_var].mean()\n",
    "    else:\n",
    "        group_statistic = df_sub.groupby('ht_region')[plot_var].median()\n",
    "    \n",
    "    plt.figure(figsize = (15, 5))\n",
    "    plt.title('Posición de distintas zonas geográficas en cuanto a {} de {}'.format(statistic, plot_var))\n",
    "    plt.plot(group_statistic.values, group_statistic.index, 'o', color = 'blue')\n",
    "    \n",
    "    if global_stat != False:\n",
    "        plt.axvline(global_stat, color = 'tomato', linestyle = '--')\n",
    "\n",
    "for plot_var in ['gle_cgdpc', 'who_alc2000', 'undp_hdi']:\n",
    "    plot_by = 'ht_region'\n",
    "    global_stat = df[plot_var].mean()\n",
    "    statistic = 'median'\n",
    "    dotplot(df_sub, plot_var, plot_by, global_stat, statistic)"
   ]
  },
  {
   "cell_type": "markdown",
   "metadata": {},
   "source": [
    "## Desafío 6. Guarde la base de datos"
   ]
  },
  {
   "cell_type": "code",
   "execution_count": 182,
   "metadata": {},
   "outputs": [],
   "source": [
    "df_sub.to_csv('subsample_javh_demo.csv')"
   ]
  },
  {
   "cell_type": "code",
   "execution_count": null,
   "metadata": {},
   "outputs": [],
   "source": []
  }
 ],
 "metadata": {
  "kernelspec": {
   "display_name": "Python 3",
   "language": "python",
   "name": "python3"
  },
  "language_info": {
   "codemirror_mode": {
    "name": "ipython",
    "version": 3
   },
   "file_extension": ".py",
   "mimetype": "text/x-python",
   "name": "python",
   "nbconvert_exporter": "python",
   "pygments_lexer": "ipython3",
   "version": "3.7.3"
  }
 },
 "nbformat": 4,
 "nbformat_minor": 2
}
