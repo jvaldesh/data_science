{
 "cells": [
  {
   "cell_type": "markdown",
   "metadata": {},
   "source": [
    "# Desafío 2 - Introducción a Big Data"
   ]
  },
  {
   "cell_type": "markdown",
   "metadata": {},
   "source": [
    "**Nombre:** Julio Valdés\n",
    "<br>\n",
    "**Generación:** GC"
   ]
  },
  {
   "cell_type": "markdown",
   "metadata": {},
   "source": [
    "### Ejercicio 1: Ingesta de datos semiestructurados"
   ]
  },
  {
   "cell_type": "code",
   "execution_count": 6,
   "metadata": {},
   "outputs": [
    {
     "data": {
      "text/plain": [
       "{'id': 47179,\n",
       " 'date': '2019-01-30T00:00:00.000Z',\n",
       " 'home_team': {'id': 2,\n",
       "  'abbreviation': 'BOS',\n",
       "  'city': 'Boston',\n",
       "  'conference': 'East',\n",
       "  'division': 'Atlantic',\n",
       "  'full_name': 'Boston Celtics',\n",
       "  'name': 'Celtics'},\n",
       " 'home_team_score': 126,\n",
       " 'period': 4,\n",
       " 'postseason': False,\n",
       " 'season': 2018,\n",
       " 'status': 'Final',\n",
       " 'time': ' ',\n",
       " 'visitor_team': {'id': 4,\n",
       "  'abbreviation': 'CHA',\n",
       "  'city': 'Charlotte',\n",
       "  'conference': 'East',\n",
       "  'division': 'Southeast',\n",
       "  'full_name': 'Charlotte Hornets',\n",
       "  'name': 'Hornets'},\n",
       " 'visitor_team_score': 94}"
      ]
     },
     "execution_count": 6,
     "metadata": {},
     "output_type": "execute_result"
    }
   ],
   "source": [
    "import requests\n",
    "import json\n",
    "\n",
    "url = 'https://www.balldontlie.io/api/v1/games'\n",
    "\n",
    "params = dict(\n",
    "    per_page = 100\n",
    ")\n",
    "\n",
    "data = requests.get(url=url, params=params).json()\n",
    "data['data'][0]"
   ]
  },
  {
   "cell_type": "markdown",
   "metadata": {},
   "source": [
    "#### Comentarios:\n",
    "* Cada juego tiene un identificador llamado 'id'.\n",
    "* Cada home_team tiene un identificador llamado 'id'.\n",
    "* Cada visitor_team tiene un identificador llamado 'id'"
   ]
  },
  {
   "cell_type": "markdown",
   "metadata": {},
   "source": [
    "### Ejercicio 2: Organización de los datos"
   ]
  },
  {
   "cell_type": "code",
   "execution_count": 7,
   "metadata": {},
   "outputs": [
    {
     "data": {
      "text/html": [
       "<div>\n",
       "<style scoped>\n",
       "    .dataframe tbody tr th:only-of-type {\n",
       "        vertical-align: middle;\n",
       "    }\n",
       "\n",
       "    .dataframe tbody tr th {\n",
       "        vertical-align: top;\n",
       "    }\n",
       "\n",
       "    .dataframe thead th {\n",
       "        text-align: right;\n",
       "    }\n",
       "</style>\n",
       "<table border=\"1\" class=\"dataframe\">\n",
       "  <thead>\n",
       "    <tr style=\"text-align: right;\">\n",
       "      <th></th>\n",
       "      <th>season</th>\n",
       "      <th>period</th>\n",
       "      <th>home</th>\n",
       "      <th>home_conference</th>\n",
       "      <th>home_division</th>\n",
       "      <th>visitor</th>\n",
       "      <th>visitor_conference</th>\n",
       "      <th>visitor_division</th>\n",
       "      <th>home_score</th>\n",
       "      <th>visitor_score</th>\n",
       "      <th>home_differential</th>\n",
       "      <th>visitor_differential</th>\n",
       "    </tr>\n",
       "  </thead>\n",
       "  <tbody>\n",
       "    <tr>\n",
       "      <td>0</td>\n",
       "      <td>2018</td>\n",
       "      <td>4</td>\n",
       "      <td>Boston Celtics</td>\n",
       "      <td>East</td>\n",
       "      <td>Atlantic</td>\n",
       "      <td>Charlotte Hornets</td>\n",
       "      <td>East</td>\n",
       "      <td>Southeast</td>\n",
       "      <td>126</td>\n",
       "      <td>94</td>\n",
       "      <td>32</td>\n",
       "      <td>-32</td>\n",
       "    </tr>\n",
       "    <tr>\n",
       "      <td>1</td>\n",
       "      <td>2018</td>\n",
       "      <td>4</td>\n",
       "      <td>Boston Celtics</td>\n",
       "      <td>East</td>\n",
       "      <td>Atlantic</td>\n",
       "      <td>LA Clippers</td>\n",
       "      <td>West</td>\n",
       "      <td>Pacific</td>\n",
       "      <td>112</td>\n",
       "      <td>123</td>\n",
       "      <td>-11</td>\n",
       "      <td>11</td>\n",
       "    </tr>\n",
       "    <tr>\n",
       "      <td>2</td>\n",
       "      <td>2018</td>\n",
       "      <td>4</td>\n",
       "      <td>Philadelphia 76ers</td>\n",
       "      <td>East</td>\n",
       "      <td>Atlantic</td>\n",
       "      <td>Denver Nuggets</td>\n",
       "      <td>West</td>\n",
       "      <td>Northwest</td>\n",
       "      <td>117</td>\n",
       "      <td>110</td>\n",
       "      <td>7</td>\n",
       "      <td>-7</td>\n",
       "    </tr>\n",
       "    <tr>\n",
       "      <td>3</td>\n",
       "      <td>2018</td>\n",
       "      <td>4</td>\n",
       "      <td>Washington Wizards</td>\n",
       "      <td>East</td>\n",
       "      <td>Southeast</td>\n",
       "      <td>Cleveland Cavaliers</td>\n",
       "      <td>East</td>\n",
       "      <td>Central</td>\n",
       "      <td>119</td>\n",
       "      <td>106</td>\n",
       "      <td>13</td>\n",
       "      <td>-13</td>\n",
       "    </tr>\n",
       "    <tr>\n",
       "      <td>4</td>\n",
       "      <td>2018</td>\n",
       "      <td>4</td>\n",
       "      <td>Sacramento Kings</td>\n",
       "      <td>West</td>\n",
       "      <td>Pacific</td>\n",
       "      <td>Miami Heat</td>\n",
       "      <td>East</td>\n",
       "      <td>Southeast</td>\n",
       "      <td>102</td>\n",
       "      <td>96</td>\n",
       "      <td>6</td>\n",
       "      <td>-6</td>\n",
       "    </tr>\n",
       "  </tbody>\n",
       "</table>\n",
       "</div>"
      ],
      "text/plain": [
       "   season  period                home home_conference home_division  \\\n",
       "0    2018       4      Boston Celtics            East      Atlantic   \n",
       "1    2018       4      Boston Celtics            East      Atlantic   \n",
       "2    2018       4  Philadelphia 76ers            East      Atlantic   \n",
       "3    2018       4  Washington Wizards            East     Southeast   \n",
       "4    2018       4    Sacramento Kings            West       Pacific   \n",
       "\n",
       "               visitor visitor_conference visitor_division  home_score  \\\n",
       "0    Charlotte Hornets               East        Southeast         126   \n",
       "1          LA Clippers               West          Pacific         112   \n",
       "2       Denver Nuggets               West        Northwest         117   \n",
       "3  Cleveland Cavaliers               East          Central         119   \n",
       "4           Miami Heat               East        Southeast         102   \n",
       "\n",
       "   visitor_score  home_differential  visitor_differential  \n",
       "0             94                 32                   -32  \n",
       "1            123                -11                    11  \n",
       "2            110                  7                    -7  \n",
       "3            106                 13                   -13  \n",
       "4             96                  6                    -6  "
      ]
     },
     "execution_count": 7,
     "metadata": {},
     "output_type": "execute_result"
    }
   ],
   "source": [
    "import pandas as pd\n",
    "\n",
    "get_row = lambda x: [x['season'], x['period'],\n",
    "    x['home_team']['full_name'], x['home_team']['conference'], x['home_team']['division'],\n",
    "    x['visitor_team']['full_name'], x['visitor_team']['conference'], x['visitor_team']['division'],\n",
    "    x['home_team_score'], x['visitor_team_score'],\n",
    "    x['home_team_score'] - x['visitor_team_score'], x['visitor_team_score'] - x['home_team_score']]\n",
    "df_data = list(map(get_row, data['data']))\n",
    "df = pd.DataFrame(df_data, columns = [\n",
    "    'season', 'period',\n",
    "    'home', 'home_conference', 'home_division',\n",
    "    'visitor', 'visitor_conference', 'visitor_division',\n",
    "    'home_score', 'visitor_score', 'home_differential', 'visitor_differential'])\n",
    "df.head(5)"
   ]
  },
  {
   "cell_type": "markdown",
   "metadata": {},
   "source": [
    "### Ejercicio 3: El efecto de jugar de local"
   ]
  },
  {
   "cell_type": "code",
   "execution_count": 9,
   "metadata": {},
   "outputs": [],
   "source": [
    "import numpy as np\n",
    "df['home_win'] = np.where(df['home_score'] > df['visitor_score'], 1, 0)\n",
    "df['visitor_win'] = np.where(df['home_score'] < df['visitor_score'], 1, 0)\n",
    "\n",
    "df_home_win = df.groupby(['home']).sum().reset_index()[['home', 'home_win']]"
   ]
  },
  {
   "cell_type": "code",
   "execution_count": 10,
   "metadata": {},
   "outputs": [
    {
     "name": "stdout",
     "output_type": "stream",
     "text": [
      "Los primeros 5 equipos en cuanto a desempeño por jugar de local son:\n"
     ]
    },
    {
     "data": {
      "text/html": [
       "<div>\n",
       "<style scoped>\n",
       "    .dataframe tbody tr th:only-of-type {\n",
       "        vertical-align: middle;\n",
       "    }\n",
       "\n",
       "    .dataframe tbody tr th {\n",
       "        vertical-align: top;\n",
       "    }\n",
       "\n",
       "    .dataframe thead th {\n",
       "        text-align: right;\n",
       "    }\n",
       "</style>\n",
       "<table border=\"1\" class=\"dataframe\">\n",
       "  <thead>\n",
       "    <tr style=\"text-align: right;\">\n",
       "      <th></th>\n",
       "      <th>home</th>\n",
       "      <th>home_win</th>\n",
       "    </tr>\n",
       "  </thead>\n",
       "  <tbody>\n",
       "    <tr>\n",
       "      <td>8</td>\n",
       "      <td>Detroit Pistons</td>\n",
       "      <td>4</td>\n",
       "    </tr>\n",
       "    <tr>\n",
       "      <td>11</td>\n",
       "      <td>Indiana Pacers</td>\n",
       "      <td>4</td>\n",
       "    </tr>\n",
       "    <tr>\n",
       "      <td>20</td>\n",
       "      <td>Orlando Magic</td>\n",
       "      <td>4</td>\n",
       "    </tr>\n",
       "    <tr>\n",
       "      <td>21</td>\n",
       "      <td>Philadelphia 76ers</td>\n",
       "      <td>4</td>\n",
       "    </tr>\n",
       "    <tr>\n",
       "      <td>28</td>\n",
       "      <td>Washington Wizards</td>\n",
       "      <td>4</td>\n",
       "    </tr>\n",
       "  </tbody>\n",
       "</table>\n",
       "</div>"
      ],
      "text/plain": [
       "                  home  home_win\n",
       "8      Detroit Pistons         4\n",
       "11      Indiana Pacers         4\n",
       "20       Orlando Magic         4\n",
       "21  Philadelphia 76ers         4\n",
       "28  Washington Wizards         4"
      ]
     },
     "execution_count": 10,
     "metadata": {},
     "output_type": "execute_result"
    }
   ],
   "source": [
    "print(\"Los primeros 5 equipos en cuanto a desempeño por jugar de local son:\")\n",
    "df_home_win.sort_values(by = ['home_win', 'home'], ascending = [False, True]).head(5)"
   ]
  },
  {
   "cell_type": "code",
   "execution_count": 11,
   "metadata": {},
   "outputs": [
    {
     "name": "stdout",
     "output_type": "stream",
     "text": [
      "Los últimos 5 equipos en cuanto a desempeño por jugar de local son:\n"
     ]
    },
    {
     "data": {
      "text/html": [
       "<div>\n",
       "<style scoped>\n",
       "    .dataframe tbody tr th:only-of-type {\n",
       "        vertical-align: middle;\n",
       "    }\n",
       "\n",
       "    .dataframe tbody tr th {\n",
       "        vertical-align: top;\n",
       "    }\n",
       "\n",
       "    .dataframe thead th {\n",
       "        text-align: right;\n",
       "    }\n",
       "</style>\n",
       "<table border=\"1\" class=\"dataframe\">\n",
       "  <thead>\n",
       "    <tr style=\"text-align: right;\">\n",
       "      <th></th>\n",
       "      <th>home</th>\n",
       "      <th>home_win</th>\n",
       "    </tr>\n",
       "  </thead>\n",
       "  <tbody>\n",
       "    <tr>\n",
       "      <td>14</td>\n",
       "      <td>Miami Heat</td>\n",
       "      <td>1</td>\n",
       "    </tr>\n",
       "    <tr>\n",
       "      <td>3</td>\n",
       "      <td>Charlotte Hornets</td>\n",
       "      <td>0</td>\n",
       "    </tr>\n",
       "    <tr>\n",
       "      <td>18</td>\n",
       "      <td>New York Knicks</td>\n",
       "      <td>0</td>\n",
       "    </tr>\n",
       "    <tr>\n",
       "      <td>19</td>\n",
       "      <td>Oklahoma City Thunder</td>\n",
       "      <td>0</td>\n",
       "    </tr>\n",
       "    <tr>\n",
       "      <td>22</td>\n",
       "      <td>Phoenix Suns</td>\n",
       "      <td>0</td>\n",
       "    </tr>\n",
       "  </tbody>\n",
       "</table>\n",
       "</div>"
      ],
      "text/plain": [
       "                     home  home_win\n",
       "14             Miami Heat         1\n",
       "3       Charlotte Hornets         0\n",
       "18        New York Knicks         0\n",
       "19  Oklahoma City Thunder         0\n",
       "22           Phoenix Suns         0"
      ]
     },
     "execution_count": 11,
     "metadata": {},
     "output_type": "execute_result"
    }
   ],
   "source": [
    "print(\"Los últimos 5 equipos en cuanto a desempeño por jugar de local son:\")\n",
    "df_home_win.sort_values(by = ['home_win', 'home'], ascending = [False, True]).tail(5)"
   ]
  },
  {
   "cell_type": "code",
   "execution_count": 13,
   "metadata": {},
   "outputs": [
    {
     "name": "stdout",
     "output_type": "stream",
     "text": [
      "Los primeros 5 equipos en cuanto a desempeño por jugar de visitante son:\n"
     ]
    },
    {
     "data": {
      "text/html": [
       "<div>\n",
       "<style scoped>\n",
       "    .dataframe tbody tr th:only-of-type {\n",
       "        vertical-align: middle;\n",
       "    }\n",
       "\n",
       "    .dataframe tbody tr th {\n",
       "        vertical-align: top;\n",
       "    }\n",
       "\n",
       "    .dataframe thead th {\n",
       "        text-align: right;\n",
       "    }\n",
       "</style>\n",
       "<table border=\"1\" class=\"dataframe\">\n",
       "  <thead>\n",
       "    <tr style=\"text-align: right;\">\n",
       "      <th></th>\n",
       "      <th>visitor</th>\n",
       "      <th>visitor_win</th>\n",
       "    </tr>\n",
       "  </thead>\n",
       "  <tbody>\n",
       "    <tr>\n",
       "      <td>21</td>\n",
       "      <td>Orlando Magic</td>\n",
       "      <td>4</td>\n",
       "    </tr>\n",
       "    <tr>\n",
       "      <td>12</td>\n",
       "      <td>LA Clippers</td>\n",
       "      <td>3</td>\n",
       "    </tr>\n",
       "    <tr>\n",
       "      <td>1</td>\n",
       "      <td>Boston Celtics</td>\n",
       "      <td>2</td>\n",
       "    </tr>\n",
       "    <tr>\n",
       "      <td>2</td>\n",
       "      <td>Brooklyn Nets</td>\n",
       "      <td>2</td>\n",
       "    </tr>\n",
       "    <tr>\n",
       "      <td>3</td>\n",
       "      <td>Charlotte Hornets</td>\n",
       "      <td>2</td>\n",
       "    </tr>\n",
       "  </tbody>\n",
       "</table>\n",
       "</div>"
      ],
      "text/plain": [
       "              visitor  visitor_win\n",
       "21      Orlando Magic            4\n",
       "12        LA Clippers            3\n",
       "1      Boston Celtics            2\n",
       "2       Brooklyn Nets            2\n",
       "3   Charlotte Hornets            2"
      ]
     },
     "execution_count": 13,
     "metadata": {},
     "output_type": "execute_result"
    }
   ],
   "source": [
    "df_visitor_win = df.groupby(['visitor']).sum().reset_index()[['visitor', 'visitor_win']]\n",
    "print(\"Los primeros 5 equipos en cuanto a desempeño por jugar de visitante son:\")\n",
    "df_visitor_win.sort_values(by = ['visitor_win', 'visitor'], ascending = [False, True]).head(5)"
   ]
  },
  {
   "cell_type": "code",
   "execution_count": 14,
   "metadata": {},
   "outputs": [
    {
     "name": "stdout",
     "output_type": "stream",
     "text": [
      "Los últimos 5 equipos en cuanto a desempeño por jugar de visitante son:\n"
     ]
    },
    {
     "data": {
      "text/html": [
       "<div>\n",
       "<style scoped>\n",
       "    .dataframe tbody tr th:only-of-type {\n",
       "        vertical-align: middle;\n",
       "    }\n",
       "\n",
       "    .dataframe tbody tr th {\n",
       "        vertical-align: top;\n",
       "    }\n",
       "\n",
       "    .dataframe thead th {\n",
       "        text-align: right;\n",
       "    }\n",
       "</style>\n",
       "<table border=\"1\" class=\"dataframe\">\n",
       "  <thead>\n",
       "    <tr style=\"text-align: right;\">\n",
       "      <th></th>\n",
       "      <th>visitor</th>\n",
       "      <th>visitor_win</th>\n",
       "    </tr>\n",
       "  </thead>\n",
       "  <tbody>\n",
       "    <tr>\n",
       "      <td>14</td>\n",
       "      <td>Memphis Grizzlies</td>\n",
       "      <td>0</td>\n",
       "    </tr>\n",
       "    <tr>\n",
       "      <td>17</td>\n",
       "      <td>Minnesota Timberwolves</td>\n",
       "      <td>0</td>\n",
       "    </tr>\n",
       "    <tr>\n",
       "      <td>19</td>\n",
       "      <td>New York Knicks</td>\n",
       "      <td>0</td>\n",
       "    </tr>\n",
       "    <tr>\n",
       "      <td>23</td>\n",
       "      <td>Phoenix Suns</td>\n",
       "      <td>0</td>\n",
       "    </tr>\n",
       "    <tr>\n",
       "      <td>25</td>\n",
       "      <td>Sacramento Kings</td>\n",
       "      <td>0</td>\n",
       "    </tr>\n",
       "  </tbody>\n",
       "</table>\n",
       "</div>"
      ],
      "text/plain": [
       "                   visitor  visitor_win\n",
       "14       Memphis Grizzlies            0\n",
       "17  Minnesota Timberwolves            0\n",
       "19         New York Knicks            0\n",
       "23            Phoenix Suns            0\n",
       "25        Sacramento Kings            0"
      ]
     },
     "execution_count": 14,
     "metadata": {},
     "output_type": "execute_result"
    }
   ],
   "source": [
    "print(\"Los últimos 5 equipos en cuanto a desempeño por jugar de visitante son:\")\n",
    "df_visitor_win.sort_values(by = ['visitor_win', 'visitor'], ascending = [False, True]).tail(5)"
   ]
  },
  {
   "cell_type": "markdown",
   "metadata": {},
   "source": [
    "### Ejercicio 4: Obteniendo el porcentaje de ganar local y de visita"
   ]
  },
  {
   "cell_type": "markdown",
   "metadata": {},
   "source": [
    "#### Genere un nuevo objeto que guarde el porcentaje de juegos ganados como local por equipo."
   ]
  },
  {
   "cell_type": "code",
   "execution_count": 15,
   "metadata": {},
   "outputs": [],
   "source": [
    "df_home_win['home_win_percent'] = df_home_win['home_win'].apply(lambda x: float(x/df.shape[0]))"
   ]
  },
  {
   "cell_type": "markdown",
   "metadata": {},
   "source": [
    "#### Repita lo mismo para los juegos donde el equipo fue visitante."
   ]
  },
  {
   "cell_type": "code",
   "execution_count": 16,
   "metadata": {},
   "outputs": [],
   "source": [
    "df_visitor_win['visitor_win_percent'] = df_visitor_win['visitor_win'].apply(lambda x: float(x/df.shape[0]))"
   ]
  },
  {
   "cell_type": "markdown",
   "metadata": {},
   "source": [
    "#### ¿Qué equipos tienen iguales chances de ganar como visitante o local?"
   ]
  },
  {
   "cell_type": "code",
   "execution_count": 17,
   "metadata": {},
   "outputs": [
    {
     "data": {
      "text/html": [
       "<div>\n",
       "<style scoped>\n",
       "    .dataframe tbody tr th:only-of-type {\n",
       "        vertical-align: middle;\n",
       "    }\n",
       "\n",
       "    .dataframe tbody tr th {\n",
       "        vertical-align: top;\n",
       "    }\n",
       "\n",
       "    .dataframe thead th {\n",
       "        text-align: right;\n",
       "    }\n",
       "</style>\n",
       "<table border=\"1\" class=\"dataframe\">\n",
       "  <thead>\n",
       "    <tr style=\"text-align: right;\">\n",
       "      <th></th>\n",
       "      <th>home</th>\n",
       "      <th>home_win</th>\n",
       "      <th>home_win_percent</th>\n",
       "      <th>visitor</th>\n",
       "      <th>visitor_win</th>\n",
       "      <th>visitor_win_percent</th>\n",
       "    </tr>\n",
       "  </thead>\n",
       "  <tbody>\n",
       "    <tr>\n",
       "      <td>4</td>\n",
       "      <td>Chicago Bulls</td>\n",
       "      <td>1</td>\n",
       "      <td>0.01</td>\n",
       "      <td>Chicago Bulls</td>\n",
       "      <td>1</td>\n",
       "      <td>0.01</td>\n",
       "    </tr>\n",
       "    <tr>\n",
       "      <td>10</td>\n",
       "      <td>Houston Rockets</td>\n",
       "      <td>2</td>\n",
       "      <td>0.02</td>\n",
       "      <td>Houston Rockets</td>\n",
       "      <td>2</td>\n",
       "      <td>0.02</td>\n",
       "    </tr>\n",
       "    <tr>\n",
       "      <td>15</td>\n",
       "      <td>Milwaukee Bucks</td>\n",
       "      <td>2</td>\n",
       "      <td>0.02</td>\n",
       "      <td>Milwaukee Bucks</td>\n",
       "      <td>2</td>\n",
       "      <td>0.02</td>\n",
       "    </tr>\n",
       "    <tr>\n",
       "      <td>18</td>\n",
       "      <td>New York Knicks</td>\n",
       "      <td>0</td>\n",
       "      <td>0.00</td>\n",
       "      <td>New York Knicks</td>\n",
       "      <td>0</td>\n",
       "      <td>0.00</td>\n",
       "    </tr>\n",
       "    <tr>\n",
       "      <td>20</td>\n",
       "      <td>Orlando Magic</td>\n",
       "      <td>4</td>\n",
       "      <td>0.04</td>\n",
       "      <td>Orlando Magic</td>\n",
       "      <td>4</td>\n",
       "      <td>0.04</td>\n",
       "    </tr>\n",
       "    <tr>\n",
       "      <td>22</td>\n",
       "      <td>Phoenix Suns</td>\n",
       "      <td>0</td>\n",
       "      <td>0.00</td>\n",
       "      <td>Phoenix Suns</td>\n",
       "      <td>0</td>\n",
       "      <td>0.00</td>\n",
       "    </tr>\n",
       "    <tr>\n",
       "      <td>23</td>\n",
       "      <td>Portland Trail Blazers</td>\n",
       "      <td>2</td>\n",
       "      <td>0.02</td>\n",
       "      <td>Portland Trail Blazers</td>\n",
       "      <td>2</td>\n",
       "      <td>0.02</td>\n",
       "    </tr>\n",
       "  </tbody>\n",
       "</table>\n",
       "</div>"
      ],
      "text/plain": [
       "                      home  home_win  home_win_percent  \\\n",
       "4            Chicago Bulls         1              0.01   \n",
       "10         Houston Rockets         2              0.02   \n",
       "15         Milwaukee Bucks         2              0.02   \n",
       "18         New York Knicks         0              0.00   \n",
       "20           Orlando Magic         4              0.04   \n",
       "22            Phoenix Suns         0              0.00   \n",
       "23  Portland Trail Blazers         2              0.02   \n",
       "\n",
       "                   visitor  visitor_win  visitor_win_percent  \n",
       "4            Chicago Bulls            1                 0.01  \n",
       "10         Houston Rockets            2                 0.02  \n",
       "15         Milwaukee Bucks            2                 0.02  \n",
       "18         New York Knicks            0                 0.00  \n",
       "20           Orlando Magic            4                 0.04  \n",
       "22            Phoenix Suns            0                 0.00  \n",
       "23  Portland Trail Blazers            2                 0.02  "
      ]
     },
     "execution_count": 17,
     "metadata": {},
     "output_type": "execute_result"
    }
   ],
   "source": [
    "df_win_percent = pd.merge(df_home_win, df_visitor_win, left_on = 'home', right_on = 'visitor')\n",
    "df_win_percent[df_win_percent['home_win_percent'] == df_win_percent['visitor_win_percent']]"
   ]
  },
  {
   "cell_type": "code",
   "execution_count": null,
   "metadata": {},
   "outputs": [],
   "source": []
  }
 ],
 "metadata": {
  "kernelspec": {
   "display_name": "Python 3",
   "language": "python",
   "name": "python3"
  },
  "language_info": {
   "codemirror_mode": {
    "name": "ipython",
    "version": 3
   },
   "file_extension": ".py",
   "mimetype": "text/x-python",
   "name": "python",
   "nbconvert_exporter": "python",
   "pygments_lexer": "ipython3",
   "version": "3.7.4"
  }
 },
 "nbformat": 4,
 "nbformat_minor": 2
}
