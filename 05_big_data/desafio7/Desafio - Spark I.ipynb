{
 "cells": [
  {
   "cell_type": "markdown",
   "metadata": {},
   "source": [
    "# Desafío - Spark I"
   ]
  },
  {
   "cell_type": "markdown",
   "metadata": {},
   "source": [
    "**Nombre:** Julio Valdés\n",
    "<br>\n",
    "**Generación:** GC"
   ]
  },
  {
   "cell_type": "markdown",
   "metadata": {},
   "source": [
    "### Ejercicio 1: Preliminares y datos perdidos"
   ]
  },
  {
   "cell_type": "markdown",
   "metadata": {},
   "source": [
    "#### Genere los objetos SparkConf y SparkContext"
   ]
  },
  {
   "cell_type": "code",
   "execution_count": 18,
   "metadata": {},
   "outputs": [
    {
     "name": "stdout",
     "output_type": "stream",
     "text": [
      "<pyspark.conf.SparkConf object at 0x7f8a97188940>"
     ]
    }
   ],
   "source": [
    "from pyspark import SparkConf, SparkContext\n",
    "spark_conf = SparkConf()\\\n",
    "            .setMaster(\"local[4]\")\\\n",
    "            .setAppName('desafio-spark-I')\n",
    "spark_conf"
   ]
  },
  {
   "cell_type": "code",
   "execution_count": 19,
   "metadata": {},
   "outputs": [
    {
     "name": "stdout",
     "output_type": "stream",
     "text": [
      "<SparkContext master=yarn appName=livy-session-0>"
     ]
    }
   ],
   "source": [
    "sc"
   ]
  },
  {
   "cell_type": "markdown",
   "metadata": {},
   "source": [
    "#### Utilizando Spark , importe el archivo household_power_consumption.txt a un objeto RDD"
   ]
  },
  {
   "cell_type": "code",
   "execution_count": 20,
   "metadata": {},
   "outputs": [
    {
     "name": "stdout",
     "output_type": "stream",
     "text": [
      "['Date;Time;Global_active_power;Global_reactive_power;Voltage;Global_intensity;Sub_metering_1;Sub_metering_2;Sub_metering_3', '16/12/2006;17:24:00;4.216;0.418;234.840;18.400;0.000;1.000;17.000', '16/12/2006;17:25:00;5.360;0.436;233.630;23.000;0.000;1.000;16.000', '16/12/2006;17:26:00;5.374;0.498;233.290;23.000;0.000;2.000;17.000', '16/12/2006;17:27:00;5.388;0.502;233.740;23.000;0.000;1.000;17.000']"
     ]
    }
   ],
   "source": [
    "hpc_data = sc.textFile('s3://bigdata-desafio/challenges/u4lec1/household_power_consumption.txt')\n",
    "hpc_data.take(5)"
   ]
  },
  {
   "cell_type": "markdown",
   "metadata": {},
   "source": [
    "#### El primer registro del archivo corresponde a las etiquetas asociadas a cada columna. Elimínelo de su RDD."
   ]
  },
  {
   "cell_type": "code",
   "execution_count": 21,
   "metadata": {},
   "outputs": [
    {
     "name": "stdout",
     "output_type": "stream",
     "text": [
      "['16/12/2006;17:24:00;4.216;0.418;234.840;18.400;0.000;1.000;17.000', '16/12/2006;17:25:00;5.360;0.436;233.630;23.000;0.000;1.000;16.000', '16/12/2006;17:26:00;5.374;0.498;233.290;23.000;0.000;2.000;17.000', '16/12/2006;17:27:00;5.388;0.502;233.740;23.000;0.000;1.000;17.000', '16/12/2006;17:28:00;3.666;0.528;235.680;15.800;0.000;1.000;17.000']"
     ]
    }
   ],
   "source": [
    "header = hpc_data.first()\n",
    "hpc_proc = hpc_data\\\n",
    "            .filter(lambda x: x != header)\n",
    "hpc_proc.take(5)"
   ]
  },
  {
   "cell_type": "markdown",
   "metadata": {},
   "source": [
    "#### Cada campo dentro del registro está separado por un ; . Separe cada campo del registro por éste caracter."
   ]
  },
  {
   "cell_type": "code",
   "execution_count": 22,
   "metadata": {},
   "outputs": [
    {
     "name": "stdout",
     "output_type": "stream",
     "text": [
      "[('16/12/2006', '17:24:00', 4.216, 0.418, 234.84, 18.4, 0.0, 1.0, 17.0), ('16/12/2006', '17:25:00', 5.36, 0.436, 233.63, 23.0, 0.0, 1.0, 16.0), ('16/12/2006', '17:26:00', 5.374, 0.498, 233.29, 23.0, 0.0, 2.0, 17.0), ('16/12/2006', '17:27:00', 5.388, 0.502, 233.74, 23.0, 0.0, 1.0, 17.0), ('16/12/2006', '17:28:00', 3.666, 0.528, 235.68, 15.8, 0.0, 1.0, 17.0)]"
     ]
    }
   ],
   "source": [
    "hpc_proc = hpc_data\\\n",
    "            .filter(lambda x: x != header)\\\n",
    "            .map(lambda x: x.split(';'))\\\n",
    "            .map(lambda x: (str(x[0]), str(x[1]), float(x[2]), float(x[3]), float(x[4]), \n",
    "                            float(x[5]), float(x[6]), float(x[7]), float(x[8])))\n",
    "hpc_proc.take(5)"
   ]
  },
  {
   "cell_type": "markdown",
   "metadata": {},
   "source": [
    "### Reporte las siguientes métricas:"
   ]
  },
  {
   "cell_type": "markdown",
   "metadata": {},
   "source": [
    "#### La cantidad total de registros antes de eliminar los datos perdidos."
   ]
  },
  {
   "cell_type": "code",
   "execution_count": 23,
   "metadata": {},
   "outputs": [
    {
     "name": "stdout",
     "output_type": "stream",
     "text": [
      "Cantidad total de registros antes de eliminar los datos perdidos: 2075260"
     ]
    }
   ],
   "source": [
    "print(\"Cantidad total de registros antes de eliminar los datos perdidos: {}\".format(hpc_data.count()))"
   ]
  },
  {
   "cell_type": "markdown",
   "metadata": {},
   "source": [
    "#### La cantidad total de registros nulos."
   ]
  },
  {
   "cell_type": "code",
   "execution_count": 24,
   "metadata": {},
   "outputs": [
    {
     "name": "stdout",
     "output_type": "stream",
     "text": [
      "Cantidad total de registros nulos: 25979"
     ]
    }
   ],
   "source": [
    "hpc_proc = hpc_data\\\n",
    "            .filter(lambda x: '?' in x)\n",
    "print(\"Cantidad total de registros nulos: {}\".format(hpc_proc.count()))"
   ]
  },
  {
   "cell_type": "markdown",
   "metadata": {},
   "source": [
    "#### La cantidad de registros nulos por año. ¿En qué año hubo más registros nulos?"
   ]
  },
  {
   "cell_type": "code",
   "execution_count": 25,
   "metadata": {},
   "outputs": [
    {
     "name": "stdout",
     "output_type": "stream",
     "text": [
      "[('2010', 17629), ('2009', 4280), ('2007', 3931), ('2008', 135), ('2006', 4)]\n",
      "Hubo más registros nulos en el año 2010"
     ]
    }
   ],
   "source": [
    "hpc_proc = hpc_data\\\n",
    "            .filter(lambda x: '?' in x)\\\n",
    "            .map(lambda x: x.split(';'))\\\n",
    "            .map(lambda x: (x[0].split('/')[2], 1))\\\n",
    "            .reduceByKey(lambda x, y: x + y)\\\n",
    "            .sortBy(lambda x: -x[1])\n",
    "result = hpc_proc.collect()\n",
    "print(result)\n",
    "print(\"Hubo más registros nulos en el año {}\".format(result[0][0]))"
   ]
  },
  {
   "cell_type": "markdown",
   "metadata": {},
   "source": [
    "#### La cantidad de registros nulos por mes para el año con una mayor cantidad de registros nulos. ¿En qué mes hubo más registros nulos?"
   ]
  },
  {
   "cell_type": "code",
   "execution_count": 26,
   "metadata": {},
   "outputs": [
    {
     "name": "stdout",
     "output_type": "stream",
     "text": [
      "[('8', 7226), ('9', 5237), ('1', 3131), ('3', 2027), ('2', 2), ('6', 2), ('4', 1), ('10', 1), ('5', 1), ('7', 1)]\n",
      "Hubo más registros nulos en el mes 8"
     ]
    }
   ],
   "source": [
    "hpc_proc = hpc_data\\\n",
    "            .filter(lambda x: '?' in x)\\\n",
    "            .map(lambda x: x.split(';'))\\\n",
    "            .map(lambda x: (x[0].split('/')[2], x[0].split('/')[1], 1))\\\n",
    "            .filter(lambda x: x[0] == '2010')\\\n",
    "            .map(lambda x: (x[1], 1))\\\n",
    "            .reduceByKey(lambda x, y: x + y)\\\n",
    "            .sortBy(lambda x: -x[1])\n",
    "result = hpc_proc.collect()\n",
    "print(result)\n",
    "print(\"Hubo más registros nulos en el mes {}\".format(result[0][0]))"
   ]
  },
  {
   "cell_type": "markdown",
   "metadata": {},
   "source": [
    "### Ejercicio 2: Preparación de los datos"
   ]
  },
  {
   "cell_type": "markdown",
   "metadata": {},
   "source": [
    "#### Genere un objeto donde se encuentren sólo aquellos datos sin registros perdidos."
   ]
  },
  {
   "cell_type": "code",
   "execution_count": 27,
   "metadata": {},
   "outputs": [
    {
     "name": "stdout",
     "output_type": "stream",
     "text": [
      "['16/12/2006;17:24:00;4.216;0.418;234.840;18.400;0.000;1.000;17.000', '16/12/2006;17:25:00;5.360;0.436;233.630;23.000;0.000;1.000;16.000', '16/12/2006;17:26:00;5.374;0.498;233.290;23.000;0.000;2.000;17.000', '16/12/2006;17:27:00;5.388;0.502;233.740;23.000;0.000;1.000;17.000', '16/12/2006;17:28:00;3.666;0.528;235.680;15.800;0.000;1.000;17.000']"
     ]
    }
   ],
   "source": [
    "hpc_proc = hpc_data\\\n",
    "            .filter(lambda x: x != header)\\\n",
    "            .filter(lambda x: '?' not in x)\n",
    "hpc_proc.take(5)"
   ]
  },
  {
   "cell_type": "markdown",
   "metadata": {},
   "source": [
    "#### Con el objeto sin datos perdidos, genere un objeto RDD donde los registro tengan la siguiente estructura:\n",
    "<code>\n",
    "    [(2006, 12, 18, 4.464, 0.136, 234.66, 19.0, 0.0, 37.0),\n",
    "        (2006, 12, 18, 1.944, 0.084, 236.56, 8.2, 0.0, 2.0),\n",
    "        (2006, 12, 9, 3.706, 0.062, 237.81, 15.6, 1.0, 38.0),\n",
    "        (2006, 12, 1, 0.204, 0.0, 244.48, 0.8, 0.0, 0.0),\n",
    "        (2006, 12, 10, 1.34, 0.092, 238.72, 5.6, 0.0, 0.0)]\n",
    "</code>\n",
    "<p>\n",
    "    donde cada registro tendrá la siguiente composición: (año, mes, dia, global_activity_power,\n",
    "global_reactive_power, voltage, global_intensity, submetering_1, submetering_2,\n",
    "submetering_3)\n",
    "</p>"
   ]
  },
  {
   "cell_type": "code",
   "execution_count": 28,
   "metadata": {},
   "outputs": [
    {
     "name": "stdout",
     "output_type": "stream",
     "text": [
      "[('2006', '12', '16', '4.216', '0.418', '234.840', '18.400', '0.000', '1.000', '17.000'), ('2006', '12', '16', '5.360', '0.436', '233.630', '23.000', '0.000', '1.000', '16.000'), ('2006', '12', '16', '5.374', '0.498', '233.290', '23.000', '0.000', '2.000', '17.000'), ('2006', '12', '16', '5.388', '0.502', '233.740', '23.000', '0.000', '1.000', '17.000'), ('2006', '12', '16', '3.666', '0.528', '235.680', '15.800', '0.000', '1.000', '17.000')]"
     ]
    }
   ],
   "source": [
    "hpc_proc = hpc_data\\\n",
    "            .filter(lambda x: x != header)\\\n",
    "            .filter(lambda x: '?' not in x)\\\n",
    "            .map(lambda x: x.split(';'))\\\n",
    "            .map(lambda x: (x[0].split('/')[2], x[0].split('/')[1], x[0].split('/')[0], \n",
    "                            x[2], x[3], x[4], x[5], x[6], x[7], x[8]))\n",
    "\n",
    "hpc_proc.take(5)"
   ]
  },
  {
   "cell_type": "markdown",
   "metadata": {},
   "source": [
    "#### Por defecto todos los datos dentro de este objeto serán considerados como strings. Conviértalos al tipo de dato pertinente ( int o float ). Devuelva con collect las primeras 5 observaciones"
   ]
  },
  {
   "cell_type": "code",
   "execution_count": 29,
   "metadata": {},
   "outputs": [
    {
     "name": "stdout",
     "output_type": "stream",
     "text": [
      "[(2006, 12, 16, 4.216, 0.418, 234.84, 18.4, 0.0, 1.0, 17.0), (2006, 12, 16, 5.36, 0.436, 233.63, 23.0, 0.0, 1.0, 16.0), (2006, 12, 16, 5.374, 0.498, 233.29, 23.0, 0.0, 2.0, 17.0), (2006, 12, 16, 5.388, 0.502, 233.74, 23.0, 0.0, 1.0, 17.0), (2006, 12, 16, 3.666, 0.528, 235.68, 15.8, 0.0, 1.0, 17.0)]"
     ]
    }
   ],
   "source": [
    "hpc_proc = hpc_data\\\n",
    "            .filter(lambda x: x != header)\\\n",
    "            .filter(lambda x: '?' not in x)\\\n",
    "            .map(lambda x: x.split(';'))\\\n",
    "            .map(lambda x: (int(x[0].split('/')[2]), int(x[0].split('/')[1]), int(x[0].split('/')[0]), \n",
    "                        float(x[2]), float(x[3]), float(x[4]), float(x[5]), float(x[6]), float(x[7]), float(x[8])))\n",
    "\n",
    "hpc_proc.take(5)"
   ]
  },
  {
   "cell_type": "markdown",
   "metadata": {},
   "source": [
    "### Ejercicio 3: Patrones globales"
   ]
  },
  {
   "cell_type": "markdown",
   "metadata": {},
   "source": [
    "#### Extraiga la media, desviación estándar e intervalos de confianza (a .5 desviaciones estándar) para las columnas global_activity_power , global_reactive_power , voltage y global_intensity . Reporte sus resultados."
   ]
  },
  {
   "cell_type": "code",
   "execution_count": 30,
   "metadata": {},
   "outputs": [],
   "source": [
    "def patrones_globales(variable, index):\n",
    "    gap_data = hpc_proc\\\n",
    "                .map(lambda x: x[index])\n",
    "    print(\"Variable | Media | Desviación Estándar | Intervalos de confianza\")\n",
    "    gap_mean = gap_data.mean()\n",
    "    gap_std = gap_data.stdev()\n",
    "    print(\"{} | {} | {} | [{}, {}]\".format(variable, round(gap_mean, 3), round(gap_std, 3), round(gap_mean-0.5*gap_std, 3), round(gap_mean+0.5*gap_std,3)))"
   ]
  },
  {
   "cell_type": "code",
   "execution_count": 31,
   "metadata": {},
   "outputs": [
    {
     "name": "stdout",
     "output_type": "stream",
     "text": [
      "Variable | Media | Desviación Estándar | Intervalos de confianza\n",
      "global_activity_power | 1.092 | 1.057 | [0.563, 1.62]\n",
      "Variable | Media | Desviación Estándar | Intervalos de confianza\n",
      "global_reactive_power | 0.124 | 0.113 | [0.067, 0.18]\n",
      "Variable | Media | Desviación Estándar | Intervalos de confianza\n",
      "voltage | 240.84 | 3.24 | [239.22, 242.46]\n",
      "Variable | Media | Desviación Estándar | Intervalos de confianza\n",
      "global_intensity | 4.628 | 4.444 | [2.406, 6.85]"
     ]
    }
   ],
   "source": [
    "patrones_globales('global_activity_power', 3)\n",
    "patrones_globales('global_reactive_power', 4)\n",
    "patrones_globales('voltage', 5)\n",
    "patrones_globales('global_intensity', 6)"
   ]
  },
  {
   "cell_type": "markdown",
   "metadata": {},
   "source": [
    "### Ejercicio 4: Patrón temporal"
   ]
  },
  {
   "cell_type": "markdown",
   "metadata": {},
   "source": [
    "#### Reporte el promedio de global_activity_power a nivel mensual y anual. Genere un objeto con la acción collectAsMap() del RDD procesado."
   ]
  },
  {
   "cell_type": "code",
   "execution_count": 33,
   "metadata": {},
   "outputs": [
    {
     "name": "stdout",
     "output_type": "stream",
     "text": [
      "{(2006, 12): 1.9012951073117563, (2007, 1): 1.546033917290203, (2007, 3): 1.3186270301754266, (2007, 5): 0.9858618279569635, (2007, 7): 0.6673668246871165, (2007, 9): 0.9693181628779088, (2007, 11): 1.2944729848604817, (2008, 2): 1.181384486433406, (2008, 4): 1.1159720370370139, (2008, 6): 0.9940964374174476, (2008, 8): 0.27648819391553775, (2008, 10): 1.1367683924926801, (2008, 12): 1.2751893019811829, (2009, 1): 1.4102020206545822, (2009, 3): 1.2267347551413885, (2009, 5): 1.0128557666457598, (2009, 7): 0.6181208889685744, (2009, 9): 0.9868408454290529, (2009, 11): 1.2747434431353108, (2010, 2): 1.3758546058832082, (2010, 4): 1.0272951688695853, (2010, 6): 0.9696148895782476, (2010, 8): 0.5907781579088224, (2010, 10): 1.1633986872466457, (2007, 2): 1.401083535889756, (2007, 4): 0.8911889454619564, (2007, 6): 0.8268143754199269, (2007, 8): 0.764186202877764, (2007, 10): 1.1039107934942587, (2007, 12): 1.6264739353480613, (2008, 1): 1.4599202939134583, (2008, 3): 1.245336902708509, (2008, 5): 1.0242811057843393, (2008, 7): 0.7947806353331209, (2008, 9): 0.9876803703703723, (2008, 11): 1.3870658238985056, (2009, 2): 1.2475678159776908, (2009, 4): 1.1406899393489882, (2009, 6): 0.8407564857751382, (2009, 8): 0.6646187112848176, (2009, 10): 1.1444862116087218, (2009, 12): 1.3644205833594132, (2010, 1): 1.43052489821481, (2010, 3): 1.1300752821908384, (2010, 5): 1.0952843925715077, (2010, 7): 0.7210679450704021, (2010, 9): 0.9564424307878864, (2010, 11): 1.196854466897542}"
     ]
    }
   ],
   "source": [
    "patron_temporal_data = hpc_proc\\\n",
    "                        .keyBy(lambda x: (x[0], x[1]))\\\n",
    "                        .mapValues(lambda x: (x[3], 1))\\\n",
    "                        .reduceByKey(lambda x, y: (x[0] + y[0], x[1] + y[1]))\\\n",
    "                        .mapValues(lambda x: (x[0]/x[1]))\n",
    "patron_temporal_data.collectAsMap()"
   ]
  },
  {
   "cell_type": "markdown",
   "metadata": {},
   "source": [
    "### Ejercicio 5: Consumo energético general"
   ]
  },
  {
   "cell_type": "markdown",
   "metadata": {},
   "source": [
    "El siguiente objetivo es calcular el consumo energético general para cada registro en el RDD de acuerdo a formula especificada.\n",
    "* Implemente la función para todos los registros.\n",
    "* Genere el RDD con el consumo energético general promedio por Año, Mes y Día.\n",
    "* Reporte el consumo energético general para todos los días de Octubre del 2008."
   ]
  },
  {
   "cell_type": "code",
   "execution_count": 38,
   "metadata": {},
   "outputs": [
    {
     "name": "stdout",
     "output_type": "stream",
     "text": [
      "[((2006, 12, 17), 25.65740740740744), ((2006, 12, 19), 9.119374999999998), ((2006, 12, 21), 9.597635605006957), ((2006, 12, 23), 42.87252314814816), ((2006, 12, 25), 21.765046296296305)]"
     ]
    }
   ],
   "source": [
    "def calc_consumo_enegergetico(x):\n",
    "    return (x[3]*1000)/60 - x[7] - x[8] - x[9]\n",
    "\n",
    "consumo_energetico_data = hpc_proc\\\n",
    "                            .keyBy(lambda x: (x[0], x[1], x[2]))\\\n",
    "                            .mapValues(lambda x: (calc_consumo_enegergetico(x), 1))\\\n",
    "                            .reduceByKey(lambda x, y: (x[0] + y[0], x[1] + y[1]))\\\n",
    "                            .mapValues(lambda x: (x[0]/x[1]))\n",
    "consumo_energetico_data.take(5)"
   ]
  },
  {
   "cell_type": "code",
   "execution_count": 41,
   "metadata": {},
   "outputs": [
    {
     "name": "stdout",
     "output_type": "stream",
     "text": [
      "{(2008, 10, 1): 8.57574074074073, (2008, 10, 3): 8.53773148148149, (2008, 10, 5): 10.773958333333315, (2008, 10, 7): 12.406342592592578, (2008, 10, 9): 12.023171296296297, (2008, 10, 11): 8.313263888888887, (2008, 10, 13): 9.243935185185197, (2008, 10, 15): 11.752962962962973, (2008, 10, 17): 11.286643518518511, (2008, 10, 19): 13.581643518518502, (2008, 10, 21): 13.572407407407413, (2008, 10, 23): 12.271689814814822, (2008, 10, 25): 7.746552135528486, (2008, 10, 27): 4.418425925925917, (2008, 10, 29): 14.916157407407386, (2008, 10, 31): 7.385787037037059, (2008, 10, 2): 9.024560185185186, (2008, 10, 4): 12.739074074074084, (2008, 10, 6): 8.952569444444434, (2008, 10, 8): 9.159444444444452, (2008, 10, 10): 8.937939814814817, (2008, 10, 12): 11.281249999999998, (2008, 10, 14): 10.596944444444446, (2008, 10, 16): 11.51157407407408, (2008, 10, 18): 15.777662037037043, (2008, 10, 20): 9.601087962962959, (2008, 10, 22): 10.932291666666671, (2008, 10, 24): 10.485949074074057, (2008, 10, 26): 4.411018518518521, (2008, 10, 28): 10.0045138888889, (2008, 10, 30): 10.656944444444443}"
     ]
    }
   ],
   "source": [
    "consumo_energetico_data = consumo_energetico_data\\\n",
    "                            .filter(lambda x: x[0][0] == 2008 and x[0][1] == 10)\n",
    "consumo_energetico_data.collectAsMap()"
   ]
  },
  {
   "cell_type": "code",
   "execution_count": null,
   "metadata": {},
   "outputs": [],
   "source": []
  }
 ],
 "metadata": {
  "kernelspec": {
   "display_name": "PySpark3",
   "language": "",
   "name": "pyspark3kernel"
  },
  "language_info": {
   "codemirror_mode": {
    "name": "python",
    "version": 3
   },
   "mimetype": "text/x-python",
   "name": "pyspark3",
   "pygments_lexer": "python3"
  }
 },
 "nbformat": 4,
 "nbformat_minor": 2
}
