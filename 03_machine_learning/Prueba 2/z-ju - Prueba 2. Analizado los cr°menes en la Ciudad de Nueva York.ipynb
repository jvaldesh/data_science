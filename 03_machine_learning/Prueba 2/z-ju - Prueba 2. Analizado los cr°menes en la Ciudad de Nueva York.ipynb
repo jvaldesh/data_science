{
 "cells": [
  {
   "cell_type": "markdown",
   "metadata": {},
   "source": [
    "## Solución Prueba 2. Análisis de los crímenes en la Ciudad de Nueva York\n"
   ]
  },
  {
   "cell_type": "markdown",
   "metadata": {},
   "source": [
    "**Alumnos:** Tania Torres, Sergio Zepeda y Julio Valdés \n",
    "\n",
    "**Nombre grupo:** z-ju\n",
    "\n",
    "**Profesor:** Gabriel Tamayo L.\n",
    "\n",
    "**Generación:** G5"
   ]
  },
  {
   "cell_type": "markdown",
   "metadata": {},
   "source": [
    "En esta ocasión trabajaremos con datos públicos del departamento de policía de New York. El dataset es llamado stop_and_frisk_data y contiene información sobre interrogaciones y detenciones realizadas por le departamento de policia de NY en la vía pública. El diccionario de atributos se encuentra en el archivo 2009 SQF File Spec.xlsx. Para todo nuestro estudio utilizaremos los datos correspondientes al año 2009 como conjunto de entrenamiento y los datos del 2010 como conjunto de pruebas. Hay que hacer notar que los datos que estamos utilizando son un muestreo del de la cantidad de registros reales que contiene el dataset, esta decisión fue tomada debido a los largos tiempos de entrenamiento y procesamiento que requiere el volumén de datos reales.\n"
   ]
  },
  {
   "cell_type": "markdown",
   "metadata": {},
   "source": [
    "### OBJETIVOS:\n",
    "- Parte 1:  Generar un modelo predictivo que condicional a las características medidas del sospechoso, prediga si un determinado procedimiento concluirá en un arresto o no.\n",
    "- Parte 2: Generar al menos cinco modelos predictivos que permitan determinar si el procedimiento policial concluirá en alguna acción violenta"
   ]
  },
  {
   "cell_type": "markdown",
   "metadata": {},
   "source": [
    "### MÉTRICAS A UTILIZAR:\n",
    "\n",
    "* Debido a que corresponde a un problema de **clasificación**, utilizaremos las métricas del reporte de clasificación: **recall, precision y f1 score, además de la curva roc** para evaluar el desempeño de cada uno de los modelos\n",
    "<br><br>"
   ]
  },
  {
   "cell_type": "markdown",
   "metadata": {},
   "source": [
    "### OBJETIVOS:\n",
    "- Parte 1:  Generar un modelo predictivo que condicional a las características medidas del sospechoso, prediga si un determinado procedimiento concluirá en un arresto o no.\n",
    "- Parte 2: Generar al menos cinco modelos predictivos que permitan determinar si el procedimiento policial concluirá en alguna acción violenta"
   ]
  },
  {
   "cell_type": "markdown",
   "metadata": {},
   "source": [
    "### PREPROCESAMIENTO:\n",
    "\n",
    "Para lograr los objetivos planteados, se debera realizar una etapa de preprocesamiento para parear la información contenida en ambos archivos de datos entregados. Para esto realizaremos los siguientes pasos:\n",
    "\n",
    "- Analisis exploratorio de los datos.\n",
    "- Comparación de columnas existentes y tipos de datos de cada atributo, con el fin de encontrar las diferencias entre ambos.\n",
    "- Normalización del tipo de dato de atributos seleccionados\n",
    "- Comparación de columnas de ambos dataframe y eliminacion de columnas diferentes.\n",
    "- Visualizacion de Datos Perdidos y eliminación.\n",
    "- Identificación de columnas que presentan diferencias en sus valores\n",
    "- Selección de registros que contengan datos comunes (en ambos dataframe) de los atributos identificados\n",
    "- Analisis exploratorio luego del preprocesamiento\n"
   ]
  },
  {
   "cell_type": "code",
   "execution_count": null,
   "metadata": {},
   "outputs": [],
   "source": [
    "import warnings\n",
    "warnings.filterwarnings('ignore')\n",
    "import pandas as pd\n",
    "import numpy as np\n",
    "import matplotlib.pyplot as plt\n",
    "import seaborn as sns\n",
    "import preproc_nyc_sqf as preproc\n",
    "import missingno as msngo"
   ]
  },
  {
   "cell_type": "code",
   "execution_count": null,
   "metadata": {},
   "outputs": [],
   "source": [
    "df_2009=pd.read_csv('2009_1perc.csv').drop('Unnamed: 0', axis=1)\n",
    "df_2010=pd.read_csv('2010_1perc.csv').drop('Unnamed: 0', axis=1)\n"
   ]
  },
  {
   "cell_type": "markdown",
   "metadata": {},
   "source": [
    "## Análisis exploratorio"
   ]
  },
  {
   "cell_type": "code",
   "execution_count": 3,
   "metadata": {},
   "outputs": [
    {
     "name": "stdout",
     "output_type": "stream",
     "text": [
      "DATAFRAME 2009: Cantidad de Registros:5812, Cantidad de columnas: 111\n",
      "DATAFRAME 2010: Cantidad de Registros:6013, Cantidad de columnas: 111\n"
     ]
    }
   ],
   "source": [
    "print('DATAFRAME 2009: Cantidad de Registros:{}, Cantidad de columnas: {}'.format(df_2009.shape[0],df_2009.shape[1]))\n",
    "print('DATAFRAME 2010: Cantidad de Registros:{}, Cantidad de columnas: {}'.format(df_2010.shape[0],df_2010.shape[1]))"
   ]
  },
  {
   "cell_type": "code",
   "execution_count": 4,
   "metadata": {},
   "outputs": [
    {
     "name": "stdout",
     "output_type": "stream",
     "text": [
      "DATAFRAME 2009 \n",
      "N    0.940124\n",
      "Y    0.059876\n",
      "Name: arstmade, dtype: float64\n",
      "--------------------------------------------------\n",
      "DATAFRAME 2010\n",
      "N    0.933477\n",
      "Y    0.066523\n",
      "Name: arstmade, dtype: float64\n",
      "--------------------------------------------------\n"
     ]
    }
   ],
   "source": [
    "print('DATAFRAME 2009 ')\n",
    "print(df_2009['arstmade'].value_counts('%'))\n",
    "print('-'*50)\n",
    "print('DATAFRAME 2010')\n",
    "print(df_2010['arstmade'].value_counts('%'))\n",
    "print('-'*50)"
   ]
  },
  {
   "cell_type": "code",
   "execution_count": 5,
   "metadata": {},
   "outputs": [
    {
     "data": {
      "text/plain": [
       "Text(0.5, 1.0, 'df 2010')"
      ]
     },
     "execution_count": 5,
     "metadata": {},
     "output_type": "execute_result"
    },
    {
     "data": {
      "image/png": "[encoded data removed]",
      "text/plain": [
       "<Figure size 1080x288 with 2 Axes>"
      ]
     },
     "metadata": {
      "needs_background": "light"
     },
     "output_type": "display_data"
    }
   ],
   "source": [
    "fig = plt.figure(figsize=(15,4))\n",
    "ax1 = fig.add_subplot(1,2,1)\n",
    "fig.suptitle('Distribución del vector objetivo')\n",
    "ax1.set_title(\"df 2009\")\n",
    "sns.countplot(df_2009['arstmade'], label = 'Clase', ax=ax1)\n",
    "ax2 = fig.add_subplot(1,2,2)\n",
    "sns.countplot(df_2010['arstmade'], label = 'Clase', ax=ax2)\n",
    "ax2.set_title(\"df 2010\")"
   ]
  },
  {
   "cell_type": "markdown",
   "metadata": {},
   "source": [
    "***\n",
    "- Comentarios:\n",
    "\n",
    "<div class=\"alert alert-success\" role=\"alert\">\n",
    "<b><u><strong>Análisis exploratorio</strong></u></b> \n",
    "    \n",
    "- Como se puede observar, en nuestro Dataframe de entrenamiento (df_2009) y el de validación (df_2010) cuentan con 111 columnas y 5812, 6013 registros respectivamente.\n",
    "- El vector objetivo de esta sección corresponde al atributo arstmade, donde sus valores nos indican si se efectuó arresto o no.\n",
    "- Al visualizar gráficamente el atributo arstmade en el df de entrenamiento (2009) y validación (2010), se puede observar que la distribución de las clases (Y, N) no es balanceada, predominando en ambos casos los casos donde no se efectua el arresto(N).\n",
    "\n",
    "\n",
    "**DATAFRAME 2009** \n",
    "- **N: 94%**\n",
    "- **Y: 0.06%**\n",
    "\n",
    "**DATAFRAME 2010**\n",
    "- **N: 93.3%**\n",
    "- **Y: 0,07%**\n",
    "\n",
    "</div>\n",
    "\n",
    "***"
   ]
  },
  {
   "cell_type": "markdown",
   "metadata": {},
   "source": [
    "## Preprocesamiento de los dataframe"
   ]
  },
  {
   "cell_type": "markdown",
   "metadata": {},
   "source": [
    "#### 1.- Comparación de DataFrames: Se observarán las columnas existentes en ambos dataframes y el tipo de datos de cada atributo, con el de encontrar las diferencias entre ambos"
   ]
  },
  {
   "cell_type": "code",
   "execution_count": 6,
   "metadata": {
    "scrolled": true
   },
   "outputs": [
    {
     "name": "stdout",
     "output_type": "stream",
     "text": [
      "------------------------------\n",
      "Nombre de Columna: year\n",
      "Tipo de dato df_2009:int64\n",
      "Tipo de dato df_2010:int64\n",
      "------------------------------\n",
      "------------------------------\n",
      "Nombre de Columna: pct\n",
      "Tipo de dato df_2009:int64\n",
      "Tipo de dato df_2010:int64\n",
      "------------------------------\n",
      "------------------------------\n",
      "Nombre de Columna: ser_num\n",
      "Tipo de dato df_2009:int64\n",
      "Tipo de dato df_2010:int64\n",
      "------------------------------\n",
      "------------------------------\n",
      "Nombre de Columna: datestop\n",
      "Tipo de dato df_2009:int64\n",
      "Tipo de dato df_2010:int64\n",
      "------------------------------\n",
      "------------------------------\n",
      "Nombre de Columna: timestop\n",
      "Tipo de dato df_2009:int64\n",
      "Tipo de dato df_2010:int64\n",
      "------------------------------\n",
      "------------------------------\n",
      "Nombre de Columna: recstat\n",
      "Tipo de dato df_2009:object\n",
      "Tipo de dato df_2010:object\n",
      "------------------------------\n",
      "------------------------------\n",
      "Nombre de Columna: inout\n",
      "Tipo de dato df_2009:object\n",
      "Tipo de dato df_2010:object\n",
      "------------------------------\n",
      "------------------------------\n",
      "Nombre de Columna: trhsloc\n",
      "Tipo de dato df_2009:object\n",
      "Tipo de dato df_2010:object\n",
      "------------------------------\n",
      "------------------------------\n",
      "Nombre de Columna: perobs\n",
      "Tipo de dato df_2009:float64\n",
      "Tipo de dato df_2010:int64\n",
      "------------------------------\n",
      "------------------------------\n",
      "Nombre de Columna: crimsusp\n",
      "Tipo de dato df_2009:object\n",
      "Tipo de dato df_2010:object\n",
      "------------------------------\n",
      "------------------------------\n",
      "Nombre de Columna: perstop\n",
      "Tipo de dato df_2009:int64\n",
      "Tipo de dato df_2010:int64\n",
      "------------------------------\n",
      "------------------------------\n",
      "Nombre de Columna: typeofid\n",
      "Tipo de dato df_2009:object\n",
      "Tipo de dato df_2010:object\n",
      "------------------------------\n",
      "------------------------------\n",
      "Nombre de Columna: explnstp\n",
      "Tipo de dato df_2009:object\n",
      "Tipo de dato df_2010:object\n",
      "------------------------------\n",
      "------------------------------\n",
      "Nombre de Columna: othpers\n",
      "Tipo de dato df_2009:object\n",
      "Tipo de dato df_2010:object\n",
      "------------------------------\n",
      "------------------------------\n",
      "Nombre de Columna: arstmade\n",
      "Tipo de dato df_2009:object\n",
      "Tipo de dato df_2010:object\n",
      "------------------------------\n",
      "------------------------------\n",
      "Nombre de Columna: arstoffn\n",
      "Tipo de dato df_2009:object\n",
      "Tipo de dato df_2010:object\n",
      "------------------------------\n",
      "------------------------------\n",
      "Nombre de Columna: sumissue\n",
      "Tipo de dato df_2009:object\n",
      "Tipo de dato df_2010:object\n",
      "------------------------------\n",
      "------------------------------\n",
      "Nombre de Columna: sumoffen\n",
      "Tipo de dato df_2009:object\n",
      "Tipo de dato df_2010:object\n",
      "------------------------------\n",
      "------------------------------\n",
      "Nombre de Columna: compyear\n",
      "Tipo de dato df_2009:int64\n",
      "Tipo de dato df_2010:int64\n",
      "------------------------------\n",
      "------------------------------\n",
      "Nombre de Columna: comppct\n",
      "Tipo de dato df_2009:int64\n",
      "Tipo de dato df_2010:int64\n",
      "------------------------------\n",
      "------------------------------\n",
      "Nombre de Columna: offunif\n",
      "Tipo de dato df_2009:object\n",
      "Tipo de dato df_2010:object\n",
      "------------------------------\n",
      "------------------------------\n",
      "Nombre de Columna: officrid\n",
      "Tipo de dato df_2009:object\n",
      "Tipo de dato df_2010:object\n",
      "------------------------------\n",
      "------------------------------\n",
      "Nombre de Columna: frisked\n",
      "Tipo de dato df_2009:object\n",
      "Tipo de dato df_2010:object\n",
      "------------------------------\n",
      "------------------------------\n",
      "Nombre de Columna: searched\n",
      "Tipo de dato df_2009:object\n",
      "Tipo de dato df_2010:object\n",
      "------------------------------\n",
      "------------------------------\n",
      "Nombre de Columna: contrabn\n",
      "Tipo de dato df_2009:object\n",
      "Tipo de dato df_2010:object\n",
      "------------------------------\n",
      "------------------------------\n",
      "Nombre de Columna: adtlrept\n",
      "Tipo de dato df_2009:object\n",
      "Tipo de dato df_2010:object\n",
      "------------------------------\n",
      "------------------------------\n",
      "Nombre de Columna: pistol\n",
      "Tipo de dato df_2009:object\n",
      "Tipo de dato df_2010:object\n",
      "------------------------------\n",
      "------------------------------\n",
      "Nombre de Columna: riflshot\n",
      "Tipo de dato df_2009:object\n",
      "Tipo de dato df_2010:object\n",
      "------------------------------\n",
      "------------------------------\n",
      "Nombre de Columna: asltweap\n",
      "Tipo de dato df_2009:object\n",
      "Tipo de dato df_2010:object\n",
      "------------------------------\n",
      "------------------------------\n",
      "Nombre de Columna: knifcuti\n",
      "Tipo de dato df_2009:object\n",
      "Tipo de dato df_2010:object\n",
      "------------------------------\n",
      "------------------------------\n",
      "Nombre de Columna: machgun\n",
      "Tipo de dato df_2009:object\n",
      "Tipo de dato df_2010:object\n",
      "------------------------------\n",
      "------------------------------\n",
      "Nombre de Columna: othrweap\n",
      "Tipo de dato df_2009:object\n",
      "Tipo de dato df_2010:object\n",
      "------------------------------\n",
      "------------------------------\n",
      "Nombre de Columna: pf_hands\n",
      "Tipo de dato df_2009:object\n",
      "Tipo de dato df_2010:object\n",
      "------------------------------\n",
      "------------------------------\n",
      "Nombre de Columna: pf_wall\n",
      "Tipo de dato df_2009:object\n",
      "Tipo de dato df_2010:object\n",
      "------------------------------\n",
      "------------------------------\n",
      "Nombre de Columna: pf_grnd\n",
      "Tipo de dato df_2009:object\n",
      "Tipo de dato df_2010:object\n",
      "------------------------------\n",
      "------------------------------\n",
      "Nombre de Columna: pf_drwep\n",
      "Tipo de dato df_2009:object\n",
      "Tipo de dato df_2010:object\n",
      "------------------------------\n",
      "------------------------------\n",
      "Nombre de Columna: pf_ptwep\n",
      "Tipo de dato df_2009:object\n",
      "Tipo de dato df_2010:object\n",
      "------------------------------\n",
      "------------------------------\n",
      "Nombre de Columna: pf_baton\n",
      "Tipo de dato df_2009:object\n",
      "Tipo de dato df_2010:object\n",
      "------------------------------\n",
      "------------------------------\n",
      "Nombre de Columna: pf_hcuff\n",
      "Tipo de dato df_2009:object\n",
      "Tipo de dato df_2010:object\n",
      "------------------------------\n",
      "------------------------------\n",
      "Nombre de Columna: pf_pepsp\n",
      "Tipo de dato df_2009:object\n",
      "Tipo de dato df_2010:object\n",
      "------------------------------\n",
      "------------------------------\n",
      "Nombre de Columna: pf_other\n",
      "Tipo de dato df_2009:object\n",
      "Tipo de dato df_2010:object\n",
      "------------------------------\n",
      "------------------------------\n",
      "Nombre de Columna: radio\n",
      "Tipo de dato df_2009:object\n",
      "Tipo de dato df_2010:object\n",
      "------------------------------\n",
      "------------------------------\n",
      "Nombre de Columna: ac_rept\n",
      "Tipo de dato df_2009:object\n",
      "Tipo de dato df_2010:object\n",
      "------------------------------\n",
      "------------------------------\n",
      "Nombre de Columna: ac_inves\n",
      "Tipo de dato df_2009:object\n",
      "Tipo de dato df_2010:object\n",
      "------------------------------\n",
      "------------------------------\n",
      "Nombre de Columna: rf_vcrim\n",
      "Tipo de dato df_2009:object\n",
      "Tipo de dato df_2010:object\n",
      "------------------------------\n",
      "------------------------------\n",
      "Nombre de Columna: rf_othsw\n",
      "Tipo de dato df_2009:object\n",
      "Tipo de dato df_2010:object\n",
      "------------------------------\n",
      "------------------------------\n",
      "Nombre de Columna: ac_proxm\n",
      "Tipo de dato df_2009:object\n",
      "Tipo de dato df_2010:object\n",
      "------------------------------\n",
      "------------------------------\n",
      "Nombre de Columna: rf_attir\n",
      "Tipo de dato df_2009:object\n",
      "Tipo de dato df_2010:object\n",
      "------------------------------\n",
      "------------------------------\n",
      "Nombre de Columna: cs_objcs\n",
      "Tipo de dato df_2009:object\n",
      "Tipo de dato df_2010:object\n",
      "------------------------------\n",
      "------------------------------\n",
      "Nombre de Columna: cs_descr\n",
      "Tipo de dato df_2009:object\n",
      "Tipo de dato df_2010:object\n",
      "------------------------------\n",
      "------------------------------\n",
      "Nombre de Columna: cs_casng\n",
      "Tipo de dato df_2009:object\n",
      "Tipo de dato df_2010:object\n",
      "------------------------------\n",
      "------------------------------\n",
      "Nombre de Columna: cs_lkout\n",
      "Tipo de dato df_2009:object\n",
      "Tipo de dato df_2010:object\n",
      "------------------------------\n",
      "------------------------------\n",
      "Nombre de Columna: rf_vcact\n",
      "Tipo de dato df_2009:object\n",
      "Tipo de dato df_2010:object\n",
      "------------------------------\n",
      "------------------------------\n",
      "Nombre de Columna: cs_cloth\n",
      "Tipo de dato df_2009:object\n",
      "Tipo de dato df_2010:object\n",
      "------------------------------\n",
      "------------------------------\n",
      "Nombre de Columna: cs_drgtr\n",
      "Tipo de dato df_2009:object\n",
      "Tipo de dato df_2010:object\n",
      "------------------------------\n",
      "------------------------------\n",
      "Nombre de Columna: ac_evasv\n",
      "Tipo de dato df_2009:object\n",
      "Tipo de dato df_2010:object\n",
      "------------------------------\n",
      "------------------------------\n",
      "Nombre de Columna: ac_assoc\n",
      "Tipo de dato df_2009:object\n",
      "Tipo de dato df_2010:object\n",
      "------------------------------\n",
      "------------------------------\n",
      "Nombre de Columna: cs_furtv\n",
      "Tipo de dato df_2009:object\n",
      "Tipo de dato df_2010:object\n",
      "------------------------------\n",
      "------------------------------\n",
      "Nombre de Columna: rf_rfcmp\n",
      "Tipo de dato df_2009:object\n",
      "Tipo de dato df_2010:object\n",
      "------------------------------\n",
      "------------------------------\n",
      "Nombre de Columna: ac_cgdir\n",
      "Tipo de dato df_2009:object\n",
      "Tipo de dato df_2010:object\n",
      "------------------------------\n",
      "------------------------------\n",
      "Nombre de Columna: rf_verbl\n",
      "Tipo de dato df_2009:object\n",
      "Tipo de dato df_2010:object\n",
      "------------------------------\n",
      "------------------------------\n",
      "Nombre de Columna: cs_vcrim\n",
      "Tipo de dato df_2009:object\n",
      "Tipo de dato df_2010:object\n",
      "------------------------------\n",
      "------------------------------\n",
      "Nombre de Columna: cs_bulge\n",
      "Tipo de dato df_2009:object\n",
      "Tipo de dato df_2010:object\n",
      "------------------------------\n",
      "------------------------------\n",
      "Nombre de Columna: cs_other\n",
      "Tipo de dato df_2009:object\n",
      "Tipo de dato df_2010:object\n",
      "------------------------------\n",
      "------------------------------\n",
      "Nombre de Columna: ac_incid\n",
      "Tipo de dato df_2009:object\n",
      "Tipo de dato df_2010:object\n",
      "------------------------------\n",
      "------------------------------\n",
      "Nombre de Columna: ac_time\n",
      "Tipo de dato df_2009:object\n",
      "Tipo de dato df_2010:object\n",
      "------------------------------\n",
      "------------------------------\n",
      "Nombre de Columna: rf_knowl\n",
      "Tipo de dato df_2009:object\n",
      "Tipo de dato df_2010:object\n",
      "------------------------------\n",
      "------------------------------\n",
      "Nombre de Columna: ac_stsnd\n",
      "Tipo de dato df_2009:object\n",
      "Tipo de dato df_2010:object\n",
      "------------------------------\n",
      "------------------------------\n",
      "Nombre de Columna: ac_other\n",
      "Tipo de dato df_2009:object\n",
      "Tipo de dato df_2010:object\n",
      "------------------------------\n",
      "------------------------------\n",
      "Nombre de Columna: sb_hdobj\n",
      "Tipo de dato df_2009:object\n",
      "Tipo de dato df_2010:object\n",
      "------------------------------\n",
      "------------------------------\n",
      "Nombre de Columna: sb_outln\n",
      "Tipo de dato df_2009:object\n",
      "Tipo de dato df_2010:object\n",
      "------------------------------\n",
      "------------------------------\n",
      "Nombre de Columna: sb_admis\n",
      "Tipo de dato df_2009:object\n",
      "Tipo de dato df_2010:object\n",
      "------------------------------\n",
      "------------------------------\n",
      "Nombre de Columna: sb_other\n",
      "Tipo de dato df_2009:object\n",
      "Tipo de dato df_2010:object\n",
      "------------------------------\n",
      "------------------------------\n",
      "Nombre de Columna: repcmd\n",
      "Tipo de dato df_2009:int64\n",
      "Tipo de dato df_2010:int64\n",
      "------------------------------\n",
      "------------------------------\n",
      "Nombre de Columna: revcmd\n",
      "Tipo de dato df_2009:int64\n",
      "Tipo de dato df_2010:int64\n",
      "------------------------------\n",
      "------------------------------\n",
      "Nombre de Columna: rf_furt\n",
      "Tipo de dato df_2009:object\n",
      "Tipo de dato df_2010:object\n",
      "------------------------------\n",
      "------------------------------\n",
      "Nombre de Columna: rf_bulg\n",
      "Tipo de dato df_2009:object\n",
      "Tipo de dato df_2010:object\n",
      "------------------------------\n",
      "------------------------------\n",
      "Nombre de Columna: offverb\n",
      "Tipo de dato df_2009:object\n",
      "Tipo de dato df_2010:object\n",
      "------------------------------\n",
      "------------------------------\n",
      "Nombre de Columna: offshld\n",
      "Tipo de dato df_2009:object\n",
      "Tipo de dato df_2010:object\n",
      "------------------------------\n",
      "------------------------------\n",
      "Nombre de Columna: sex\n",
      "Tipo de dato df_2009:object\n",
      "Tipo de dato df_2010:object\n",
      "------------------------------\n",
      "------------------------------\n",
      "Nombre de Columna: race\n",
      "Tipo de dato df_2009:object\n",
      "Tipo de dato df_2010:object\n",
      "------------------------------\n",
      "------------------------------\n",
      "Nombre de Columna: dob\n",
      "Tipo de dato df_2009:int64\n",
      "Tipo de dato df_2010:int64\n",
      "------------------------------\n",
      "------------------------------\n",
      "Nombre de Columna: age\n",
      "Tipo de dato df_2009:int64\n",
      "Tipo de dato df_2010:int64\n",
      "------------------------------\n",
      "------------------------------\n",
      "Nombre de Columna: ht_feet\n",
      "Tipo de dato df_2009:int64\n",
      "Tipo de dato df_2010:int64\n",
      "------------------------------\n",
      "------------------------------\n",
      "Nombre de Columna: ht_inch\n",
      "Tipo de dato df_2009:int64\n",
      "Tipo de dato df_2010:int64\n",
      "------------------------------\n",
      "------------------------------\n",
      "Nombre de Columna: weight\n",
      "Tipo de dato df_2009:int64\n",
      "Tipo de dato df_2010:int64\n",
      "------------------------------\n",
      "------------------------------\n",
      "Nombre de Columna: haircolr\n",
      "Tipo de dato df_2009:object\n",
      "Tipo de dato df_2010:object\n",
      "------------------------------\n",
      "------------------------------\n",
      "Nombre de Columna: eyecolor\n",
      "Tipo de dato df_2009:object\n",
      "Tipo de dato df_2010:object\n",
      "------------------------------\n",
      "------------------------------\n",
      "Nombre de Columna: build\n",
      "Tipo de dato df_2009:object\n",
      "Tipo de dato df_2010:object\n",
      "------------------------------\n",
      "------------------------------\n",
      "Nombre de Columna: othfeatr\n",
      "Tipo de dato df_2009:object\n",
      "Tipo de dato df_2010:object\n",
      "------------------------------\n",
      "------------------------------\n",
      "Nombre de Columna: addrtyp\n",
      "Tipo de dato df_2009:object\n",
      "Tipo de dato df_2010:object\n",
      "------------------------------\n",
      "------------------------------\n",
      "Nombre de Columna: rescode\n",
      "Tipo de dato df_2009:object\n",
      "Tipo de dato df_2010:object\n",
      "------------------------------\n",
      "------------------------------\n",
      "Nombre de Columna: premtype\n",
      "Tipo de dato df_2009:object\n",
      "Tipo de dato df_2010:object\n",
      "------------------------------\n",
      "------------------------------\n",
      "Nombre de Columna: premname\n",
      "Tipo de dato df_2009:object\n",
      "Tipo de dato df_2010:object\n",
      "------------------------------\n",
      "------------------------------\n",
      "Nombre de Columna: addrnum\n",
      "Tipo de dato df_2009:object\n",
      "Tipo de dato df_2010:object\n",
      "------------------------------\n",
      "------------------------------\n",
      "Nombre de Columna: stname\n",
      "Tipo de dato df_2009:object\n",
      "Tipo de dato df_2010:object\n",
      "------------------------------\n",
      "------------------------------\n",
      "Nombre de Columna: stinter\n",
      "Tipo de dato df_2009:object\n",
      "Tipo de dato df_2010:object\n",
      "------------------------------\n",
      "------------------------------\n",
      "Nombre de Columna: crossst\n",
      "Tipo de dato df_2009:object\n",
      "Tipo de dato df_2010:object\n",
      "------------------------------\n",
      "------------------------------\n",
      "Nombre de Columna: aptnum\n",
      "Tipo de dato df_2009:object\n",
      "Tipo de dato df_2010:object\n",
      "------------------------------\n",
      "------------------------------\n",
      "Nombre de Columna: city\n",
      "Tipo de dato df_2009:object\n",
      "Tipo de dato df_2010:object\n",
      "------------------------------\n",
      "------------------------------\n",
      "Nombre de Columna: state\n",
      "Tipo de dato df_2009:object\n",
      "Tipo de dato df_2010:object\n",
      "------------------------------\n",
      "------------------------------\n",
      "Nombre de Columna: zip\n",
      "Tipo de dato df_2009:object\n",
      "Tipo de dato df_2010:object\n",
      "------------------------------\n",
      "------------------------------\n",
      "Nombre de Columna: addrpct\n",
      "Tipo de dato df_2009:int64\n",
      "Tipo de dato df_2010:object\n",
      "------------------------------\n",
      "------------------------------\n",
      "Nombre de Columna: sector\n",
      "Tipo de dato df_2009:object\n",
      "Tipo de dato df_2010:object\n",
      "------------------------------\n",
      "------------------------------\n",
      "Nombre de Columna: beat\n",
      "Tipo de dato df_2009:object\n",
      "Tipo de dato df_2010:object\n",
      "------------------------------\n",
      "------------------------------\n",
      "Nombre de Columna: post\n",
      "Tipo de dato df_2009:object\n",
      "Tipo de dato df_2010:object\n",
      "------------------------------\n",
      "------------------------------\n",
      "Nombre de Columna: xcoord\n",
      "Tipo de dato df_2009:object\n",
      "Tipo de dato df_2010:object\n",
      "------------------------------\n",
      "------------------------------\n",
      "Nombre de Columna: ycoord\n",
      "Tipo de dato df_2009:object\n",
      "Tipo de dato df_2010:object\n",
      "------------------------------\n",
      "------------------------------\n",
      "Nombre de Columna: dettypcm\n",
      "Tipo de dato df_2009:object\n",
      "Tipo de dato df_2010:object\n",
      "------------------------------\n",
      "------------------------------\n",
      "Nombre de Columna: linecm\n",
      "Tipo de dato df_2009:int64\n",
      "Tipo de dato df_2010:object\n",
      "------------------------------\n",
      "------------------------------\n",
      "Nombre de Columna: detailcm\n",
      "Tipo de dato df_2009:int64\n",
      "Tipo de dato df_2010:object\n",
      "------------------------------\n"
     ]
    }
   ],
   "source": [
    "typeData_col_09=[]\n",
    "typeData_col_10=[]\n",
    "columnas_distintas =[]\n",
    "object_col =[]\n",
    "dic_var = {}\n",
    "for i,c in df_2009.iteritems():\n",
    "    print('-'*30)\n",
    "    print('Nombre de Columna: {}'.format(i))\n",
    "    print('Tipo de dato df_2009:{}'.format(df_2009[i].dtype))\n",
    "    if i in df_2010.columns:\n",
    "\n",
    "        print('Tipo de dato df_2010:{}'.format(df_2010[i].dtype))\n",
    "        print('-'*30)\n",
    "        \n",
    "        if(df_2009[i].dtype!=df_2010[i].dtype):\n",
    "            if i in df_2009.columns:\n",
    "                typeData_col_09.append(df_2009[i].dtype)\n",
    "            if i in df_2010.columns:\n",
    "                typeData_col_10.append(df_2010[i].dtype)\n",
    "            columnas_distintas.append(i)\n",
    "        else:\n",
    "            if df_2009[i].dtype=='object':\n",
    "                object_col.append(i)\n",
    "    else:\n",
    "            print('Tipo de dato df_2010:NONE')\n"
   ]
  },
  {
   "cell_type": "markdown",
   "metadata": {},
   "source": [
    "#### 2.- Visualización de las columnas que presentan diferencia en el tipo de dato"
   ]
  },
  {
   "cell_type": "code",
   "execution_count": 7,
   "metadata": {},
   "outputs": [
    {
     "data": {
      "text/html": [
       "<div>\n",
       "<style scoped>\n",
       "    .dataframe tbody tr th:only-of-type {\n",
       "        vertical-align: middle;\n",
       "    }\n",
       "\n",
       "    .dataframe tbody tr th {\n",
       "        vertical-align: top;\n",
       "    }\n",
       "\n",
       "    .dataframe thead th {\n",
       "        text-align: right;\n",
       "    }\n",
       "</style>\n",
       "<table border=\"1\" class=\"dataframe\">\n",
       "  <thead>\n",
       "    <tr style=\"text-align: right;\">\n",
       "      <th></th>\n",
       "      <th>Columna</th>\n",
       "      <th>tipoDato2009</th>\n",
       "      <th>tipoDato2010</th>\n",
       "    </tr>\n",
       "  </thead>\n",
       "  <tbody>\n",
       "    <tr>\n",
       "      <th>0</th>\n",
       "      <td>perobs</td>\n",
       "      <td>float64</td>\n",
       "      <td>int64</td>\n",
       "    </tr>\n",
       "    <tr>\n",
       "      <th>1</th>\n",
       "      <td>addrpct</td>\n",
       "      <td>int64</td>\n",
       "      <td>object</td>\n",
       "    </tr>\n",
       "    <tr>\n",
       "      <th>2</th>\n",
       "      <td>linecm</td>\n",
       "      <td>int64</td>\n",
       "      <td>object</td>\n",
       "    </tr>\n",
       "    <tr>\n",
       "      <th>3</th>\n",
       "      <td>detailcm</td>\n",
       "      <td>int64</td>\n",
       "      <td>object</td>\n",
       "    </tr>\n",
       "  </tbody>\n",
       "</table>\n",
       "</div>"
      ],
      "text/plain": [
       "    Columna tipoDato2009 tipoDato2010\n",
       "0    perobs      float64        int64\n",
       "1   addrpct        int64       object\n",
       "2    linecm        int64       object\n",
       "3  detailcm        int64       object"
      ]
     },
     "execution_count": 7,
     "metadata": {},
     "output_type": "execute_result"
    }
   ],
   "source": [
    "dic_var={'Columna':columnas_distintas,'tipoDato2009':typeData_col_09,'tipoDato2010':typeData_col_10}\n",
    "df_columnas_distintas = pd.DataFrame(dic_var)\n",
    "df_columnas_distintas"
   ]
  },
  {
   "cell_type": "markdown",
   "metadata": {},
   "source": [
    "#### 3.- Normalización de las diferencia del tipo de dato"
   ]
  },
  {
   "cell_type": "code",
   "execution_count": 8,
   "metadata": {},
   "outputs": [
    {
     "data": {
      "text/html": [
       "<div>\n",
       "<style scoped>\n",
       "    .dataframe tbody tr th:only-of-type {\n",
       "        vertical-align: middle;\n",
       "    }\n",
       "\n",
       "    .dataframe tbody tr th {\n",
       "        vertical-align: top;\n",
       "    }\n",
       "\n",
       "    .dataframe thead th {\n",
       "        text-align: right;\n",
       "    }\n",
       "</style>\n",
       "<table border=\"1\" class=\"dataframe\">\n",
       "  <thead>\n",
       "    <tr style=\"text-align: right;\">\n",
       "      <th></th>\n",
       "      <th>Columna</th>\n",
       "      <th>tipoDato2009</th>\n",
       "      <th>tipoDato2010</th>\n",
       "    </tr>\n",
       "  </thead>\n",
       "  <tbody>\n",
       "    <tr>\n",
       "      <th>0</th>\n",
       "      <td>perobs</td>\n",
       "      <td>float32</td>\n",
       "      <td>float32</td>\n",
       "    </tr>\n",
       "    <tr>\n",
       "      <th>1</th>\n",
       "      <td>addrpct</td>\n",
       "      <td>float32</td>\n",
       "      <td>float32</td>\n",
       "    </tr>\n",
       "    <tr>\n",
       "      <th>2</th>\n",
       "      <td>linecm</td>\n",
       "      <td>float32</td>\n",
       "      <td>float32</td>\n",
       "    </tr>\n",
       "    <tr>\n",
       "      <th>3</th>\n",
       "      <td>detailcm</td>\n",
       "      <td>float32</td>\n",
       "      <td>float32</td>\n",
       "    </tr>\n",
       "  </tbody>\n",
       "</table>\n",
       "</div>"
      ],
      "text/plain": [
       "    Columna tipoDato2009 tipoDato2010\n",
       "0    perobs      float32      float32\n",
       "1   addrpct      float32      float32\n",
       "2    linecm      float32      float32\n",
       "3  detailcm      float32      float32"
      ]
     },
     "execution_count": 8,
     "metadata": {},
     "output_type": "execute_result"
    }
   ],
   "source": [
    "typedata2009_col_corr = []\n",
    "typedata2010_col_corr=[]\n",
    "\n",
    "for i in df_columnas_distintas['Columna']:\n",
    "    df_2010[i] =pd.to_numeric(df_2010[i], errors='coerce',downcast='float')\n",
    "    df_2009[i] =pd.to_numeric(df_2009[i], errors='coerce',downcast='float')\n",
    "    typedata2009_col_corr.append(df_2009[i].dtype)\n",
    "    typedata2010_col_corr.append(df_2010[i].dtype)\n",
    "    \n",
    "\n",
    "dic_var={'Columna':columnas_distintas,'tipoDato2009':typedata2009_col_corr,'tipoDato2010':typedata2010_col_corr}\n",
    "df_columnas_distintas = pd.DataFrame(dic_var)\n",
    "df_columnas_distintas"
   ]
  },
  {
   "cell_type": "markdown",
   "metadata": {},
   "source": [
    "#### 4.- Normalización de atributos"
   ]
  },
  {
   "cell_type": "code",
   "execution_count": 9,
   "metadata": {},
   "outputs": [],
   "source": [
    "df_2009 = preproc.create_suitable_dataframe(df_2009)\n",
    "df_2010 = preproc.create_suitable_dataframe(df_2010)"
   ]
  },
  {
   "cell_type": "code",
   "execution_count": 10,
   "metadata": {},
   "outputs": [
    {
     "name": "stdout",
     "output_type": "stream",
     "text": [
      "DATAFRAME 2009: Cantidad de Registros:5812, Cantidad de columnas: 74\n",
      "DATAFRAME 2010: Cantidad de Registros:6013, Cantidad de columnas: 74\n"
     ]
    }
   ],
   "source": [
    "print('DATAFRAME 2009: Cantidad de Registros:{}, Cantidad de columnas: {}'.format(df_2009.shape[0],df_2009.shape[1]))\n",
    "print('DATAFRAME 2010: Cantidad de Registros:{}, Cantidad de columnas: {}'.format(df_2010.shape[0],df_2010.shape[1]))"
   ]
  },
  {
   "cell_type": "markdown",
   "metadata": {},
   "source": [
    "#### 5.- Comparación de los valores de cada atributo"
   ]
  },
  {
   "cell_type": "code",
   "execution_count": 11,
   "metadata": {
    "scrolled": true
   },
   "outputs": [
    {
     "name": "stdout",
     "output_type": "stream",
     "text": [
      "--------------------------------------------------\n",
      "df_2009\n",
      "Columna:recstat, Lista Valores 2\n",
      "df_2010\n",
      "Columna:recstat, Lista Valores 2\n",
      "--------------------------------------------------\n",
      "--------------------------------------------------\n",
      "df_2009\n",
      "Columna:inout, Lista Valores 2\n",
      "df_2010\n",
      "Columna:inout, Lista Valores 2\n",
      "--------------------------------------------------\n",
      "--------------------------------------------------\n",
      "df_2009\n",
      "Columna:trhsloc, Lista Valores 4\n",
      "df_2010\n",
      "Columna:trhsloc, Lista Valores 3\n",
      "--------------------------------------------------\n",
      "--------------------------------------------------\n",
      "df_2009\n",
      "Columna:typeofid, Lista Valores 4\n",
      "df_2010\n",
      "Columna:typeofid, Lista Valores 4\n",
      "--------------------------------------------------\n",
      "--------------------------------------------------\n",
      "df_2009\n",
      "Columna:explnstp, Lista Valores 2\n",
      "df_2010\n",
      "Columna:explnstp, Lista Valores 2\n",
      "--------------------------------------------------\n",
      "--------------------------------------------------\n",
      "df_2009\n",
      "Columna:othpers, Lista Valores 2\n",
      "df_2010\n",
      "Columna:othpers, Lista Valores 2\n",
      "--------------------------------------------------\n",
      "--------------------------------------------------\n",
      "df_2009\n",
      "Columna:arstmade, Lista Valores 2\n",
      "df_2010\n",
      "Columna:arstmade, Lista Valores 2\n",
      "--------------------------------------------------\n",
      "--------------------------------------------------\n",
      "df_2009\n",
      "Columna:sumissue, Lista Valores 2\n",
      "df_2010\n",
      "Columna:sumissue, Lista Valores 2\n",
      "--------------------------------------------------\n",
      "--------------------------------------------------\n",
      "df_2009\n",
      "Columna:offunif, Lista Valores 2\n",
      "df_2010\n",
      "Columna:offunif, Lista Valores 2\n",
      "--------------------------------------------------\n",
      "--------------------------------------------------\n",
      "df_2009\n",
      "Columna:officrid, Lista Valores 2\n",
      "df_2010\n",
      "Columna:officrid, Lista Valores 2\n",
      "--------------------------------------------------\n",
      "--------------------------------------------------\n",
      "df_2009\n",
      "Columna:frisked, Lista Valores 2\n",
      "df_2010\n",
      "Columna:frisked, Lista Valores 2\n",
      "--------------------------------------------------\n",
      "--------------------------------------------------\n",
      "df_2009\n",
      "Columna:searched, Lista Valores 2\n",
      "df_2010\n",
      "Columna:searched, Lista Valores 2\n",
      "--------------------------------------------------\n",
      "--------------------------------------------------\n",
      "df_2009\n",
      "Columna:contrabn, Lista Valores 2\n",
      "df_2010\n",
      "Columna:contrabn, Lista Valores 2\n",
      "--------------------------------------------------\n",
      "--------------------------------------------------\n",
      "df_2009\n",
      "Columna:pistol, Lista Valores 2\n",
      "df_2010\n",
      "Columna:pistol, Lista Valores 2\n",
      "--------------------------------------------------\n",
      "--------------------------------------------------\n",
      "df_2009\n",
      "Columna:riflshot, Lista Valores 2\n",
      "df_2010\n",
      "Columna:riflshot, Lista Valores 2\n",
      "--------------------------------------------------\n",
      "--------------------------------------------------\n",
      "df_2009\n",
      "Columna:asltweap, Lista Valores 2\n",
      "df_2010\n",
      "--------------------------------------------------\n",
      "df_2009\n",
      "Columna:knifcuti, Lista Valores 2\n",
      "df_2010\n",
      "Columna:knifcuti, Lista Valores 2\n",
      "--------------------------------------------------\n",
      "--------------------------------------------------\n",
      "df_2009\n",
      "Columna:othrweap, Lista Valores 2\n",
      "df_2010\n",
      "Columna:othrweap, Lista Valores 2\n",
      "--------------------------------------------------\n",
      "--------------------------------------------------\n",
      "df_2009\n",
      "Columna:pf_hands, Lista Valores 2\n",
      "df_2010\n",
      "Columna:pf_hands, Lista Valores 2\n",
      "--------------------------------------------------\n",
      "--------------------------------------------------\n",
      "df_2009\n",
      "Columna:pf_wall, Lista Valores 2\n",
      "df_2010\n",
      "Columna:pf_wall, Lista Valores 2\n",
      "--------------------------------------------------\n",
      "--------------------------------------------------\n",
      "df_2009\n",
      "Columna:pf_grnd, Lista Valores 2\n",
      "df_2010\n",
      "Columna:pf_grnd, Lista Valores 2\n",
      "--------------------------------------------------\n",
      "--------------------------------------------------\n",
      "df_2009\n",
      "Columna:pf_drwep, Lista Valores 2\n",
      "df_2010\n",
      "Columna:pf_drwep, Lista Valores 2\n",
      "--------------------------------------------------\n",
      "--------------------------------------------------\n",
      "df_2009\n",
      "Columna:pf_ptwep, Lista Valores 2\n",
      "df_2010\n",
      "Columna:pf_ptwep, Lista Valores 2\n",
      "--------------------------------------------------\n",
      "--------------------------------------------------\n",
      "df_2009\n",
      "Columna:pf_baton, Lista Valores 2\n",
      "df_2010\n",
      "Columna:pf_baton, Lista Valores 2\n",
      "--------------------------------------------------\n",
      "--------------------------------------------------\n",
      "df_2009\n",
      "Columna:pf_hcuff, Lista Valores 2\n",
      "df_2010\n",
      "Columna:pf_hcuff, Lista Valores 2\n",
      "--------------------------------------------------\n",
      "--------------------------------------------------\n",
      "df_2009\n",
      "Columna:pf_pepsp, Lista Valores 2\n",
      "df_2010\n",
      "Columna:pf_pepsp, Lista Valores 2\n",
      "--------------------------------------------------\n",
      "--------------------------------------------------\n",
      "df_2009\n",
      "Columna:pf_other, Lista Valores 2\n",
      "df_2010\n",
      "Columna:pf_other, Lista Valores 2\n",
      "--------------------------------------------------\n",
      "--------------------------------------------------\n",
      "df_2009\n",
      "Columna:radio, Lista Valores 2\n",
      "df_2010\n",
      "Columna:radio, Lista Valores 2\n",
      "--------------------------------------------------\n",
      "--------------------------------------------------\n",
      "df_2009\n",
      "Columna:ac_rept, Lista Valores 2\n",
      "df_2010\n",
      "Columna:ac_rept, Lista Valores 2\n",
      "--------------------------------------------------\n",
      "--------------------------------------------------\n",
      "df_2009\n",
      "Columna:ac_inves, Lista Valores 2\n",
      "df_2010\n",
      "Columna:ac_inves, Lista Valores 2\n",
      "--------------------------------------------------\n",
      "--------------------------------------------------\n",
      "df_2009\n",
      "Columna:rf_vcrim, Lista Valores 2\n",
      "df_2010\n",
      "Columna:rf_vcrim, Lista Valores 2\n",
      "--------------------------------------------------\n",
      "--------------------------------------------------\n",
      "df_2009\n",
      "Columna:rf_othsw, Lista Valores 2\n",
      "df_2010\n",
      "Columna:rf_othsw, Lista Valores 2\n",
      "--------------------------------------------------\n",
      "--------------------------------------------------\n",
      "df_2009\n",
      "Columna:ac_proxm, Lista Valores 2\n",
      "df_2010\n",
      "Columna:ac_proxm, Lista Valores 2\n",
      "--------------------------------------------------\n",
      "--------------------------------------------------\n",
      "df_2009\n",
      "Columna:rf_attir, Lista Valores 2\n",
      "df_2010\n",
      "Columna:rf_attir, Lista Valores 2\n",
      "--------------------------------------------------\n",
      "--------------------------------------------------\n",
      "df_2009\n",
      "Columna:cs_objcs, Lista Valores 2\n",
      "df_2010\n",
      "Columna:cs_objcs, Lista Valores 2\n",
      "--------------------------------------------------\n",
      "--------------------------------------------------\n",
      "df_2009\n",
      "Columna:cs_descr, Lista Valores 2\n",
      "df_2010\n",
      "Columna:cs_descr, Lista Valores 2\n",
      "--------------------------------------------------\n",
      "--------------------------------------------------\n",
      "df_2009\n",
      "Columna:cs_casng, Lista Valores 2\n",
      "df_2010\n",
      "Columna:cs_casng, Lista Valores 2\n",
      "--------------------------------------------------\n",
      "--------------------------------------------------\n",
      "df_2009\n",
      "Columna:cs_lkout, Lista Valores 2\n",
      "df_2010\n",
      "Columna:cs_lkout, Lista Valores 2\n",
      "--------------------------------------------------\n",
      "--------------------------------------------------\n",
      "df_2009\n",
      "Columna:rf_vcact, Lista Valores 2\n",
      "df_2010\n",
      "Columna:rf_vcact, Lista Valores 2\n",
      "--------------------------------------------------\n",
      "--------------------------------------------------\n",
      "df_2009\n",
      "Columna:cs_cloth, Lista Valores 2\n",
      "df_2010\n",
      "Columna:cs_cloth, Lista Valores 2\n",
      "--------------------------------------------------\n",
      "--------------------------------------------------\n",
      "df_2009\n",
      "Columna:cs_drgtr, Lista Valores 2\n",
      "df_2010\n",
      "Columna:cs_drgtr, Lista Valores 2\n",
      "--------------------------------------------------\n",
      "--------------------------------------------------\n",
      "df_2009\n",
      "Columna:ac_evasv, Lista Valores 2\n",
      "df_2010\n",
      "Columna:ac_evasv, Lista Valores 2\n",
      "--------------------------------------------------\n",
      "--------------------------------------------------\n",
      "df_2009\n",
      "Columna:ac_assoc, Lista Valores 2\n",
      "df_2010\n",
      "Columna:ac_assoc, Lista Valores 2\n",
      "--------------------------------------------------\n",
      "--------------------------------------------------\n",
      "df_2009\n",
      "Columna:cs_furtv, Lista Valores 2\n",
      "df_2010\n",
      "Columna:cs_furtv, Lista Valores 2\n",
      "--------------------------------------------------\n",
      "--------------------------------------------------\n",
      "df_2009\n",
      "Columna:rf_rfcmp, Lista Valores 2\n",
      "df_2010\n",
      "Columna:rf_rfcmp, Lista Valores 2\n",
      "--------------------------------------------------\n",
      "--------------------------------------------------\n",
      "df_2009\n",
      "Columna:ac_cgdir, Lista Valores 2\n",
      "df_2010\n",
      "Columna:ac_cgdir, Lista Valores 2\n",
      "--------------------------------------------------\n",
      "--------------------------------------------------\n",
      "df_2009\n",
      "Columna:rf_verbl, Lista Valores 2\n",
      "df_2010\n",
      "Columna:rf_verbl, Lista Valores 2\n",
      "--------------------------------------------------\n",
      "--------------------------------------------------\n",
      "df_2009\n",
      "Columna:cs_vcrim, Lista Valores 2\n",
      "df_2010\n",
      "Columna:cs_vcrim, Lista Valores 2\n",
      "--------------------------------------------------\n",
      "--------------------------------------------------\n",
      "df_2009\n",
      "Columna:cs_bulge, Lista Valores 2\n",
      "df_2010\n",
      "Columna:cs_bulge, Lista Valores 2\n",
      "--------------------------------------------------\n",
      "--------------------------------------------------\n",
      "df_2009\n",
      "Columna:cs_other, Lista Valores 2\n",
      "df_2010\n",
      "Columna:cs_other, Lista Valores 2\n",
      "--------------------------------------------------\n",
      "--------------------------------------------------\n",
      "df_2009\n",
      "Columna:ac_incid, Lista Valores 2\n",
      "df_2010\n",
      "Columna:ac_incid, Lista Valores 2\n",
      "--------------------------------------------------\n",
      "--------------------------------------------------\n",
      "df_2009\n",
      "Columna:ac_time, Lista Valores 2\n",
      "df_2010\n",
      "Columna:ac_time, Lista Valores 2\n",
      "--------------------------------------------------\n",
      "--------------------------------------------------\n",
      "df_2009\n",
      "Columna:rf_knowl, Lista Valores 2\n",
      "df_2010\n"
     ]
    },
    {
     "name": "stdout",
     "output_type": "stream",
     "text": [
      "Columna:rf_knowl, Lista Valores 2\n",
      "--------------------------------------------------\n",
      "--------------------------------------------------\n",
      "df_2009\n",
      "Columna:ac_stsnd, Lista Valores 2\n",
      "df_2010\n",
      "Columna:ac_stsnd, Lista Valores 2\n",
      "--------------------------------------------------\n",
      "--------------------------------------------------\n",
      "df_2009\n",
      "Columna:ac_other, Lista Valores 2\n",
      "df_2010\n",
      "Columna:ac_other, Lista Valores 2\n",
      "--------------------------------------------------\n",
      "--------------------------------------------------\n",
      "df_2009\n",
      "Columna:sb_hdobj, Lista Valores 2\n",
      "df_2010\n",
      "Columna:sb_hdobj, Lista Valores 2\n",
      "--------------------------------------------------\n",
      "--------------------------------------------------\n",
      "df_2009\n",
      "Columna:sb_outln, Lista Valores 2\n",
      "df_2010\n",
      "Columna:sb_outln, Lista Valores 2\n",
      "--------------------------------------------------\n",
      "--------------------------------------------------\n",
      "df_2009\n",
      "Columna:sb_admis, Lista Valores 2\n",
      "df_2010\n",
      "Columna:sb_admis, Lista Valores 2\n",
      "--------------------------------------------------\n",
      "--------------------------------------------------\n",
      "df_2009\n",
      "Columna:sb_other, Lista Valores 2\n",
      "df_2010\n",
      "Columna:sb_other, Lista Valores 2\n",
      "--------------------------------------------------\n",
      "--------------------------------------------------\n",
      "df_2009\n",
      "Columna:rf_furt, Lista Valores 2\n",
      "df_2010\n",
      "Columna:rf_furt, Lista Valores 2\n",
      "--------------------------------------------------\n",
      "--------------------------------------------------\n",
      "df_2009\n",
      "Columna:rf_bulg, Lista Valores 2\n",
      "df_2010\n",
      "Columna:rf_bulg, Lista Valores 2\n",
      "--------------------------------------------------\n",
      "--------------------------------------------------\n",
      "df_2009\n",
      "Columna:offverb, Lista Valores 2\n",
      "df_2010\n",
      "Columna:offverb, Lista Valores 2\n",
      "--------------------------------------------------\n",
      "--------------------------------------------------\n",
      "df_2009\n",
      "Columna:offshld, Lista Valores 2\n",
      "df_2010\n",
      "Columna:offshld, Lista Valores 2\n",
      "--------------------------------------------------\n",
      "--------------------------------------------------\n",
      "df_2009\n",
      "Columna:sex, Lista Valores 3\n",
      "df_2010\n",
      "Columna:sex, Lista Valores 3\n",
      "--------------------------------------------------\n",
      "--------------------------------------------------\n",
      "df_2009\n",
      "Columna:race, Lista Valores 8\n",
      "df_2010\n",
      "Columna:race, Lista Valores 8\n",
      "--------------------------------------------------\n",
      "--------------------------------------------------\n",
      "df_2009\n",
      "Columna:haircolr, Lista Valores 11\n",
      "df_2010\n",
      "Columna:haircolr, Lista Valores 10\n",
      "--------------------------------------------------\n",
      "--------------------------------------------------\n",
      "df_2009\n",
      "Columna:eyecolor, Lista Valores 10\n",
      "df_2010\n",
      "Columna:eyecolor, Lista Valores 11\n",
      "--------------------------------------------------\n",
      "--------------------------------------------------\n",
      "df_2009\n",
      "Columna:build, Lista Valores 5\n",
      "df_2010\n",
      "Columna:build, Lista Valores 5\n",
      "--------------------------------------------------\n",
      "--------------------------------------------------\n",
      "df_2009\n",
      "Columna:city, Lista Valores 5\n",
      "df_2010\n",
      "Columna:city, Lista Valores 6\n",
      "--------------------------------------------------\n",
      "--------------------------------------------------\n",
      "df_2009\n",
      "Columna:sector, Lista Valores 19\n",
      "df_2010\n",
      "Columna:sector, Lista Valores 19\n",
      "--------------------------------------------------\n",
      "--------------------------------------------------\n",
      "df_2009\n",
      "Columna:beat, Lista Valores 34\n",
      "df_2010\n",
      "Columna:beat, Lista Valores 63\n",
      "--------------------------------------------------\n",
      "--------------------------------------------------\n",
      "df_2009\n",
      "Columna:post, Lista Valores 83\n",
      "df_2010\n"
     ]
    }
   ],
   "source": [
    "lista_aux=[]\n",
    "for i,c in df_2009.iteritems():\n",
    "    if(df_2009[i].dtype=='object'):\n",
    "        print('-'*50)\n",
    "        print('df_2009')\n",
    "        print('Columna:{}, Lista Valores'.format(i),df_2009[i].nunique())\n",
    "        print('df_2010')\n",
    "        if(i in df_2010.columns):\n",
    "            print('Columna:{}, Lista Valores'.format(i),df_2010[i].nunique())\n",
    "            print('-'*50)\n"
   ]
  },
  {
   "cell_type": "markdown",
   "metadata": {},
   "source": [
    "#### 6.- Identificación de diferencias entre los dataframes"
   ]
  },
  {
   "cell_type": "code",
   "execution_count": 12,
   "metadata": {},
   "outputs": [
    {
     "data": {
      "text/plain": [
       "['asltweap', 'post']"
      ]
     },
     "execution_count": 12,
     "metadata": {},
     "output_type": "execute_result"
    }
   ],
   "source": [
    "col_eq_2009 =[]\n",
    "col_dif_2009=[]\n",
    "\n",
    "for i,c in df_2009.iteritems():\n",
    "    if i in df_2010.columns:\n",
    "         col_eq_2009.append(i)\n",
    "    else:\n",
    "          col_dif_2009.append(i)\n",
    "\n",
    "col_dif_2009"
   ]
  },
  {
   "cell_type": "code",
   "execution_count": 13,
   "metadata": {},
   "outputs": [
    {
     "data": {
      "text/plain": [
       "['addrtyp', 'dettypcm']"
      ]
     },
     "execution_count": 13,
     "metadata": {},
     "output_type": "execute_result"
    }
   ],
   "source": [
    "col_eq_2010=[]\n",
    "col_dif_2010=[]\n",
    "\n",
    "for i,c in df_2010.iteritems():\n",
    "    if i in df_2009.columns:\n",
    "         col_eq_2010.append(i)\n",
    "    else:\n",
    "          col_dif_2010.append(i)\n",
    "\n",
    "col_dif_2010"
   ]
  },
  {
   "cell_type": "markdown",
   "metadata": {},
   "source": [
    "#### 7.- Eliminación de columnas diferentes"
   ]
  },
  {
   "cell_type": "code",
   "execution_count": 14,
   "metadata": {},
   "outputs": [],
   "source": [
    "df_2009.drop(col_dif_2009, axis=1,inplace=True)\n",
    "df_2010.drop(col_dif_2010, axis=1,inplace=True)"
   ]
  },
  {
   "cell_type": "code",
   "execution_count": 15,
   "metadata": {},
   "outputs": [
    {
     "name": "stdout",
     "output_type": "stream",
     "text": [
      "DATAFRAME 2009: Cantidad de Registros:5812, Cantidad de columnas: 72\n",
      "DATAFRAME 2010: Cantidad de Registros:6013, Cantidad de columnas: 72\n"
     ]
    }
   ],
   "source": [
    "print('DATAFRAME 2009: Cantidad de Registros:{}, Cantidad de columnas: {}'.format(df_2009.shape[0],df_2009.shape[1]))\n",
    "print('DATAFRAME 2010: Cantidad de Registros:{}, Cantidad de columnas: {}'.format(df_2010.shape[0],df_2010.shape[1]))"
   ]
  },
  {
   "cell_type": "markdown",
   "metadata": {},
   "source": [
    "#### 8.- Reemplazo de valores en blanco por datos perdidos"
   ]
  },
  {
   "cell_type": "code",
   "execution_count": 16,
   "metadata": {},
   "outputs": [],
   "source": [
    "df_2009=df_2009.replace(r'^\\s*$', np.nan, regex=True)\n",
    "df_2010=df_2010.replace(r'^\\s*$', np.nan, regex=True)"
   ]
  },
  {
   "cell_type": "code",
   "execution_count": 17,
   "metadata": {},
   "outputs": [],
   "source": [
    "def missing_values (data,porcentaje):\n",
    "    columns_isna =[]\n",
    "    print('Valores de datos perdidos')\n",
    "    print('----------------------------')\n",
    "    for name, serie in data.iteritems():\n",
    "        if(serie.isna().value_counts('%')[0] != 1.0):\n",
    "            if serie.isna().value_counts('%')[1].round(4)>porcentaje:\n",
    "                columns_isna.append(name)\n",
    "                print ('-',name,': ',serie.isna().value_counts('%')[1].round(4) )\n",
    "    print('----------------------------')   \n",
    "    return columns_isna\n"
   ]
  },
  {
   "cell_type": "markdown",
   "metadata": {},
   "source": [
    "#### 9.- Identificación  de aquellas columnas con mayor cantidad de valores perdidos "
   ]
  },
  {
   "cell_type": "code",
   "execution_count": 18,
   "metadata": {},
   "outputs": [
    {
     "name": "stdout",
     "output_type": "stream",
     "text": [
      "Valores de datos perdidos\n",
      "----------------------------\n",
      "- officrid :  0.9854\n",
      "- offverb :  0.7844\n",
      "- offshld :  0.7235\n",
      "- beat :  0.6232\n",
      "----------------------------\n",
      "Valores de datos perdidos\n",
      "----------------------------\n",
      "- officrid :  0.9874\n",
      "- offverb :  0.7795\n",
      "- offshld :  0.7268\n",
      "- beat :  0.6356\n",
      "----------------------------\n"
     ]
    }
   ],
   "source": [
    "col_2009=[]\n",
    "col_2010=[]\n",
    "\n",
    "col_2009=missing_values(df_2009,0.5)\n",
    "col_2010=missing_values(df_2010,0.5)"
   ]
  },
  {
   "cell_type": "markdown",
   "metadata": {},
   "source": [
    "#### 10.- Eliminacion de columnas con mayor cantidad de valores perdidos"
   ]
  },
  {
   "cell_type": "code",
   "execution_count": 19,
   "metadata": {},
   "outputs": [],
   "source": [
    "df_2009.drop(col_2009, axis=1,inplace=True)\n",
    "df_2010.drop(col_2009, axis=1,inplace=True)"
   ]
  },
  {
   "cell_type": "code",
   "execution_count": 20,
   "metadata": {},
   "outputs": [
    {
     "name": "stdout",
     "output_type": "stream",
     "text": [
      "DATAFRAME 2009: Cantidad de Registros:5812, Cantidad de columnas: 68\n",
      "DATAFRAME 2010: Cantidad de Registros:6013, Cantidad de columnas: 68\n"
     ]
    }
   ],
   "source": [
    "print('DATAFRAME 2009: Cantidad de Registros:{}, Cantidad de columnas: {}'.format(df_2009.shape[0],df_2009.shape[1]))\n",
    "print('DATAFRAME 2010: Cantidad de Registros:{}, Cantidad de columnas: {}'.format(df_2010.shape[0],df_2010.shape[1]))"
   ]
  },
  {
   "cell_type": "markdown",
   "metadata": {},
   "source": [
    "#### 11.- Visualizacion de Datos Perdidos"
   ]
  },
  {
   "cell_type": "code",
   "execution_count": 21,
   "metadata": {},
   "outputs": [
    {
     "data": {
      "text/plain": [
       "Text(0.5, 1.0, 'Visualización de datos perdidos df 2009')"
      ]
     },
     "execution_count": 21,
     "metadata": {},
     "output_type": "execute_result"
    },
    {
     "data": {
      "text/plain": [
       "<Figure size 288x288 with 0 Axes>"
      ]
     },
     "metadata": {},
     "output_type": "display_data"
    },
    {
     "data": {
      "image/png": "[encoded data removed]",
      "text/plain": [
       "<Figure size 1800x720 with 2 Axes>"
      ]
     },
     "metadata": {
      "needs_background": "light"
     },
     "output_type": "display_data"
    }
   ],
   "source": [
    "plt.figure(figsize=(4,4))\n",
    "msngo.matrix(df_2009)\n",
    "plt.title('Visualización de datos perdidos df 2009')"
   ]
  },
  {
   "cell_type": "code",
   "execution_count": 22,
   "metadata": {},
   "outputs": [
    {
     "data": {
      "text/plain": [
       "Text(0.5, 1.0, 'Visualización de datos perdidos df 2010')"
      ]
     },
     "execution_count": 22,
     "metadata": {},
     "output_type": "execute_result"
    },
    {
     "data": {
      "text/plain": [
       "<Figure size 288x288 with 0 Axes>"
      ]
     },
     "metadata": {},
     "output_type": "display_data"
    },
    {
     "data": {
      "image/png": "[encoded data removed]",
      "text/plain": [
       "<Figure size 1800x720 with 2 Axes>"
      ]
     },
     "metadata": {
      "needs_background": "light"
     },
     "output_type": "display_data"
    }
   ],
   "source": [
    "plt.figure(figsize=(4,4))\n",
    "msngo.matrix(df_2010)\n",
    "plt.title('Visualización de datos perdidos df 2010')"
   ]
  },
  {
   "cell_type": "markdown",
   "metadata": {},
   "source": [
    "#### 12.- Identificación de columnas con datos perdidos y eliminación de éstos"
   ]
  },
  {
   "cell_type": "code",
   "execution_count": 23,
   "metadata": {},
   "outputs": [
    {
     "name": "stdout",
     "output_type": "stream",
     "text": [
      "Valores de datos perdidos\n",
      "----------------------------\n",
      "- trhsloc :  0.0353\n",
      "- sector :  0.02\n",
      "----------------------------\n",
      "Valores de datos perdidos\n",
      "----------------------------\n",
      "- city :  0.0002\n",
      "- sector :  0.0288\n",
      "----------------------------\n"
     ]
    }
   ],
   "source": [
    "col_2009_aux=[]\n",
    "col_2010_aux=[]\n",
    "\n",
    "col_2009_aux=missing_values(df_2009,0)\n",
    "col_2010_aux=missing_values(df_2010,0)"
   ]
  },
  {
   "cell_type": "code",
   "execution_count": 24,
   "metadata": {},
   "outputs": [],
   "source": [
    "df_2009_new = df_2009.dropna()\n",
    "df_2010_new = df_2010.dropna()"
   ]
  },
  {
   "cell_type": "code",
   "execution_count": 25,
   "metadata": {},
   "outputs": [
    {
     "name": "stdout",
     "output_type": "stream",
     "text": [
      "DATAFRAME 2009: Cantidad de Registros:5499, Cantidad de columnas: 68\n",
      "DATAFRAME 2010: Cantidad de Registros:5499, Cantidad de columnas: 68\n"
     ]
    }
   ],
   "source": [
    "print('DATAFRAME 2009: Cantidad de Registros:{}, Cantidad de columnas: {}'.format(df_2009_new.shape[0],df_2009.shape[1]))\n",
    "print('DATAFRAME 2010: Cantidad de Registros:{}, Cantidad de columnas: {}'.format(df_2009_new.shape[0],df_2010.shape[1]))"
   ]
  },
  {
   "cell_type": "markdown",
   "metadata": {},
   "source": [
    "#### 13.- Identificación de columnas que presentan diferencias en sus valores"
   ]
  },
  {
   "cell_type": "code",
   "execution_count": 26,
   "metadata": {},
   "outputs": [
    {
     "data": {
      "text/plain": [
       "['haircolr', 'eyecolor', 'meters']"
      ]
     },
     "execution_count": 26,
     "metadata": {},
     "output_type": "execute_result"
    }
   ],
   "source": [
    "lista_aux=[]\n",
    "for i,c in df_2010_new.iteritems():\n",
    "    if(df_2010_new[i].nunique()!=df_2009_new[i].nunique()):\n",
    "        lista_aux.append(i)\n",
    "lista_aux"
   ]
  },
  {
   "cell_type": "code",
   "execution_count": 27,
   "metadata": {},
   "outputs": [
    {
     "data": {
      "text/plain": [
       "array(['BK', 'BR', 'BL', 'BA', 'SP', 'ZZ', 'XX', 'GY', 'RA', 'DY', 'SN'],\n",
       "      dtype=object)"
      ]
     },
     "execution_count": 27,
     "metadata": {},
     "output_type": "execute_result"
    }
   ],
   "source": [
    "df_2009_new['haircolr'].unique()"
   ]
  },
  {
   "cell_type": "code",
   "execution_count": 28,
   "metadata": {},
   "outputs": [
    {
     "data": {
      "text/plain": [
       "array(['BR', 'BK', 'ZZ', 'BL', 'BA', 'XX', 'SP', 'GY', 'DY', 'RA'],\n",
       "      dtype=object)"
      ]
     },
     "execution_count": 28,
     "metadata": {},
     "output_type": "execute_result"
    }
   ],
   "source": [
    "df_2010_new['haircolr'].unique()"
   ]
  },
  {
   "cell_type": "code",
   "execution_count": 29,
   "metadata": {},
   "outputs": [
    {
     "data": {
      "text/plain": [
       "array(['BR', 'BK', 'GR', 'BL', 'DF', 'HA', 'XX', 'Z', 'GY', 'MA'],\n",
       "      dtype=object)"
      ]
     },
     "execution_count": 29,
     "metadata": {},
     "output_type": "execute_result"
    }
   ],
   "source": [
    "df_2009_new['eyecolor'].unique()"
   ]
  },
  {
   "cell_type": "code",
   "execution_count": 30,
   "metadata": {},
   "outputs": [
    {
     "data": {
      "text/plain": [
       "array(['GR', 'BR', 'BK', 'HA', 'BL', 'GY', 'XX', 'Z', 'MA', 'DF', 'VI'],\n",
       "      dtype=object)"
      ]
     },
     "execution_count": 30,
     "metadata": {},
     "output_type": "execute_result"
    }
   ],
   "source": [
    "df_2010_new['eyecolor'].unique()"
   ]
  },
  {
   "cell_type": "markdown",
   "metadata": {},
   "source": [
    "#### 14.- Seleccion de registros que contengan datos comunes (en ambos dataframe) de los atributos identificados (haircolr, eyecolor)"
   ]
  },
  {
   "cell_type": "code",
   "execution_count": 31,
   "metadata": {},
   "outputs": [
    {
     "data": {
      "text/plain": [
       "array(['BA', 'BK', 'BL', 'BR', 'DY', 'GY', 'RA', 'SP', 'XX', 'ZZ'],\n",
       "      dtype=object)"
      ]
     },
     "execution_count": 31,
     "metadata": {},
     "output_type": "execute_result"
    }
   ],
   "source": [
    "n=np.intersect1d(df_2009.haircolr,df_2010.haircolr)\n",
    "df_2009_new = df_2009_new[df_2009_new.haircolr.isin(n)]\n",
    "df_2010_new = df_2010_new[df_2010_new.haircolr.isin(n)]\n",
    "n"
   ]
  },
  {
   "cell_type": "code",
   "execution_count": 32,
   "metadata": {},
   "outputs": [
    {
     "data": {
      "text/plain": [
       "array(['BK', 'BL', 'BR', 'DF', 'GR', 'GY', 'HA', 'MA', 'XX', 'Z'],\n",
       "      dtype=object)"
      ]
     },
     "execution_count": 32,
     "metadata": {},
     "output_type": "execute_result"
    }
   ],
   "source": [
    "n=np.intersect1d(df_2009.eyecolor,df_2010.eyecolor)\n",
    "df_2009_new = df_2009_new[df_2009_new.eyecolor.isin(n)]\n",
    "df_2010_new = df_2010_new[df_2010_new.eyecolor.isin(n)]\n",
    "n"
   ]
  },
  {
   "cell_type": "markdown",
   "metadata": {},
   "source": [
    "#### 15.- Análisis de los dataframes luego del preprocesamiento"
   ]
  },
  {
   "cell_type": "markdown",
   "metadata": {},
   "source": [
    "- Tipo de datos datos"
   ]
  },
  {
   "cell_type": "code",
   "execution_count": 33,
   "metadata": {},
   "outputs": [
    {
     "name": "stdout",
     "output_type": "stream",
     "text": [
      "Type Object\n",
      "------------------------------------------------------------------------------------------------------------------------\n",
      "['recstat', 'inout', 'trhsloc', 'typeofid', 'explnstp', 'othpers', 'arstmade', 'sumissue', 'offunif', 'frisked', 'searched', 'contrabn', 'pistol', 'riflshot', 'knifcuti', 'othrweap', 'pf_hands', 'pf_wall', 'pf_grnd', 'pf_drwep', 'pf_ptwep', 'pf_baton', 'pf_hcuff', 'pf_pepsp', 'pf_other', 'radio', 'ac_rept', 'ac_inves', 'rf_vcrim', 'rf_othsw', 'ac_proxm', 'rf_attir', 'cs_objcs', 'cs_descr', 'cs_casng', 'cs_lkout', 'rf_vcact', 'cs_cloth', 'cs_drgtr', 'ac_evasv', 'ac_assoc', 'cs_furtv', 'rf_rfcmp', 'ac_cgdir', 'rf_verbl', 'cs_vcrim', 'cs_bulge', 'cs_other', 'ac_incid', 'ac_time', 'rf_knowl', 'ac_stsnd', 'ac_other', 'sb_hdobj', 'sb_outln', 'sb_admis', 'sb_other', 'rf_furt', 'rf_bulg', 'sex', 'race', 'haircolr', 'eyecolor', 'build', 'city', 'sector']\n",
      "Type Numeric\n",
      "------------------------------------------------------------------------------------------------------------------------\n",
      "['meters']\n"
     ]
    }
   ],
   "source": [
    "lista_object_2009,lista_numeric_2009  = preproc.typeData(df_2009_new)\n",
    "print('Type Object')\n",
    "print('-'*120)\n",
    "print(lista_object_2009)\n",
    "print('Type Numeric')\n",
    "print('-'*120)\n",
    "print(lista_numeric_2009)"
   ]
  },
  {
   "cell_type": "code",
   "execution_count": 34,
   "metadata": {},
   "outputs": [
    {
     "name": "stdout",
     "output_type": "stream",
     "text": [
      "Type Object\n",
      "------------------------------------------------------------------------------------------------------------------------\n",
      "['recstat', 'inout', 'trhsloc', 'typeofid', 'explnstp', 'othpers', 'arstmade', 'sumissue', 'offunif', 'frisked', 'searched', 'contrabn', 'pistol', 'riflshot', 'knifcuti', 'othrweap', 'pf_hands', 'pf_wall', 'pf_grnd', 'pf_drwep', 'pf_ptwep', 'pf_baton', 'pf_hcuff', 'pf_pepsp', 'pf_other', 'radio', 'ac_rept', 'ac_inves', 'rf_vcrim', 'rf_othsw', 'ac_proxm', 'rf_attir', 'cs_objcs', 'cs_descr', 'cs_casng', 'cs_lkout', 'rf_vcact', 'cs_cloth', 'cs_drgtr', 'ac_evasv', 'ac_assoc', 'cs_furtv', 'rf_rfcmp', 'ac_cgdir', 'rf_verbl', 'cs_vcrim', 'cs_bulge', 'cs_other', 'ac_incid', 'ac_time', 'rf_knowl', 'ac_stsnd', 'ac_other', 'sb_hdobj', 'sb_outln', 'sb_admis', 'sb_other', 'rf_furt', 'rf_bulg', 'sex', 'race', 'haircolr', 'eyecolor', 'build', 'city', 'sector']\n",
      "Type Numeric\n",
      "------------------------------------------------------------------------------------------------------------------------\n",
      "['meters']\n"
     ]
    }
   ],
   "source": [
    "lista_object_2010,lista_numeric_2010  = preproc.typeData(df_2010_new)\n",
    "print('Type Object')\n",
    "print('-'*120)\n",
    "print(lista_object_2010)\n",
    "print('Type Numeric')\n",
    "print('-'*120)\n",
    "print(lista_numeric_2010)"
   ]
  },
  {
   "cell_type": "markdown",
   "metadata": {},
   "source": [
    "- Columnas y registros en los Dataframe"
   ]
  },
  {
   "cell_type": "code",
   "execution_count": 35,
   "metadata": {},
   "outputs": [
    {
     "name": "stdout",
     "output_type": "stream",
     "text": [
      "DATAFRAME 2009: Cantidad de Registros:5496, Cantidad de columnas: 68\n",
      "DATAFRAME 2010: Cantidad de Registros:5496, Cantidad de columnas: 68\n",
      "DATAFRAME Unido: Cantidad de Registros:11335, Cantidad de columnas: 68\n"
     ]
    }
   ],
   "source": [
    "df_two_year = pd.concat([df_2009_new,df_2010_new])\n",
    "print('DATAFRAME 2009: Cantidad de Registros:{}, Cantidad de columnas: {}'.format(df_2009_new.shape[0],df_2009.shape[1]))\n",
    "print('DATAFRAME 2010: Cantidad de Registros:{}, Cantidad de columnas: {}'.format(df_2009_new.shape[0],df_2010.shape[1]))\n",
    "print('DATAFRAME Unido: Cantidad de Registros:{}, Cantidad de columnas: {}'.format(df_two_year.shape[0],df_two_year.shape[1]))"
   ]
  },
  {
   "cell_type": "markdown",
   "metadata": {},
   "source": [
    "- comportamiento del vector objetivo luego del preprocesamiento "
   ]
  },
  {
   "cell_type": "code",
   "execution_count": 36,
   "metadata": {},
   "outputs": [
    {
     "name": "stdout",
     "output_type": "stream",
     "text": [
      "DATAFRAME 2009 \n",
      "N    0.940502\n",
      "Y    0.059498\n",
      "Name: arstmade, dtype: float64\n",
      "--------------------------------------------------\n",
      "DATAFRAME 2010\n",
      "N    0.932694\n",
      "Y    0.067306\n",
      "Name: arstmade, dtype: float64\n",
      "--------------------------------------------------\n"
     ]
    }
   ],
   "source": [
    "print('DATAFRAME 2009 ')\n",
    "print(df_2009_new['arstmade'].value_counts('%'))\n",
    "print('-'*50)\n",
    "print('DATAFRAME 2010')\n",
    "print(df_2010_new['arstmade'].value_counts('%'))\n",
    "print('-'*50)"
   ]
  },
  {
   "cell_type": "code",
   "execution_count": 37,
   "metadata": {},
   "outputs": [
    {
     "data": {
      "text/plain": [
       "Text(0.5, 1.0, 'df 2010')"
      ]
     },
     "execution_count": 37,
     "metadata": {},
     "output_type": "execute_result"
    },
    {
     "data": {
      "image/png": "[encoded data removed]",
      "text/plain": [
       "<Figure size 1080x288 with 2 Axes>"
      ]
     },
     "metadata": {
      "needs_background": "light"
     },
     "output_type": "display_data"
    }
   ],
   "source": [
    "fig = plt.figure(figsize=(15,4))\n",
    "ax1 = fig.add_subplot(1,2,1)\n",
    "fig.suptitle('Distribución del vector objetivo')\n",
    "ax1.set_title(\"df 2009\")\n",
    "sns.countplot(df_2009_new['arstmade'], label = 'Clase', ax=ax1)\n",
    "ax2 = fig.add_subplot(1,2,2)\n",
    "sns.countplot(df_2010_new['arstmade'], label = 'Clase', ax=ax2)\n",
    "ax2.set_title(\"df 2010\")"
   ]
  },
  {
   "cell_type": "markdown",
   "metadata": {},
   "source": [
    "***\n",
    "- Comentarios:\n",
    "\n",
    "<div class=\"alert alert-success\" role=\"alert\">\n",
    "<b><u><strong>Análisis luego del Preprocesamiento</strong></u></b> \n",
    "    \n",
    "- Como se puede observar, el preprocesamiento de datos nos ayudo a parear la información presente en ambos Dataframe (tanto número de columnas, tipos de datos y valores de los atributos categóricos.\n",
    "\n",
    "- Luego de la normalización de atributos y eliminación de columnas (Por presentar una gran cantidad de valores perdidos o diferencias con respecto al otro df), de 111 columnas originales, nos quedamos con 68 luego del preprocesamiento.\n",
    "\n",
    "\n",
    "- El vector objetivo sigue mostrando una distribucion no balanceada entre las clases (Y, N), predominando en ambos casos los casos donde no se efectua el arresto(N). La frecuencia de esta no cambia significativamente luego del preprocesamiento del los dataframe\n",
    "\n",
    "\n",
    "**DATAFRAME 2009** \n",
    "- **N: 94%**\n",
    "- **Y: 0.06%**\n",
    "\n",
    "**DATAFRAME 2010**\n",
    "- **N: 93.3%**\n",
    "- **Y: 0,07%**\n",
    "\n",
    "\n",
    "\n",
    "\n",
    "\n",
    "</div>\n",
    "\n",
    "***"
   ]
  },
  {
   "cell_type": "markdown",
   "metadata": {},
   "source": [
    "#### 16.- Binarización de los atributos"
   ]
  },
  {
   "cell_type": "code",
   "execution_count": 38,
   "metadata": {},
   "outputs": [],
   "source": [
    "df_2009_train = preproc.df_get_dummies(df_2009_new)\n",
    "df_2010_test = preproc.df_get_dummies(df_2010_new)"
   ]
  },
  {
   "cell_type": "code",
   "execution_count": 39,
   "metadata": {},
   "outputs": [
    {
     "name": "stdout",
     "output_type": "stream",
     "text": [
      "['month', 'meters', 'recstat_A', 'inout_O', 'trhsloc_P', 'trhsloc_T', 'typeofid_P', 'typeofid_R', 'typeofid_V', 'explnstp_Y', 'othpers_Y', 'arstmade_Y', 'sumissue_Y', 'offunif_Y', 'frisked_Y', 'searched_Y', 'contrabn_Y', 'pistol_Y', 'riflshot_Y', 'knifcuti_Y', 'othrweap_Y', 'pf_hands_Y', 'pf_wall_Y', 'pf_grnd_Y', 'pf_drwep_Y', 'pf_ptwep_Y', 'pf_baton_Y', 'pf_hcuff_Y', 'pf_pepsp_Y', 'pf_other_Y', 'radio_Y', 'ac_rept_Y', 'ac_inves_Y', 'rf_vcrim_Y', 'rf_othsw_Y', 'ac_proxm_Y', 'rf_attir_Y', 'cs_objcs_Y', 'cs_descr_Y', 'cs_casng_Y', 'cs_lkout_Y', 'rf_vcact_Y', 'cs_cloth_Y', 'cs_drgtr_Y', 'ac_evasv_Y', 'ac_assoc_Y', 'cs_furtv_Y', 'rf_rfcmp_Y', 'ac_cgdir_Y', 'rf_verbl_Y', 'cs_vcrim_Y', 'cs_bulge_Y', 'cs_other_Y', 'ac_incid_Y', 'ac_time_Y', 'rf_knowl_Y', 'ac_stsnd_Y', 'ac_other_Y', 'sb_hdobj_Y', 'sb_outln_Y', 'sb_admis_Y', 'sb_other_Y', 'rf_furt_Y', 'rf_bulg_Y', 'sex_M', 'sex_Z', 'race_B', 'race_I', 'race_P', 'race_Q', 'race_U', 'race_W', 'race_Z', 'haircolr_BK', 'haircolr_BL', 'haircolr_BR', 'haircolr_DY', 'haircolr_GY', 'haircolr_RA', 'haircolr_SP', 'haircolr_XX', 'haircolr_ZZ', 'eyecolor_BL', 'eyecolor_BR', 'eyecolor_DF', 'eyecolor_GR', 'eyecolor_GY', 'eyecolor_HA', 'eyecolor_MA', 'eyecolor_XX', 'eyecolor_Z', 'build_M', 'build_T', 'build_U', 'build_Z', 'city_BROOKLYN', 'city_MANHATTAN', 'city_QUEENS', 'city_STATEN ISLAND', 'sector_B', 'sector_C', 'sector_D', 'sector_E', 'sector_F', 'sector_G', 'sector_H', 'sector_I', 'sector_J', 'sector_K', 'sector_M', 'sector_N', 'sector_P', 'sector_Q', 'sector_R', 'sector_T', 'sector_U']\n"
     ]
    }
   ],
   "source": [
    "print(list(df_2009_train.columns))"
   ]
  },
  {
   "cell_type": "markdown",
   "metadata": {},
   "source": [
    "#### 17.- Muestra de entrenamiento y validación"
   ]
  },
  {
   "cell_type": "code",
   "execution_count": 40,
   "metadata": {},
   "outputs": [],
   "source": [
    "X_train = df_2009_train.drop(columns = 'arstmade_Y')\n",
    "y_train = df_2009_train['arstmade_Y']\n",
    "X_test= df_2010_test.drop(columns = ['arstmade_Y'])\n",
    "y_test= df_2010_test['arstmade_Y']"
   ]
  },
  {
   "cell_type": "code",
   "execution_count": 41,
   "metadata": {},
   "outputs": [],
   "source": [
    "from sklearn.ensemble import AdaBoostClassifier\n",
    "from sklearn.ensemble import GradientBoostingClassifier\n",
    "from sklearn.model_selection import GridSearchCV\n",
    "from sklearn.model_selection import train_test_split\n",
    "from sklearn.metrics import classification_report, accuracy_score,roc_curve\n",
    "\n",
    "from sklearn.metrics import roc_auc_score\n"
   ]
  },
  {
   "cell_type": "markdown",
   "metadata": {},
   "source": [
    "#### 18.- Obtención de modelos"
   ]
  },
  {
   "cell_type": "markdown",
   "metadata": {},
   "source": [
    "### Modelo 1: AdaBoostClassifier"
   ]
  },
  {
   "cell_type": "code",
   "execution_count": 42,
   "metadata": {},
   "outputs": [],
   "source": [
    "\n",
    "param_grid= {'n_estimators':[50, 100, 500, 1000, 2000], \n",
    "                               'learning_rate': [0.01, 0.1,0.5]}\n",
    "\n",
    "adaboost_grid = GridSearchCV(AdaBoostClassifier(),\n",
    "                                   param_grid = param_grid,cv=2).fit(X_train, y_train)\n"
   ]
  },
  {
   "cell_type": "code",
   "execution_count": 43,
   "metadata": {},
   "outputs": [
    {
     "data": {
      "text/plain": [
       "AdaBoostClassifier(algorithm='SAMME.R', base_estimator=None, learning_rate=0.1,\n",
       "                   n_estimators=500, random_state=None)"
      ]
     },
     "execution_count": 43,
     "metadata": {},
     "output_type": "execute_result"
    }
   ],
   "source": [
    "adaboost_grid.best_estimator_"
   ]
  },
  {
   "cell_type": "code",
   "execution_count": 44,
   "metadata": {},
   "outputs": [
    {
     "name": "stdout",
     "output_type": "stream",
     "text": [
      "              precision    recall  f1-score   support\n",
      "\n",
      "           0       0.97      0.99      0.98      5446\n",
      "           1       0.83      0.57      0.68       393\n",
      "\n",
      "    accuracy                           0.96      5839\n",
      "   macro avg       0.90      0.78      0.83      5839\n",
      "weighted avg       0.96      0.96      0.96      5839\n",
      "\n"
     ]
    }
   ],
   "source": [
    "y_hat = adaboost_grid.best_estimator_.predict(X_test)\n",
    "print(classification_report(y_test, y_hat))"
   ]
  },
  {
   "cell_type": "markdown",
   "metadata": {},
   "source": [
    "### Modelo 2: GradientBoostingClassifier"
   ]
  },
  {
   "cell_type": "code",
   "execution_count": 45,
   "metadata": {},
   "outputs": [
    {
     "name": "stderr",
     "output_type": "stream",
     "text": [
      "C:\\python37\\lib\\site-packages\\sklearn\\model_selection\\_search.py:813: DeprecationWarning: The default of the `iid` parameter will change from True to False in version 0.22 and will be removed in 0.24. This will change numeric results when test-set sizes are unequal.\n",
      "  DeprecationWarning)\n"
     ]
    }
   ],
   "source": [
    "param_grid2 = {'n_estimators':[50, 100, 500, 1000, 2000], \n",
    "                               'learning_rate': [0.01, 0.1,0.5], \n",
    "                               'subsample': np.linspace(0.1, 0.9, 3, endpoint=True, dtype=float),}\n",
    "\n",
    "gradient_boost_grid = GridSearchCV(GradientBoostingClassifier(),param_grid = param_grid2,cv=2).fit(X_train, y_train)"
   ]
  },
  {
   "cell_type": "code",
   "execution_count": 46,
   "metadata": {},
   "outputs": [
    {
     "name": "stdout",
     "output_type": "stream",
     "text": [
      "              precision    recall  f1-score   support\n",
      "\n",
      "           0       0.97      0.99      0.98      5446\n",
      "           1       0.86      0.62      0.72       393\n",
      "\n",
      "    accuracy                           0.97      5839\n",
      "   macro avg       0.92      0.80      0.85      5839\n",
      "weighted avg       0.97      0.97      0.96      5839\n",
      "\n"
     ]
    }
   ],
   "source": [
    "y_hat = gradient_boost_grid.best_estimator_.predict(X_test)\n",
    "print(classification_report(y_test, y_hat))"
   ]
  },
  {
   "cell_type": "markdown",
   "metadata": {},
   "source": [
    "***\n",
    "- Comentarios:\n",
    "\n",
    "<div class=\"alert alert-success\" role=\"alert\">\n",
    "<b><u><strong>Elección de un modelo</strong></u></b> \n",
    "    \n",
    "- Como se puede observar, el modelo que presento mejores métricas fue GradientBoostingClassifier, donde el f1-score de la clase 1 (Se efectua arresto) es de .72\n",
    "\n",
    "</div>\n",
    "\n",
    "***"
   ]
  },
  {
   "cell_type": "markdown",
   "metadata": {},
   "source": [
    "#### 19.- Curva ROC del modelo con mejor métrica (Gradient Boosting)"
   ]
  },
  {
   "cell_type": "code",
   "execution_count": 47,
   "metadata": {},
   "outputs": [
    {
     "data": {
      "text/plain": [
       "0.8042156205876059"
      ]
     },
     "execution_count": 47,
     "metadata": {},
     "output_type": "execute_result"
    }
   ],
   "source": [
    "auc_score = roc_auc_score(y_test, y_hat)\n",
    "auc_score"
   ]
  },
  {
   "cell_type": "code",
   "execution_count": 48,
   "metadata": {},
   "outputs": [
    {
     "data": {
      "text/plain": [
       "array([0.01451956, 0.02393707, 0.04183315, ..., 0.01519836, 0.02726366,\n",
       "       0.02411589])"
      ]
     },
     "execution_count": 48,
     "metadata": {},
     "output_type": "execute_result"
    }
   ],
   "source": [
    "y_pred_prob=gradient_boost_grid.best_estimator_.predict_proba(X_test)[:, 1]\n",
    "y_pred_prob"
   ]
  },
  {
   "cell_type": "code",
   "execution_count": 49,
   "metadata": {},
   "outputs": [
    {
     "data": {
      "image/png": "[encoded data removed]",
      "text/plain": [
       "<Figure size 432x288 with 1 Axes>"
      ]
     },
     "metadata": {
      "needs_background": "light"
     },
     "output_type": "display_data"
    }
   ],
   "source": [
    "false_positive, true_positive, threshold = roc_curve(y_test,y_pred_prob)\n",
    "# Plot ROC curve\n",
    "plt.title('Curva ROC')\n",
    "plt.plot(false_positive, true_positive, lw=1)\n",
    "plt.plot([0, 1], ls=\"--\", lw=1)\n",
    "plt.plot([0, 0], [1, 0] , c='limegreen', lw=3), plt.plot([1, 1] , c='limegreen', lw=3)\n",
    "plt.ylabel('Verdaderos Positivos')\n",
    "plt.xlabel('Falsos Positivos');"
   ]
  },
  {
   "cell_type": "markdown",
   "metadata": {},
   "source": [
    "***\n",
    "- Comentarios:\n",
    "\n",
    "<div class=\"alert alert-success\" role=\"alert\">\n",
    "<b><u><strong>Elección de un modelo</strong></u></b> \n",
    "    \n",
    "- La curva roc nos muestra que el modelo predice en un 30% por sobre una predicción aleatoria.\n",
    "\n",
    "</div>\n",
    "\n",
    "***"
   ]
  },
  {
   "cell_type": "markdown",
   "metadata": {},
   "source": [
    "#### 20.- Importancia Relativa:  30 variables mas influyentes"
   ]
  },
  {
   "cell_type": "code",
   "execution_count": 50,
   "metadata": {},
   "outputs": [],
   "source": [
    "def plot_importance(fit_model, feat_names):\n",
    "    tmp_importance = fit_model.feature_importances_\n",
    "    sort_importance = np.argsort(tmp_importance)[::-1][:30]\n",
    "    names = [feat_names[i] for i in sort_importance]\n",
    "    plt.title(\"Feature importance\")\n",
    "    plt.barh(range(len(names)), tmp_importance[sort_importance])\n",
    "    plt.yticks(range(len(names)), names, rotation=0)\n",
    "    return names;\n"
   ]
  },
  {
   "cell_type": "code",
   "execution_count": 51,
   "metadata": {},
   "outputs": [
    {
     "data": {
      "image/png": "[encoded data removed]",
      "text/plain": [
       "<Figure size 576x576 with 1 Axes>"
      ]
     },
     "metadata": {
      "needs_background": "light"
     },
     "output_type": "display_data"
    }
   ],
   "source": [
    "plt.figure(figsize=(8,8))\n",
    "names=plot_importance(gradient_boost_grid.best_estimator_, df_2009_train.drop(columns='arstmade_Y').columns)\n",
    "plt.xlabel(\"Importancia relativa\")\n",
    "plt.ylabel('Atributos')\n",
    "\n",
    "df_2009_inter_top30=df_2009_train.loc[:,names]\n",
    "df_2010_inter_top30=df_2010_test.loc[:,names]"
   ]
  },
  {
   "cell_type": "markdown",
   "metadata": {},
   "source": [
    "***\n",
    "- Comentarios:\n",
    "\n",
    "<div class=\"alert alert-success\" role=\"alert\">\n",
    "<b><u><strong>Importancia de los Atributos (30 mas influyentes)</strong></u></b> \n",
    "    \n",
    "- De los 30 atributos, BasisOfSearch(Sb_other), ContrabandSuspect(contrabn), HandCuffsUsed(Pf_Hcuff),'searched y sumissue presentaron un mayor porcentaje de importancia relativa.\n",
    "\n",
    "</div>\n",
    "\n",
    "***"
   ]
  },
  {
   "cell_type": "markdown",
   "metadata": {},
   "source": [
    "#### 21.- Modelos a partir de datos los dataframes con los 30 atributos con mayor importacia"
   ]
  },
  {
   "cell_type": "code",
   "execution_count": 53,
   "metadata": {},
   "outputs": [],
   "source": [
    "X_train2 = df_2009_inter_top30\n",
    "y_train2 = df_2009_train['arstmade_Y']\n",
    "X_test2= df_2010_inter_top30\n",
    "y_test2= df_2010_test['arstmade_Y']\n",
    "\n",
    "param_grid3 = {'n_estimators':[50, 100, 500, 1000], \n",
    "                               'learning_rate': [0.001,0.01, 0.1], \n",
    "                               'subsample': np.linspace(0.1, 0.9, 3, endpoint=True, dtype=float),}\n",
    "\n",
    "gradient_boost_grid2 = GridSearchCV(GradientBoostingClassifier(),param_grid = param_grid3,cv=2).fit(X_train2, y_train2)"
   ]
  },
  {
   "cell_type": "code",
   "execution_count": 54,
   "metadata": {},
   "outputs": [
    {
     "data": {
      "text/plain": [
       "GradientBoostingClassifier(criterion='friedman_mse', init=None,\n",
       "                           learning_rate=0.01, loss='deviance', max_depth=3,\n",
       "                           max_features=None, max_leaf_nodes=None,\n",
       "                           min_impurity_decrease=0.0, min_impurity_split=None,\n",
       "                           min_samples_leaf=1, min_samples_split=2,\n",
       "                           min_weight_fraction_leaf=0.0, n_estimators=500,\n",
       "                           n_iter_no_change=None, presort='auto',\n",
       "                           random_state=None, subsample=0.9, tol=0.0001,\n",
       "                           validation_fraction=0.1, verbose=0,\n",
       "                           warm_start=False)"
      ]
     },
     "execution_count": 54,
     "metadata": {},
     "output_type": "execute_result"
    }
   ],
   "source": [
    "gradient_boost_grid2 .best_estimator_"
   ]
  },
  {
   "cell_type": "code",
   "execution_count": 55,
   "metadata": {},
   "outputs": [
    {
     "name": "stdout",
     "output_type": "stream",
     "text": [
      "              precision    recall  f1-score   support\n",
      "\n",
      "           0       0.97      0.99      0.98      5446\n",
      "           1       0.85      0.62      0.72       393\n",
      "\n",
      "    accuracy                           0.97      5839\n",
      "   macro avg       0.91      0.81      0.85      5839\n",
      "weighted avg       0.97      0.97      0.96      5839\n",
      "\n"
     ]
    }
   ],
   "source": [
    "y_hat2 = gradient_boost_grid2.best_estimator_.predict(X_test2)\n",
    "print(classification_report(y_test2, y_hat2))"
   ]
  },
  {
   "cell_type": "markdown",
   "metadata": {},
   "source": [
    "***\n",
    "- Comentarios:\n",
    "\n",
    "<div class=\"alert alert-success\" role=\"alert\">\n",
    "<b><u><strong>Modelo con los 30 mas influyentes</strong></u></b> \n",
    "    \n",
    "- Como se puede observar para GradientBoostingClassifier con los 30 atributos mas influyentes el f1-score de la clase 1 (Se efectua arresto) se mantiene en .72, lo cual es muy bueno, ya que redujimos los atributos pero manteniendo el poder predictivo del modelo.\n",
    "\n",
    "</div>\n",
    "\n",
    "***"
   ]
  },
  {
   "cell_type": "markdown",
   "metadata": {},
   "source": [
    "#### 22.-  probabilidad que un individuo sea arrestado en uno de los cinco barrios, condicional al género y condicional a la raza"
   ]
  },
  {
   "cell_type": "code",
   "execution_count": 56,
   "metadata": {
    "scrolled": true
   },
   "outputs": [
    {
     "data": {
      "text/plain": [
       "array([[0.98548044, 0.01451956],\n",
       "       [0.97606293, 0.02393707],\n",
       "       [0.95816685, 0.04183315],\n",
       "       ...,\n",
       "       [0.98480164, 0.01519836],\n",
       "       [0.97273634, 0.02726366],\n",
       "       [0.97588411, 0.02411589]])"
      ]
     },
     "execution_count": 56,
     "metadata": {},
     "output_type": "execute_result"
    }
   ],
   "source": [
    "aux=gradient_boost_grid.best_estimator_.predict_proba(X_test)\n",
    "aux"
   ]
  },
  {
   "cell_type": "code",
   "execution_count": 57,
   "metadata": {},
   "outputs": [
    {
     "data": {
      "text/html": [
       "<div>\n",
       "<style scoped>\n",
       "    .dataframe tbody tr th:only-of-type {\n",
       "        vertical-align: middle;\n",
       "    }\n",
       "\n",
       "    .dataframe tbody tr th {\n",
       "        vertical-align: top;\n",
       "    }\n",
       "\n",
       "    .dataframe thead th {\n",
       "        text-align: right;\n",
       "    }\n",
       "</style>\n",
       "<table border=\"1\" class=\"dataframe\">\n",
       "  <thead>\n",
       "    <tr style=\"text-align: right;\">\n",
       "      <th></th>\n",
       "      <th>recstat</th>\n",
       "      <th>inout</th>\n",
       "      <th>trhsloc</th>\n",
       "      <th>typeofid</th>\n",
       "      <th>explnstp</th>\n",
       "      <th>othpers</th>\n",
       "      <th>arstmade</th>\n",
       "      <th>sumissue</th>\n",
       "      <th>offunif</th>\n",
       "      <th>frisked</th>\n",
       "      <th>...</th>\n",
       "      <th>sex</th>\n",
       "      <th>race</th>\n",
       "      <th>haircolr</th>\n",
       "      <th>eyecolor</th>\n",
       "      <th>build</th>\n",
       "      <th>city</th>\n",
       "      <th>sector</th>\n",
       "      <th>month</th>\n",
       "      <th>meters</th>\n",
       "      <th>Probabilidad</th>\n",
       "    </tr>\n",
       "  </thead>\n",
       "  <tbody>\n",
       "    <tr>\n",
       "      <th>0</th>\n",
       "      <td>1</td>\n",
       "      <td>O</td>\n",
       "      <td>P</td>\n",
       "      <td>P</td>\n",
       "      <td>Y</td>\n",
       "      <td>N</td>\n",
       "      <td>N</td>\n",
       "      <td>N</td>\n",
       "      <td>N</td>\n",
       "      <td>Y</td>\n",
       "      <td>...</td>\n",
       "      <td>M</td>\n",
       "      <td>W</td>\n",
       "      <td>BR</td>\n",
       "      <td>GR</td>\n",
       "      <td>T</td>\n",
       "      <td>MANHATTAN</td>\n",
       "      <td>G</td>\n",
       "      <td>11</td>\n",
       "      <td>1.82880</td>\n",
       "      <td>0.014520</td>\n",
       "    </tr>\n",
       "    <tr>\n",
       "      <th>1</th>\n",
       "      <td>1</td>\n",
       "      <td>I</td>\n",
       "      <td>T</td>\n",
       "      <td>V</td>\n",
       "      <td>Y</td>\n",
       "      <td>N</td>\n",
       "      <td>N</td>\n",
       "      <td>N</td>\n",
       "      <td>Y</td>\n",
       "      <td>N</td>\n",
       "      <td>...</td>\n",
       "      <td>M</td>\n",
       "      <td>B</td>\n",
       "      <td>BK</td>\n",
       "      <td>BR</td>\n",
       "      <td>M</td>\n",
       "      <td>BRONX</td>\n",
       "      <td>E</td>\n",
       "      <td>9</td>\n",
       "      <td>1.85928</td>\n",
       "      <td>0.023937</td>\n",
       "    </tr>\n",
       "    <tr>\n",
       "      <th>2</th>\n",
       "      <td>1</td>\n",
       "      <td>I</td>\n",
       "      <td>T</td>\n",
       "      <td>V</td>\n",
       "      <td>Y</td>\n",
       "      <td>N</td>\n",
       "      <td>N</td>\n",
       "      <td>N</td>\n",
       "      <td>Y</td>\n",
       "      <td>Y</td>\n",
       "      <td>...</td>\n",
       "      <td>M</td>\n",
       "      <td>B</td>\n",
       "      <td>BK</td>\n",
       "      <td>BR</td>\n",
       "      <td>M</td>\n",
       "      <td>MANHATTAN</td>\n",
       "      <td>B</td>\n",
       "      <td>6</td>\n",
       "      <td>1.85928</td>\n",
       "      <td>0.041833</td>\n",
       "    </tr>\n",
       "    <tr>\n",
       "      <th>3</th>\n",
       "      <td>1</td>\n",
       "      <td>O</td>\n",
       "      <td>P</td>\n",
       "      <td>V</td>\n",
       "      <td>Y</td>\n",
       "      <td>N</td>\n",
       "      <td>N</td>\n",
       "      <td>N</td>\n",
       "      <td>Y</td>\n",
       "      <td>Y</td>\n",
       "      <td>...</td>\n",
       "      <td>M</td>\n",
       "      <td>Q</td>\n",
       "      <td>BK</td>\n",
       "      <td>BR</td>\n",
       "      <td>M</td>\n",
       "      <td>QUEENS</td>\n",
       "      <td>J</td>\n",
       "      <td>11</td>\n",
       "      <td>1.85928</td>\n",
       "      <td>0.022931</td>\n",
       "    </tr>\n",
       "    <tr>\n",
       "      <th>4</th>\n",
       "      <td>1</td>\n",
       "      <td>I</td>\n",
       "      <td>T</td>\n",
       "      <td>P</td>\n",
       "      <td>Y</td>\n",
       "      <td>N</td>\n",
       "      <td>N</td>\n",
       "      <td>N</td>\n",
       "      <td>Y</td>\n",
       "      <td>Y</td>\n",
       "      <td>...</td>\n",
       "      <td>M</td>\n",
       "      <td>Q</td>\n",
       "      <td>ZZ</td>\n",
       "      <td>BR</td>\n",
       "      <td>T</td>\n",
       "      <td>MANHATTAN</td>\n",
       "      <td>C</td>\n",
       "      <td>3</td>\n",
       "      <td>1.55448</td>\n",
       "      <td>0.122458</td>\n",
       "    </tr>\n",
       "  </tbody>\n",
       "</table>\n",
       "<p>5 rows × 69 columns</p>\n",
       "</div>"
      ],
      "text/plain": [
       "  recstat inout trhsloc typeofid explnstp othpers arstmade sumissue offunif  \\\n",
       "0       1     O       P        P        Y       N        N        N       N   \n",
       "1       1     I       T        V        Y       N        N        N       Y   \n",
       "2       1     I       T        V        Y       N        N        N       Y   \n",
       "3       1     O       P        V        Y       N        N        N       Y   \n",
       "4       1     I       T        P        Y       N        N        N       Y   \n",
       "\n",
       "  frisked  ... sex race haircolr eyecolor build       city sector month  \\\n",
       "0       Y  ...   M    W       BR       GR     T  MANHATTAN      G    11   \n",
       "1       N  ...   M    B       BK       BR     M      BRONX      E     9   \n",
       "2       Y  ...   M    B       BK       BR     M  MANHATTAN      B     6   \n",
       "3       Y  ...   M    Q       BK       BR     M     QUEENS      J    11   \n",
       "4       Y  ...   M    Q       ZZ       BR     T  MANHATTAN      C     3   \n",
       "\n",
       "    meters Probabilidad  \n",
       "0  1.82880     0.014520  \n",
       "1  1.85928     0.023937  \n",
       "2  1.85928     0.041833  \n",
       "3  1.85928     0.022931  \n",
       "4  1.55448     0.122458  \n",
       "\n",
       "[5 rows x 69 columns]"
      ]
     },
     "execution_count": 57,
     "metadata": {},
     "output_type": "execute_result"
    }
   ],
   "source": [
    "lista_prob =[]\n",
    "for i in aux:\n",
    "    lista_prob.append(i[1])\n",
    "lista_prob\n",
    "df_2010_new['Probabilidad'] = pd.Series(lista_prob)\n",
    "df_2010_new.head()"
   ]
  },
  {
   "cell_type": "code",
   "execution_count": 73,
   "metadata": {},
   "outputs": [
    {
     "data": {
      "text/html": [
       "<div>\n",
       "<style scoped>\n",
       "    .dataframe tbody tr th:only-of-type {\n",
       "        vertical-align: middle;\n",
       "    }\n",
       "\n",
       "    .dataframe tbody tr th {\n",
       "        vertical-align: top;\n",
       "    }\n",
       "\n",
       "    .dataframe thead th {\n",
       "        text-align: right;\n",
       "    }\n",
       "</style>\n",
       "<table border=\"1\" class=\"dataframe\">\n",
       "  <thead>\n",
       "    <tr style=\"text-align: right;\">\n",
       "      <th></th>\n",
       "      <th></th>\n",
       "      <th></th>\n",
       "      <th>Probabilidad</th>\n",
       "    </tr>\n",
       "    <tr>\n",
       "      <th>city</th>\n",
       "      <th>race</th>\n",
       "      <th>sex</th>\n",
       "      <th></th>\n",
       "    </tr>\n",
       "  </thead>\n",
       "  <tbody>\n",
       "    <tr>\n",
       "      <th rowspan=\"2\" valign=\"top\">MANHATTAN</th>\n",
       "      <th>B</th>\n",
       "      <th>Z</th>\n",
       "      <td>0.236458</td>\n",
       "    </tr>\n",
       "    <tr>\n",
       "      <th>Q</th>\n",
       "      <th>Z</th>\n",
       "      <td>0.317383</td>\n",
       "    </tr>\n",
       "    <tr>\n",
       "      <th>STATEN IS</th>\n",
       "      <th>Z</th>\n",
       "      <th>Z</th>\n",
       "      <td>0.334613</td>\n",
       "    </tr>\n",
       "    <tr>\n",
       "      <th>BROOKLYN</th>\n",
       "      <th>P</th>\n",
       "      <th>F</th>\n",
       "      <td>0.584326</td>\n",
       "    </tr>\n",
       "    <tr>\n",
       "      <th>MANHATTAN</th>\n",
       "      <th>I</th>\n",
       "      <th>M</th>\n",
       "      <td>0.737972</td>\n",
       "    </tr>\n",
       "  </tbody>\n",
       "</table>\n",
       "</div>"
      ],
      "text/plain": [
       "                    Probabilidad\n",
       "city      race sex              \n",
       "MANHATTAN B    Z        0.236458\n",
       "          Q    Z        0.317383\n",
       "STATEN IS Z    Z        0.334613\n",
       "BROOKLYN  P    F        0.584326\n",
       "MANHATTAN I    M        0.737972"
      ]
     },
     "execution_count": 73,
     "metadata": {},
     "output_type": "execute_result"
    }
   ],
   "source": [
    "df_state = pd.DataFrame(df_2010_new.groupby(['city','race','sex']).mean()['Probabilidad'].sort_values(ascending=False))\n",
    "df_state.sort_values(by=\"Probabilidad\").tail(5)"
   ]
  },
  {
   "cell_type": "code",
   "execution_count": 68,
   "metadata": {},
   "outputs": [
    {
     "data": {
      "text/html": [
       "<div>\n",
       "<style scoped>\n",
       "    .dataframe tbody tr th:only-of-type {\n",
       "        vertical-align: middle;\n",
       "    }\n",
       "\n",
       "    .dataframe tbody tr th {\n",
       "        vertical-align: top;\n",
       "    }\n",
       "\n",
       "    .dataframe thead th {\n",
       "        text-align: right;\n",
       "    }\n",
       "</style>\n",
       "<table border=\"1\" class=\"dataframe\">\n",
       "  <thead>\n",
       "    <tr style=\"text-align: right;\">\n",
       "      <th></th>\n",
       "      <th></th>\n",
       "      <th></th>\n",
       "      <th>Probabilidad</th>\n",
       "    </tr>\n",
       "    <tr>\n",
       "      <th>city</th>\n",
       "      <th>race</th>\n",
       "      <th>sex</th>\n",
       "      <th></th>\n",
       "    </tr>\n",
       "  </thead>\n",
       "  <tbody>\n",
       "    <tr>\n",
       "      <th rowspan=\"5\" valign=\"top\">BRONX</th>\n",
       "      <th>B</th>\n",
       "      <th>F</th>\n",
       "      <td>0.017374</td>\n",
       "    </tr>\n",
       "    <tr>\n",
       "      <th>P</th>\n",
       "      <th>F</th>\n",
       "      <td>0.013959</td>\n",
       "    </tr>\n",
       "    <tr>\n",
       "      <th>Q</th>\n",
       "      <th>F</th>\n",
       "      <td>0.101979</td>\n",
       "    </tr>\n",
       "    <tr>\n",
       "      <th>W</th>\n",
       "      <th>F</th>\n",
       "      <td>0.051331</td>\n",
       "    </tr>\n",
       "    <tr>\n",
       "      <th>Z</th>\n",
       "      <th>F</th>\n",
       "      <td>0.024000</td>\n",
       "    </tr>\n",
       "  </tbody>\n",
       "</table>\n",
       "</div>"
      ],
      "text/plain": [
       "                Probabilidad\n",
       "city  race sex              \n",
       "BRONX B    F        0.017374\n",
       "      P    F        0.013959\n",
       "      Q    F        0.101979\n",
       "      W    F        0.051331\n",
       "      Z    F        0.024000"
      ]
     },
     "execution_count": 68,
     "metadata": {},
     "output_type": "execute_result"
    }
   ],
   "source": [
    "df_state.sort_values(by=['city','sex','race','Probabilidad'], inplace=True)\n",
    "df_state.head(5)"
   ]
  },
  {
   "cell_type": "markdown",
   "metadata": {},
   "source": [
    "***\n",
    "- Comentarios:\n",
    "\n",
    "<div class=\"alert alert-success\" role=\"alert\">\n",
    "<b>La probabilidad que un individuo sea arrestado en uno de los cinco barrios, condicional al género y condicional a la raza </b> \n",
    "    \n",
    "- Como se puede observar tiene una mayor probabilidad de ser arrestado si esta en Manhattan siendo Mujer American Indian/AlaskaNative(I) o en Brooklyn siendo mujer y BlackHispanic(P), con una probabilidad de 74% y 58% Respectivamente\n",
    "\n",
    "</div>\n",
    "\n",
    "***"
   ]
  },
  {
   "cell_type": "markdown",
   "metadata": {},
   "source": [
    "## Sección 2"
   ]
  },
  {
   "cell_type": "markdown",
   "metadata": {},
   "source": [
    "#### 1.- Se crea  nuevo atributo como vector objetivo que indique cuándo hubo violencia o no"
   ]
  },
  {
   "cell_type": "code",
   "execution_count": 74,
   "metadata": {},
   "outputs": [],
   "source": [
    "df_2009_new['isViolent'] = np.where((df_2009_new['pf_hands']=='Y')|(df_2009_new['pf_wall'] =='Y')| (df_2009_new['pf_grnd']=='Y')| (df_2009_new['pf_drwep']=='Y')| (df_2009_new['pf_baton']=='Y')|(df_2009_new['pf_hcuff']=='Y')| (df_2009_new['pf_pepsp']=='Y')| (df_2009_new['pf_other']=='Y'),'Y','N')"
   ]
  },
  {
   "cell_type": "markdown",
   "metadata": {},
   "source": [
    "#### 2.- Analisis Exploratorio"
   ]
  },
  {
   "cell_type": "code",
   "execution_count": 75,
   "metadata": {},
   "outputs": [
    {
     "data": {
      "text/plain": [
       "N    0.753821\n",
       "Y    0.246179\n",
       "Name: isViolent, dtype: float64"
      ]
     },
     "execution_count": 75,
     "metadata": {},
     "output_type": "execute_result"
    }
   ],
   "source": [
    "df_2009_new['isViolent'].value_counts('%')"
   ]
  },
  {
   "cell_type": "markdown",
   "metadata": {},
   "source": [
    "#### 3.- Quitamos aquellas variables que permiten determinar directamente si hubo violencia o no"
   ]
  },
  {
   "cell_type": "code",
   "execution_count": 76,
   "metadata": {},
   "outputs": [],
   "source": [
    "df_2009_new.drop(columns=['pf_hands', 'pf_wall', 'pf_grnd', 'pf_drwep', 'pf_baton','pf_hcuff', 'pf_pepsp', 'pf_other'], inplace=True)"
   ]
  },
  {
   "cell_type": "markdown",
   "metadata": {},
   "source": [
    "#### 3.- Binarización de los atributos"
   ]
  },
  {
   "cell_type": "code",
   "execution_count": 77,
   "metadata": {},
   "outputs": [],
   "source": [
    "df_2009_train2 = preproc.df_get_dummies(df_2009_new)"
   ]
  },
  {
   "cell_type": "code",
   "execution_count": 78,
   "metadata": {},
   "outputs": [
    {
     "data": {
      "text/plain": [
       "(5496, 109)"
      ]
     },
     "execution_count": 78,
     "metadata": {},
     "output_type": "execute_result"
    }
   ],
   "source": [
    "df_2009_train2.shape"
   ]
  },
  {
   "cell_type": "markdown",
   "metadata": {},
   "source": [
    "#### 4.- Distrubución de clase 0 y 1 en el atributo de violencia - año 2009"
   ]
  },
  {
   "cell_type": "code",
   "execution_count": 85,
   "metadata": {},
   "outputs": [
    {
     "data": {
      "text/plain": [
       "0    0.753821\n",
       "1    0.246179\n",
       "Name: isViolent_Y, dtype: float64"
      ]
     },
     "execution_count": 85,
     "metadata": {},
     "output_type": "execute_result"
    }
   ],
   "source": [
    "df_2009_train2['isViolent_Y'].value_counts('%')"
   ]
  },
  {
   "cell_type": "markdown",
   "metadata": {},
   "source": [
    "#### 5.- Distrubución de clase 0 y 1 en el atributo de violencia - año 2010"
   ]
  },
  {
   "cell_type": "code",
   "execution_count": 80,
   "metadata": {},
   "outputs": [
    {
     "data": {
      "text/plain": [
       "0    0.760575\n",
       "1    0.239425\n",
       "Name: isViolent_Y, dtype: float64"
      ]
     },
     "execution_count": 80,
     "metadata": {},
     "output_type": "execute_result"
    }
   ],
   "source": [
    "df_2010_new['isViolent'] = np.where((df_2010_new['pf_hands']=='Y')|(df_2010_new['pf_wall'] =='Y')| (df_2010_new['pf_grnd']=='Y')| (df_2010_new['pf_drwep']=='Y')| (df_2010_new['pf_baton']=='Y')|(df_2010_new['pf_hcuff']=='Y')| (df_2010_new['pf_pepsp']=='Y')| (df_2010_new['pf_other']=='Y'),'Y','N')\n",
    "df_2010_new.drop(columns=['pf_hands', 'pf_wall', 'pf_grnd', 'pf_drwep', 'pf_baton','pf_hcuff', 'pf_pepsp', 'pf_other'], inplace=True)\n",
    "df_2010_train2 = preproc.df_get_dummies(df_2010_new)\n",
    "df_2010_train2['isViolent_Y'].value_counts('%')"
   ]
  },
  {
   "cell_type": "markdown",
   "metadata": {},
   "source": [
    "#### 6.- Gráficos de clase 0 y 1 en el vector objetivo - años 2009 y 2010"
   ]
  },
  {
   "cell_type": "code",
   "execution_count": 81,
   "metadata": {},
   "outputs": [
    {
     "data": {
      "text/plain": [
       "Text(0.5, 1.0, 'df 2010')"
      ]
     },
     "execution_count": 81,
     "metadata": {},
     "output_type": "execute_result"
    },
    {
     "data": {
      "image/png": "[encoded data removed]",
      "text/plain": [
       "<Figure size 1080x288 with 2 Axes>"
      ]
     },
     "metadata": {
      "needs_background": "light"
     },
     "output_type": "display_data"
    }
   ],
   "source": [
    "fig = plt.figure(figsize=(15,4))\n",
    "ax1 = fig.add_subplot(1,2,1)\n",
    "fig.suptitle('Distribución del vector objetivo')\n",
    "ax1.set_title(\"df 2009\")\n",
    "sns.countplot(df_2009_train2['isViolent_Y'], label = 'Clase', ax=ax1)\n",
    "ax2 = fig.add_subplot(1,2,2)\n",
    "sns.countplot(df_2010_train2['isViolent_Y'], label = 'Clase', ax=ax2)\n",
    "ax2.set_title(\"df 2010\")"
   ]
  },
  {
   "cell_type": "markdown",
   "metadata": {},
   "source": [
    "***\n",
    "- Comentarios:\n",
    "\n",
    "<div class=\"alert alert-success\" role=\"alert\">\n",
    "<b>La probabilidad que un individuo sea arrestado en uno de los cinco barrios, condicional al género y condicional a la raza </b> \n",
    "    \n",
    "- Se puede observar que nuevamente existe un desbalance entre las clases para ambos set de datos\n",
    "</div>\n",
    "\n",
    "***"
   ]
  },
  {
   "cell_type": "markdown",
   "metadata": {},
   "source": [
    "#### 7.- Modelamiento - Muestra de entrenamiento y validación"
   ]
  },
  {
   "cell_type": "code",
   "execution_count": 89,
   "metadata": {},
   "outputs": [],
   "source": [
    "X_train2 = df_2009_train2.drop(columns = 'isViolent_Y')\n",
    "y_train2 = df_2009_train2['isViolent_Y']\n",
    "X_test2= df_2010_train2.drop(columns = ['isViolent_Y','Probabilidad'])\n",
    "y_test2= df_2010_train2['isViolent_Y']"
   ]
  },
  {
   "cell_type": "markdown",
   "metadata": {},
   "source": [
    "#### 8.- Obtención de modelos"
   ]
  },
  {
   "cell_type": "markdown",
   "metadata": {},
   "source": [
    "### Modelo 1: GradientBoostingClassifier"
   ]
  },
  {
   "cell_type": "code",
   "execution_count": 90,
   "metadata": {},
   "outputs": [],
   "source": [
    "param_grid2 = {'learning_rate': [0.05,0.1,0.5],'n_estimators': [100, 500, 1000], 'subsample': [0.1,0.5,0.9]}\n",
    "\n",
    "gradient_boost_grid2 = GridSearchCV(GradientBoostingClassifier(),param_grid = param_grid2,cv=2).fit(X_train2, y_train2)"
   ]
  },
  {
   "cell_type": "code",
   "execution_count": 91,
   "metadata": {},
   "outputs": [
    {
     "name": "stdout",
     "output_type": "stream",
     "text": [
      "              precision    recall  f1-score   support\n",
      "\n",
      "           0       0.80      0.94      0.86      4441\n",
      "           1       0.55      0.24      0.34      1398\n",
      "\n",
      "    accuracy                           0.77      5839\n",
      "   macro avg       0.67      0.59      0.60      5839\n",
      "weighted avg       0.74      0.77      0.74      5839\n",
      "\n"
     ]
    }
   ],
   "source": [
    "y_hat = gradient_boost_grid2.best_estimator_.predict(X_test2)\n",
    "print(classification_report(y_test2, y_hat))"
   ]
  },
  {
   "cell_type": "markdown",
   "metadata": {},
   "source": [
    "### Modelo 2: MultinomialNB"
   ]
  },
  {
   "cell_type": "code",
   "execution_count": 92,
   "metadata": {},
   "outputs": [
    {
     "data": {
      "text/plain": [
       "MultinomialNB(alpha=1.0, class_prior=None, fit_prior=True)"
      ]
     },
     "execution_count": 92,
     "metadata": {},
     "output_type": "execute_result"
    }
   ],
   "source": [
    "from sklearn.naive_bayes import MultinomialNB\n",
    "clf = MultinomialNB()\n",
    "clf.fit(X_train2, y_train2)"
   ]
  },
  {
   "cell_type": "code",
   "execution_count": 93,
   "metadata": {},
   "outputs": [
    {
     "name": "stdout",
     "output_type": "stream",
     "text": [
      "              precision    recall  f1-score   support\n",
      "\n",
      "           0       0.82      0.87      0.85      4441\n",
      "           1       0.49      0.39      0.44      1398\n",
      "\n",
      "    accuracy                           0.76      5839\n",
      "   macro avg       0.66      0.63      0.64      5839\n",
      "weighted avg       0.74      0.76      0.75      5839\n",
      "\n"
     ]
    }
   ],
   "source": [
    "y_hat = clf.predict(X_test2)\n",
    "print(classification_report(y_test2, y_hat))"
   ]
  },
  {
   "cell_type": "markdown",
   "metadata": {},
   "source": [
    "### Modelo 3: LogisticRegression"
   ]
  },
  {
   "cell_type": "code",
   "execution_count": 94,
   "metadata": {},
   "outputs": [
    {
     "name": "stdout",
     "output_type": "stream",
     "text": [
      "              precision    recall  f1-score   support\n",
      "\n",
      "           0       0.81      0.92      0.86      4441\n",
      "           1       0.54      0.30      0.38      1398\n",
      "\n",
      "    accuracy                           0.77      5839\n",
      "   macro avg       0.67      0.61      0.62      5839\n",
      "weighted avg       0.74      0.77      0.75      5839\n",
      "\n"
     ]
    }
   ],
   "source": [
    "from sklearn.linear_model import LogisticRegression\n",
    "modellr= LogisticRegression(random_state=11238).fit(X_train2, y_train2)\n",
    "y_hat = modellr.predict(X_test2)\n",
    "print(classification_report(y_test2, y_hat))"
   ]
  },
  {
   "cell_type": "markdown",
   "metadata": {},
   "source": [
    "### Modelo 4: RandomForestClassifier"
   ]
  },
  {
   "cell_type": "code",
   "execution_count": 95,
   "metadata": {},
   "outputs": [],
   "source": [
    "from sklearn.ensemble import RandomForestClassifier"
   ]
  },
  {
   "cell_type": "code",
   "execution_count": 96,
   "metadata": {},
   "outputs": [],
   "source": [
    "max_depth = np.linspace(1,32,15,dtype = int)\n",
    "n_estimators = [100, 500, 1000, 2000]\n",
    "max_features= ['sqrt']\n",
    "\n",
    "modelo_RandomForest = GridSearchCV(RandomForestClassifier(random_state=10),param_grid = {'n_estimators':n_estimators,'max_depth':max_depth,'max_features': max_features}, cv = 2, n_jobs = -1)\n",
    "modelo_RandomForest_fit=modelo_RandomForest.fit(X_train2,y_train2)"
   ]
  },
  {
   "cell_type": "code",
   "execution_count": 97,
   "metadata": {},
   "outputs": [
    {
     "data": {
      "text/plain": [
       "RandomForestClassifier(bootstrap=True, class_weight=None, criterion='gini',\n",
       "                       max_depth=27, max_features='sqrt', max_leaf_nodes=None,\n",
       "                       min_impurity_decrease=0.0, min_impurity_split=None,\n",
       "                       min_samples_leaf=1, min_samples_split=2,\n",
       "                       min_weight_fraction_leaf=0.0, n_estimators=500,\n",
       "                       n_jobs=None, oob_score=False, random_state=10, verbose=0,\n",
       "                       warm_start=False)"
      ]
     },
     "execution_count": 97,
     "metadata": {},
     "output_type": "execute_result"
    }
   ],
   "source": [
    "modelo_RandomForest.best_estimator_"
   ]
  },
  {
   "cell_type": "code",
   "execution_count": 98,
   "metadata": {},
   "outputs": [
    {
     "name": "stdout",
     "output_type": "stream",
     "text": [
      "              precision    recall  f1-score   support\n",
      "\n",
      "           0       0.79      0.95      0.86      4441\n",
      "           1       0.55      0.20      0.30      1398\n",
      "\n",
      "    accuracy                           0.77      5839\n",
      "   macro avg       0.67      0.57      0.58      5839\n",
      "weighted avg       0.73      0.77      0.73      5839\n",
      "\n"
     ]
    }
   ],
   "source": [
    "y_pred_v_rand = modelo_RandomForest_fit.best_estimator_.predict(X_test2)\n",
    "print(classification_report(y_test2, y_pred_v_rand))"
   ]
  },
  {
   "cell_type": "markdown",
   "metadata": {},
   "source": [
    "- uso de eversampling para equilibrar las muestras"
   ]
  },
  {
   "cell_type": "code",
   "execution_count": 99,
   "metadata": {},
   "outputs": [
    {
     "name": "stderr",
     "output_type": "stream",
     "text": [
      "Using TensorFlow backend.\n"
     ]
    }
   ],
   "source": [
    "from imblearn.over_sampling import SMOTE\n",
    "# Instanciamos la clase\n",
    "oversampler = SMOTE(random_state=12345, ratio='minority')\n",
    "# generamos el eversampling de la matriz de entrenamiento y\n",
    "X_train_oversamp, y_train_oversamp = oversampler.fit_sample(X_train2, y_train2)\n",
    "X_test_oversamp, y_test_oversamp = oversampler.fit_sample(X_test2, y_test2)"
   ]
  },
  {
   "cell_type": "markdown",
   "metadata": {},
   "source": [
    "### Modelo 5: RandomForestClassifier (over_sampling )"
   ]
  },
  {
   "cell_type": "code",
   "execution_count": 100,
   "metadata": {},
   "outputs": [],
   "source": [
    "from sklearn.ensemble import RandomForestClassifier\n",
    "max_depth = np.linspace(1,32,15,dtype = int)\n",
    "max_features= ['sqrt','log2',None]\n",
    "modelo_RandomForest = GridSearchCV(RandomForestClassifier(random_state=10),param_grid = {'max_depth':max_depth,'max_features': max_features}, cv =2, n_jobs = -1)\n",
    "modelo_RandomForest_fit=modelo_RandomForest.fit(X_train_oversamp,y_train_oversamp)"
   ]
  },
  {
   "cell_type": "code",
   "execution_count": 101,
   "metadata": {},
   "outputs": [
    {
     "name": "stdout",
     "output_type": "stream",
     "text": [
      "              precision    recall  f1-score   support\n",
      "\n",
      "           0       0.75      0.85      0.80      4441\n",
      "           1       0.83      0.71      0.77      4441\n",
      "\n",
      "    accuracy                           0.78      8882\n",
      "   macro avg       0.79      0.78      0.78      8882\n",
      "weighted avg       0.79      0.78      0.78      8882\n",
      "\n"
     ]
    }
   ],
   "source": [
    "y_pred_v_rand = modelo_RandomForest_fit.best_estimator_.predict(X_test_oversamp)\n",
    "print(classification_report(y_test_oversamp, y_pred_v_rand))"
   ]
  },
  {
   "cell_type": "markdown",
   "metadata": {},
   "source": [
    "***\n",
    "- Comentarios:\n",
    "\n",
    "<div class=\"alert alert-success\" role=\"alert\">\n",
    "<b><u><strong>Elección de modelos para predecir si hubo violencia o no </strong></u></b> \n",
    "    \n",
    "- Como se puede observar el mejor desempeño se da en el modelo de RandomForest con oversampling,donde el f1-score de la clase 1 (Hubo violencia es) de 77%\n",
    "\n",
    "\n",
    "</div>\n",
    "\n",
    "***"
   ]
  },
  {
   "cell_type": "markdown",
   "metadata": {},
   "source": [
    "#### 9.- Serializamos los 2 mejores modelos"
   ]
  },
  {
   "cell_type": "code",
   "execution_count": 105,
   "metadata": {},
   "outputs": [],
   "source": [
    "import pickle\n",
    "pickle.dump(modelo_RandomForest, open('z-ju_modelo-1.sav','wb'))\n",
    "pickle.dump(clf, open('z-ju_modelo-2.sav','wb'))"
   ]
  },
  {
   "cell_type": "markdown",
   "metadata": {},
   "source": [
    "***\n",
    "- Comentarios:\n",
    "\n",
    "<div class=\"alert alert-success\" role=\"alert\">\n",
    "<b><u><strong>Conclusiones </strong></u></b> \n",
    "    \n",
    "- Al estar desbalanceadas las clases, el modelo por defecto predice la clase 1 (minoritaría) con una menor precisión, por tanto en este caso utilizar herramientas como oversampling pueden ser de gran ayuda para mejorar el desempeño de un modelo. En este caso no es recomendable utilizar undersampling ya que nos quedaríamos con muy pocos datos para trabajar el modelo.\n",
    "\n",
    "</div>\n",
    "\n",
    "***"
   ]
  }
 ],
 "metadata": {
  "kernelspec": {
   "display_name": "Python 3",
   "language": "python",
   "name": "python3"
  },
  "language_info": {
   "codemirror_mode": {
    "name": "ipython",
    "version": 3
   },
   "file_extension": ".py",
   "mimetype": "text/x-python",
   "name": "python",
   "nbconvert_exporter": "python",
   "pygments_lexer": "ipython3",
   "version": "3.7.2"
  }
 },
 "nbformat": 4,
 "nbformat_minor": 2
}
