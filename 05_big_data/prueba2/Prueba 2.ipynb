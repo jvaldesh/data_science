{
 "cells": [
  {
   "cell_type": "markdown",
   "metadata": {},
   "source": [
    "# Prueba 2"
   ]
  },
  {
   "cell_type": "markdown",
   "metadata": {},
   "source": [
    "**Nombre:** Julio Valdés\n",
    "<br/>\n",
    "**Generación:** GC"
   ]
  },
  {
   "cell_type": "markdown",
   "metadata": {},
   "source": [
    "### Configuración y lectura de datos"
   ]
  },
  {
   "cell_type": "code",
   "execution_count": 1,
   "metadata": {},
   "outputs": [
    {
     "name": "stdout",
     "output_type": "stream",
     "text": [
      "Starting Spark application\n"
     ]
    },
    {
     "data": {
      "text/html": [
       "<table>\n",
       "<tr><th>ID</th><th>YARN Application ID</th><th>Kind</th><th>State</th><th>Spark UI</th><th>Driver log</th><th>Current session?</th></tr><tr><td>1</td><td>application_1580063680955_0002</td><td>pyspark3</td><td>idle</td><td><a target=\"_blank\" href=\"http://ip-172-31-62-158.ec2.internal:20888/proxy/application_1580063680955_0002/\">Link</a></td><td><a target=\"_blank\" href=\"http://ip-172-31-52-38.ec2.internal:8042/node/containerlogs/container_1580063680955_0002_01_000001/livy\">Link</a></td><td>✔</td></tr></table>"
      ],
      "text/plain": [
       "<IPython.core.display.HTML object>"
      ]
     },
     "metadata": {},
     "output_type": "display_data"
    },
    {
     "name": "stdout",
     "output_type": "stream",
     "text": [
      "SparkSession available as 'spark'.\n"
     ]
    }
   ],
   "source": [
    "from pyspark.sql import SparkSession\n",
    "\n",
    "spark = SparkSession\\\n",
    "    .builder\\\n",
    "    .appName(\"prueba-2\")\\\n",
    "    .enableHiveSupport()\\\n",
    "    .getOrCreate()"
   ]
  },
  {
   "cell_type": "code",
   "execution_count": 2,
   "metadata": {},
   "outputs": [
    {
     "name": "stdout",
     "output_type": "stream",
     "text": [
      "<pyspark.sql.session.SparkSession object at 0x7ff8f094ba58>"
     ]
    }
   ],
   "source": [
    "spark"
   ]
  },
  {
   "cell_type": "code",
   "execution_count": 66,
   "metadata": {},
   "outputs": [
    {
     "name": "stdout",
     "output_type": "stream",
     "text": [
      "+--------------------+--------------------+--------------------+--------------------+-----------+--------------------+-------+-------------+---------------+--------------------+-----------+------------+-----+-----+\n",
      "|             address|          attributes|         business_id|          categories|       city|               hours|is_open|     latitude|      longitude|                name|postal_code|review_count|stars|state|\n",
      "+--------------------+--------------------+--------------------+--------------------+-----------+--------------------+-------+-------------+---------------+--------------------+-----------+------------+-----+-----+\n",
      "|2818 E Camino Ace...|[,,,,,,,,,,,,,,,,...|1SWheh84yJXfytovI...|   Golf, Active Life|    Phoenix|                null|      0|   33.5221425|   -112.0184807|Arizona Biltmore ...|      85016|           5|  3.0|   AZ|\n",
      "|30 Eglinton Avenue W|[,, u'full_bar', ...|QXAEGFB4oINsVuTFx...|Specialty Food, R...|Mississauga|[9:0-1:0, 9:0-0:0...|      1|43.6054989743|  -79.652288909|Emerald Chinese R...|    L5R 3E7|         128|  2.5|   ON|\n",
      "|10110 Johnston Rd...|[,, u'beer_and_wi...|gnKjwL_1w79qoiV3I...|Sushi Bars, Resta...|  Charlotte|[17:30-22:0, 17:3...|      1|    35.092564|     -80.859132|Musashi Japanese ...|      28210|         170|  4.0|   NC|\n",
      "|15655 W Roosevelt...|                null|xvX2CttrVhyG2z1dF...|Insurance, Financ...|   Goodyear|[8:0-17:0, 8:0-17...|      1|33.4556129678|-112.3955963552|Farmers Insurance...|      85338|           3|  5.0|   AZ|\n",
      "|4209 Stuart Andre...|[,,,,,,,, False, ...|HhyxOkGAM07SRYtlQ...|Plumbing, Shoppin...|  Charlotte|[7:0-23:0, 7:0-23...|      1|   35.1900119|    -80.8872232| Queen City Plumbing|      28217|           4|  4.0|   NC|\n",
      "+--------------------+--------------------+--------------------+--------------------+-----------+--------------------+-------+-------------+---------------+--------------------+-----------+------------+-----+-----+\n",
      "only showing top 5 rows"
     ]
    }
   ],
   "source": [
    "business = spark.read.json('s3://bigdata-desafio/yelp-data/business.json')\n",
    "business.show(5)"
   ]
  },
  {
   "cell_type": "code",
   "execution_count": 4,
   "metadata": {},
   "outputs": [
    {
     "name": "stdout",
     "output_type": "stream",
     "text": [
      "+--------------------+----+-------------------+-----+--------------------+-----+--------------------+------+--------------------+\n",
      "|         business_id|cool|               date|funny|           review_id|stars|                text|useful|             user_id|\n",
      "+--------------------+----+-------------------+-----+--------------------+-----+--------------------+------+--------------------+\n",
      "|ujmEBvifdJM6h6RLv...|   0|2013-05-07 04:34:36|    1|Q1sbwvVQXV2734tPg...|  1.0|Total bill for th...|     6|hG7b0MtEbXx5QzbzE...|\n",
      "|NZnhc2sEQy3RmzKTZ...|   0|2017-01-14 21:30:33|    0|GJXCdrto3ASJOqKeV...|  5.0|I *adore* Travis ...|     0|yXQM5uF2jS6es16SJ...|\n",
      "|WTqjgwHlXbSFevF32...|   0|2016-11-09 20:09:03|    0|2TzJjDVDEuAW6MR5V...|  5.0|I have to say tha...|     3|n6-Gk65cPZL6Uz8qR...|\n",
      "|ikCg8xy5JIg_NGPx-...|   0|2018-01-09 20:56:38|    0|yi0R0Ugj_xUx_Nek0...|  5.0|Went in for a lun...|     0|dacAIZ6fTM6mqwW5u...|\n",
      "|b1b1eb3uo-w561D0Z...|   0|2018-01-30 23:07:38|    0|11a8sVPMUFtaC7_AB...|  1.0|Today was my seco...|     7|ssoyf2_x0EQMed6fg...|\n",
      "+--------------------+----+-------------------+-----+--------------------+-----+--------------------+------+--------------------+\n",
      "only showing top 5 rows"
     ]
    }
   ],
   "source": [
    "review = spark.read.json('s3://bigdata-desafio/yelp-data/review.json')\n",
    "review.show(5)"
   ]
  },
  {
   "cell_type": "code",
   "execution_count": 5,
   "metadata": {},
   "outputs": [
    {
     "name": "stdout",
     "output_type": "stream",
     "text": [
      "+-------------+---------------+---------------+----------------+--------------+---------------+---------------+---------------+-----------------+----------------+------------------+-----------------+----+-------------------+----+--------------------+-----+------+------------+------+--------------------+-------------------+\n",
      "|average_stars|compliment_cool|compliment_cute|compliment_funny|compliment_hot|compliment_list|compliment_more|compliment_note|compliment_photos|compliment_plain|compliment_profile|compliment_writer|cool|              elite|fans|             friends|funny|  name|review_count|useful|             user_id|      yelping_since|\n",
      "+-------------+---------------+---------------+----------------+--------------+---------------+---------------+---------------+-----------------+----------------+------------------+-----------------+----+-------------------+----+--------------------+-----+------+------------+------+--------------------+-------------------+\n",
      "|         4.03|              1|              0|               1|             2|              0|              0|              1|                0|               1|                 0|                2|  25|     2015,2016,2017|   5|c78V-rj8NQcQjOI8K...|   17|Rashmi|          95|    84|l6BmjZMeQD3rDxWUb...|2013-10-08 23:11:33|\n",
      "|         3.63|              1|              0|               1|             1|              0|              0|              0|                0|               0|                 0|                0|  16|                   |   4|kEBTgDvFX754S68Fl...|   22| Jenna|          33|    48|4XChL029mKr5hydo7...|2013-02-21 22:29:06|\n",
      "|         3.71|              0|              0|               0|             0|              0|              0|              1|                0|               0|                 0|                0|  10|                   |   0|4N-HU_T32hLENLnts...|    8| David|          16|    28|bc8C_eETBWL0olvFS...|2013-10-04 00:16:10|\n",
      "|         4.85|              0|              0|               0|             1|              0|              0|              0|                0|               2|                 0|                1|  14|                   |   5|RZ6wS38wnlXyj-OOd...|    4|Angela|          17|    30|dD0gZpBctWGdWo9Wl...|2014-05-22 15:57:30|\n",
      "|         4.08|             80|              0|              80|            28|              1|              1|             16|                5|              57|                 0|               25| 665|2015,2016,2017,2018|  39|mbwrZ-RS76V1HoJ0b...|  279| Nancy|         361|  1114|MM4RJAeH6yuaN8oZD...|2013-10-23 07:02:50|\n",
      "+-------------+---------------+---------------+----------------+--------------+---------------+---------------+---------------+-----------------+----------------+------------------+-----------------+----+-------------------+----+--------------------+-----+------+------------+------+--------------------+-------------------+\n",
      "only showing top 5 rows"
     ]
    }
   ],
   "source": [
    "users = spark.read.json('s3://bigdata-desafio/yelp-data/user.json')\n",
    "users.show(5)"
   ]
  },
  {
   "cell_type": "code",
   "execution_count": 6,
   "metadata": {},
   "outputs": [
    {
     "name": "stdout",
     "output_type": "stream",
     "text": [
      "+--------------------+--------------------+\n",
      "|         business_id|                date|\n",
      "+--------------------+--------------------+\n",
      "|--1UhMGODdWsrMast...|2016-04-26 19:49:...|\n",
      "|--6MefnULPED_I942...|2011-06-04 18:22:...|\n",
      "|--7zmmkVg-IMGaXbu...|2014-12-29 19:25:...|\n",
      "|--8LPVSo5i0Oo61X0...| 2016-07-08 16:43:30|\n",
      "|--9QQLMTbFzLJ_oT-...|2010-06-26 17:39:...|\n",
      "+--------------------+--------------------+\n",
      "only showing top 5 rows"
     ]
    }
   ],
   "source": [
    "checkin = spark.read.json('s3://bigdata-desafio/yelp-data/checkin.json')\n",
    "checkin.show(5)"
   ]
  },
  {
   "cell_type": "code",
   "execution_count": 7,
   "metadata": {},
   "outputs": [
    {
     "name": "stdout",
     "output_type": "stream",
     "text": [
      "+--------------------+----------------+-------------------+--------------------+--------------------+\n",
      "|         business_id|compliment_count|               date|                text|             user_id|\n",
      "+--------------------+----------------+-------------------+--------------------+--------------------+\n",
      "|VaKXUpmWTTWDKbpJ3...|               0|2014-03-27 03:51:24|Great for watchin...|UPw5DWs_b-e2JRBS-...|\n",
      "|OPiPeoJiv92rENwbq...|               0|2013-05-25 06:00:56|Happy Hour 2-4 da...|Ocha4kZBHb4JK0lOW...|\n",
      "|5KheTjYPu1HcQzQFt...|               0|2011-12-26 01:46:17|Good chips and sa...|jRyO2V1pA4CdVVqCI...|\n",
      "|TkoyGi8J7YFjA6Sba...|               0|2014-03-23 21:32:49|The setting and d...|FuTJWFYm4UKqewaos...|\n",
      "|AkL6Ous6A1atZejfZ...|               0|2012-10-06 00:19:27|Molly is definate...|LUlKtaM3nXd-E4N4u...|\n",
      "+--------------------+----------------+-------------------+--------------------+--------------------+\n",
      "only showing top 5 rows"
     ]
    }
   ],
   "source": [
    "tip = spark.read.json('s3://bigdata-desafio/yelp-data/tip.json')\n",
    "tip.show(5)"
   ]
  },
  {
   "cell_type": "code",
   "execution_count": 8,
   "metadata": {},
   "outputs": [
    {
     "name": "stdout",
     "output_type": "stream",
     "text": [
      "+--------------------+-------+------+--------------------+\n",
      "|         business_id|caption| label|            photo_id|\n",
      "+--------------------+-------+------+--------------------+\n",
      "|rcaPajgKOJC2vo_l3...|       |inside|MllA1nNpcp1kDteVg...|\n",
      "|Kn23LDd740SBVJ7mu...|       |inside|YjxBE88Bf6CmTEF2L...|\n",
      "|ZkGDCVKSdf8m76cnn...|       |  food|1f7izSjM0WjkDRIVb...|\n",
      "|bF8gv7k_rwZtiDLP2...|       |inside|NcSlcDTEEeOaixotO...|\n",
      "|50Anorn0DJXFhBr9a...|       |inside|5IiIo5UKEW0lWqZ6s...|\n",
      "+--------------------+-------+------+--------------------+\n",
      "only showing top 5 rows"
     ]
    }
   ],
   "source": [
    "photo = spark.read.json('s3://bigdata-desafio/yelp-data/photo.json')\n",
    "photo.show(5)"
   ]
  },
  {
   "cell_type": "markdown",
   "metadata": {},
   "source": [
    "### Ejercicio 1: Identificando usuarios molestosos (12 puntos)"
   ]
  },
  {
   "cell_type": "markdown",
   "metadata": {},
   "source": [
    "#### Identifique en una variable dummy todos los usuarios que se puedan clasificar como molestosos acorde al criterio"
   ]
  },
  {
   "cell_type": "code",
   "execution_count": 9,
   "metadata": {},
   "outputs": [
    {
     "name": "stdout",
     "output_type": "stream",
     "text": [
      "+--------------------+-------------+------------+----+--------------+\n",
      "|             user_id|average_stars|review_count|fans|flag_molestoso|\n",
      "+--------------------+-------------+------------+----+--------------+\n",
      "|l6BmjZMeQD3rDxWUb...|         4.03|          95|   5|             1|\n",
      "|4XChL029mKr5hydo7...|         3.63|          33|   4|             1|\n",
      "|bc8C_eETBWL0olvFS...|         3.71|          16|   0|             1|\n",
      "|dD0gZpBctWGdWo9Wl...|         4.85|          17|   5|             1|\n",
      "|MM4RJAeH6yuaN8oZD...|         4.08|         361|  39|             0|\n",
      "|0rK89TS8xqy1wI4nY...|          4.2|         214| 186|             0|\n",
      "|TEtzbpgA2BFBrC0y0...|         4.39|        1122| 696|             0|\n",
      "|KGuqerdeNhxzXZEyB...|         4.33|           6|   0|             1|\n",
      "|T0gWkTHWRChVUe_Dn...|         4.21|         859|  57|             0|\n",
      "|NQffx45eJaeqhFcMa...|         4.53|         124|  15|             0|\n",
      "+--------------------+-------------+------------+----+--------------+\n",
      "only showing top 10 rows"
     ]
    }
   ],
   "source": [
    "from pyspark.sql.functions import when\n",
    "\n",
    "users = users\\\n",
    "            .withColumn('flag_molestoso',\n",
    "                when((users.average_stars <= 2) | (users.review_count < 100) | (users.fans == 0), 1)\\\n",
    "                .otherwise(0))\n",
    "users\\\n",
    "    .select('user_id','average_stars','review_count','fans', 'flag_molestoso')\\\n",
    "    .show(10)"
   ]
  },
  {
   "cell_type": "markdown",
   "metadata": {},
   "source": [
    "#### Recodificaciones en el archivo user.json\n",
    "* friends , que corresponde a un string con todos los user_id de otros usuarios quesiguen al usuario . El objetivo es contar la cantidad de amigos existentes.\n",
    "* elite , que corresponde a un string con todos los años en los que el usuario fue considerado como un reviewer de elite. El objetivo es contar la cantidad de años en los cuales se consideró como elite.\n",
    "* Asegúrese de eliminar los siguientes registros: friends , yelping_since , name , elite , user_id ."
   ]
  },
  {
   "cell_type": "code",
   "execution_count": 10,
   "metadata": {},
   "outputs": [
    {
     "name": "stdout",
     "output_type": "stream",
     "text": [
      "root\n",
      " |-- average_stars: double (nullable = true)\n",
      " |-- compliment_cool: long (nullable = true)\n",
      " |-- compliment_cute: long (nullable = true)\n",
      " |-- compliment_funny: long (nullable = true)\n",
      " |-- compliment_hot: long (nullable = true)\n",
      " |-- compliment_list: long (nullable = true)\n",
      " |-- compliment_more: long (nullable = true)\n",
      " |-- compliment_note: long (nullable = true)\n",
      " |-- compliment_photos: long (nullable = true)\n",
      " |-- compliment_plain: long (nullable = true)\n",
      " |-- compliment_profile: long (nullable = true)\n",
      " |-- compliment_writer: long (nullable = true)\n",
      " |-- cool: long (nullable = true)\n",
      " |-- fans: long (nullable = true)\n",
      " |-- funny: long (nullable = true)\n",
      " |-- review_count: long (nullable = true)\n",
      " |-- useful: long (nullable = true)\n",
      " |-- flag_molestoso: integer (nullable = false)\n",
      " |-- friends_count: integer (nullable = true)\n",
      " |-- elite_count: integer (nullable = true)"
     ]
    }
   ],
   "source": [
    "from pyspark.sql.functions import udf\n",
    "from pyspark.sql.types import IntegerType\n",
    "\n",
    "array_count = udf(lambda x: x.count(','), IntegerType())\n",
    "\n",
    "users = users\\\n",
    "            .withColumn('friends_count', array_count(users.friends))\\\n",
    "            .withColumn('elite_count', array_count(users.elite))\n",
    "\n",
    "users = users\\\n",
    "            .drop('friends', 'yelping_since', 'name', 'elite', 'user_id')\n",
    "users.printSchema()"
   ]
  },
  {
   "cell_type": "code",
   "execution_count": 11,
   "metadata": {},
   "outputs": [
    {
     "name": "stdout",
     "output_type": "stream",
     "text": [
      "[Row(average_stars=4.03, compliment_cool=1, compliment_cute=0, compliment_funny=1, compliment_hot=2, compliment_list=0, compliment_more=0, compliment_note=1, compliment_photos=0, compliment_plain=1, compliment_profile=0, compliment_writer=2, cool=25, fans=5, funny=17, review_count=95, useful=84, flag_molestoso=1, friends_count=98, elite_count=2)]"
     ]
    }
   ],
   "source": [
    "users.take(1)"
   ]
  },
  {
   "cell_type": "markdown",
   "metadata": {},
   "source": [
    "### Requerimientos"
   ]
  },
  {
   "cell_type": "markdown",
   "metadata": {},
   "source": [
    "#### Genere la medición de usuarios molestos en base a los criterios expuestos. (2 puntos)"
   ]
  },
  {
   "cell_type": "code",
   "execution_count": 12,
   "metadata": {},
   "outputs": [
    {
     "name": "stdout",
     "output_type": "stream",
     "text": [
      "Cantidad de usuarios molestosos\n",
      "1566689"
     ]
    }
   ],
   "source": [
    "print(\"Cantidad de usuarios molestosos\")\n",
    "users\\\n",
    "    .where('flag_molestoso = 1')\\\n",
    "    .count()"
   ]
  },
  {
   "cell_type": "markdown",
   "metadata": {},
   "source": [
    "#### Divida la muestra en conjuntos de entrenamiento (preservando un 70% de los datos) y validación (preservando un 30% de los datos). (1 punto)"
   ]
  },
  {
   "cell_type": "code",
   "execution_count": 13,
   "metadata": {},
   "outputs": [
    {
     "name": "stdout",
     "output_type": "stream",
     "text": [
      "['average_stars', 'compliment_cool', 'compliment_cute', 'compliment_funny', 'compliment_hot', 'compliment_list', 'compliment_more', 'compliment_note', 'compliment_photos', 'compliment_plain', 'compliment_profile', 'compliment_writer', 'cool', 'fans', 'funny', 'review_count', 'useful', 'friends_count', 'elite_count']"
     ]
    }
   ],
   "source": [
    "users = users.withColumnRenamed('flag_molestoso', 'label')\n",
    "features = users.columns\n",
    "features.remove('label')\n",
    "print(features)"
   ]
  },
  {
   "cell_type": "code",
   "execution_count": 14,
   "metadata": {},
   "outputs": [
    {
     "name": "stdout",
     "output_type": "stream",
     "text": [
      "[Row(label=1, assembled_features=DenseVector([4.03, 1.0, 0.0, 1.0, 2.0, 0.0, 0.0, 1.0, 0.0, 1.0, 0.0, 2.0, 25.0, 5.0, 17.0, 95.0, 84.0, 98.0, 2.0]))]"
     ]
    }
   ],
   "source": [
    "from pyspark.ml.feature import VectorAssembler\n",
    "\n",
    "assemble_feats = VectorAssembler(inputCols = features, outputCol = 'assembled_features')\n",
    "assemble_feats = assemble_feats.transform(users)\n",
    "assemble_feats = assemble_feats.select('label', 'assembled_features')\n",
    "assemble_feats.take(1)"
   ]
  },
  {
   "cell_type": "code",
   "execution_count": 19,
   "metadata": {},
   "outputs": [
    {
     "name": "stdout",
     "output_type": "stream",
     "text": [
      "Cantidad de datos de entrenamiento: 1145795\n",
      "Cantidad de datos de validación: 491343"
     ]
    }
   ],
   "source": [
    "train, test = assemble_feats.randomSplit([0.7, 0.3])\n",
    "print(\"Cantidad de datos de entrenamiento: {}\".format(train.count()))\n",
    "print(\"Cantidad de datos de validación: {}\".format(test.count()))"
   ]
  },
  {
   "cell_type": "markdown",
   "metadata": {},
   "source": [
    "#### Entrene tres modelos ( LogisticRegression , GBTClassifier y DecisionTreeClassifier ) sin modificar hiperparámetros que en base a los atributos disponibles en el archivo user.json , clasifique los usuarios molestosos. (6 puntos)"
   ]
  },
  {
   "cell_type": "markdown",
   "metadata": {},
   "source": [
    "##### Modelo LogisticRegression"
   ]
  },
  {
   "cell_type": "code",
   "execution_count": 33,
   "metadata": {},
   "outputs": [
    {
     "name": "stdout",
     "output_type": "stream",
     "text": [
      "Area Under ROC on Train: 0.99963\n",
      "Area Under ROC on Test: 0.99964"
     ]
    }
   ],
   "source": [
    "from pyspark.ml.classification import LogisticRegression\n",
    "from pyspark.ml.evaluation import BinaryClassificationEvaluator\n",
    "\n",
    "logisticRegression_model = LogisticRegression(featuresCol='assembled_features', labelCol='label', predictionCol='molestoso_pred')\n",
    "logisticRegression_model = logisticRegression_model.fit(train)\n",
    "\n",
    "evaluator = BinaryClassificationEvaluator()\n",
    "print(\"Area Under ROC on Train: {}\".format(round(evaluator.evaluate(\n",
    "    logisticRegression_model.transform(train), {evaluator.metricName: \"areaUnderROC\"}), 5)))\n",
    "print(\"Area Under ROC on Test: {}\".format(round(evaluator.evaluate(\n",
    "    logisticRegression_model.transform(test), {evaluator.metricName: \"areaUnderROC\"}), 5)))"
   ]
  },
  {
   "cell_type": "markdown",
   "metadata": {},
   "source": [
    "##### Modelo GBTClassifier"
   ]
  },
  {
   "cell_type": "code",
   "execution_count": 34,
   "metadata": {},
   "outputs": [
    {
     "name": "stdout",
     "output_type": "stream",
     "text": [
      "Area Under ROC on Train: 0.99994\n",
      "Area Under ROC on Test: 0.99992"
     ]
    }
   ],
   "source": [
    "from pyspark.ml.classification import GBTClassifier\n",
    "\n",
    "gbt_model = GBTClassifier(featuresCol='assembled_features', labelCol='label', predictionCol='molestoso_pred')\n",
    "gbt_model = gbt_model.fit(train)\n",
    "\n",
    "print(\"Area Under ROC on Train: {}\".format(round(evaluator.evaluate(\n",
    "    gbt_model.transform(train), {evaluator.metricName: \"areaUnderROC\"}), 5)))\n",
    "print(\"Area Under ROC on Test: {}\".format(round(evaluator.evaluate(\n",
    "    gbt_model.transform(test), {evaluator.metricName: \"areaUnderROC\"}), 5)))"
   ]
  },
  {
   "cell_type": "markdown",
   "metadata": {},
   "source": [
    "##### Modelo DecisionTreeClassifier"
   ]
  },
  {
   "cell_type": "code",
   "execution_count": 35,
   "metadata": {},
   "outputs": [
    {
     "name": "stdout",
     "output_type": "stream",
     "text": [
      "Area Under ROC on Train: 0.9975\n",
      "Area Under ROC on Test: 0.9975"
     ]
    }
   ],
   "source": [
    "from pyspark.ml.classification import DecisionTreeClassifier\n",
    "\n",
    "decisionTree_model = DecisionTreeClassifier(featuresCol='assembled_features', labelCol='label', predictionCol='molestoso_pred')\n",
    "decisionTree_model = decisionTree_model.fit(train)\n",
    "\n",
    "print(\"Area Under ROC on Train: {}\".format(round(evaluator.evaluate(\n",
    "    decisionTree_model.transform(train), {evaluator.metricName: \"areaUnderROC\"}), 5)))\n",
    "print(\"Area Under ROC on Test: {}\".format(round(evaluator.evaluate(\n",
    "    decisionTree_model.transform(test), {evaluator.metricName: \"areaUnderROC\"}), 5)))"
   ]
  },
  {
   "cell_type": "markdown",
   "metadata": {},
   "source": [
    "#### Reporte cuál es el mejor modelo en base a la métrica AUC. (1 punto)\n",
    "* Considerando la métrica AUC tanto en los conjuntos de datos de entrenamiento y validación, el mejor modelo es el GBTClassifier."
   ]
  },
  {
   "cell_type": "markdown",
   "metadata": {},
   "source": [
    "#### Identifique cuales son los principales atributos asociados a un usuario molestoso y repórtelos. (2 puntos)"
   ]
  },
  {
   "cell_type": "code",
   "execution_count": 36,
   "metadata": {},
   "outputs": [
    {
     "name": "stdout",
     "output_type": "stream",
     "text": [
      "SparseVector(19, {0: 0.0019, 1: 0.0001, 2: 0.0, 4: 0.0014, 5: 0.0, 6: 0.0002, 7: 0.0, 8: 0.0001, 9: 0.0, 10: 0.0, 11: 0.0003, 12: 0.0028, 13: 0.0446, 14: 0.0005, 15: 0.8955, 16: 0.0432, 17: 0.0008, 18: 0.0087})"
     ]
    }
   ],
   "source": [
    "gbt_model.featureImportances"
   ]
  },
  {
   "cell_type": "markdown",
   "metadata": {},
   "source": [
    "Los principales atributos asociados a un usuario molestoso son:\n",
    "    * review_count con un 0.8955\n",
    "    * fans con un 0.0446\n",
    "    * useful con un 0.0432"
   ]
  },
  {
   "cell_type": "markdown",
   "metadata": {},
   "source": [
    "### Ejercicio 2: Identificando la probabilidad de cierre de un servicio (14 puntos)"
   ]
  },
  {
   "cell_type": "markdown",
   "metadata": {},
   "source": [
    "#### Implemente el esquema de recodificación. (2 puntos)"
   ]
  },
  {
   "cell_type": "code",
   "execution_count": 67,
   "metadata": {},
   "outputs": [],
   "source": [
    "from pyspark.sql.functions import col\n",
    "\n",
    "# 1 if business accepts insurance, 0 otherwise\n",
    "business = business\\\n",
    "            .withColumn('accepts_insurance',\n",
    "                        when((col('attributes.AcceptsInsurance') == 'True')\\\n",
    "                             | (col('attributes.AcceptsInsurance') == \"\\'True\\'\")\\\n",
    "                             | (col('attributes.AcceptsInsurance') == \"u\\'True\\'\"), 1)\\\n",
    "                        .otherwise(0))\n",
    "\n",
    "# 1 if business is age-restricted, 0 otherwise\n",
    "business = business\\\n",
    "            .withColumn('all_ages_allowed',\n",
    "                        when((col('attributes.AgesAllowed') == 'allages')\\\n",
    "                             | (col('attributes.AgesAllowed') == \"\\'allages\\'\")\\\n",
    "                             | (col('attributes.AgesAllowed') == \"u\\'allages\\'\"), 1)\\\n",
    "                        .otherwise(0))\n",
    "\n",
    "# 1 if business allows alcohol consumption, 0 otherwise\n",
    "business = business\\\n",
    "            .withColumn('alcohol_consumption',\n",
    "                        when((col('attributes.Alcohol') == 'beer_and_wine')\\\n",
    "                             | (col('attributes.Alcohol') == \"\\'beer_and_wine\\'\")\\\n",
    "                             | (col('attributes.Alcohol') == \"u\\'beer_and_wine\\'\")\\\n",
    "                             | (col('attributes.Alcohol') == 'full_bar')\\\n",
    "                             | (col('attributes.Alcohol') == \"\\'full_bar\\'\")\\\n",
    "                             | (col('attributes.Alcohol') == \"u\\'full_bar\\'\"), 1)\\\n",
    "                        .otherwise(0))\n",
    "\n",
    "# 1 if business accepts bitcoin as payment method, 0 otherwise\n",
    "business = business\\\n",
    "            .withColumn('bitcoin_friendly',\n",
    "                        when((col('attributes.BusinessAcceptsBitcoin') == 'True')\\\n",
    "                             | (col('attributes.BusinessAcceptsBitcoin') == True)\\\n",
    "                             | (col('attributes.BusinessAcceptsBitcoin') == \"\\'True\\'\")\\\n",
    "                             | (col('attributes.BusinessAcceptsBitcoin') == \"u\\'True\\'\"), 1)\\\n",
    "                        .otherwise(0))\n",
    "\n",
    "# 1 if business is food related, 0 otherwise\n",
    "business = business\\\n",
    "            .withColumn('food_related',\n",
    "                        when((col('categories').rlike('Food'))\\\n",
    "                             | (col('categories').rlike('Restaurants'))\\\n",
    "                             | (col('categories').rlike('Bars')), 1)\\\n",
    "                        .otherwise(0))\n",
    "\n",
    "# 1 if business is finance related, 0 otherwise\n",
    "business = business\\\n",
    "            .withColumn('finance_related',\n",
    "                        when((col('categories').rlike('Banks'))\\\n",
    "                             | (col('categories').rlike('Insurance'))\\\n",
    "                             | (col('categories').rlike('Finance')), 1)\\\n",
    "                        .otherwise(0))\n",
    "\n",
    "# 1 if business is health related, 0 otherwise\n",
    "business = business\\\n",
    "            .withColumn('health_related',\n",
    "                        when((col('categories').rlike('Fitness'))\\\n",
    "                             | (col('categories').rlike('Hospitals'))\\\n",
    "                             | (col('categories').rlike('Health')), 1)\\\n",
    "                        .otherwise(0))\n",
    "\n",
    "# 1 if business allows smoking, 0 otherwise\n",
    "business = business\\\n",
    "            .withColumn('smoking',\n",
    "                        when((col('attributes.Smoking') == '\\'yes\\'')\\\n",
    "                             | (col('attributes.Smoking') == 'u\\'yes\\'')\\\n",
    "                             | (col('attributes.Smoking') == 'yes')\\\n",
    "                             | (col('attributes.Smoking') == '\\'outdoor\\'')\\\n",
    "                             | (col('attributes.Smoking') == 'u\\'outdoor\\'')\\\n",
    "                             | (col('attributes.Smoking') == 'outdoor'), 1)\\\n",
    "                        .otherwise(0))\n",
    "\n",
    "# 1 if business offers free wifi to its customers, 0 otherwise\n",
    "business = business\\\n",
    "            .withColumn('free_wifi',\n",
    "                        when((col('attributes.WiFi') == '\\'free\\'')\\\n",
    "                             | (col('attributes.WiFi') == 'u\\'free\\'')\\\n",
    "                             | (col('attributes.WiFi') == 'free'), 1)\\\n",
    "                        .otherwise(0))\n",
    "\n",
    "# 1 if business can be considered expensive, 0 otherwise (applies only to restaurants)\n",
    "business = business\\\n",
    "            .withColumn('expensive_restaurant',\n",
    "                        when((col('attributes.RestaurantsPriceRange2') == 3)\\\n",
    "                             | (col('attributes.RestaurantsPriceRange2') == 4), 1)\\\n",
    "                        .otherwise(0))\n",
    "\n",
    "# 1 if business is kid friendly, 0 otherwise\n",
    "business = business\\\n",
    "            .withColumn('kid_friendly',\n",
    "                        when((col('attributes.GoodForKids') == 'True')\\\n",
    "                             | (col('attributes.GoodForKids') == True)\\\n",
    "                             | (col('attributes.GoodForKids') == \"\\'True\\'\")\\\n",
    "                             | (col('attributes.GoodForKids') == \"u\\'True\\'\"), 1)\\\n",
    "                        .otherwise(0))\n",
    "\n",
    "# 1 if business has tv, 0 otherwise\n",
    "business = business\\\n",
    "            .withColumn('has_tv',\n",
    "                        when((col('attributes.HasTV') == 'True')\\\n",
    "                             | (col('attributes.HasTV') == True)\\\n",
    "                             | (col('attributes.HasTV') == \"\\'True\\'\")\\\n",
    "                             | (col('attributes.HasTV') == \"u\\'True\\'\"), 1)\\\n",
    "                        .otherwise(0))\n",
    "\n",
    "# 1 if business is dog friendly, 0 otherwise\n",
    "business = business\\\n",
    "            .withColumn('dog_friendly',\n",
    "                        when((col('attributes.DogsAllowed') == 'True')\\\n",
    "                             | (col('attributes.DogsAllowed') == True)\\\n",
    "                             | (col('attributes.DogsAllowed') == \"\\True'\\'\")\\\n",
    "                             | (col('attributes.DogsAllowed') == \"u\\'True\\'\"), 1)\\\n",
    "                        .otherwise(0))\n",
    "\n",
    "# 1 if business can be considered as loud or very loud, 0 otherwise\n",
    "business = business\\\n",
    "            .withColumn('loud_place',\n",
    "                        when((col('attributes.NoiseLevel') == 'loud')\\\n",
    "                             | (col('attributes.NoiseLevel') == \"\\'loud\\'\")\\\n",
    "                             | (col('attributes.NoiseLevel') == \"u\\'loud\\'\")\\\n",
    "                             | (col('attributes.NoiseLevel') == \"very_loud\")\\\n",
    "                             | (col('attributes.NoiseLevel') == \"\\'very_loud\\'\")\\\n",
    "                             | (col('attributes.NoiseLevel') == \"u\\'very_loud\\'\"), 1)\\\n",
    "                        .otherwise(0))\n",
    "\n",
    "# 1 if business offers happy hours, 0 otherwise (applies only to restaurants)\n",
    "business = business\\\n",
    "            .withColumn('happy_hour',\n",
    "                        when((col('attributes.HappyHour') == 'True')\\\n",
    "                             | (col('attributes.HappyHour') == True)\\\n",
    "                             | (col('attributes.HappyHour') == \"\\'True\\'\")\\\n",
    "                             | (col('attributes.HappyHour') == \"u\\'True\\'\"), 1)\\\n",
    "                        .otherwise(0))"
   ]
  },
  {
   "cell_type": "markdown",
   "metadata": {},
   "source": [
    "#### Genere la recodificación del vector objetivo. (2 puntos)"
   ]
  },
  {
   "cell_type": "code",
   "execution_count": 68,
   "metadata": {},
   "outputs": [],
   "source": [
    "# 1 for closed, 0 otherwise\n",
    "business = business\\\n",
    "            .withColumn('label',\n",
    "                        when(col('is_open') == 0, 1)\\\n",
    "                        .otherwise(0))\n",
    "\n",
    "business = business\\\n",
    "            .select('label', 'review_count', 'stars', 'accepts_insurance',\n",
    "                    'all_ages_allowed', 'alcohol_consumption', 'bitcoin_friendly', 'food_related',\n",
    "                    'finance_related', 'health_related', 'smoking', 'free_wifi', 'has_tv',\n",
    "                    'dog_friendly', 'kid_friendly', 'expensive_restaurant', 'loud_place', 'happy_hour')"
   ]
  },
  {
   "cell_type": "code",
   "execution_count": 71,
   "metadata": {},
   "outputs": [
    {
     "name": "stdout",
     "output_type": "stream",
     "text": [
      "[Row(label=1, review_count=5, stars=3.0, accepts_insurance=0, all_ages_allowed=0, alcohol_consumption=0, bitcoin_friendly=0, food_related=0, finance_related=0, health_related=0, smoking=0, free_wifi=0, has_tv=0, dog_friendly=0, kid_friendly=0, expensive_restaurant=0, loud_place=0, happy_hour=0)]"
     ]
    }
   ],
   "source": [
    "business.take(1)"
   ]
  },
  {
   "cell_type": "code",
   "execution_count": 70,
   "metadata": {},
   "outputs": [
    {
     "name": "stdout",
     "output_type": "stream",
     "text": [
      "root\n",
      " |-- label: integer (nullable = false)\n",
      " |-- review_count: long (nullable = true)\n",
      " |-- stars: double (nullable = true)\n",
      " |-- accepts_insurance: integer (nullable = false)\n",
      " |-- all_ages_allowed: integer (nullable = false)\n",
      " |-- alcohol_consumption: integer (nullable = false)\n",
      " |-- bitcoin_friendly: integer (nullable = false)\n",
      " |-- food_related: integer (nullable = false)\n",
      " |-- finance_related: integer (nullable = false)\n",
      " |-- health_related: integer (nullable = false)\n",
      " |-- smoking: integer (nullable = false)\n",
      " |-- free_wifi: integer (nullable = false)\n",
      " |-- has_tv: integer (nullable = false)\n",
      " |-- dog_friendly: integer (nullable = false)\n",
      " |-- kid_friendly: integer (nullable = false)\n",
      " |-- expensive_restaurant: integer (nullable = false)\n",
      " |-- loud_place: integer (nullable = false)\n",
      " |-- happy_hour: integer (nullable = false)"
     ]
    }
   ],
   "source": [
    "business.printSchema()"
   ]
  },
  {
   "cell_type": "markdown",
   "metadata": {},
   "source": [
    "#### Divida la muestra en conjuntos de entrenamiento (preservando un 70% de los datos) y validación (preservando un 30% de los datos). (1 punto)"
   ]
  },
  {
   "cell_type": "code",
   "execution_count": 72,
   "metadata": {},
   "outputs": [
    {
     "name": "stdout",
     "output_type": "stream",
     "text": [
      "['review_count', 'stars', 'accepts_insurance', 'all_ages_allowed', 'alcohol_consumption', 'bitcoin_friendly', 'food_related', 'finance_related', 'health_related', 'smoking', 'free_wifi', 'has_tv', 'dog_friendly', 'kid_friendly', 'expensive_restaurant', 'loud_place', 'happy_hour']"
     ]
    }
   ],
   "source": [
    "features = business.columns\n",
    "features.remove('label')\n",
    "print(features)"
   ]
  },
  {
   "cell_type": "code",
   "execution_count": 75,
   "metadata": {},
   "outputs": [
    {
     "name": "stdout",
     "output_type": "stream",
     "text": [
      "[Row(label=1, assembled_features=SparseVector(17, {0: 5.0, 1: 3.0}))]"
     ]
    }
   ],
   "source": [
    "from pyspark.ml.feature import VectorAssembler\n",
    "\n",
    "assemble_feats = VectorAssembler(inputCols = features, outputCol = 'assembled_features')\n",
    "assemble_feats = assemble_feats.transform(business)\n",
    "assemble_feats = assemble_feats.select('label', 'assembled_features')\n",
    "assemble_feats.take(1)"
   ]
  },
  {
   "cell_type": "code",
   "execution_count": 76,
   "metadata": {},
   "outputs": [
    {
     "name": "stdout",
     "output_type": "stream",
     "text": [
      "Cantidad de datos de entrenamiento: 135015\n",
      "Cantidad de datos de validación: 57594"
     ]
    }
   ],
   "source": [
    "train, test = assemble_feats.randomSplit([0.7, 0.3])\n",
    "print(\"Cantidad de datos de entrenamiento: {}\".format(train.count()))\n",
    "print(\"Cantidad de datos de validación: {}\".format(test.count()))"
   ]
  },
  {
   "cell_type": "markdown",
   "metadata": {},
   "source": [
    "#### Entrene tres modelos ( LogisticRegression , GBTClassifier y DecisionTreeClassifier ) sin modificar hiperparámetros que en base a los atributos recodificados del archivo business.json , clasifique aquellos servicios cerrados. (6 puntos)"
   ]
  },
  {
   "cell_type": "markdown",
   "metadata": {},
   "source": [
    "##### Modelo LogisticRegression"
   ]
  },
  {
   "cell_type": "code",
   "execution_count": 77,
   "metadata": {},
   "outputs": [
    {
     "name": "stdout",
     "output_type": "stream",
     "text": [
      "Area Under ROC on Train: 0.6941\n",
      "Area Under ROC on Test: 0.68866"
     ]
    }
   ],
   "source": [
    "from pyspark.ml.classification import LogisticRegression\n",
    "from pyspark.ml.evaluation import BinaryClassificationEvaluator\n",
    "\n",
    "logisticRegression_model = LogisticRegression(featuresCol='assembled_features', labelCol='label', predictionCol='is_closed_pred')\n",
    "logisticRegression_model = logisticRegression_model.fit(train)\n",
    "\n",
    "evaluator = BinaryClassificationEvaluator()\n",
    "print(\"Area Under ROC on Train: {}\".format(round(evaluator.evaluate(\n",
    "    logisticRegression_model.transform(train), {evaluator.metricName: \"areaUnderROC\"}), 5)))\n",
    "print(\"Area Under ROC on Test: {}\".format(round(evaluator.evaluate(\n",
    "    logisticRegression_model.transform(test), {evaluator.metricName: \"areaUnderROC\"}), 5)))"
   ]
  },
  {
   "cell_type": "markdown",
   "metadata": {},
   "source": [
    "##### Modelo GBTClassifier"
   ]
  },
  {
   "cell_type": "code",
   "execution_count": 78,
   "metadata": {},
   "outputs": [
    {
     "name": "stdout",
     "output_type": "stream",
     "text": [
      "Area Under ROC on Train: 0.71102\n",
      "Area Under ROC on Test: 0.70243"
     ]
    }
   ],
   "source": [
    "from pyspark.ml.classification import GBTClassifier\n",
    "\n",
    "gbt_model = GBTClassifier(featuresCol='assembled_features', labelCol='label', predictionCol='is_closed_pred')\n",
    "gbt_model = gbt_model.fit(train)\n",
    "\n",
    "print(\"Area Under ROC on Train: {}\".format(round(evaluator.evaluate(\n",
    "    gbt_model.transform(train), {evaluator.metricName: \"areaUnderROC\"}), 5)))\n",
    "print(\"Area Under ROC on Test: {}\".format(round(evaluator.evaluate(\n",
    "    gbt_model.transform(test), {evaluator.metricName: \"areaUnderROC\"}), 5)))"
   ]
  },
  {
   "cell_type": "markdown",
   "metadata": {},
   "source": [
    "##### Modelo DecisionTreeClassifier"
   ]
  },
  {
   "cell_type": "code",
   "execution_count": 79,
   "metadata": {},
   "outputs": [
    {
     "name": "stdout",
     "output_type": "stream",
     "text": [
      "Area Under ROC on Train: 0.35991\n",
      "Area Under ROC on Test: 0.36734"
     ]
    }
   ],
   "source": [
    "from pyspark.ml.classification import DecisionTreeClassifier\n",
    "\n",
    "decisionTree_model = DecisionTreeClassifier(featuresCol='assembled_features', labelCol='label', predictionCol='is_closed_pred')\n",
    "decisionTree_model = decisionTree_model.fit(train)\n",
    "\n",
    "print(\"Area Under ROC on Train: {}\".format(round(evaluator.evaluate(\n",
    "    decisionTree_model.transform(train), {evaluator.metricName: \"areaUnderROC\"}), 5)))\n",
    "print(\"Area Under ROC on Test: {}\".format(round(evaluator.evaluate(\n",
    "    decisionTree_model.transform(test), {evaluator.metricName: \"areaUnderROC\"}), 5)))"
   ]
  },
  {
   "cell_type": "markdown",
   "metadata": {},
   "source": [
    "#### Reporte cuál es el mejor modelo en base a la métrica AUC. (1 punto)\n",
    "* Considerando la métrica AUC tanto en los conjuntos de datos de entrenamiento y validación, el mejor modelo es el GBTClassifier."
   ]
  },
  {
   "cell_type": "markdown",
   "metadata": {},
   "source": [
    "#### Identifique cuales son los principales atributos asociados al cierre de un servicio. (2 puntos)"
   ]
  },
  {
   "cell_type": "code",
   "execution_count": 95,
   "metadata": {},
   "outputs": [
    {
     "name": "stdout",
     "output_type": "stream",
     "text": [
      "SparseVector(17, {0: 0.2164, 1: 0.1688, 2: 0.0658, 3: 0.0009, 4: 0.084, 5: 0.0004, 6: 0.1691, 7: 0.0178, 8: 0.02, 9: 0.0094, 10: 0.0297, 11: 0.0403, 12: 0.012, 13: 0.0782, 14: 0.032, 15: 0.0238, 16: 0.0314})"
     ]
    }
   ],
   "source": [
    "gbt_model.featureImportances"
   ]
  },
  {
   "cell_type": "markdown",
   "metadata": {},
   "source": [
    "Los principales atributos asociados a un cierre de servicio son:\n",
    "\n",
    "* review_count con un 0.2164\n",
    "* food_related con un 0.1691\n",
    "* stars con un 0.1688"
   ]
  },
  {
   "cell_type": "code",
   "execution_count": null,
   "metadata": {},
   "outputs": [],
   "source": []
  }
 ],
 "metadata": {
  "kernelspec": {
   "display_name": "PySpark3",
   "language": "",
   "name": "pyspark3kernel"
  },
  "language_info": {
   "codemirror_mode": {
    "name": "python",
    "version": 3
   },
   "mimetype": "text/x-python",
   "name": "pyspark3",
   "pygments_lexer": "python3"
  }
 },
 "nbformat": 4,
 "nbformat_minor": 2
}
