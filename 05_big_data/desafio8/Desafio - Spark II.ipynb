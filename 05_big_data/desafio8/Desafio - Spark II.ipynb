{
 "cells": [
  {
   "cell_type": "markdown",
   "metadata": {},
   "source": [
    "# Desafío - Spark II"
   ]
  },
  {
   "cell_type": "markdown",
   "metadata": {},
   "source": [
    "**Nombre:** Julio Valdés\n",
    "<br/>\n",
    "**Generación:** GC\n"
   ]
  },
  {
   "cell_type": "markdown",
   "metadata": {},
   "source": [
    "### Ejercicio 1: Preliminares"
   ]
  },
  {
   "cell_type": "markdown",
   "metadata": {},
   "source": [
    "<ul>\n",
    "    <li>\n",
    "    Genere una instancia de trabajo en AWS EMR con los componentes necesarios de Spark y habilite un puerto dinámico para utilizar un notebook desde JupyterHub.<li>\n",
    "Genere un objeto con SparkSession y asegúrese de habilitar el soporte con Hive.\n",
    "    </li>\n",
    "    <li>\n",
    "    Utilizando su objeto creado con SparkSession , realice el import de los objetos parquet que se encuentran en la siguiente dirección del bucket del curso s3://bigdata-desafio/challenges/u4act2/ .\n",
    "Infiera el schema de cada objeto creado.\n",
    "    </li>\n",
    "</ul>"
   ]
  },
  {
   "cell_type": "code",
   "execution_count": 42,
   "metadata": {},
   "outputs": [],
   "source": [
    "from pyspark.sql import SparkSession\n",
    "\n",
    "spark = SparkSession\\\n",
    "    .builder\\\n",
    "    .appName(\"spark-II\")\\\n",
    "    .enableHiveSupport()\\\n",
    "    .getOrCreate()"
   ]
  },
  {
   "cell_type": "code",
   "execution_count": 43,
   "metadata": {},
   "outputs": [
    {
     "name": "stdout",
     "output_type": "stream",
     "text": [
      "<pyspark.sql.session.SparkSession object at 0x7f4682886b00>"
     ]
    }
   ],
   "source": [
    "spark"
   ]
  },
  {
   "cell_type": "code",
   "execution_count": 44,
   "metadata": {},
   "outputs": [],
   "source": [
    "flights = spark.read.parquet('s3://bigdata-desafio/challenges/u4act2/flights.parquet')\n",
    "airports = spark.read.parquet('s3://bigdata-desafio/challenges/u4act2/airports.parquet')\n",
    "airlines = spark.read.parquet('s3://bigdata-desafio/challenges/u4act2/airlines.parquet')"
   ]
  },
  {
   "cell_type": "code",
   "execution_count": 45,
   "metadata": {},
   "outputs": [
    {
     "name": "stdout",
     "output_type": "stream",
     "text": [
      "root\n",
      " |-- YEAR: string (nullable = true)\n",
      " |-- MONTH: string (nullable = true)\n",
      " |-- DAY: string (nullable = true)\n",
      " |-- DAY_OF_WEEK: string (nullable = true)\n",
      " |-- AIRLINE: string (nullable = true)\n",
      " |-- FLIGHT_NUMBER: string (nullable = true)\n",
      " |-- TAIL_NUMBER: string (nullable = true)\n",
      " |-- ORIGIN_AIRPORT: string (nullable = true)\n",
      " |-- DESTINATION_AIRPORT: string (nullable = true)\n",
      " |-- SCHEDULED_DEPARTURE: string (nullable = true)\n",
      " |-- DEPARTURE_TIME: string (nullable = true)\n",
      " |-- DEPARTURE_DELAY: string (nullable = true)\n",
      " |-- TAXI_OUT: string (nullable = true)\n",
      " |-- WHEELS_OFF: string (nullable = true)\n",
      " |-- SCHEDULED_TIME: string (nullable = true)\n",
      " |-- ELAPSED_TIME: string (nullable = true)\n",
      " |-- AIR_TIME: string (nullable = true)\n",
      " |-- DISTANCE: string (nullable = true)\n",
      " |-- WHEELS_ON: string (nullable = true)\n",
      " |-- TAXI_IN: string (nullable = true)\n",
      " |-- SCHEDULED_ARRIVAL: string (nullable = true)\n",
      " |-- ARRIVAL_TIME: string (nullable = true)\n",
      " |-- ARRIVAL_DELAY: string (nullable = true)\n",
      " |-- DIVERTED: string (nullable = true)\n",
      " |-- CANCELLED: string (nullable = true)\n",
      " |-- CANCELLATION_REASON: string (nullable = true)\n",
      " |-- AIR_SYSTEM_DELAY: string (nullable = true)\n",
      " |-- SECURITY_DELAY: string (nullable = true)\n",
      " |-- AIRLINE_DELAY: string (nullable = true)\n",
      " |-- LATE_AIRCRAFT_DELAY: string (nullable = true)\n",
      " |-- WEATHER_DELAY: string (nullable = true)"
     ]
    }
   ],
   "source": [
    "flights.printSchema()"
   ]
  },
  {
   "cell_type": "code",
   "execution_count": 46,
   "metadata": {},
   "outputs": [
    {
     "name": "stdout",
     "output_type": "stream",
     "text": [
      "root\n",
      " |-- IATA_CODE: string (nullable = true)\n",
      " |-- AIRPORT: string (nullable = true)\n",
      " |-- CITY: string (nullable = true)\n",
      " |-- STATE: string (nullable = true)\n",
      " |-- COUNTRY: string (nullable = true)\n",
      " |-- LATITUDE: string (nullable = true)\n",
      " |-- LONGITUDE: string (nullable = true)"
     ]
    }
   ],
   "source": [
    "airports.printSchema()"
   ]
  },
  {
   "cell_type": "code",
   "execution_count": 47,
   "metadata": {},
   "outputs": [
    {
     "name": "stdout",
     "output_type": "stream",
     "text": [
      "root\n",
      " |-- IATA_CODE: string (nullable = true)\n",
      " |-- AIRLINE: string (nullable = true)"
     ]
    }
   ],
   "source": [
    "airlines.printSchema()"
   ]
  },
  {
   "cell_type": "markdown",
   "metadata": {},
   "source": [
    "### Ejercicio 2: Implementación de Queries"
   ]
  },
  {
   "cell_type": "markdown",
   "metadata": {},
   "source": [
    "<p>\n",
    "En su calidad de Científico de Datos, su jefe le genera una serie de consultas que deberá implementar utilizando sus conocimientos en SparkSQL y sus objetos DataFrame . La única\n",
    "limitante es que estará trabajando en un cluster habilitado sólo con el kernel PySpark3 , por lo que no podrá utilizar librerías como pandas , numpy y matplotlib . Cabe destacar que usted no tendrá permisos de superusuario para instalar librerías.\n",
    "</p>"
   ]
  },
  {
   "cell_type": "markdown",
   "metadata": {},
   "source": [
    "#### Query 1: Cantidad de vuelos por mes. Reporte los meses con una mayor cantidad de vuelos."
   ]
  },
  {
   "cell_type": "code",
   "execution_count": 48,
   "metadata": {},
   "outputs": [],
   "source": [
    "flights_by_month = flights\\\n",
    "                    .select('MONTH')\\\n",
    "                    .groupBy(['MONTH'])\\\n",
    "                    .count()\\\n",
    "                    .orderBy(['count'], ascending=False)"
   ]
  },
  {
   "cell_type": "code",
   "execution_count": 49,
   "metadata": {},
   "outputs": [
    {
     "name": "stdout",
     "output_type": "stream",
     "text": [
      "+-----+------+\n",
      "|MONTH| count|\n",
      "+-----+------+\n",
      "|    7|520718|\n",
      "|    8|510536|\n",
      "|    3|504312|\n",
      "|    6|503897|\n",
      "|    5|496993|\n",
      "+-----+------+\n",
      "only showing top 5 rows"
     ]
    }
   ],
   "source": [
    "flights_by_month.show(5)"
   ]
  },
  {
   "cell_type": "markdown",
   "metadata": {},
   "source": [
    "#### Query 2: Cantidad de vuelos por día y mes. Reporte los días con una mayor cantidad de vuelos."
   ]
  },
  {
   "cell_type": "code",
   "execution_count": 50,
   "metadata": {},
   "outputs": [],
   "source": [
    "flights_by_month_day = flights\\\n",
    "                    .select('MONTH', 'DAY')\\\n",
    "                    .groupBy(['MONTH', 'DAY'])\\\n",
    "                    .count()\\\n",
    "                    .orderBy(['count'], ascending=False)"
   ]
  },
  {
   "cell_type": "code",
   "execution_count": 51,
   "metadata": {},
   "outputs": [
    {
     "name": "stdout",
     "output_type": "stream",
     "text": [
      "+-----+---+-----+\n",
      "|MONTH|DAY|count|\n",
      "+-----+---+-----+\n",
      "|   11| 29|17574|\n",
      "|    8|  7|17517|\n",
      "|    7| 24|17474|\n",
      "|    6| 26|17474|\n",
      "|    7| 10|17471|\n",
      "+-----+---+-----+\n",
      "only showing top 5 rows"
     ]
    }
   ],
   "source": [
    "flights_by_month_day.show(5)"
   ]
  },
  {
   "cell_type": "markdown",
   "metadata": {},
   "source": [
    "#### Query 3: Cantidad de aeropuertos por Estado. Reporte los estados con una mayor cantidad de aeropuertos."
   ]
  },
  {
   "cell_type": "code",
   "execution_count": 52,
   "metadata": {},
   "outputs": [],
   "source": [
    "airports_by_state = airports\\\n",
    "                    .select('STATE')\\\n",
    "                    .groupBy(['STATE'])\\\n",
    "                    .count()\\\n",
    "                    .orderBy(['count'], ascending=False)"
   ]
  },
  {
   "cell_type": "code",
   "execution_count": 53,
   "metadata": {},
   "outputs": [
    {
     "name": "stdout",
     "output_type": "stream",
     "text": [
      "+-----+-----+\n",
      "|STATE|count|\n",
      "+-----+-----+\n",
      "|   TX|   24|\n",
      "|   CA|   22|\n",
      "|   AK|   19|\n",
      "|   FL|   17|\n",
      "|   MI|   15|\n",
      "+-----+-----+\n",
      "only showing top 5 rows"
     ]
    }
   ],
   "source": [
    "airports_by_state.show(5)"
   ]
  },
  {
   "cell_type": "markdown",
   "metadata": {},
   "source": [
    "#### Query 4: Excluyendo los aeropuertos que no aparezcan en la tabla airports , identifique los aeropuertos con una mayor cantidad de vuelos."
   ]
  },
  {
   "cell_type": "code",
   "execution_count": 66,
   "metadata": {},
   "outputs": [],
   "source": [
    "flights_by_airports = flights\\\n",
    "                    .join(airports, flights.ORIGIN_AIRPORT == airports.IATA_CODE)\\\n",
    "                    .select('ORIGIN_AIRPORT')\\\n",
    "                    .groupBy(['ORIGIN_AIRPORT'])\\\n",
    "                    .count()\\\n",
    "                    .orderBy(['count'], ascending=False)"
   ]
  },
  {
   "cell_type": "code",
   "execution_count": 67,
   "metadata": {},
   "outputs": [
    {
     "name": "stdout",
     "output_type": "stream",
     "text": [
      "+--------------+------+\n",
      "|ORIGIN_AIRPORT| count|\n",
      "+--------------+------+\n",
      "|           ATL|346836|\n",
      "|           ORD|285884|\n",
      "|           DFW|239551|\n",
      "|           DEN|196055|\n",
      "|           LAX|194673|\n",
      "+--------------+------+\n",
      "only showing top 5 rows"
     ]
    }
   ],
   "source": [
    "flights_by_airports.show(5)"
   ]
  },
  {
   "cell_type": "markdown",
   "metadata": {},
   "source": [
    "#### Query 5: Excluyendo los aeropuertos que no aparezcan en la tabla airports , identifique los estados con una mayor cantidad de vuelos."
   ]
  },
  {
   "cell_type": "code",
   "execution_count": 97,
   "metadata": {},
   "outputs": [],
   "source": [
    "flights.registerTempTable('flights')\n",
    "airports.registerTempTable('airports')\n",
    "airlines.registerTempTable('airlines')"
   ]
  },
  {
   "cell_type": "code",
   "execution_count": 85,
   "metadata": {},
   "outputs": [],
   "source": [
    "flights_by_state = spark.sql( \"\"\"\n",
    "    SELECT STATE, count(STATE) FROM flights\n",
    "    JOIN airports ON flights.ORIGIN_AIRPORT = airports.IATA_CODE    \n",
    "    GROUP BY STATE\n",
    "    ORDER BY count(STATE) DESC\n",
    "\"\"\")"
   ]
  },
  {
   "cell_type": "code",
   "execution_count": 86,
   "metadata": {},
   "outputs": [
    {
     "name": "stdout",
     "output_type": "stream",
     "text": [
      "+-----+------------+\n",
      "|STATE|count(STATE)|\n",
      "+-----+------------+\n",
      "|   CA|      647911|\n",
      "|   TX|      631124|\n",
      "|   FL|      415586|\n",
      "|   IL|      381644|\n",
      "|   GA|      360496|\n",
      "+-----+------------+\n",
      "only showing top 5 rows"
     ]
    }
   ],
   "source": [
    "flights_by_state.show(5)"
   ]
  },
  {
   "cell_type": "markdown",
   "metadata": {},
   "source": [
    "#### Query 6: Excluyendo los aeropuertos que no aparezcan en la tabla airports , identifique el promedio de retraso en partida (con la columna DEPARTURE_DELAY ) y llegada (con la columna ARRIVAL_DELAY ) para cada aeropuerto de origen (con la columna ORIGIN_AIRPORT ). Reporte los cinco aeropuertos con un mayor retraso promedio de partida."
   ]
  },
  {
   "cell_type": "code",
   "execution_count": 87,
   "metadata": {},
   "outputs": [],
   "source": [
    "departure_delay_by_airport = spark.sql( \"\"\"\n",
    "    SELECT ORIGIN_AIRPORT, avg(DEPARTURE_DELAY), avg(ARRIVAL_DELAY) FROM flights\n",
    "    JOIN airports ON flights.ORIGIN_AIRPORT = airports.IATA_CODE    \n",
    "    GROUP BY ORIGIN_AIRPORT\n",
    "    ORDER BY avg(DEPARTURE_DELAY) DESC\n",
    "\"\"\")"
   ]
  },
  {
   "cell_type": "code",
   "execution_count": 89,
   "metadata": {},
   "outputs": [
    {
     "name": "stdout",
     "output_type": "stream",
     "text": [
      "+--------------+------------------------------------+----------------------------------+\n",
      "|ORIGIN_AIRPORT|avg(CAST(DEPARTURE_DELAY AS DOUBLE))|avg(CAST(ARRIVAL_DELAY AS DOUBLE))|\n",
      "+--------------+------------------------------------+----------------------------------+\n",
      "|           ILG|                  29.391752577319586|                24.063157894736843|\n",
      "|           MVY|                   25.90731707317073|                12.980487804878049|\n",
      "|           HYA|                  23.182926829268293|                 8.621951219512194|\n",
      "|           STC|                  18.692307692307693|                19.558441558441558|\n",
      "|           OTH|                  17.777358490566037|                14.333333333333334|\n",
      "+--------------+------------------------------------+----------------------------------+\n",
      "only showing top 5 rows"
     ]
    }
   ],
   "source": [
    "departure_delay_by_airport.show(5)"
   ]
  },
  {
   "cell_type": "markdown",
   "metadata": {},
   "source": [
    "#### Query 7: Excluyendo los aeropuertos que no aparezcan en la tabla airports , identifique las principales razones de cancelación de vuelos."
   ]
  },
  {
   "cell_type": "code",
   "execution_count": 91,
   "metadata": {},
   "outputs": [],
   "source": [
    "flights_by_cancellation_reason = spark.sql( \"\"\"\n",
    "    SELECT CANCELLATION_REASON, count(CANCELLATION_REASON) FROM flights\n",
    "    JOIN airports ON flights.ORIGIN_AIRPORT = airports.IATA_CODE    \n",
    "    GROUP BY CANCELLATION_REASON\n",
    "    ORDER BY count(CANCELLATION_REASON) DESC\n",
    "\"\"\")"
   ]
  },
  {
   "cell_type": "code",
   "execution_count": 92,
   "metadata": {},
   "outputs": [
    {
     "name": "stdout",
     "output_type": "stream",
     "text": [
      "+-------------------+--------------------------+\n",
      "|CANCELLATION_REASON|count(CANCELLATION_REASON)|\n",
      "+-------------------+--------------------------+\n",
      "|                  B|                     47874|\n",
      "|                  A|                     24309|\n",
      "|                  C|                     15225|\n",
      "|                  D|                        22|\n",
      "|               null|                         0|\n",
      "+-------------------+--------------------------+"
     ]
    }
   ],
   "source": [
    "flights_by_cancellation_reason.show(5)"
   ]
  },
  {
   "cell_type": "markdown",
   "metadata": {},
   "source": [
    "#### Query 8: Excluyendo los aeropuertos que no aparezcan en la tabla airports y sólo considerando los cinco aeropuertos con un mayor retraso promedio de partida, identifique las principales causas de cancelación de vuelos."
   ]
  },
  {
   "cell_type": "code",
   "execution_count": 93,
   "metadata": {},
   "outputs": [],
   "source": [
    "top_cancellation_reason_by_departure_delay = spark.sql( \"\"\"\n",
    "    SELECT CANCELLATION_REASON, count(CANCELLATION_REASON) FROM flights\n",
    "    JOIN airports ON flights.ORIGIN_AIRPORT = airports.IATA_CODE\n",
    "    WHERE ORIGIN_AIRPORT IN ('ILG', 'MVY', 'HYA', 'STC', 'OTH')\n",
    "    GROUP BY CANCELLATION_REASON\n",
    "    ORDER BY count(CANCELLATION_REASON) DESC\n",
    "\"\"\")"
   ]
  },
  {
   "cell_type": "code",
   "execution_count": 94,
   "metadata": {},
   "outputs": [
    {
     "name": "stdout",
     "output_type": "stream",
     "text": [
      "+-------------------+--------------------------+\n",
      "|CANCELLATION_REASON|count(CANCELLATION_REASON)|\n",
      "+-------------------+--------------------------+\n",
      "|                  A|                        11|\n",
      "|                  B|                         9|\n",
      "|                  C|                         1|\n",
      "|               null|                         0|\n",
      "+-------------------+--------------------------+"
     ]
    }
   ],
   "source": [
    "top_cancellation_reason_by_departure_delay.show(5)"
   ]
  },
  {
   "cell_type": "markdown",
   "metadata": {},
   "source": [
    "#### Query 9: Excluyendo los aeropuertos que no aparezcan en la tabla airports , identifique el tiempo promedio de retraso en partida y llegada para cada aerolínea."
   ]
  },
  {
   "cell_type": "code",
   "execution_count": 98,
   "metadata": {},
   "outputs": [],
   "source": [
    "delay_by_airline = spark.sql( \"\"\"\n",
    "    SELECT airlines.AIRLINE, avg(DEPARTURE_DELAY), avg(ARRIVAL_DELAY) FROM flights\n",
    "    JOIN airports ON flights.ORIGIN_AIRPORT = airports.IATA_CODE\n",
    "    JOIN airlines ON flights.AIRLINE = airlines.IATA_CODE\n",
    "    GROUP BY airlines.AIRLINE\n",
    "\"\"\")"
   ]
  },
  {
   "cell_type": "code",
   "execution_count": 99,
   "metadata": {},
   "outputs": [
    {
     "name": "stdout",
     "output_type": "stream",
     "text": [
      "+--------------------+------------------------------------+----------------------------------+\n",
      "|             AIRLINE|avg(CAST(DEPARTURE_DELAY AS DOUBLE))|avg(CAST(ARRIVAL_DELAY AS DOUBLE))|\n",
      "+--------------------+------------------------------------+----------------------------------+\n",
      "|Skywest Airlines ...|                   8.181224917577913|                 6.221438197483382|\n",
      "|American Eagle Ai...|                  10.685482779292608|                 7.316540271458018|\n",
      "|      Virgin America|                    9.21121121121121|                 4.979538817121459|\n",
      "|United Air Lines ...|                   15.13171797238203|                  6.21131564254273|\n",
      "|Frontier Airlines...|                   14.26797727521563|                13.729467715383208|\n",
      "|Southwest Airline...|                  10.995318443894886|                  4.83783107128739|\n",
      "|     JetBlue Airways|                  11.828653922739944|                  6.94933917038418|\n",
      "|     US Airways Inc.|                   6.141136917746696|                3.7062088424131026|\n",
      "|Hawaiian Airlines...|                  0.5140007726537795|                 2.161856334598582|\n",
      "|Atlantic Southeas...|                   9.076963939753766|                 6.964550126466531|\n",
      "+--------------------+------------------------------------+----------------------------------+\n",
      "only showing top 10 rows"
     ]
    }
   ],
   "source": [
    "delay_by_airline.show(10)"
   ]
  },
  {
   "cell_type": "code",
   "execution_count": null,
   "metadata": {},
   "outputs": [],
   "source": []
  }
 ],
 "metadata": {
  "kernelspec": {
   "display_name": "PySpark3",
   "language": "",
   "name": "pyspark3kernel"
  },
  "language_info": {
   "codemirror_mode": {
    "name": "python",
    "version": 3
   },
   "mimetype": "text/x-python",
   "name": "pyspark3",
   "pygments_lexer": "python3"
  }
 },
 "nbformat": 4,
 "nbformat_minor": 2
}
