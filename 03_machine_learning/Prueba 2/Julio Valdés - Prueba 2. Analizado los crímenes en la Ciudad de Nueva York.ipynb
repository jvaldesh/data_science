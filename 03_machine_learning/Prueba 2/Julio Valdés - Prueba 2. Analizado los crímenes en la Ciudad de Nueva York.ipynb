{
 "cells": [
  {
   "cell_type": "markdown",
   "metadata": {},
   "source": [
    "## Solución Prueba 2. Analizado los crímenes en la Ciudad de Nueva York\n",
    "\n",
    "**Nombre alumno:** Julio Valdés\n",
    "\n",
    "**Profesor:** Gabriel Tamayo L.\n",
    "\n",
    "**Generación:** G5"
   ]
  },
  {
   "cell_type": "code",
   "execution_count": null,
   "metadata": {},
   "outputs": [],
   "source": []
  }
 ],
 "metadata": {
  "kernelspec": {
   "display_name": "Python 3",
   "language": "python",
   "name": "python3"
  },
  "language_info": {
   "codemirror_mode": {
    "name": "ipython",
    "version": 3
   },
   "file_extension": ".py",
   "mimetype": "text/x-python",
   "name": "python",
   "nbconvert_exporter": "python",
   "pygments_lexer": "ipython3",
   "version": "3.7.3"
  }
 },
 "nbformat": 4,
 "nbformat_minor": 2
}
