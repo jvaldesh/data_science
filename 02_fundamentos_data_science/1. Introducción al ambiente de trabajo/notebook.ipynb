{
 "cells": [
  {
   "cell_type": "code",
   "execution_count": 25,
   "metadata": {},
   "outputs": [
    {
     "name": "stdout",
     "output_type": "stream",
     "text": [
      "Hola Mundo, esta es mi primera incursión en Python\n"
     ]
    }
   ],
   "source": [
    "print('Hola Mundo, esta es mi primera incursión en Python')"
   ]
  },
  {
   "cell_type": "code",
   "execution_count": 26,
   "metadata": {},
   "outputs": [],
   "source": [
    "nombre = \"Julio Valdes\"\n",
    "edad = 37\n",
    "actividades_favoritas = [\"ver series\", \"escuchar musica\", \"jugar con mis hijos\"]\n",
    "tiene_mascota = True"
   ]
  },
  {
   "cell_type": "code",
   "execution_count": 56,
   "metadata": {},
   "outputs": [
    {
     "name": "stdout",
     "output_type": "stream",
     "text": [
      "Nombre Julio Valdes\n",
      "Edad 37\n",
      "Actividades favoritas escuchar musica\n",
      "Tiene mascota True\n",
      "Type nombre <class 'str'>\n",
      "Type edad <class 'int'>\n",
      "Type actividades favoritas <class 'list'>\n",
      "Type tiene mascota <class 'bool'>\n",
      "Hola, mi nombre es Julio Valdes. Tengo 37 años y me gusta ver series, escuchar musica y jugar con mis hijos. Si tengo mascotas.\n"
     ]
    }
   ],
   "source": [
    "print(\"Nombre\", nombre)\n",
    "print(\"Edad\", edad)\n",
    "print(\"Actividades favoritas\", actividades_favoritas[1])\n",
    "print(\"Tiene mascota\", tiene_mascota)\n",
    "print(\"Type nombre\", type(nombre))\n",
    "print(\"Type edad\", type(edad))\n",
    "print(\"Type actividades favoritas\", type(actividades_favoritas))\n",
    "print(\"Type tiene mascota\", type(tiene_mascota))\n",
    "tiene_mascota_text = \"tengo mascotas\"\n",
    "if tiene_mascota == True:\n",
    "    tiene_mascota_text = \"Si \" + tiene_mascota_text\n",
    "else:\n",
    "    tiene_mascota_text = \"No \" + tiene_mascota_text\n",
    "print(\"Hola, mi nombre es {}. Tengo {} años y me gusta {}, {} y {}. {}.\".format(nombre, edad, actividades_favoritas[0], actividades_favoritas[1], actividades_favoritas[2], tiene_mascota_text))"
   ]
  },
  {
   "cell_type": "code",
   "execution_count": 28,
   "metadata": {},
   "outputs": [
    {
     "name": "stdout",
     "output_type": "stream",
     "text": [
      "Estaba la pájara pinta sentada en el verde limón\n",
      "Mi nombre es Julio Valdes y tengo 37 años\n"
     ]
    },
    {
     "data": {
      "text/plain": [
       "'Ornitorrinco45'"
      ]
     },
     "execution_count": 28,
     "metadata": {},
     "output_type": "execute_result"
    }
   ],
   "source": [
    "print('Estaba la pájara pinta sentada en el verde limón') # Faltaba comilla simple para cerrar string\n",
    "print('Mi nombre es', nombre, 'y tengo', edad, 'años') # Faltaba concatenar las variables al texto y corregir nombre de variables\n",
    "import pandas as pd # Estaba mal escrito el nombre de la libreria pandas\n",
    "import numpy as np # Estaba mal escrito el nombre de la libreria numpy\n",
    "\"Ornitorrinco\" + str(45) # No esta permitido concatenar un str con un int"
   ]
  },
  {
   "cell_type": "code",
   "execution_count": 64,
   "metadata": {},
   "outputs": [
    {
     "name": "stdout",
     "output_type": "stream",
     "text": [
      "Primeras 5 observaciones\n",
      "    year     month  passengers\n",
      "0  1949   January         112\n",
      "1  1949  February         118\n",
      "2  1949     March         132\n",
      "3  1949     April         129\n",
      "4  1949       May         121\n",
      "Ultimas 5 observacionesn\n",
      "      year      month  passengers\n",
      "139  1960     August         606\n",
      "140  1960  September         508\n",
      "141  1960    October         461\n",
      "142  1960   November         390\n",
      "143  1960   December         432\n",
      "Describe columna year\n",
      " count     144.000000\n",
      "mean     1954.500000\n",
      "std         3.464102\n",
      "min      1949.000000\n",
      "25%      1951.750000\n",
      "50%      1954.500000\n",
      "75%      1957.250000\n",
      "max      1960.000000\n",
      "Name: year, dtype: float64\n",
      "Value counts columna year\n",
      " 1960    12\n",
      "1959    12\n",
      "1958    12\n",
      "1957    12\n",
      "1956    12\n",
      "1955    12\n",
      "1954    12\n",
      "1953    12\n",
      "1952    12\n",
      "1951    12\n",
      "1950    12\n",
      "1949    12\n",
      "Name: year, dtype: int64\n",
      "Primeras 15 filas\n",
      "     year      month  passengers\n",
      "0   1949    January         112\n",
      "1   1949   February         118\n",
      "2   1949      March         132\n",
      "3   1949      April         129\n",
      "4   1949        May         121\n",
      "5   1949       June         135\n",
      "6   1949       July         148\n",
      "7   1949     August         148\n",
      "8   1949  September         136\n",
      "9   1949    October         119\n",
      "10  1949   November         104\n",
      "11  1949   December         118\n",
      "12  1950    January         115\n",
      "13  1950   February         126\n",
      "14  1950      March         141\n",
      "Ultimas 15 filas\n",
      "      year      month  passengers\n",
      "129  1959    October         407\n",
      "130  1959   November         362\n",
      "131  1959   December         405\n",
      "132  1960    January         417\n",
      "133  1960   February         391\n",
      "134  1960      March         419\n",
      "135  1960      April         461\n",
      "136  1960        May         472\n",
      "137  1960       June         535\n",
      "138  1960       July         622\n",
      "139  1960     August         606\n",
      "140  1960  September         508\n",
      "141  1960    October         461\n",
      "142  1960   November         390\n",
      "143  1960   December         432\n",
      "La media de la cantidad de pasajeros es: 280.2986111111111\n",
      "La mediana de la cantidad de pasajeros es: 265.5\n",
      "La desviación estandar de la cantidad de pasajeros es: 119.54904153277148\n",
      "La media de las primeras 15 observaciones de cantidad de pasajeros es: 126.8\n",
      "La mediana de las primeras 15 observaciones de cantidad de pasajeros es: 126.0\n",
      "La desviación estandar de las primeras 15 observaciones de cantidad de pasajeros es: 12.681745410891462\n",
      "La media de las ultimas 15 observaciones de cantidad de pasajeros es: 459.2\n",
      "La mediana de las ultimas 15 observaciones de cantidad de pasajeros es: 432.0\n",
      "La desviación estandar de las ultimas 15 observaciones de cantidad de pasajeros es: 75.29426715671431\n",
      "El análisis previo da cuenta sobre el aumento en la cantidad de pasajeros en el tiempo\n"
     ]
    }
   ],
   "source": [
    "import pandas as pd\n",
    "import numpy as np\n",
    "df = pd.read_csv('flights.csv')\n",
    "df.shape\n",
    "print(\"Primeras 5 observaciones\\n\", df[:5])\n",
    "print(\"Ultimas 5 observacionesn\\n\", df[df.shape[0]-5:])\n",
    "print(\"Describe columna year\\n\", df['year'].describe())\n",
    "print(\"Value counts columna year\\n\", df['year'].value_counts())\n",
    "primeras15 = df[:15]\n",
    "print(\"Primeras 15 filas\\n\", primeras15)\n",
    "ultimas15 = df[df.shape[0]-15:]\n",
    "print(\"Ultimas 15 filas\\n\", ultimas15)\n",
    "print(\"La media de la cantidad de pasajeros es: {}\".format(np.mean(df['passengers'])))\n",
    "print(\"La mediana de la cantidad de pasajeros es: {}\".format(np.median(df['passengers'])))\n",
    "print(\"La desviación estandar de la cantidad de pasajeros es: {}\".format(np.std(df['passengers'])))\n",
    "print(\"La media de las primeras 15 observaciones de cantidad de pasajeros es: {}\".format(np.mean(df['passengers'][:15])))\n",
    "print(\"La mediana de las primeras 15 observaciones de cantidad de pasajeros es: {}\".format(np.median(df['passengers'][:15])))\n",
    "print(\"La desviación estandar de las primeras 15 observaciones de cantidad de pasajeros es: {}\".format(np.std(df['passengers'][:15])))\n",
    "print(\"La media de las ultimas 15 observaciones de cantidad de pasajeros es: {}\".format(np.mean(df['passengers'][df.shape[0]-15:])))\n",
    "print(\"La mediana de las ultimas 15 observaciones de cantidad de pasajeros es: {}\".format(np.median(df['passengers'][df.shape[0]-15:])))\n",
    "print(\"La desviación estandar de las ultimas 15 observaciones de cantidad de pasajeros es: {}\".format(np.std(df['passengers'][df.shape[0]-15:])))\n",
    "print(\"El análisis previo da cuenta sobre el aumento en la cantidad de pasajeros en el tiempo\")"
   ]
  },
  {
   "cell_type": "code",
   "execution_count": null,
   "metadata": {},
   "outputs": [],
   "source": []
  }
 ],
 "metadata": {
  "kernelspec": {
   "display_name": "Python 3",
   "language": "python",
   "name": "python3"
  },
  "language_info": {
   "codemirror_mode": {
    "name": "ipython",
    "version": 3
   },
   "file_extension": ".py",
   "mimetype": "text/x-python",
   "name": "python",
   "nbconvert_exporter": "python",
   "pygments_lexer": "ipython3",
   "version": "3.7.3"
  }
 },
 "nbformat": 4,
 "nbformat_minor": 2
}
