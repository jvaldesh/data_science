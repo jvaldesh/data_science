{
 "cells": [
  {
   "cell_type": "markdown",
   "metadata": {},
   "source": [
    "# Desafío - Gráficos"
   ]
  },
  {
   "cell_type": "markdown",
   "metadata": {},
   "source": [
    "## Desafío 1. Genere una submuestra de casos"
   ]
  },
  {
   "cell_type": "code",
   "execution_count": 18,
   "metadata": {},
   "outputs": [
    {
     "data": {
      "text/html": [
       "<div>\n",
       "<style scoped>\n",
       "    .dataframe tbody tr th:only-of-type {\n",
       "        vertical-align: middle;\n",
       "    }\n",
       "\n",
       "    .dataframe tbody tr th {\n",
       "        vertical-align: top;\n",
       "    }\n",
       "\n",
       "    .dataframe thead th {\n",
       "        text-align: right;\n",
       "    }\n",
       "</style>\n",
       "<table border=\"1\" class=\"dataframe\">\n",
       "  <thead>\n",
       "    <tr style=\"text-align: right;\">\n",
       "      <th></th>\n",
       "      <th>undp_hdi</th>\n",
       "      <th>ccodealp</th>\n",
       "      <th>ht_region</th>\n",
       "      <th>gle_cgdpc</th>\n",
       "      <th>imf_pop</th>\n",
       "      <th>wef_imort</th>\n",
       "      <th>who_alc2000</th>\n",
       "      <th>who_tobt</th>\n",
       "      <th>wdi_exph</th>\n",
       "    </tr>\n",
       "  </thead>\n",
       "  <tbody>\n",
       "    <tr>\n",
       "      <th>64</th>\n",
       "      <td>0.924</td>\n",
       "      <td>DEU</td>\n",
       "      <td>WesternDem</td>\n",
       "      <td>39486.6990</td>\n",
       "      <td>80.983002</td>\n",
       "      <td>3.400000</td>\n",
       "      <td>11.03</td>\n",
       "      <td>30.700001</td>\n",
       "      <td>11.297001</td>\n",
       "    </tr>\n",
       "    <tr>\n",
       "      <th>83</th>\n",
       "      <td>0.466</td>\n",
       "      <td>CIV</td>\n",
       "      <td>SubSaharian</td>\n",
       "      <td>1354.2900</td>\n",
       "      <td>22.524000</td>\n",
       "      <td>76.199997</td>\n",
       "      <td>3.15</td>\n",
       "      <td>NaN</td>\n",
       "      <td>5.716274</td>\n",
       "    </tr>\n",
       "    <tr>\n",
       "      <th>98</th>\n",
       "      <td>0.719</td>\n",
       "      <td>LBY</td>\n",
       "      <td>NorthAfrica</td>\n",
       "      <td>4102.8398</td>\n",
       "      <td>6.266000</td>\n",
       "      <td>13.200000</td>\n",
       "      <td>0.00</td>\n",
       "      <td>NaN</td>\n",
       "      <td>4.968935</td>\n",
       "    </tr>\n",
       "    <tr>\n",
       "      <th>58</th>\n",
       "      <td>0.893</td>\n",
       "      <td>FIN</td>\n",
       "      <td>WesternDem</td>\n",
       "      <td>36958.2110</td>\n",
       "      <td>5.427000</td>\n",
       "      <td>2.400000</td>\n",
       "      <td>8.80</td>\n",
       "      <td>21.799999</td>\n",
       "      <td>9.679909</td>\n",
       "    </tr>\n",
       "    <tr>\n",
       "      <th>81</th>\n",
       "      <td>0.898</td>\n",
       "      <td>ISR</td>\n",
       "      <td>NorthAfrica</td>\n",
       "      <td>25926.2500</td>\n",
       "      <td>8.212000</td>\n",
       "      <td>3.300000</td>\n",
       "      <td>2.62</td>\n",
       "      <td>30.400000</td>\n",
       "      <td>7.808308</td>\n",
       "    </tr>\n",
       "  </tbody>\n",
       "</table>\n",
       "</div>"
      ],
      "text/plain": [
       "    undp_hdi ccodealp    ht_region   gle_cgdpc    imf_pop  wef_imort  \\\n",
       "64     0.924      DEU   WesternDem  39486.6990  80.983002   3.400000   \n",
       "83     0.466      CIV  SubSaharian   1354.2900  22.524000  76.199997   \n",
       "98     0.719      LBY  NorthAfrica   4102.8398   6.266000  13.200000   \n",
       "58     0.893      FIN   WesternDem  36958.2110   5.427000   2.400000   \n",
       "81     0.898      ISR  NorthAfrica  25926.2500   8.212000   3.300000   \n",
       "\n",
       "    who_alc2000   who_tobt   wdi_exph  \n",
       "64        11.03  30.700001  11.297001  \n",
       "83         3.15        NaN   5.716274  \n",
       "98         0.00        NaN   4.968935  \n",
       "58         8.80  21.799999   9.679909  \n",
       "81         2.62  30.400000   7.808308  "
      ]
     },
     "execution_count": 18,
     "metadata": {},
     "output_type": "execute_result"
    }
   ],
   "source": [
    "import pandas as pd\n",
    "df = pd.read_csv('qog_std_cs_jan18.csv')\n",
    "df_sample = df.sample(frac=0.5, random_state=5526)\n",
    "df_sub = df_sample.loc[:, ['undp_hdi', 'ccodealp', 'ht_region', 'gle_cgdpc', 'imf_pop', 'wef_imort', 'who_alc2000', 'who_tobt', 'wdi_exph']]\n",
    "df_sub['ht_region'] = df_sub['ht_region'].replace([1, 2, 3, 4, 5, 6, 7, 8, 9, 10], ['EastEurope', 'LatAm', 'NorthAfrica', 'SubSaharian', 'WesternDem', 'EastAsia', 'SouthEastAsia', 'SouthAsia', 'Pacific', 'Caribbean'])\n",
    "df_sub.head()"
   ]
  },
  {
   "cell_type": "markdown",
   "metadata": {},
   "source": [
    "## Desafío 2. Genere una función que ingrese su objeto y devuelva:"
   ]
  },
  {
   "cell_type": "code",
   "execution_count": 34,
   "metadata": {},
   "outputs": [
    {
     "ename": "TypeError",
     "evalue": "list indices must be integers or slices, not str",
     "output_type": "error",
     "traceback": [
      "\u001b[0;31m---------------------------------------------------------------------------\u001b[0m",
      "\u001b[0;31mTypeError\u001b[0m                                 Traceback (most recent call last)",
      "\u001b[0;32m<ipython-input-34-18fcddda6bae>\u001b[0m in \u001b[0;36m<module>\u001b[0;34m\u001b[0m\n\u001b[1;32m      3\u001b[0m     \u001b[0;32mif\u001b[0m \u001b[0mserie\u001b[0m\u001b[0;34m.\u001b[0m\u001b[0mdtype\u001b[0m \u001b[0;34m==\u001b[0m \u001b[0;34m'float64'\u001b[0m\u001b[0;34m:\u001b[0m\u001b[0;34m\u001b[0m\u001b[0;34m\u001b[0m\u001b[0m\n\u001b[1;32m      4\u001b[0m         \u001b[0;31m# columna es continua, calcula medidas descriptivas\u001b[0m\u001b[0;34m\u001b[0m\u001b[0;34m\u001b[0m\u001b[0;34m\u001b[0m\u001b[0m\n\u001b[0;32m----> 5\u001b[0;31m         \u001b[0mmedidas_descriptivas\u001b[0m\u001b[0;34m[\u001b[0m\u001b[0mcolumn\u001b[0m\u001b[0;34m]\u001b[0m \u001b[0;34m=\u001b[0m \u001b[0mserie\u001b[0m\u001b[0;34m.\u001b[0m\u001b[0mdescribe\u001b[0m\u001b[0;34m(\u001b[0m\u001b[0;34m)\u001b[0m\u001b[0;34m\u001b[0m\u001b[0;34m\u001b[0m\u001b[0m\n\u001b[0m\u001b[1;32m      6\u001b[0m     \u001b[0;32melse\u001b[0m\u001b[0;34m:\u001b[0m\u001b[0;34m\u001b[0m\u001b[0;34m\u001b[0m\u001b[0m\n\u001b[1;32m      7\u001b[0m         \u001b[0;31m# columna es discreta, calcula frecuencia\u001b[0m\u001b[0;34m\u001b[0m\u001b[0;34m\u001b[0m\u001b[0;34m\u001b[0m\u001b[0m\n",
      "\u001b[0;31mTypeError\u001b[0m: list indices must be integers or slices, not str"
     ]
    }
   ],
   "source": [
    "medidas_descriptivas = ()\n",
    "for column, serie in df_sub.iteritems():\n",
    "    if serie.dtype == 'float64':\n",
    "        # columna es continua, calcula medidas descriptivas\n",
    "        medidas_descriptivas[column] = serie.describe()\n",
    "    else:\n",
    "        # columna es discreta, calcula frecuencia\n",
    "        print(serie.value_counts())\n",
    "        \n",
    "medidas_descriptivas"
   ]
  },
  {
   "cell_type": "code",
   "execution_count": null,
   "metadata": {},
   "outputs": [],
   "source": []
  }
 ],
 "metadata": {
  "kernelspec": {
   "display_name": "Python 3",
   "language": "python",
   "name": "python3"
  },
  "language_info": {
   "codemirror_mode": {
    "name": "ipython",
    "version": 3
   },
   "file_extension": ".py",
   "mimetype": "text/x-python",
   "name": "python",
   "nbconvert_exporter": "python",
   "pygments_lexer": "ipython3",
   "version": "3.7.3"
  }
 },
 "nbformat": 4,
 "nbformat_minor": 2
}
