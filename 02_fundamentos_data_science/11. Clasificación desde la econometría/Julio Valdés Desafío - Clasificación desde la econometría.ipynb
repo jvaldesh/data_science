{
 "cells": [
  {
   "cell_type": "markdown",
   "metadata": {},
   "source": [
    "## Desafío - Clasificación desde la econometría\n",
    "\n",
    "\n",
    "<br>\n",
    "<br>\n",
    "\n",
    "Nombre: Julio Valdés\n",
    "\n",
    "Profesor: Gabriel Tamayo\n",
    "\n",
    "Generación: G5\n",
    "\n",
    "\n",
    "* Para poder realizar esta actividad debes haber revisado la lectura y videos correspondiente a la unidad.\n",
    "* Crea una carpeta de trabajo y guarda todos los archivos correspondientes (notebook y csv).\n",
    "* Una vez terminado el desafío, comprime la carpeta y sube el .zip\n",
    "\n",
    "### Descripción\n",
    "\n",
    "\n",
    "En esta sesión trabajaremos con:\n",
    "* sbp : Presión Sanguínea Sistólica.\n",
    "* tobacco : Promedio tabaco consumido por día.\n",
    "* ldl : Lipoproteína de baja densidad.\n",
    "* adiposity : Adiposidad.\n",
    "* famhist : Antecedentes familiares de enfermedades cardiácas. (Binaria)\n",
    "* types : Personalidad tipo A\n",
    "* obesity : Obesidad.\n",
    "* alcohol : Consumo actual de alcohol.\n",
    "* age : edad.\n",
    "* chd : Enfermedad coronaria. (dummy)\n"
   ]
  },
  {
   "cell_type": "markdown",
   "metadata": {},
   "source": [
    "### Desafío 1: Preparar el ambiente de trabajo\n",
    "\n",
    "* Importe las librerías básicas para el análisis de datos.\n",
    "* Incluya los import base de statsmodels .\n",
    "* Importe la base de datos southafricanheart.csv  y elimine la columna 'Unnamed: 0'"
   ]
  },
  {
   "cell_type": "code",
   "execution_count": 76,
   "metadata": {},
   "outputs": [
    {
     "data": {
      "text/html": [
       "<div>\n",
       "<style scoped>\n",
       "    .dataframe tbody tr th:only-of-type {\n",
       "        vertical-align: middle;\n",
       "    }\n",
       "\n",
       "    .dataframe tbody tr th {\n",
       "        vertical-align: top;\n",
       "    }\n",
       "\n",
       "    .dataframe thead th {\n",
       "        text-align: right;\n",
       "    }\n",
       "</style>\n",
       "<table border=\"1\" class=\"dataframe\">\n",
       "  <thead>\n",
       "    <tr style=\"text-align: right;\">\n",
       "      <th></th>\n",
       "      <th>sbp</th>\n",
       "      <th>tobacco</th>\n",
       "      <th>ldl</th>\n",
       "      <th>adiposity</th>\n",
       "      <th>famhist</th>\n",
       "      <th>typea</th>\n",
       "      <th>obesity</th>\n",
       "      <th>alcohol</th>\n",
       "      <th>age</th>\n",
       "      <th>chd</th>\n",
       "    </tr>\n",
       "  </thead>\n",
       "  <tbody>\n",
       "    <tr>\n",
       "      <th>0</th>\n",
       "      <td>160</td>\n",
       "      <td>12.00</td>\n",
       "      <td>5.73</td>\n",
       "      <td>23.11</td>\n",
       "      <td>Present</td>\n",
       "      <td>49</td>\n",
       "      <td>25.30</td>\n",
       "      <td>97.20</td>\n",
       "      <td>52</td>\n",
       "      <td>1</td>\n",
       "    </tr>\n",
       "    <tr>\n",
       "      <th>1</th>\n",
       "      <td>144</td>\n",
       "      <td>0.01</td>\n",
       "      <td>4.41</td>\n",
       "      <td>28.61</td>\n",
       "      <td>Absent</td>\n",
       "      <td>55</td>\n",
       "      <td>28.87</td>\n",
       "      <td>2.06</td>\n",
       "      <td>63</td>\n",
       "      <td>1</td>\n",
       "    </tr>\n",
       "    <tr>\n",
       "      <th>2</th>\n",
       "      <td>118</td>\n",
       "      <td>0.08</td>\n",
       "      <td>3.48</td>\n",
       "      <td>32.28</td>\n",
       "      <td>Present</td>\n",
       "      <td>52</td>\n",
       "      <td>29.14</td>\n",
       "      <td>3.81</td>\n",
       "      <td>46</td>\n",
       "      <td>0</td>\n",
       "    </tr>\n",
       "    <tr>\n",
       "      <th>3</th>\n",
       "      <td>170</td>\n",
       "      <td>7.50</td>\n",
       "      <td>6.41</td>\n",
       "      <td>38.03</td>\n",
       "      <td>Present</td>\n",
       "      <td>51</td>\n",
       "      <td>31.99</td>\n",
       "      <td>24.26</td>\n",
       "      <td>58</td>\n",
       "      <td>1</td>\n",
       "    </tr>\n",
       "    <tr>\n",
       "      <th>4</th>\n",
       "      <td>134</td>\n",
       "      <td>13.60</td>\n",
       "      <td>3.50</td>\n",
       "      <td>27.78</td>\n",
       "      <td>Present</td>\n",
       "      <td>60</td>\n",
       "      <td>25.99</td>\n",
       "      <td>57.34</td>\n",
       "      <td>49</td>\n",
       "      <td>1</td>\n",
       "    </tr>\n",
       "    <tr>\n",
       "      <th>5</th>\n",
       "      <td>132</td>\n",
       "      <td>6.20</td>\n",
       "      <td>6.47</td>\n",
       "      <td>36.21</td>\n",
       "      <td>Present</td>\n",
       "      <td>62</td>\n",
       "      <td>30.77</td>\n",
       "      <td>14.14</td>\n",
       "      <td>45</td>\n",
       "      <td>0</td>\n",
       "    </tr>\n",
       "    <tr>\n",
       "      <th>6</th>\n",
       "      <td>142</td>\n",
       "      <td>4.05</td>\n",
       "      <td>3.38</td>\n",
       "      <td>16.20</td>\n",
       "      <td>Absent</td>\n",
       "      <td>59</td>\n",
       "      <td>20.81</td>\n",
       "      <td>2.62</td>\n",
       "      <td>38</td>\n",
       "      <td>0</td>\n",
       "    </tr>\n",
       "    <tr>\n",
       "      <th>7</th>\n",
       "      <td>114</td>\n",
       "      <td>4.08</td>\n",
       "      <td>4.59</td>\n",
       "      <td>14.60</td>\n",
       "      <td>Present</td>\n",
       "      <td>62</td>\n",
       "      <td>23.11</td>\n",
       "      <td>6.72</td>\n",
       "      <td>58</td>\n",
       "      <td>1</td>\n",
       "    </tr>\n",
       "    <tr>\n",
       "      <th>8</th>\n",
       "      <td>114</td>\n",
       "      <td>0.00</td>\n",
       "      <td>3.83</td>\n",
       "      <td>19.40</td>\n",
       "      <td>Present</td>\n",
       "      <td>49</td>\n",
       "      <td>24.86</td>\n",
       "      <td>2.49</td>\n",
       "      <td>29</td>\n",
       "      <td>0</td>\n",
       "    </tr>\n",
       "    <tr>\n",
       "      <th>9</th>\n",
       "      <td>132</td>\n",
       "      <td>0.00</td>\n",
       "      <td>5.80</td>\n",
       "      <td>30.96</td>\n",
       "      <td>Present</td>\n",
       "      <td>69</td>\n",
       "      <td>30.11</td>\n",
       "      <td>0.00</td>\n",
       "      <td>53</td>\n",
       "      <td>1</td>\n",
       "    </tr>\n",
       "  </tbody>\n",
       "</table>\n",
       "</div>"
      ],
      "text/plain": [
       "   sbp  tobacco   ldl  adiposity  famhist  typea  obesity  alcohol  age  chd\n",
       "0  160    12.00  5.73      23.11  Present     49    25.30    97.20   52    1\n",
       "1  144     0.01  4.41      28.61   Absent     55    28.87     2.06   63    1\n",
       "2  118     0.08  3.48      32.28  Present     52    29.14     3.81   46    0\n",
       "3  170     7.50  6.41      38.03  Present     51    31.99    24.26   58    1\n",
       "4  134    13.60  3.50      27.78  Present     60    25.99    57.34   49    1\n",
       "5  132     6.20  6.47      36.21  Present     62    30.77    14.14   45    0\n",
       "6  142     4.05  3.38      16.20   Absent     59    20.81     2.62   38    0\n",
       "7  114     4.08  4.59      14.60  Present     62    23.11     6.72   58    1\n",
       "8  114     0.00  3.83      19.40  Present     49    24.86     2.49   29    0\n",
       "9  132     0.00  5.80      30.96  Present     69    30.11     0.00   53    1"
      ]
     },
     "execution_count": 76,
     "metadata": {},
     "output_type": "execute_result"
    }
   ],
   "source": [
    "import pandas as pd\n",
    "import numpy as np\n",
    "import statsmodels.api as sm\n",
    "import statsmodels.formula.api as smf\n",
    "import seaborn as sns\n",
    "import matplotlib.pyplot as plt\n",
    "\n",
    "plt.style.use('seaborn')\n",
    "plt.rcParams['figure.figsize'] = (10, 6)\n",
    "\n",
    "df = pd.read_csv('southafricanheart.csv').drop(\"Unnamed: 0\", axis=1)\n",
    "df.head(10)"
   ]
  },
  {
   "cell_type": "markdown",
   "metadata": {},
   "source": [
    "### Desafío 2\n",
    "A continuación se presenta el siguiente modelo a estimar:\n",
    "\n",
    "$$\\log\\left(\\frac{p({ chd=1})}{1 - p({ chd=1})}\\right)={{\\beta }_{0} + {\\beta }_{1} \\cdot {famhist}}$$\n",
    "\n",
    "\n",
    "Para ello ejecute los siguientes pasos:\n",
    "\n",
    "1. Recodifique famhist a dummy, asignando 1 a la categoría minoritaria.\n",
    "2. Utilice smf.logit para estimar el modelo.\n",
    "3. Implemente una función inverse_logit que realize el mapeo de log-odds a probabilidad.\n",
    "4. Con el modelo estimado, responda lo siguiente:\n",
    "    * ¿Cuál es la probabilidad de un individuo con antecedentes familiares de tener una enfermedad coronaria?\n",
    "    * ¿Cuál es la probabilidad de un individuo sin antecedentes familiares de tener una enfermedad coronaria?\n",
    "    * ¿Cuál es la diferencia en la probabilidad entre un individuo con antecedentes y otro sin antecedentes?\n",
    "\n",
    "Replique el modelo con smf.ols y comente las similitudes entre los coeficientes estimados.\n",
    "\n",
    "grafique ambas curvas con lmplot\n",
    "\n"
   ]
  },
  {
   "cell_type": "code",
   "execution_count": 77,
   "metadata": {
    "scrolled": true
   },
   "outputs": [
    {
     "name": "stdout",
     "output_type": "stream",
     "text": [
      "Optimization terminated successfully.\n",
      "         Current function value: 0.608111\n",
      "         Iterations 5\n",
      "                           Logit Regression Results                           \n",
      "==============================================================================\n",
      "Dep. Variable:                    chd   No. Observations:                  462\n",
      "Model:                          Logit   Df Residuals:                      460\n",
      "Method:                           MLE   Df Model:                            1\n",
      "Date:                Thu, 11 Jul 2019   Pseudo R-squ.:                 0.05740\n",
      "Time:                        21:15:30   Log-Likelihood:                -280.95\n",
      "converged:                       True   LL-Null:                       -298.05\n",
      "                                        LLR p-value:                 4.937e-09\n",
      "======================================================================================\n",
      "                         coef    std err          z      P>|z|      [0.025      0.975]\n",
      "--------------------------------------------------------------------------------------\n",
      "Intercept             -1.1690      0.143     -8.169      0.000      -1.449      -0.889\n",
      "is_famhist_Present     1.1690      0.203      5.751      0.000       0.771       1.567\n",
      "======================================================================================\n",
      "La probabilidad de un individuo con antecedentes familiares de tener una enfermedad coronaria es de 0.5\n",
      "La probabilidad de un individuo sin antecedentes familiares de tener una enfermedad coronaria es de 0.237\n",
      "La diferencia en la probabilidad entre un individuo con antecedentes y otro sin antecedentes es de -0.263\n"
     ]
    }
   ],
   "source": [
    "### 1\n",
    "df['is_famhist_Present'] = np.where(df['famhist'] == 'Present', 1, 0)\n",
    "\n",
    "### 2\n",
    "m1_logit = smf.logit('chd ~ is_famhist_Present', df).fit()\n",
    "print(m1_logit.summary())\n",
    "\n",
    "### 3\n",
    "def invlogit(x):\n",
    "    return 1 / (1 + np.exp(-x))\n",
    "\n",
    "### 4\n",
    "estimate_y1 = m1_logit.params['Intercept'] + m1_logit.params['is_famhist_Present'] * 1\n",
    "estimate_y2 = m1_logit.params['Intercept']\n",
    "pr1 = invlogit(estimate_y1)\n",
    "pr2 = invlogit(estimate_y2)\n",
    "print(\"La probabilidad de un individuo con antecedentes familiares de tener una enfermedad coronaria es de {}\".format(round(pr1, 3)))\n",
    "print(\"La probabilidad de un individuo sin antecedentes familiares de tener una enfermedad coronaria es de {}\".format(round(pr2, 3)))\n",
    "print(\"La diferencia en la probabilidad entre un individuo con antecedentes y otro sin antecedentes es de {}\".format(round(pr2-pr1, 3)))"
   ]
  },
  {
   "cell_type": "code",
   "execution_count": 78,
   "metadata": {},
   "outputs": [
    {
     "name": "stdout",
     "output_type": "stream",
     "text": [
      "                            OLS Regression Results                            \n",
      "==============================================================================\n",
      "Dep. Variable:                    chd   R-squared:                       0.074\n",
      "Model:                            OLS   Adj. R-squared:                  0.072\n",
      "Method:                 Least Squares   F-statistic:                     36.86\n",
      "Date:                Thu, 11 Jul 2019   Prob (F-statistic):           2.66e-09\n",
      "Time:                        21:15:35   Log-Likelihood:                -294.59\n",
      "No. Observations:                 462   AIC:                             593.2\n",
      "Df Residuals:                     460   BIC:                             601.4\n",
      "Df Model:                           1                                         \n",
      "Covariance Type:            nonrobust                                         \n",
      "======================================================================================\n",
      "                         coef    std err          t      P>|t|      [0.025      0.975]\n",
      "--------------------------------------------------------------------------------------\n",
      "Intercept              0.2370      0.028      8.489      0.000       0.182       0.292\n",
      "is_famhist_Present     0.2630      0.043      6.071      0.000       0.178       0.348\n",
      "==============================================================================\n",
      "Omnibus:                      768.898   Durbin-Watson:                   1.961\n",
      "Prob(Omnibus):                  0.000   Jarque-Bera (JB):               58.778\n",
      "Skew:                           0.579   Prob(JB):                     1.72e-13\n",
      "Kurtosis:                       1.692   Cond. No.                         2.47\n",
      "==============================================================================\n",
      "\n",
      "Warnings:\n",
      "[1] Standard Errors assume that the covariance matrix of the errors is correctly specified.\n"
     ]
    }
   ],
   "source": [
    "m1_ols = smf.ols('chd ~ is_famhist_Present', df).fit()\n",
    "print(m1_ols.summary())"
   ]
  },
  {
   "cell_type": "markdown",
   "metadata": {},
   "source": [
    "#### En la regresión OLS:\n",
    "* La probabilidad de un individuo con antecedentes familiares de tener una enfermedad coronaria es de 0.50 al igual que en la regresión logística \n",
    "* La probabilidad de un individuo sin antecedentes familiares de tener una enfermedad coronaria es de 0.24 al igual que en la regresión logística\n",
    "* La diferencia en la probabilidad entre un individuo con antecedentes y otro sin antecedentes es de 0.26 al igual que en la regresión logística"
   ]
  },
  {
   "cell_type": "code",
   "execution_count": 79,
   "metadata": {},
   "outputs": [
    {
     "data": {
      "text/plain": [
       "<seaborn.axisgrid.FacetGrid at 0x1c1b4c9080>"
      ]
     },
     "execution_count": 79,
     "metadata": {},
     "output_type": "execute_result"
    },
    {
     "data": {
      "text/plain": [
       "<Figure size 720x432 with 0 Axes>"
      ]
     },
     "metadata": {},
     "output_type": "display_data"
    },
    {
     "data": {
      "image/png": "[encoded data removed]",
      "text/plain": [
       "<Figure size 360x360 with 1 Axes>"
      ]
     },
     "metadata": {},
     "output_type": "display_data"
    },
    {
     "data": {
      "text/plain": [
       "<Figure size 720x432 with 0 Axes>"
      ]
     },
     "metadata": {},
     "output_type": "display_data"
    },
    {
     "data": {
      "image/png": "[encoded data removed]",
      "text/plain": [
       "<Figure size 360x360 with 1 Axes>"
      ]
     },
     "metadata": {},
     "output_type": "display_data"
    }
   ],
   "source": [
    "plt.figure()\n",
    "sns.lmplot('is_famhist_Present','chd', df, \n",
    "           line_kws={'color':'tomato'}, scatter_kws={'color': 'grey', 'alpha': .5})\n",
    "\n",
    "plt.figure()\n",
    "sns.lmplot('is_famhist_Present', 'chd', df, logistic=True, \n",
    "           line_kws={'color':'tomato', 'lw': 3}, scatter_kws={'color': 'lightgrey', 'alpha': .5})"
   ]
  },
  {
   "cell_type": "markdown",
   "metadata": {},
   "source": [
    "### Desafío 3\n",
    "\n",
    "Implemente un modelo con la siguiente forma\n",
    "\n",
    "$$\\log\\left(\\frac{p({ chd=1})}{1 - p({ chd=1})}\\right)={{\\beta }_{0} + \\sum_{j=0}^N {\\beta }_{j} \\cdot {X}}$$\n",
    "\n",
    "\n",
    "\n",
    "1. Depure el modelo manteniendo las variables con significancia estadística al 95%.\n",
    "2. Reporte de forma sucinta el efecto de las variables en el log-odds de tener una enfermedad coronaria.\n"
   ]
  },
  {
   "cell_type": "code",
   "execution_count": 80,
   "metadata": {},
   "outputs": [
    {
     "name": "stdout",
     "output_type": "stream",
     "text": [
      "Optimization terminated successfully.\n",
      "         Current function value: 0.510974\n",
      "         Iterations 6\n",
      "                           Logit Regression Results                           \n",
      "==============================================================================\n",
      "Dep. Variable:                    chd   No. Observations:                  462\n",
      "Model:                          Logit   Df Residuals:                      452\n",
      "Method:                           MLE   Df Model:                            9\n",
      "Date:                Thu, 11 Jul 2019   Pseudo R-squ.:                  0.2080\n",
      "Time:                        21:15:46   Log-Likelihood:                -236.07\n",
      "converged:                       True   LL-Null:                       -298.05\n",
      "                                        LLR p-value:                 2.055e-22\n",
      "======================================================================================\n",
      "                         coef    std err          z      P>|z|      [0.025      0.975]\n",
      "--------------------------------------------------------------------------------------\n",
      "Intercept             -6.1507      1.308     -4.701      0.000      -8.715      -3.587\n",
      "sbp                    0.0065      0.006      1.135      0.256      -0.005       0.018\n",
      "tobacco                0.0794      0.027      2.984      0.003       0.027       0.132\n",
      "ldl                    0.1739      0.060      2.915      0.004       0.057       0.291\n",
      "adiposity              0.0186      0.029      0.635      0.526      -0.039       0.076\n",
      "is_famhist_Present     0.9254      0.228      4.061      0.000       0.479       1.372\n",
      "typea                  0.0396      0.012      3.214      0.001       0.015       0.064\n",
      "obesity               -0.0629      0.044     -1.422      0.155      -0.150       0.024\n",
      "alcohol                0.0001      0.004      0.027      0.978      -0.009       0.009\n",
      "age                    0.0452      0.012      3.728      0.000       0.021       0.069\n",
      "======================================================================================\n",
      "Optimization terminated successfully.\n",
      "         Current function value: 0.514811\n",
      "         Iterations 6\n",
      "                           Logit Regression Results                           \n",
      "==============================================================================\n",
      "Dep. Variable:                    chd   No. Observations:                  462\n",
      "Model:                          Logit   Df Residuals:                      456\n",
      "Method:                           MLE   Df Model:                            5\n",
      "Date:                Thu, 11 Jul 2019   Pseudo R-squ.:                  0.2020\n",
      "Time:                        21:15:46   Log-Likelihood:                -237.84\n",
      "converged:                       True   LL-Null:                       -298.05\n",
      "                                        LLR p-value:                 2.554e-24\n",
      "======================================================================================\n",
      "                         coef    std err          z      P>|z|      [0.025      0.975]\n",
      "--------------------------------------------------------------------------------------\n",
      "Intercept             -6.4464      0.921     -7.000      0.000      -8.251      -4.642\n",
      "tobacco                0.0804      0.026      3.106      0.002       0.030       0.131\n",
      "ldl                    0.1620      0.055      2.947      0.003       0.054       0.270\n",
      "is_famhist_Present     0.9082      0.226      4.023      0.000       0.466       1.351\n",
      "typea                  0.0371      0.012      3.051      0.002       0.013       0.061\n",
      "age                    0.0505      0.010      4.944      0.000       0.030       0.070\n",
      "======================================================================================\n"
     ]
    }
   ],
   "source": [
    "m2_logit = smf.logit('chd ~ sbp + tobacco + ldl + adiposity + is_famhist_Present + typea + obesity + alcohol + age', df).fit()\n",
    "print(m2_logit.summary())\n",
    "m3_logit = smf.logit('chd ~ tobacco + ldl + is_famhist_Present + typea + age', df).fit()\n",
    "print(m3_logit.summary())"
   ]
  },
  {
   "cell_type": "markdown",
   "metadata": {},
   "source": [
    "#### Los antecedentes familiares de enfermedad cardiaca corresponden a la variable que más impacto tiene en la variable dependiente\n",
    "#### La cantidad de ldl también importa bastante en la variable dependiente"
   ]
  },
  {
   "cell_type": "code",
   "execution_count": null,
   "metadata": {},
   "outputs": [],
   "source": []
  },
  {
   "cell_type": "markdown",
   "metadata": {},
   "source": [
    "### Desafío 4: Estimación de perfiles\n",
    "A partir del modelo depurado, genere las estimaciones en log-odds y posteriormente transfórmelas\n",
    "a probabilidades con inverse_logit . Los perfiles a estimar son los siguientes:\n",
    "* La probabilidad de tener una enfermedad coronaria para un individuo con características similares a la muestra.\n",
    "* La probabilidad de tener una enfemerdad coronaria para un individuo con altos niveles de lipoproteína de baja densidad, manteniendo todas las demás características constantes.\n",
    "* La probabilidad de tener una enfemerdad coronaria para un individuo con bajos niveles de lipoproteína de baja densidad, manteniendo todas las demás características constantes."
   ]
  },
  {
   "cell_type": "code",
   "execution_count": 74,
   "metadata": {},
   "outputs": [],
   "source": [
    "mean = df.mean()"
   ]
  },
  {
   "cell_type": "code",
   "execution_count": 81,
   "metadata": {},
   "outputs": [
    {
     "name": "stdout",
     "output_type": "stream",
     "text": [
      "La probabilidad de tener una enfermedad coronaria para un individuo con características similares a la muestra es de 0.294\n",
      "La probabilidad de tener una enfermedad coronaria para un individuo con altos niveles de lipoproteína de baja densidad, manteniendo todas las demás características constantes 0.698\n",
      "La probabilidad de tener una enfermedad coronaria para un individuo con bajos niveles de lipoproteína de baja densidad, manteniendo todas las demás características constantes 0.184\n"
     ]
    }
   ],
   "source": [
    "estimate_y1 = m3_logit.params['Intercept'] + m3_logit.params['tobacco'] * mean['tobacco'] + m3_logit.params['ldl'] * mean['ldl'] + m3_logit.params['is_famhist_Present'] * mean['is_famhist_Present']  + m3_logit.params['typea'] * mean['typea']  + m3_logit.params['age'] * mean['age']\n",
    "estimate_y2 = m3_logit.params['Intercept'] + m3_logit.params['tobacco'] * mean['tobacco'] + m3_logit.params['ldl'] * df['ldl'].max() + m3_logit.params['is_famhist_Present'] * mean['is_famhist_Present']  + m3_logit.params['typea'] * mean['typea']  + m3_logit.params['age'] * mean['age']\n",
    "estimate_y3 = m3_logit.params['Intercept'] + m3_logit.params['tobacco'] * mean['tobacco'] + m3_logit.params['ldl'] * df['ldl'].min() + m3_logit.params['is_famhist_Present'] * mean['is_famhist_Present']  + m3_logit.params['typea'] * mean['typea']  + m3_logit.params['age'] * mean['age']\n",
    "pr1 = invlogit(estimate_y1)\n",
    "pr2 = invlogit(estimate_y2)\n",
    "pr3 = invlogit(estimate_y3)\n",
    "print(\"La probabilidad de tener una enfermedad coronaria para un individuo con características similares a la muestra es de {}\".format(round(pr1, 3)))\n",
    "print(\"La probabilidad de tener una enfermedad coronaria para un individuo con altos niveles de lipoproteína de baja densidad, manteniendo todas las demás características constantes {}\".format(round(pr2, 3)))\n",
    "print(\"La probabilidad de tener una enfermedad coronaria para un individuo con bajos niveles de lipoproteína de baja densidad, manteniendo todas las demás características constantes {}\".format(round(pr3, 3)))\n"
   ]
  },
  {
   "cell_type": "code",
   "execution_count": null,
   "metadata": {},
   "outputs": [],
   "source": []
  }
 ],
 "metadata": {
  "hide_input": false,
  "kernelspec": {
   "display_name": "Python 3",
   "language": "python",
   "name": "python3"
  },
  "language_info": {
   "codemirror_mode": {
    "name": "ipython",
    "version": 3
   },
   "file_extension": ".py",
   "mimetype": "text/x-python",
   "name": "python",
   "nbconvert_exporter": "python",
   "pygments_lexer": "ipython3",
   "version": "3.7.3"
  }
 },
 "nbformat": 4,
 "nbformat_minor": 2
}
