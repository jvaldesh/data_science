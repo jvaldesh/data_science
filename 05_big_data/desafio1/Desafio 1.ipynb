{
 "cells": [
  {
   "cell_type": "markdown",
   "metadata": {},
   "source": [
    "# Desafío 1 - Conceptos previos a Big Data"
   ]
  },
  {
   "cell_type": "markdown",
   "metadata": {},
   "source": [
    "**Nombre:** Julio Valdés\n",
    "<br>\n",
    "**Generación:** GC"
   ]
  },
  {
   "cell_type": "markdown",
   "metadata": {},
   "source": [
    "### Ejercicio 1: Generación Artifical de Datos\n",
    "Replique la función 10 millones de veces y preservela en un objeto"
   ]
  },
  {
   "cell_type": "code",
   "execution_count": 20,
   "metadata": {},
   "outputs": [
    {
     "data": {
      "text/plain": [
       "[(22, 84000, 'Employed', 'Debt', 'No Churn'),\n",
       " (21, 461000, 'Unemployed', 'No Debt', 'Churn'),\n",
       " (45, 841000, 'Unemployed', 'Debt', 'No Churn'),\n",
       " (41, 865000, 'Unemployed', 'Debt', 'No Churn'),\n",
       " (23, 207000, 'Unemployed', 'No Debt', 'No Churn')]"
      ]
     },
     "execution_count": 20,
     "metadata": {},
     "output_type": "execute_result"
    }
   ],
   "source": [
    "import random\n",
    "\n",
    "def create_random_row():\n",
    "    # simulamos la columna edad\n",
    "    age = random.randint(18, 90)\n",
    "    # simulamos la columna ingreso\n",
    "    income = random.randrange(10000, 1000000, step=1000)\n",
    "    # simulamos la situación laboral\n",
    "    employment_status = random.choice(['Unemployed', 'Employed'])\n",
    "    # simulamos si es que tiene deuda o no\n",
    "    debt_status = random.choice(['Debt', 'No Debt'])\n",
    "    # simulamos si es que se cambió recientemente o no\n",
    "    churn_status = random.choice(['Churn', 'No Churn'])\n",
    "\n",
    "    return age, income, employment_status, debt_status, churn_status\n",
    "\n",
    "data = []\n",
    "[data.append(create_random_row()) for _ in range(10000000)];\n",
    "data[:5]"
   ]
  },
  {
   "cell_type": "markdown",
   "metadata": {},
   "source": [
    "### Ejercicio 2"
   ]
  },
  {
   "cell_type": "code",
   "execution_count": 22,
   "metadata": {},
   "outputs": [],
   "source": [
    "employment_income_looped = 0\n",
    "for i in data:\n",
    "    if i[2] == 'Employed':\n",
    "        employment_income_looped += i[1]"
   ]
  },
  {
   "cell_type": "markdown",
   "metadata": {},
   "source": [
    "#### ¿Qué retornará la variable employment_income_looped ?\n",
    "Retorna la suma de los sueldos de personas 'Employed'"
   ]
  },
  {
   "cell_type": "markdown",
   "metadata": {},
   "source": [
    "#### ¿Cómo sería una implementación del código utilizando map y filter ?"
   ]
  },
  {
   "cell_type": "code",
   "execution_count": 23,
   "metadata": {},
   "outputs": [],
   "source": [
    "income_employed_data = list(map(lambda r: r[1], filter(lambda x: x[2] == 'Employed', data)))\n",
    "income_employed_sum = sum(income_employed_data)"
   ]
  },
  {
   "cell_type": "markdown",
   "metadata": {},
   "source": [
    "#### ¿Son iguales los resultados?"
   ]
  },
  {
   "cell_type": "code",
   "execution_count": 24,
   "metadata": {},
   "outputs": [
    {
     "name": "stdout",
     "output_type": "stream",
     "text": [
      "True\n",
      "Si, son iguales\n"
     ]
    }
   ],
   "source": [
    "print(employment_income_looped == income_employed_sum)\n",
    "print(\"Si, son iguales\")"
   ]
  },
  {
   "cell_type": "markdown",
   "metadata": {},
   "source": [
    "### Ejercicio 3"
   ]
  },
  {
   "cell_type": "code",
   "execution_count": 25,
   "metadata": {},
   "outputs": [],
   "source": [
    "count_debts_looped = 0\n",
    "for i in data:\n",
    "    for j in i:\n",
    "        if j == 'Debt':\n",
    "            count_debts_looped += 1"
   ]
  },
  {
   "cell_type": "markdown",
   "metadata": {},
   "source": [
    "#### ¿Cuál será el retorno de la variable count_debts_looped ?\n",
    "Retorna la cantidad de clientes con deuda"
   ]
  },
  {
   "cell_type": "markdown",
   "metadata": {},
   "source": [
    "#### ¿Cuál es la complejidad algorítmica del código?\n",
    "La complejidad algoritmica es de 'n2'"
   ]
  },
  {
   "cell_type": "markdown",
   "metadata": {},
   "source": [
    "#### ¿Cómo sería una implementación del código utilizando map y filter ?"
   ]
  },
  {
   "cell_type": "code",
   "execution_count": 26,
   "metadata": {},
   "outputs": [],
   "source": [
    "debt_data = list(filter(lambda r: r[3] == 'Debt', data))\n",
    "debt_sum = len(debt_data)"
   ]
  },
  {
   "cell_type": "markdown",
   "metadata": {},
   "source": [
    "#### ¿Son iguales los resultados de ambas operaciones?"
   ]
  },
  {
   "cell_type": "code",
   "execution_count": 27,
   "metadata": {},
   "outputs": [
    {
     "name": "stdout",
     "output_type": "stream",
     "text": [
      "True\n",
      "Si, son iguales\n"
     ]
    }
   ],
   "source": [
    "print(count_debts_looped == debt_sum)\n",
    "print(\"Si, son iguales\")"
   ]
  },
  {
   "cell_type": "markdown",
   "metadata": {},
   "source": [
    "### Ejercicio 4"
   ]
  },
  {
   "cell_type": "code",
   "execution_count": 28,
   "metadata": {},
   "outputs": [],
   "source": [
    "churn_subset, no_churn_subset = [], []\n",
    "for i in data:\n",
    "    for j in i:\n",
    "        if i == 'Churn':\n",
    "            churn_subset.append(i)\n",
    "    for j in i:\n",
    "        if i == 'No Churn':\n",
    "            no_churn.append(i)"
   ]
  },
  {
   "cell_type": "markdown",
   "metadata": {},
   "source": [
    "#### ¿Cuál será el retorno de la variable churn_subset y no_churn_subset ?\n",
    "Las variables permaneceran como listas vacias dado que 'i' nunca tomará los valores 'Churn' y 'No Churn'. Además la variable 'no_churn' no está definida."
   ]
  },
  {
   "cell_type": "markdown",
   "metadata": {},
   "source": [
    "#### ¿Cuál es la complejidad algorítmica del código?\n",
    "La complejidad algoritmica es de 'n3'"
   ]
  },
  {
   "cell_type": "markdown",
   "metadata": {},
   "source": [
    "#### ¿Cómo sería una implementación del código utilizando map y filter ?"
   ]
  },
  {
   "cell_type": "code",
   "execution_count": 29,
   "metadata": {},
   "outputs": [],
   "source": [
    "churn_data = list(map(lambda x: x, filter(lambda r: r[4] == 'Churn', data)))\n",
    "no_churn_data = list(map(lambda x: x, filter(lambda r: r[4] == 'No Churn', data)))"
   ]
  },
  {
   "cell_type": "markdown",
   "metadata": {},
   "source": [
    "#### ¿Son iguales los resultados de ambas operaciones?\n",
    "No son inguales"
   ]
  },
  {
   "cell_type": "markdown",
   "metadata": {},
   "source": [
    "#### Estime la media, la varianza, el mínimo y el máximo de la edad para ambos subsets, sin utilizar librerías externas."
   ]
  },
  {
   "cell_type": "code",
   "execution_count": 30,
   "metadata": {},
   "outputs": [
    {
     "name": "stdout",
     "output_type": "stream",
     "text": [
      "La media de age_churn_data es: 53.98\n",
      "La media de age_no_churn_data es: 54.00\n",
      "La varianza de age_churn_data es: 444.31\n",
      "La varianza de age_no_churn_data es: 443.99\n",
      "El mínimo de age_churn_data es:  18\n",
      "El mínimo de age_no_churn_data es:  18\n",
      "El máximo de age_churn_data es:  90\n",
      "El máximo de age_no_churn_data es:  90\n"
     ]
    }
   ],
   "source": [
    "def get_age(row):\n",
    "    return row[0]\n",
    "\n",
    "def average(data):\n",
    "    return sum(data) / len(data)\n",
    "\n",
    "def variance(data):\n",
    "    avg = average(data)\n",
    "    return sum((x - avg) ** 2 for x in data) / len(data)\n",
    "\n",
    "age_churn_data = list(map(get_age, churn_data))\n",
    "age_no_churn_data = list(map(get_age, no_churn_data))\n",
    "\n",
    "print(\"La media de age_churn_data es: {:.2f}\".format(average(age_churn_data)))\n",
    "print(\"La media de age_no_churn_data es: {:.2f}\".format(average(age_no_churn_data)))\n",
    "\n",
    "print(\"La varianza de age_churn_data es: {:.2f}\".format(variance(age_churn_data)))\n",
    "print(\"La varianza de age_no_churn_data es: {:.2f}\".format(variance(age_no_churn_data)))\n",
    "\n",
    "print(\"El mínimo de age_churn_data es: \", min(age_churn_data))\n",
    "print(\"El mínimo de age_no_churn_data es: \", min(age_no_churn_data))\n",
    "\n",
    "print(\"El máximo de age_churn_data es: \", max(age_churn_data))\n",
    "print(\"El máximo de age_no_churn_data es: \", max(age_no_churn_data))"
   ]
  },
  {
   "cell_type": "markdown",
   "metadata": {},
   "source": [
    "### Ejercicio 5"
   ]
  },
  {
   "cell_type": "code",
   "execution_count": 31,
   "metadata": {},
   "outputs": [
    {
     "name": "stdout",
     "output_type": "stream",
     "text": [
      "Unemployed, Debt, Churn:  1249753\n",
      "Unemployed, No Debt, Churn:  1250111\n",
      "Unemployed, Debt, No Churn:  1250239\n",
      "Unemployed, No Debt, No Churn:  1249159\n",
      "Employed, Debt, Churn:  1249171\n",
      "Employed, No Debt, Churn:  1251021\n",
      "Employed, Debt, No Churn:  1249980\n",
      "Employed, No Debt, No Churn:  1250566\n"
     ]
    }
   ],
   "source": [
    "unemployed_debt_churn = 0\n",
    "unemployed_nodebt_churn = 0\n",
    "unemployed_debt_nochurn = 0\n",
    "unemployed_nodebt_nochurn = 0\n",
    "employed_debt_churn = 0\n",
    "employed_nodebt_churn = 0\n",
    "employed_debt_nochurn = 0\n",
    "employed_nodebt_nochurn = 0\n",
    "for i in data:\n",
    "    if i[2] == 'Unemployed' and i[3] == 'Debt' and i[4] == 'Churn':\n",
    "        unemployed_debt_churn += 1\n",
    "    if i[2] == 'Unemployed' and i[3] == 'No Debt' and i[4] == 'Churn':\n",
    "        unemployed_nodebt_churn += 1\n",
    "    if i[2] == 'Unemployed' and i[3] == 'Debt' and i[4] == 'No Churn':\n",
    "        unemployed_debt_nochurn += 1\n",
    "    if i[2] == 'Unemployed' and i[3] == 'No Debt' and i[4] == 'No Churn':\n",
    "        unemployed_nodebt_nochurn += 1\n",
    "    if i[2] == 'Employed' and i[3] == 'Debt' and i[4] == 'Churn':\n",
    "        employed_debt_churn += 1\n",
    "    if i[2] == 'Employed' and i[3] == 'No Debt' and i[4] == 'Churn':\n",
    "        employed_nodebt_churn += 1\n",
    "    if i[2] == 'Employed' and i[3] == 'Debt' and i[4] == 'No Churn':\n",
    "        employed_debt_nochurn += 1\n",
    "    if i[2] == 'Employed' and i[3] == 'No Debt' and i[4] == 'No Churn':\n",
    "        employed_nodebt_nochurn += 1\n",
    "\n",
    "print(\"Unemployed, Debt, Churn: \", unemployed_debt_churn)\n",
    "print(\"Unemployed, No Debt, Churn: \", unemployed_nodebt_churn)\n",
    "print(\"Unemployed, Debt, No Churn: \", unemployed_debt_nochurn)\n",
    "print(\"Unemployed, No Debt, No Churn: \", unemployed_nodebt_nochurn)\n",
    "print(\"Employed, Debt, Churn: \", employed_debt_churn)\n",
    "print(\"Employed, No Debt, Churn: \", employed_nodebt_churn)\n",
    "print(\"Employed, Debt, No Churn: \", employed_debt_nochurn)\n",
    "print(\"Employed, No Debt, No Churn: \", employed_nodebt_nochurn)"
   ]
  },
  {
   "cell_type": "markdown",
   "metadata": {},
   "source": [
    "#### ¿Cómo sería una implementación utilizando map ?"
   ]
  },
  {
   "cell_type": "code",
   "execution_count": 32,
   "metadata": {},
   "outputs": [
    {
     "name": "stdout",
     "output_type": "stream",
     "text": [
      "('Employed', 'Debt', 'Churn'): 1249171\n",
      "('Employed', 'Debt', 'No Churn'): 1249980\n",
      "('Employed', 'No Debt', 'Churn'): 1251021\n",
      "('Employed', 'No Debt', 'No Churn'): 1250566\n",
      "('Unemployed', 'Debt', 'Churn'): 1249753\n",
      "('Unemployed', 'Debt', 'No Churn'): 1250239\n",
      "('Unemployed', 'No Debt', 'Churn'): 1250111\n",
      "('Unemployed', 'No Debt', 'No Churn'): 1249159\n"
     ]
    }
   ],
   "source": [
    "from collections import Counter\n",
    "data_filtered = list(map(lambda x: (x[2], x[3], x[4]), data))\n",
    "data_counter = Counter(data_filtered)\n",
    "for key, value in sorted(data_counter.items()):\n",
    "    print(\"{}: {}\".format(key, value))"
   ]
  },
  {
   "cell_type": "markdown",
   "metadata": {},
   "source": [
    "#### ¿Son iguales los resultados de ambas operaciones?\n",
    "Si, son iguales."
   ]
  },
  {
   "cell_type": "code",
   "execution_count": null,
   "metadata": {},
   "outputs": [],
   "source": []
  }
 ],
 "metadata": {
  "kernelspec": {
   "display_name": "Python 3",
   "language": "python",
   "name": "python3"
  },
  "language_info": {
   "codemirror_mode": {
    "name": "ipython",
    "version": 3
   },
   "file_extension": ".py",
   "mimetype": "text/x-python",
   "name": "python",
   "nbconvert_exporter": "python",
   "pygments_lexer": "ipython3",
   "version": "3.7.4"
  }
 },
 "nbformat": 4,
 "nbformat_minor": 2
}
