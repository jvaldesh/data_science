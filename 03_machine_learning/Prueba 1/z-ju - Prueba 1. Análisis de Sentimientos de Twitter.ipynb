{
 "cells": [
  {
   "cell_type": "markdown",
   "metadata": {},
   "source": [
    "## Solución Prueba 1. Análisis de Sentimientos de Twitter\n",
    "\n",
    "**Alumnos:** Tania Torres, Sergio Zepeda y Julio Valdés \n",
    "\n",
    "**Nombre grupo:** z-ju\n",
    "\n",
    "**Profesor:** Gabriel Tamayo L.\n",
    "\n",
    "**Generación:** G5\n",
    "\n",
    "### Preliminares\n",
    "#### Descripción del problema y objetivos\n",
    "* El objetivo general de esta prueba es alcanzar el mejor desempeño posible para clasificar si un tweet es positivo o negativo.\n",
    "* El tipo de problema a resolver es de clasificación.\n",
    "* El objetivo de este trabajo es desarrollar un modelo predictivo para obtener la probabilidad que un tweet sea positivo o negativo, en base a las palabras que lo forman.\n",
    "\n",
    "#### Descripción de la solución\n",
    "* Se realizará un análisis exploratorio sobre los datos contenidos en el dataframe, considerando palabras más comunes y distribución de las clases en el vector objetivo.\n",
    "* Se realizará el preprocesamiento y luego la representación de cada oración como un conjunto de características.\n",
    "* Se prepararán el vector objetivo y las matrices de entrenamiento y validación.\n",
    "* Entrenamiento de modelos\n",
    "    * Se implementarán cinco modelos distintos reportando las métricas de desempeño con los conjuntos de datos de entrenamiento y validación, analizando la capacidad de generalización de cada uno de ellos.\n",
    "    * El conjunto de datos de entrenamiento consiste en un 67% y el de validación en un 33% del total de datos.\n",
    "    * Los modelos serán evaluados de acuerdo a las métricas de presicion, recall y f1-score. Además se hará uso de la curva ROC para complementar la evaluación de estos.\n",
    "* Se seleccionarán los dos mejores modelos para serializarlos y entregarlos para evaluación"
   ]
  },
  {
   "cell_type": "markdown",
   "metadata": {},
   "source": [
    "### Aspectos computacionales\n",
    "#### Descripción de librerías y módulos\n",
    "Se usarán las siguientes librerías y módulos por cada etapa de la construcción de los modelos:\n",
    "* ingesta: pandas\n",
    "* preprocesamiento: pandas, numpy\n",
    "* visualización: matplotlib, seaborn\n",
    "* modelación: sklearn\n",
    "* métricas de evaluación: sklearn.metrics"
   ]
  },
  {
   "cell_type": "markdown",
   "metadata": {},
   "source": [
    "### Descripción\n",
    "#### Se prepara el ambiente de trabajo cargando las librerías necesarias, se importa la BD e imprimen las primeras 5 filas a modo de ejemplo"
   ]
  },
  {
   "cell_type": "code",
   "execution_count": 2,
   "metadata": {},
   "outputs": [
    {
     "name": "stderr",
     "output_type": "stream",
     "text": [
      "[nltk_data] Downloading package stopwords to /Users/julio/nltk_data...\n",
      "[nltk_data]   Package stopwords is already up-to-date!\n",
      "[nltk_data] Downloading package wordnet to /Users/julio/nltk_data...\n",
      "[nltk_data]   Package wordnet is already up-to-date!\n"
     ]
    },
    {
     "data": {
      "text/html": [
       "<div>\n",
       "<style scoped>\n",
       "    .dataframe tbody tr th:only-of-type {\n",
       "        vertical-align: middle;\n",
       "    }\n",
       "\n",
       "    .dataframe tbody tr th {\n",
       "        vertical-align: top;\n",
       "    }\n",
       "\n",
       "    .dataframe thead th {\n",
       "        text-align: right;\n",
       "    }\n",
       "</style>\n",
       "<table border=\"1\" class=\"dataframe\">\n",
       "  <thead>\n",
       "    <tr style=\"text-align: right;\">\n",
       "      <th></th>\n",
       "      <th>content</th>\n",
       "      <th>sentiment</th>\n",
       "    </tr>\n",
       "  </thead>\n",
       "  <tbody>\n",
       "    <tr>\n",
       "      <th>0</th>\n",
       "      <td>Happy Mama's day to all mothers</td>\n",
       "      <td>love</td>\n",
       "    </tr>\n",
       "    <tr>\n",
       "      <th>1</th>\n",
       "      <td>@LysdelTellez I am lost. Please help me find a...</td>\n",
       "      <td>worry</td>\n",
       "    </tr>\n",
       "    <tr>\n",
       "      <th>2</th>\n",
       "      <td>@BoomKatt yes yes I AM, networking whore to th...</td>\n",
       "      <td>happiness</td>\n",
       "    </tr>\n",
       "    <tr>\n",
       "      <th>3</th>\n",
       "      <td>you@snapplynn Wish that would have been your t...</td>\n",
       "      <td>neutral</td>\n",
       "    </tr>\n",
       "    <tr>\n",
       "      <th>4</th>\n",
       "      <td>now i am doing the MicroEconomics project  iha...</td>\n",
       "      <td>worry</td>\n",
       "    </tr>\n",
       "  </tbody>\n",
       "</table>\n",
       "</div>"
      ],
      "text/plain": [
       "                                             content  sentiment\n",
       "0                    Happy Mama's day to all mothers       love\n",
       "1  @LysdelTellez I am lost. Please help me find a...      worry\n",
       "2  @BoomKatt yes yes I AM, networking whore to th...  happiness\n",
       "3  you@snapplynn Wish that would have been your t...    neutral\n",
       "4  now i am doing the MicroEconomics project  iha...      worry"
      ]
     },
     "execution_count": 2,
     "metadata": {},
     "output_type": "execute_result"
    }
   ],
   "source": [
    "import numpy as np\n",
    "import pandas as pd\n",
    "import matplotlib.pyplot as plt\n",
    "import seaborn as sns\n",
    "from sklearn.feature_extraction.text import CountVectorizer\n",
    "from sklearn.model_selection import train_test_split, GridSearchCV\n",
    "from sklearn.pipeline import Pipeline\n",
    "from sklearn.metrics import classification_report\n",
    "from sklearn.preprocessing import LabelEncoder\n",
    "from sklearn.naive_bayes import BernoulliNB\n",
    "from sklearn.discriminant_analysis import LinearDiscriminantAnalysis\n",
    "from sklearn.svm import SVC\n",
    "from sklearn.tree import DecisionTreeClassifier\n",
    "from sklearn.ensemble import GradientBoostingClassifier\n",
    "from sklearn.metrics import roc_curve\n",
    "from sklearn.metrics import roc_auc_score\n",
    "\n",
    "import pickle\n",
    "import string\n",
    "import re\n",
    "import nltk\n",
    "nltk.download('stopwords')\n",
    "from nltk.corpus import stopwords\n",
    "from nltk import word_tokenize\n",
    "from nltk.stem import WordNetLemmatizer\n",
    "nltk.download('wordnet')\n",
    "from nltk.stem import WordNetLemmatizer\n",
    "lemmatizer = WordNetLemmatizer()\n",
    "from nltk.stem import PorterStemmer\n",
    "porter = PorterStemmer()\n",
    "\n",
    "\n",
    "df = pd.read_csv('training_tweets.csv').drop(columns = ['Unnamed: 0'])\n",
    "df.head(5)"
   ]
  },
  {
   "cell_type": "markdown",
   "metadata": {},
   "source": [
    "#### Se muestra información del dataframe"
   ]
  },
  {
   "cell_type": "code",
   "execution_count": 3,
   "metadata": {},
   "outputs": [
    {
     "data": {
      "text/html": [
       "<div>\n",
       "<style scoped>\n",
       "    .dataframe tbody tr th:only-of-type {\n",
       "        vertical-align: middle;\n",
       "    }\n",
       "\n",
       "    .dataframe tbody tr th {\n",
       "        vertical-align: top;\n",
       "    }\n",
       "\n",
       "    .dataframe thead th {\n",
       "        text-align: right;\n",
       "    }\n",
       "</style>\n",
       "<table border=\"1\" class=\"dataframe\">\n",
       "  <thead>\n",
       "    <tr style=\"text-align: right;\">\n",
       "      <th></th>\n",
       "      <th>content</th>\n",
       "      <th>sentiment</th>\n",
       "    </tr>\n",
       "  </thead>\n",
       "  <tbody>\n",
       "    <tr>\n",
       "      <th>count</th>\n",
       "      <td>30000</td>\n",
       "      <td>30000</td>\n",
       "    </tr>\n",
       "    <tr>\n",
       "      <th>unique</th>\n",
       "      <td>29881</td>\n",
       "      <td>13</td>\n",
       "    </tr>\n",
       "    <tr>\n",
       "      <th>top</th>\n",
       "      <td>I just received a mothers day card from my lov...</td>\n",
       "      <td>neutral</td>\n",
       "    </tr>\n",
       "    <tr>\n",
       "      <th>freq</th>\n",
       "      <td>12</td>\n",
       "      <td>6451</td>\n",
       "    </tr>\n",
       "  </tbody>\n",
       "</table>\n",
       "</div>"
      ],
      "text/plain": [
       "                                                  content sentiment\n",
       "count                                               30000     30000\n",
       "unique                                              29881        13\n",
       "top     I just received a mothers day card from my lov...   neutral\n",
       "freq                                                   12      6451"
      ]
     },
     "execution_count": 3,
     "metadata": {},
     "output_type": "execute_result"
    }
   ],
   "source": [
    "df.describe()"
   ]
  },
  {
   "cell_type": "code",
   "execution_count": 4,
   "metadata": {},
   "outputs": [
    {
     "name": "stdout",
     "output_type": "stream",
     "text": [
      "<class 'pandas.core.frame.DataFrame'>\n",
      "RangeIndex: 30000 entries, 0 to 29999\n",
      "Data columns (total 2 columns):\n",
      "content      30000 non-null object\n",
      "sentiment    30000 non-null object\n",
      "dtypes: object(2)\n",
      "memory usage: 468.8+ KB\n"
     ]
    }
   ],
   "source": [
    "df.info()"
   ]
  },
  {
   "cell_type": "markdown",
   "metadata": {},
   "source": [
    "#### Se realiza un análisis exploratorio sobre los datos contenidos en el DataFrame, imprimiendo las 10 palabras más comunes, la distribución de las clases en el vector objetivo y las 5 palabras más comunes por cada sentimiento.\n",
    "    * Una cantidad importante de los tweets se clasifican como neutrales en sentimiento. Lo sigue en cantidad de tweets worry, happiness y sadness. \n",
    "    * La palabra just y day se presentan dentro de las cinco más frecuentes en la mayoría de los sentimientos.\n",
    "    * La palabra work se encuentra dentro de las cinco más frecuentes en los sentimientos de caracter negativo."
   ]
  },
  {
   "cell_type": "code",
   "execution_count": 5,
   "metadata": {},
   "outputs": [
    {
     "data": {
      "text/html": [
       "<div>\n",
       "<style scoped>\n",
       "    .dataframe tbody tr th:only-of-type {\n",
       "        vertical-align: middle;\n",
       "    }\n",
       "\n",
       "    .dataframe tbody tr th {\n",
       "        vertical-align: top;\n",
       "    }\n",
       "\n",
       "    .dataframe thead th {\n",
       "        text-align: right;\n",
       "    }\n",
       "</style>\n",
       "<table border=\"1\" class=\"dataframe\">\n",
       "  <thead>\n",
       "    <tr style=\"text-align: right;\">\n",
       "      <th></th>\n",
       "      <th>Cantidad</th>\n",
       "    </tr>\n",
       "  </thead>\n",
       "  <tbody>\n",
       "    <tr>\n",
       "      <th>day</th>\n",
       "      <td>2403</td>\n",
       "    </tr>\n",
       "    <tr>\n",
       "      <th>just</th>\n",
       "      <td>2369</td>\n",
       "    </tr>\n",
       "    <tr>\n",
       "      <th>good</th>\n",
       "      <td>1736</td>\n",
       "    </tr>\n",
       "    <tr>\n",
       "      <th>like</th>\n",
       "      <td>1444</td>\n",
       "    </tr>\n",
       "    <tr>\n",
       "      <th>quot</th>\n",
       "      <td>1399</td>\n",
       "    </tr>\n",
       "    <tr>\n",
       "      <th>http</th>\n",
       "      <td>1398</td>\n",
       "    </tr>\n",
       "    <tr>\n",
       "      <th>today</th>\n",
       "      <td>1269</td>\n",
       "    </tr>\n",
       "    <tr>\n",
       "      <th>love</th>\n",
       "      <td>1245</td>\n",
       "    </tr>\n",
       "    <tr>\n",
       "      <th>work</th>\n",
       "      <td>1240</td>\n",
       "    </tr>\n",
       "    <tr>\n",
       "      <th>got</th>\n",
       "      <td>1236</td>\n",
       "    </tr>\n",
       "  </tbody>\n",
       "</table>\n",
       "</div>"
      ],
      "text/plain": [
       "       Cantidad\n",
       "day        2403\n",
       "just       2369\n",
       "good       1736\n",
       "like       1444\n",
       "quot       1399\n",
       "http       1398\n",
       "today      1269\n",
       "love       1245\n",
       "work       1240\n",
       "got        1236"
      ]
     },
     "execution_count": 5,
     "metadata": {},
     "output_type": "execute_result"
    }
   ],
   "source": [
    "cv = CountVectorizer(stop_words = 'english', max_features= 10)\n",
    "cv_fit = cv.fit_transform(df['content'])\n",
    "words = cv.get_feature_names()\n",
    "words_freq = cv_fit.toarray().sum(axis=0)\n",
    "pd.DataFrame(words_freq, index = words, columns = ['Cantidad']).sort_values(by=['Cantidad'], ascending=False).head(10)"
   ]
  },
  {
   "cell_type": "code",
   "execution_count": 6,
   "metadata": {},
   "outputs": [
    {
     "data": {
      "text/plain": [
       "<matplotlib.axes._subplots.AxesSubplot at 0x10b651fd0>"
      ]
     },
     "execution_count": 6,
     "metadata": {},
     "output_type": "execute_result"
    },
    {
     "data": {
      "image/png": "[encoded data removed]",
      "text/plain": [
       "<Figure size 1080x360 with 1 Axes>"
      ]
     },
     "metadata": {
      "needs_background": "light"
     },
     "output_type": "display_data"
    }
   ],
   "source": [
    "sentiment_count = df['sentiment'].value_counts(ascending = False)\n",
    "plt.figure(figsize=(15, 5))\n",
    "sns.barplot(sentiment_count, sentiment_count.index)"
   ]
  },
  {
   "cell_type": "code",
   "execution_count": 7,
   "metadata": {},
   "outputs": [],
   "source": [
    "def top5(df, sentiment):\n",
    "    cv = CountVectorizer(stop_words = 'english', max_features= 5)\n",
    "    cv_fit = cv.fit_transform(df[df['sentiment'] == sentiment]['content'])\n",
    "    words = cv.get_feature_names()\n",
    "    words_freq = cv_fit.toarray().sum(axis=0)\n",
    "    return pd.DataFrame(words_freq, index = words, columns = ['Cantidad']).sort_values(by=['Cantidad'], ascending=False)"
   ]
  },
  {
   "cell_type": "code",
   "execution_count": 8,
   "metadata": {},
   "outputs": [
    {
     "name": "stdout",
     "output_type": "stream",
     "text": [
      "Sentiment: neutral\n",
      "      Cantidad\n",
      "just       436\n",
      "http       413\n",
      "day        321\n",
      "com        311\n",
      "quot       296\n",
      "---------------------------------\n",
      "Sentiment: worry\n",
      "      Cantidad\n",
      "just       521\n",
      "like       344\n",
      "day        317\n",
      "don        313\n",
      "got        304\n",
      "---------------------------------\n",
      "Sentiment: happiness\n",
      "        Cantidad\n",
      "day          492\n",
      "good         428\n",
      "just         324\n",
      "happy        321\n",
      "thanks       228\n",
      "---------------------------------\n",
      "Sentiment: sadness\n",
      "      Cantidad\n",
      "just       299\n",
      "sad        295\n",
      "day        271\n",
      "miss       261\n",
      "work       243\n",
      "---------------------------------\n",
      "Sentiment: love\n",
      "         Cantidad\n",
      "love          665\n",
      "day           592\n",
      "happy         452\n",
      "good          243\n",
      "mothers       223\n",
      "---------------------------------\n",
      "Sentiment: surprise\n",
      "      Cantidad\n",
      "just       161\n",
      "quot       114\n",
      "day         95\n",
      "oh          88\n",
      "http        83\n",
      "---------------------------------\n",
      "Sentiment: fun\n",
      "      Cantidad\n",
      "lol        138\n",
      "just       111\n",
      "fun         99\n",
      "quot        99\n",
      "day         88\n",
      "---------------------------------\n",
      "Sentiment: relief\n",
      "        Cantidad\n",
      "just         124\n",
      "day          121\n",
      "good         106\n",
      "thanks        79\n",
      "time          67\n",
      "---------------------------------\n",
      "Sentiment: hate\n",
      "       Cantidad\n",
      "hate        166\n",
      "just         92\n",
      "like         72\n",
      "work         63\n",
      "sucks        58\n",
      "---------------------------------\n",
      "Sentiment: empty\n",
      "      Cantidad\n",
      "http        38\n",
      "just        35\n",
      "com         34\n",
      "work        32\n",
      "quot        27\n",
      "---------------------------------\n",
      "Sentiment: enthusiasm\n",
      "      Cantidad\n",
      "want        38\n",
      "just        36\n",
      "good        35\n",
      "day         29\n",
      "like        29\n",
      "---------------------------------\n",
      "Sentiment: boredom\n",
      "       Cantidad\n",
      "bored        23\n",
      "im           16\n",
      "just         14\n",
      "work         13\n",
      "amp           9\n",
      "---------------------------------\n",
      "Sentiment: anger\n",
      "        Cantidad\n",
      "just           8\n",
      "did            6\n",
      "quot           6\n",
      "im             5\n",
      "people         5\n",
      "---------------------------------\n"
     ]
    }
   ],
   "source": [
    "for sentiment in sentiment_count.index:\n",
    "    print(\"Sentiment: {}\".format(sentiment))\n",
    "    print(top5(df, sentiment).head(5))\n",
    "    print(\"---------------------------------\")"
   ]
  },
  {
   "cell_type": "markdown",
   "metadata": {},
   "source": [
    "#### Se realiza el preprocesamiento y refinamiento de los datos\n",
    "  * Al realizar lematización y stemming no se aprecia una diferencia significativa en los resultados, por lo que se elije utilizar stemming debido a que el costo es menor. \n",
    "    * Se transforman los tweets a lower case\n",
    "    * Se eliminan URLs y user mentions\n",
    "    * Se usa stemming mediante librería nltk\n",
    "    * Se excluyen stopwords mediante libreria nltk\n",
    "    * Se muestran las 10 palabras con mayor frecuencia"
   ]
  },
  {
   "cell_type": "code",
   "execution_count": 9,
   "metadata": {},
   "outputs": [],
   "source": [
    "def preprocesamiento(text):\n",
    "    \"\"\"\n",
    "    Preprocesa un texto realizando las siguientes acciones:\n",
    "        * Se transforma el texto a lower case\n",
    "        * Se eliminan URL\n",
    "        * Se eliminan user mentions\n",
    "        * Se realiza stemming\n",
    "    Retorna el texto preprocesado.\n",
    "    \"\"\"\n",
    "\n",
    "    text = re.sub(r\"(?:\\@|https?\\://)\\S+\", \"\", text)\n",
    "        \n",
    "    text = text.lower()\n",
    "    # Lematizacion\n",
    "    #text_temp = []\n",
    "    #for word in text.split(' '):\n",
    "    #    text_temp.append(lemmatizer.lemmatize(word))    \n",
    "    #text = ' '.join(text_temp)\n",
    "    \n",
    "    # Stemming\n",
    "    text_stem = []\n",
    "    for word in text.split(' '):\n",
    "        text_stem.append(porter.stem(word))    \n",
    "    text = ' '.join(text_stem)\n",
    "    \n",
    "    return text"
   ]
  },
  {
   "cell_type": "code",
   "execution_count": 10,
   "metadata": {},
   "outputs": [
    {
     "data": {
      "text/html": [
       "<div>\n",
       "<style scoped>\n",
       "    .dataframe tbody tr th:only-of-type {\n",
       "        vertical-align: middle;\n",
       "    }\n",
       "\n",
       "    .dataframe tbody tr th {\n",
       "        vertical-align: top;\n",
       "    }\n",
       "\n",
       "    .dataframe thead th {\n",
       "        text-align: right;\n",
       "    }\n",
       "</style>\n",
       "<table border=\"1\" class=\"dataframe\">\n",
       "  <thead>\n",
       "    <tr style=\"text-align: right;\">\n",
       "      <th></th>\n",
       "      <th>Cantidad</th>\n",
       "    </tr>\n",
       "  </thead>\n",
       "  <tbody>\n",
       "    <tr>\n",
       "      <th>day</th>\n",
       "      <td>2679</td>\n",
       "    </tr>\n",
       "    <tr>\n",
       "      <th>go</th>\n",
       "      <td>2495</td>\n",
       "    </tr>\n",
       "    <tr>\n",
       "      <th>get</th>\n",
       "      <td>2022</td>\n",
       "    </tr>\n",
       "    <tr>\n",
       "      <th>good</th>\n",
       "      <td>1749</td>\n",
       "    </tr>\n",
       "    <tr>\n",
       "      <th>work</th>\n",
       "      <td>1604</td>\n",
       "    </tr>\n",
       "    <tr>\n",
       "      <th>love</th>\n",
       "      <td>1566</td>\n",
       "    </tr>\n",
       "    <tr>\n",
       "      <th>like</th>\n",
       "      <td>1541</td>\n",
       "    </tr>\n",
       "    <tr>\n",
       "      <th>quot</th>\n",
       "      <td>1411</td>\n",
       "    </tr>\n",
       "    <tr>\n",
       "      <th>today</th>\n",
       "      <td>1279</td>\n",
       "    </tr>\n",
       "    <tr>\n",
       "      <th>got</th>\n",
       "      <td>1247</td>\n",
       "    </tr>\n",
       "  </tbody>\n",
       "</table>\n",
       "</div>"
      ],
      "text/plain": [
       "       Cantidad\n",
       "day        2679\n",
       "go         2495\n",
       "get        2022\n",
       "good       1749\n",
       "work       1604\n",
       "love       1566\n",
       "like       1541\n",
       "quot       1411\n",
       "today      1279\n",
       "got        1247"
      ]
     },
     "execution_count": 10,
     "metadata": {},
     "output_type": "execute_result"
    }
   ],
   "source": [
    "stopw_fix = ['abov', 'ani', 'becaus', 'befor', 'dure', 'hi', 'onc', 'onli', 'ourselv', 'themselv', 'thi', 'veri', 'whi', 'yourselv', 'becau', 'doe', 'ha', 'wa']\n",
    "stopw = stopwords.words('english') + stopw_fix\n",
    "\n",
    "cv = CountVectorizer(stop_words = stopw, max_features= 10, preprocessor=preprocesamiento)\n",
    "cv_fit = cv.fit_transform(df['content'])\n",
    "words = cv.get_feature_names()\n",
    "words_freq = cv_fit.toarray().sum(axis=0)\n",
    "pd.DataFrame(words_freq, index = words, columns = ['Cantidad']).sort_values(by=['Cantidad'], ascending=False).head(10)"
   ]
  },
  {
   "cell_type": "markdown",
   "metadata": {},
   "source": [
    "#### Preparación del vector objetivo y las matrices de entrenamiento y validación\n",
    "* Se eliminan registros con sentiment igual a neutral\n",
    "* Se recodifica el vector objetivo para trabajar con emociones positivas o negativas\n",
    "    * Al recodificar el vector objetivo se observa que las clases se encuentran balanceadas\n",
    "    * Las palabras con mayor frecuencia son similares en ambos grupos pero en los sentimientos Positivos destacan palabras como 'love' y 'happy', y en los sentimientos Negativos destacan 'work' y 'today'"
   ]
  },
  {
   "cell_type": "code",
   "execution_count": 11,
   "metadata": {},
   "outputs": [],
   "source": [
    "index = df[df['sentiment'] == 'neutral'].index\n",
    "df.drop(index, inplace=True)\n",
    "df['sentiment'] = np.where(df['sentiment'].isin(\n",
    "    ['happiness', 'love', 'surprise', 'fun', 'relief', 'enthusiasm']), 'Positiva', df['sentiment'])\n",
    "df['sentiment'] = np.where(df['sentiment'].isin(\n",
    "    ['worry', 'sadness', 'hate', 'empty', 'boredom', 'anger']), 'Negativa', df['sentiment'])"
   ]
  },
  {
   "cell_type": "code",
   "execution_count": 12,
   "metadata": {},
   "outputs": [
    {
     "data": {
      "text/plain": [
       "<matplotlib.axes._subplots.AxesSubplot at 0x1a20924e48>"
      ]
     },
     "execution_count": 12,
     "metadata": {},
     "output_type": "execute_result"
    },
    {
     "data": {
      "image/png": "[encoded data removed]",
      "text/plain": [
       "<Figure size 720x216 with 1 Axes>"
      ]
     },
     "metadata": {
      "needs_background": "light"
     },
     "output_type": "display_data"
    }
   ],
   "source": [
    "sentiment_count = df['sentiment'].value_counts(ascending = False)\n",
    "plt.figure(figsize=(10, 3))\n",
    "sns.barplot(sentiment_count, sentiment_count.index)"
   ]
  },
  {
   "cell_type": "code",
   "execution_count": 13,
   "metadata": {},
   "outputs": [
    {
     "name": "stdout",
     "output_type": "stream",
     "text": [
      "Sentiment: Negativa\n",
      "       Cantidad\n",
      "just        969\n",
      "day         665\n",
      "like        647\n",
      "work        646\n",
      "today       560\n",
      "---------------------------------\n",
      "Sentiment: Positiva\n",
      "       Cantidad\n",
      "day        1417\n",
      "good        975\n",
      "just        964\n",
      "love        933\n",
      "happy       891\n",
      "---------------------------------\n"
     ]
    }
   ],
   "source": [
    "for sentiment in sentiment_count.index:\n",
    "    print(\"Sentiment: {}\".format(sentiment))\n",
    "    print(top5(df, sentiment).head(5))\n",
    "    print(\"---------------------------------\")"
   ]
  },
  {
   "cell_type": "markdown",
   "metadata": {},
   "source": [
    "#### Se binariza la variable objetivo y se generan las muestras de datos para entrenamiento y validación"
   ]
  },
  {
   "cell_type": "code",
   "execution_count": 14,
   "metadata": {},
   "outputs": [],
   "source": [
    "label_encoder = LabelEncoder()\n",
    "df['sentiment_bin'] = label_encoder.fit_transform(df['sentiment'])\n",
    "X_train, X_test, y_train, y_test = train_test_split(df['content'], df['sentiment_bin'], random_state=11238, test_size = 0.33)"
   ]
  },
  {
   "cell_type": "markdown",
   "metadata": {},
   "source": [
    "#### Entrenamiento de modelos\n",
    "* Se realiza el entrenamiento utilizando los modelos: Bernoulli NB, Análisis Lineal Discriminante (LDA), Máquinas de Soporte Vectorial (SVC), Arboles de Decisión (DecisionTreeClassifier) y Gradient Boosting.\n",
    "* Para cada modelo que corresponda la elección de hiperparámetros se realizará una búsqueda de grilla mediante GridSearchCV para determinar los valores más adecuados dentro de un rango definido.\n",
    "* Se genera un Pipeline para cada modelo seleccionado y así también para las búsqueda de grilla.\n",
    "* Se reportan las métricas para los conjuntos de datos de entrenamiento y validación, analizando la capacidad de generalización de cada modelo."
   ]
  },
  {
   "cell_type": "code",
   "execution_count": 15,
   "metadata": {},
   "outputs": [],
   "source": [
    "def roc_curve_plot(y_test, y_pred_pr):\n",
    "    false_positive, true_positive, threshold = roc_curve(y_test, y_pred_pr[:, 1])\n",
    "    plt.figure(figsize=(5, 5))\n",
    "    plt.title('Curva ROC')\n",
    "    plt.plot(false_positive, true_positive, lw=1)\n",
    "    plt.plot([0, 1], ls=\"--\", lw=1, c='tomato')\n",
    "    plt.plot([0, 0], [1, 0] , c='limegreen', lw=3), plt.plot([1, 1] , c='limegreen', lw=3)\n",
    "    plt.ylabel('Verdaderos Positivos')\n",
    "    plt.xlabel('Falsos Positivos')\n",
    "    auc_score = roc_auc_score(y_test, y_pred_pr[:, 1])\n",
    "    print(\"El área bajo la curva es de {}\".format(auc_score))"
   ]
  },
  {
   "cell_type": "markdown",
   "metadata": {},
   "source": [
    "##### Modelo 1: Bernoulli NB\n",
    "* Para implemementar este modelo se consideran las primeras 2000 palabras del CountVectorizer debido a que con mayor cantidad no se observa un desempeño notablemente mayor a cambio de mayor procesamiento. Por motivos de costo computacional se consideran 5 validaciones cruzadas en GridSearchCV.\n",
    "* Al comparar las métricas con los datos de entrenamiento y validación se observa que el modelo es capaz de generalizar de modo adecuado, no presentando un overfit significativo."
   ]
  },
  {
   "cell_type": "code",
   "execution_count": 117,
   "metadata": {},
   "outputs": [
    {
     "name": "stdout",
     "output_type": "stream",
     "text": [
      "La mejor combinación de hiperparámetros son {'alpha': 2.0} con un desempeño del 0.72\n"
     ]
    }
   ],
   "source": [
    "grid_search_cv = Pipeline([\n",
    "    ('cv', CountVectorizer(stop_words = stopw, max_features = 2000, preprocessor = preprocesamiento)),\n",
    "    ('grid', GridSearchCV(BernoulliNB(), param_grid = dict(alpha = np.linspace(0, 2, 20)[1:]), cv = 5, n_jobs=-1))\n",
    "])\n",
    "grid_search_cv.fit(X_train, y_train)\n",
    "grid_step = grid_search_cv.named_steps['grid']\n",
    "print(\"La mejor combinación de hiperparámetros son %s con un desempeño del %0.2f\" % (grid_step.best_params_, grid_step.best_score_))"
   ]
  },
  {
   "cell_type": "code",
   "execution_count": 118,
   "metadata": {},
   "outputs": [
    {
     "name": "stdout",
     "output_type": "stream",
     "text": [
      "Classification Report Datos de Entrenamiento\n",
      "\n",
      "              precision    recall  f1-score   support\n",
      "\n",
      "           0       0.76      0.80      0.78      8013\n",
      "           1       0.78      0.74      0.76      7764\n",
      "\n",
      "   micro avg       0.77      0.77      0.77     15777\n",
      "   macro avg       0.77      0.77      0.77     15777\n",
      "weighted avg       0.77      0.77      0.77     15777\n",
      "\n",
      "Classification Report Datos de Validación\n",
      "\n",
      "              precision    recall  f1-score   support\n",
      "\n",
      "           0       0.72      0.76      0.74      4009\n",
      "           1       0.73      0.69      0.71      3763\n",
      "\n",
      "   micro avg       0.73      0.73      0.73      7772\n",
      "   macro avg       0.73      0.72      0.72      7772\n",
      "weighted avg       0.73      0.73      0.73      7772\n",
      "\n",
      "El área bajo la curva es de 0.7935876340418486\n"
     ]
    },
    {
     "data": {
      "image/png": "[encoded data removed]",
      "text/plain": [
       "<Figure size 360x360 with 1 Axes>"
      ]
     },
     "metadata": {
      "needs_background": "light"
     },
     "output_type": "display_data"
    }
   ],
   "source": [
    "pipeline_model1 = Pipeline([\n",
    "    ('cv', CountVectorizer(stop_words = stopw, max_features = 2000, preprocessor = preprocesamiento)), \n",
    "    ('bernoulli', BernoulliNB(alpha = 2.0))\n",
    "])\n",
    "pipeline_model1.fit(X_train, y_train)\n",
    "print(\"Classification Report Datos de Entrenamiento\\n\")\n",
    "train_pred = pipeline_model1.predict(X_train)\n",
    "print(classification_report(y_train, train_pred))\n",
    "print(\"Classification Report Datos de Validación\\n\")\n",
    "test_pred = pipeline_model1.predict(X_test)\n",
    "print(classification_report(y_test, test_pred))\n",
    "test_pred_proba = pipeline_model1.predict_proba(X_test)\n",
    "roc_curve_plot(y_test, test_pred_proba)"
   ]
  },
  {
   "cell_type": "markdown",
   "metadata": {},
   "source": [
    "##### Modelo 2: Análisis Lineal Discriminante (LDA)\n",
    "* Para implemementar este modelo se consideran las primeras 2000 palabras del CountVectorizer debido a que con mayor cantidad no se observa un desempeño notablemente mayor a cambio de mayor procesamiento. Se debe realizar FunctionTransformer para integrar los datos generados con LDA."
   ]
  },
  {
   "cell_type": "code",
   "execution_count": 119,
   "metadata": {},
   "outputs": [],
   "source": [
    "from sklearn.preprocessing import FunctionTransformer"
   ]
  },
  {
   "cell_type": "code",
   "execution_count": 120,
   "metadata": {},
   "outputs": [
    {
     "name": "stdout",
     "output_type": "stream",
     "text": [
      "Classification Report Datos de Entrenamiento\n",
      "\n",
      "              precision    recall  f1-score   support\n",
      "\n",
      "           0       0.78      0.81      0.80      8013\n",
      "           1       0.80      0.77      0.78      7764\n",
      "\n",
      "   micro avg       0.79      0.79      0.79     15777\n",
      "   macro avg       0.79      0.79      0.79     15777\n",
      "weighted avg       0.79      0.79      0.79     15777\n",
      "\n",
      "Classification Report Datos de Validación\n",
      "\n",
      "              precision    recall  f1-score   support\n",
      "\n",
      "           0       0.71      0.74      0.73      4009\n",
      "           1       0.71      0.68      0.70      3763\n",
      "\n",
      "   micro avg       0.71      0.71      0.71      7772\n",
      "   macro avg       0.71      0.71      0.71      7772\n",
      "weighted avg       0.71      0.71      0.71      7772\n",
      "\n",
      "El área bajo la curva es de 0.7741919307653978\n"
     ]
    },
    {
     "data": {
      "image/png": "[encoded data removed]",
      "text/plain": [
       "<Figure size 360x360 with 1 Axes>"
      ]
     },
     "metadata": {
      "needs_background": "light"
     },
     "output_type": "display_data"
    }
   ],
   "source": [
    "pipeline_model2 = Pipeline([\n",
    "    ('cv', CountVectorizer(stop_words = stopw, max_features = 2000, preprocessor = preprocesamiento)), \n",
    "    ('transform', FunctionTransformer(lambda x: x.todense(), accept_sparse=True, validate = True)),\n",
    "    ('lda', LinearDiscriminantAnalysis())\n",
    "])\n",
    "pipeline_model2.fit(X_train, y_train)\n",
    "print(\"Classification Report Datos de Entrenamiento\\n\")\n",
    "train_pred = pipeline_model2.predict(X_train)\n",
    "print(classification_report(y_train, train_pred))\n",
    "print(\"Classification Report Datos de Validación\\n\")\n",
    "test_pred = pipeline_model2.predict(X_test)\n",
    "print(classification_report(y_test, test_pred))\n",
    "test_pred_proba = pipeline_model2.predict_proba(X_test)\n",
    "roc_curve_plot(y_test, test_pred_proba)"
   ]
  },
  {
   "cell_type": "markdown",
   "metadata": {},
   "source": [
    "##### Modelo 3: Máquinas de Soporte Vectorial (SVC)\n",
    "* Para implemementar este modelo se consideran las primeras 1000 palabras del CountVectorizer debido a que con mayor cantidad no se observa un desempeño notablemente mayor a cambio de mayor procesamiento. Por motivos de costo computacional se consideran 3 validaciones cruzadas en GridSearchCV. Los hiperparámetros que se hacen variar son C y gamma.\n",
    "* Al comparar las métricas con los datos de entrenamiento y validación se observa que el modelo es capaz de generalizar de modo adecuado, presentando un overfit con los datos de entrenamiento."
   ]
  },
  {
   "cell_type": "code",
   "execution_count": 61,
   "metadata": {},
   "outputs": [
    {
     "name": "stdout",
     "output_type": "stream",
     "text": [
      "La mejor combinación de hiperparámetros son {'C': 1, 'gamma': 0.1} con un desempeño del 0.72\n"
     ]
    }
   ],
   "source": [
    "c_param_range = [0.001, 0.01, 1, 100]\n",
    "gamma_param_range = [0.001, 0.01, 0.1, 10]\n",
    "param_grid = dict(gamma = gamma_param_range, C = c_param_range)\n",
    "grid_search_cv = Pipeline([\n",
    "    ('cv', CountVectorizer(stop_words = stopw, max_features = 1000, preprocessor = preprocesamiento)),\n",
    "    ('grid', GridSearchCV(SVC(), param_grid = param_grid, cv = 3, n_jobs=-1))\n",
    "])\n",
    "grid_search_cv.fit(X_train, y_train)\n",
    "grid_step = grid_search_cv.named_steps['grid']\n",
    "print(\"La mejor combinación de hiperparámetros son %s con un desempeño del %0.2f\" % (grid_step.best_params_, grid_step.best_score_))"
   ]
  },
  {
   "cell_type": "code",
   "execution_count": 62,
   "metadata": {},
   "outputs": [
    {
     "name": "stdout",
     "output_type": "stream",
     "text": [
      "Classification Report Datos de Entrenamiento\n",
      "\n",
      "              precision    recall  f1-score   support\n",
      "\n",
      "           0       0.80      0.88      0.84      8013\n",
      "           1       0.86      0.77      0.81      7764\n",
      "\n",
      "   micro avg       0.82      0.82      0.82     15777\n",
      "   macro avg       0.83      0.82      0.82     15777\n",
      "weighted avg       0.83      0.82      0.82     15777\n",
      "\n",
      "Classification Report Datos de Validación\n",
      "\n",
      "              precision    recall  f1-score   support\n",
      "\n",
      "           0       0.71      0.78      0.74      4009\n",
      "           1       0.74      0.65      0.69      3763\n",
      "\n",
      "   micro avg       0.72      0.72      0.72      7772\n",
      "   macro avg       0.72      0.72      0.72      7772\n",
      "weighted avg       0.72      0.72      0.72      7772\n",
      "\n",
      "El área bajo la curva es de 0.7949891776190259\n"
     ]
    },
    {
     "data": {
      "image/png": "[encoded data removed]",
      "text/plain": [
       "<Figure size 360x360 with 1 Axes>"
      ]
     },
     "metadata": {
      "needs_background": "light"
     },
     "output_type": "display_data"
    }
   ],
   "source": [
    "pipeline_model3 = Pipeline([\n",
    "    ('cv', CountVectorizer(stop_words = stopw, max_features = 1000, preprocessor = preprocesamiento)), \n",
    "    ('svc', SVC(kernel='rbf', C = 1, gamma = 0.1, probability = True))\n",
    "])\n",
    "pipeline_model3.fit(X_train, y_train)\n",
    "print(\"Classification Report Datos de Entrenamiento\\n\")\n",
    "train_pred = pipeline_model3.predict(X_train)\n",
    "print(classification_report(y_train, train_pred))\n",
    "print(\"Classification Report Datos de Validación\\n\")\n",
    "test_pred = pipeline_model3.predict(X_test)\n",
    "print(classification_report(y_test, test_pred))\n",
    "test_pred_proba = pipeline_model3.predict_proba(X_test)\n",
    "roc_curve_plot(y_test, test_pred_proba)"
   ]
  },
  {
   "cell_type": "markdown",
   "metadata": {},
   "source": [
    "#### Modelo 4: Arboles de Decisión (DecisionTreeClassifier)\n",
    "* Para implemementar este modelo se consideran las primeras 1000 palabras del CountVectorizer debido a que con mayor cantidad no se observa un desempeño notablemente mayor a cambio de mayor procesamiento. Por motivos de costo computacional se consideran 5 validaciones cruzadas en GridSearchCV. Los hiperparámetros que se hacen variar son min_samples_split, criterion y max_depth.\n",
    "* Al comparar las métricas con los datos de entrenamiento y validación se observa que el modelo es capaz de generalizar de modo adecuado, presentando resultados similares en ambos conjuntos de datos."
   ]
  },
  {
   "cell_type": "code",
   "execution_count": 63,
   "metadata": {},
   "outputs": [
    {
     "name": "stdout",
     "output_type": "stream",
     "text": [
      "La mejor combinación de hiperparámetros son {'criterion': 'gini', 'max_depth': 100.0, 'min_samples_split': 0.1} con un desempeño del 0.69\n"
     ]
    }
   ],
   "source": [
    "min_samples_split_param_range = np.linspace(0.1, 1.0, 10)\n",
    "criterion_param_range = ['gini', 'entropy']\n",
    "max_depth_param_range = np.linspace(1, 100, 50)\n",
    "param_grid = dict(\n",
    "    min_samples_split = min_samples_split_param_range,\n",
    "    criterion = criterion_param_range,\n",
    "    max_depth = max_depth_param_range\n",
    ")\n",
    "\n",
    "grid_search_cv = Pipeline([\n",
    "    ('cv', CountVectorizer(stop_words = stopw, max_features = 1000, preprocessor = preprocesamiento)),\n",
    "    ('grid', GridSearchCV(DecisionTreeClassifier(), param_grid = param_grid, cv = 5, n_jobs = -1))\n",
    "])\n",
    "grid_search_cv.fit(X_train, y_train)\n",
    "grid_step = grid_search_cv.named_steps['grid']\n",
    "print(\"La mejor combinación de hiperparámetros son %s con un desempeño del %0.2f\" % (grid_step.best_params_, grid_step.best_score_))"
   ]
  },
  {
   "cell_type": "code",
   "execution_count": 64,
   "metadata": {},
   "outputs": [
    {
     "name": "stdout",
     "output_type": "stream",
     "text": [
      "Classification Report Datos de Entrenamiento\n",
      "\n",
      "              precision    recall  f1-score   support\n",
      "\n",
      "           0       0.68      0.79      0.73      8013\n",
      "           1       0.74      0.61      0.67      7764\n",
      "\n",
      "   micro avg       0.70      0.70      0.70     15777\n",
      "   macro avg       0.71      0.70      0.70     15777\n",
      "weighted avg       0.71      0.70      0.70     15777\n",
      "\n",
      "Classification Report Datos de Validación\n",
      "\n",
      "              precision    recall  f1-score   support\n",
      "\n",
      "           0       0.67      0.78      0.72      4009\n",
      "           1       0.72      0.59      0.65      3763\n",
      "\n",
      "   micro avg       0.69      0.69      0.69      7772\n",
      "   macro avg       0.69      0.69      0.68      7772\n",
      "weighted avg       0.69      0.69      0.69      7772\n",
      "\n",
      "El área bajo la curva es de 0.7482521554777064\n"
     ]
    },
    {
     "data": {
      "image/png": "[encoded data removed]",
      "text/plain": [
       "<Figure size 360x360 with 1 Axes>"
      ]
     },
     "metadata": {
      "needs_background": "light"
     },
     "output_type": "display_data"
    }
   ],
   "source": [
    "pipeline_model4 = Pipeline([\n",
    "    ('cv', CountVectorizer(stop_words = stopw, max_features = 1000, preprocessor = preprocesamiento)), \n",
    "    ('tree', DecisionTreeClassifier(criterion = 'gini', max_depth = 100, min_samples_split = 0.2))\n",
    "])\n",
    "pipeline_model4.fit(X_train, y_train)\n",
    "print(\"Classification Report Datos de Entrenamiento\\n\")\n",
    "train_pred = pipeline_model4.predict(X_train)\n",
    "print(classification_report(y_train, train_pred))\n",
    "print(\"Classification Report Datos de Validación\\n\")\n",
    "test_pred = pipeline_model4.predict(X_test)\n",
    "print(classification_report(y_test, test_pred))\n",
    "test_pred_proba = pipeline_model4.predict_proba(X_test)\n",
    "roc_curve_plot(y_test, test_pred_proba)"
   ]
  },
  {
   "cell_type": "markdown",
   "metadata": {},
   "source": [
    "#### Modelo 5: Gradient Boosting\n",
    "* Para implemementar este modelo se consideran las primeras 1000 palabras del CountVectorizer debido a que con mayor cantidad no se observa un desempeño notablemente mayor a cambio de mayor procesamiento. Por motivos de costo computacional se consideran 5 validaciones cruzadas en GridSearchCV. Los hiperparámetros que se hacen variar son learning_rate y n_estimators.\n",
    "* Al comparar las métricas con los datos de entrenamiento y validación se observa que el modelo es capaz de generalizar de modo adecuado, no presentando un overfit significativo."
   ]
  },
  {
   "cell_type": "code",
   "execution_count": 65,
   "metadata": {},
   "outputs": [
    {
     "name": "stdout",
     "output_type": "stream",
     "text": [
      "La mejor combinación de hiperparámetros son {'learning_rate': 0.1, 'n_estimators': 1000} con un desempeño del 0.72\n"
     ]
    }
   ],
   "source": [
    "n_estimators_param_range = [100, 500, 1000]\n",
    "learning_rate_param_range = [0.01, 0.1, 1, 10]\n",
    "param_grid = dict(\n",
    "    learning_rate = learning_rate_param_range,\n",
    "    n_estimators = n_estimators_param_range\n",
    ")\n",
    "\n",
    "grid_search_cv = Pipeline([\n",
    "    ('cv', CountVectorizer(stop_words = stopw, max_features = 2000, preprocessor = preprocesamiento)),\n",
    "    ('grid', GridSearchCV(GradientBoostingClassifier(), param_grid = param_grid, cv = 5, n_jobs = -1))\n",
    "])\n",
    "grid_search_cv.fit(X_train, y_train)\n",
    "grid_step = grid_search_cv.named_steps['grid']\n",
    "print(\"La mejor combinación de hiperparámetros son %s con un desempeño del %0.2f\" % (grid_step.best_params_, grid_step.best_score_))"
   ]
  },
  {
   "cell_type": "code",
   "execution_count": 66,
   "metadata": {},
   "outputs": [
    {
     "name": "stdout",
     "output_type": "stream",
     "text": [
      "Classification Report Datos de Entrenamiento\n",
      "\n",
      "              precision    recall  f1-score   support\n",
      "\n",
      "           0       0.77      0.86      0.81      8013\n",
      "           1       0.84      0.73      0.78      7764\n",
      "\n",
      "   micro avg       0.80      0.80      0.80     15777\n",
      "   macro avg       0.80      0.79      0.79     15777\n",
      "weighted avg       0.80      0.80      0.79     15777\n",
      "\n",
      "Classification Report Datos de Validación\n",
      "\n",
      "              precision    recall  f1-score   support\n",
      "\n",
      "           0       0.70      0.79      0.74      4009\n",
      "           1       0.74      0.63      0.68      3763\n",
      "\n",
      "   micro avg       0.72      0.72      0.72      7772\n",
      "   macro avg       0.72      0.71      0.71      7772\n",
      "weighted avg       0.72      0.72      0.71      7772\n",
      "\n",
      "El área bajo la curva es de 0.792931854695524\n"
     ]
    },
    {
     "data": {
      "image/png": "[encoded data removed]",
      "text/plain": [
       "<Figure size 360x360 with 1 Axes>"
      ]
     },
     "metadata": {
      "needs_background": "light"
     },
     "output_type": "display_data"
    }
   ],
   "source": [
    "pipeline_model5 = Pipeline([\n",
    "    ('cv', CountVectorizer(stop_words = stopw, max_features = 1000, preprocessor = preprocesamiento)), \n",
    "    ('tree', GradientBoostingClassifier(learning_rate = 0.1, n_estimators = 1000))\n",
    "])\n",
    "pipeline_model5.fit(X_train, y_train)\n",
    "print(\"Classification Report Datos de Entrenamiento\\n\")\n",
    "train_pred = pipeline_model5.predict(X_train)\n",
    "print(classification_report(y_train, train_pred))\n",
    "print(\"Classification Report Datos de Validación\\n\")\n",
    "test_pred = pipeline_model5.predict(X_test)\n",
    "print(classification_report(y_test, test_pred))\n",
    "test_pred_proba = pipeline_model5.predict_proba(X_test)\n",
    "roc_curve_plot(y_test, test_pred_proba)"
   ]
  },
  {
   "cell_type": "markdown",
   "metadata": {},
   "source": [
    "#### Selección de modelos\n",
    "* De acuerdo a las métricas de desempeño para los datos de entrenamiento y validación los 2 modelos que presentan mejores resultados son el Modelo 1: Bernoulli NB y el Modelo 3: Máquinas de Soporte Vectorial (SVC)"
   ]
  },
  {
   "cell_type": "code",
   "execution_count": 1,
   "metadata": {},
   "outputs": [
    {
     "ename": "NameError",
     "evalue": "name 'pickle' is not defined",
     "output_type": "error",
     "traceback": [
      "\u001b[0;31m---------------------------------------------------------------------------\u001b[0m",
      "\u001b[0;31mNameError\u001b[0m                                 Traceback (most recent call last)",
      "\u001b[0;32m<ipython-input-1-12fff41975dd>\u001b[0m in \u001b[0;36m<module>\u001b[0;34m\u001b[0m\n\u001b[0;32m----> 1\u001b[0;31m \u001b[0mpickle\u001b[0m\u001b[0;34m.\u001b[0m\u001b[0mdump\u001b[0m\u001b[0;34m(\u001b[0m\u001b[0mpipeline_model1\u001b[0m\u001b[0;34m,\u001b[0m \u001b[0mopen\u001b[0m\u001b[0;34m(\u001b[0m\u001b[0;34m'z-ju_modelo-1.sav'\u001b[0m\u001b[0;34m,\u001b[0m\u001b[0;34m'wb'\u001b[0m\u001b[0;34m)\u001b[0m\u001b[0;34m)\u001b[0m\u001b[0;34m\u001b[0m\u001b[0;34m\u001b[0m\u001b[0m\n\u001b[0m\u001b[1;32m      2\u001b[0m \u001b[0mpickle\u001b[0m\u001b[0;34m.\u001b[0m\u001b[0mdump\u001b[0m\u001b[0;34m(\u001b[0m\u001b[0mpipeline_model3\u001b[0m\u001b[0;34m,\u001b[0m \u001b[0mopen\u001b[0m\u001b[0;34m(\u001b[0m\u001b[0;34m'z-ju_modelo-2.sav'\u001b[0m\u001b[0;34m,\u001b[0m\u001b[0;34m'wb'\u001b[0m\u001b[0;34m)\u001b[0m\u001b[0;34m)\u001b[0m\u001b[0;34m\u001b[0m\u001b[0;34m\u001b[0m\u001b[0m\n",
      "\u001b[0;31mNameError\u001b[0m: name 'pickle' is not defined"
     ]
    }
   ],
   "source": [
    "pickle.dump(pipeline_model1, open('z-ju_modelo-1.sav','wb'))\n",
    "pickle.dump(pipeline_model3, open('z-ju_modelo-2.sav','wb'))"
   ]
  },
  {
   "cell_type": "code",
   "execution_count": null,
   "metadata": {},
   "outputs": [],
   "source": []
  },
  {
   "cell_type": "code",
   "execution_count": 21,
   "metadata": {},
   "outputs": [],
   "source": [
    "from keras.models import Sequential\n",
    "from keras.layers import Dense\n",
    "from keras.optimizers import Adadelta\n",
    "from keras.utils import plot_model\n",
    "from keras.layers import Dropout"
   ]
  },
  {
   "cell_type": "code",
   "execution_count": 59,
   "metadata": {},
   "outputs": [
    {
     "name": "stdout",
     "output_type": "stream",
     "text": [
      "Model: \"sequential_5\"\n",
      "_________________________________________________________________\n",
      "Layer (type)                 Output Shape              Param #   \n",
      "=================================================================\n",
      "1st_layer (Dense)            (None, 1000)              2001000   \n",
      "_________________________________________________________________\n",
      "2st_layer (Dense)            (None, 500)               500500    \n",
      "_________________________________________________________________\n",
      "output_layer (Dense)         (None, 1)                 501       \n",
      "=================================================================\n",
      "Total params: 2,502,001\n",
      "Trainable params: 2,502,001\n",
      "Non-trainable params: 0\n",
      "_________________________________________________________________\n"
     ]
    }
   ],
   "source": [
    "model = Sequential()\n",
    "\n",
    "model.add(\n",
    "    Dense(\n",
    "        1000, \n",
    "        input_shape = (2000, ),\n",
    "        activation = 'relu',\n",
    "        use_bias = True,\n",
    "        name = '1st_layer'))\n",
    "\n",
    "model.add(\n",
    "    Dense(\n",
    "        500, \n",
    "        activation = 'sigmoid',\n",
    "        use_bias = True,\n",
    "        name = '2st_layer'))\n",
    "\n",
    "model.add(\n",
    "    Dense(\n",
    "        1, \n",
    "        activation = 'sigmoid',\n",
    "        name = 'output_layer'))\n",
    "\n",
    "\n",
    "model.compile(\n",
    "    optimizer = Adadelta(),\n",
    "    loss='binary_crossentropy',\n",
    "    metrics=['accuracy'])\n",
    "\n",
    "model.summary()"
   ]
  },
  {
   "cell_type": "code",
   "execution_count": 60,
   "metadata": {},
   "outputs": [
    {
     "name": "stdout",
     "output_type": "stream",
     "text": [
      "Epoch 1/10\n",
      "15777/15777 [==============================] - 30s 2ms/step - loss: 0.6205 - acc: 0.6414\n",
      "Epoch 2/10\n",
      "15777/15777 [==============================] - 29s 2ms/step - loss: 0.5361 - acc: 0.7332\n",
      "Epoch 3/10\n",
      "15777/15777 [==============================] - 30s 2ms/step - loss: 0.5015 - acc: 0.7581\n",
      "Epoch 4/10\n",
      "15777/15777 [==============================] - 29s 2ms/step - loss: 0.4746 - acc: 0.7751\n",
      "Epoch 5/10\n",
      "15777/15777 [==============================] - 29s 2ms/step - loss: 0.4450 - acc: 0.7963\n",
      "Epoch 6/10\n",
      "15777/15777 [==============================] - 28s 2ms/step - loss: 0.4113 - acc: 0.8157\n",
      "Epoch 7/10\n",
      "15777/15777 [==============================] - 459s 29ms/step - loss: 0.3691 - acc: 0.8396\n",
      "Epoch 8/10\n",
      "15777/15777 [==============================] - 31s 2ms/step - loss: 0.3185 - acc: 0.8697\n",
      "Epoch 9/10\n",
      "15777/15777 [==============================] - 29s 2ms/step - loss: 0.2644 - acc: 0.8965\n",
      "Epoch 10/10\n",
      "15777/15777 [==============================] - 29s 2ms/step - loss: 0.2126 - acc: 0.9172\n"
     ]
    },
    {
     "data": {
      "text/plain": [
       "<keras.callbacks.History at 0x1a32a79208>"
      ]
     },
     "execution_count": 60,
     "metadata": {},
     "output_type": "execute_result"
    }
   ],
   "source": [
    "cv = CountVectorizer(stop_words = stopw, max_features= 2000, preprocessor = preprocesamiento)\n",
    "cv_fit = cv.fit_transform(X_train)\n",
    "X_train_cv = pd.DataFrame(cv_fit.todense(), columns = cv.get_feature_names())\n",
    "cv_fit = cv.fit_transform(X_test)\n",
    "X_test_cv = pd.DataFrame(cv_fit.todense(), columns = cv.get_feature_names())\n",
    "\n",
    "model.fit(\n",
    "    X_train_cv, \n",
    "    y_train, \n",
    "    epochs = 10, \n",
    "    batch_size = 32)"
   ]
  },
  {
   "cell_type": "code",
   "execution_count": 61,
   "metadata": {},
   "outputs": [],
   "source": [
    "test_pred = model.predict_classes(X_test_cv)"
   ]
  },
  {
   "cell_type": "code",
   "execution_count": 62,
   "metadata": {},
   "outputs": [
    {
     "data": {
      "text/plain": [
       "array([[1],\n",
       "       [1],\n",
       "       [0],\n",
       "       ...,\n",
       "       [0],\n",
       "       [0],\n",
       "       [1]], dtype=int32)"
      ]
     },
     "execution_count": 62,
     "metadata": {},
     "output_type": "execute_result"
    }
   ],
   "source": [
    "test_pred"
   ]
  },
  {
   "cell_type": "code",
   "execution_count": 63,
   "metadata": {},
   "outputs": [
    {
     "name": "stdout",
     "output_type": "stream",
     "text": [
      "              precision    recall  f1-score   support\n",
      "\n",
      "           0       0.52      0.45      0.48      4009\n",
      "           1       0.48      0.55      0.51      3763\n",
      "\n",
      "   micro avg       0.50      0.50      0.50      7772\n",
      "   macro avg       0.50      0.50      0.50      7772\n",
      "weighted avg       0.50      0.50      0.50      7772\n",
      "\n"
     ]
    }
   ],
   "source": [
    "print(classification_report(y_test, test_pred))"
   ]
  },
  {
   "cell_type": "code",
   "execution_count": null,
   "metadata": {},
   "outputs": [],
   "source": []
  }
 ],
 "metadata": {
  "kernelspec": {
   "display_name": "Python 3",
   "language": "python",
   "name": "python3"
  },
  "language_info": {
   "codemirror_mode": {
    "name": "ipython",
    "version": 3
   },
   "file_extension": ".py",
   "mimetype": "text/x-python",
   "name": "python",
   "nbconvert_exporter": "python",
   "pygments_lexer": "ipython3",
   "version": "3.7.3"
  }
 },
 "nbformat": 4,
 "nbformat_minor": 2
}
