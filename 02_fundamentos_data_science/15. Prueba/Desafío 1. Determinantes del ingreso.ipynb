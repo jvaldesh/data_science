{
 "cells": [
  {
   "cell_type": "markdown",
   "metadata": {},
   "source": [
    "### Desafío 1. Determinantes del ingreso\n",
    "\n",
    "<br>\n",
    "\n",
    "Nombre: **Julio Valdés**\n",
    "\n",
    "Profesor: Gabriel Tamayo\n",
    "\n",
    "Generación: **G5**\n"
   ]
  },
  {
   "cell_type": "markdown",
   "metadata": {},
   "source": [
    "## Hito 1"
   ]
  },
  {
   "cell_type": "markdown",
   "metadata": {},
   "source": [
    "### Preliminares\n",
    "#### Descripción del problema y objetivos\n",
    "* Se desea obtener la probabilidad que un individuo presente salarios por sobre los 50.000 dólares anuales en base a una serie de atributos sociodemográficos.\n",
    "* El tipo de problema a resolver es de clasificación.\n",
    "* El objetivo de este trabajo es desarrollar un modelo predictivo para obtener la probabilidad que un individuo presente salarios por sobre los 50.000 dólares anuales, en base a una serie de atributos sociodemográficos.\n",
    "\n",
    "#### Descripción de la solución\n",
    "* Se realizará un análisis descriptivo sobre las diferentes variables sociodemográficas.\n",
    "* Se eliminarán valores nulos.\n",
    "* Se recodificarán las variables de acuerdo a lo indicado en \"Aspectos adicionales a considerar\".\n",
    "* Se estandarizaran las variables que correspondan.\n",
    "* Se construirá un modelo descriptivo de regresión logística que considere a todas las variables sociodemográficas. En base a este modelo se determinarán las variables más significativas para explicar la variabilidad del resultado, connsiderando el estadístico y p-value.\n",
    "* Se construirá un modelo predictivo de regresión lineal que considere las variables resultantes del modelo descriptivo anterior. El modelo será entrenado con un 67% de los datos y validado con el 33% de estos. El modelo será evaluado de acuerdo a las métricas de precision, recall y f1. Además se hará uso de la curva ROC para complementar la evaluación del modelo.\n",
    "* En base a la evaluación anterior se establecerán las conclusiones."
   ]
  },
  {
   "cell_type": "markdown",
   "metadata": {},
   "source": [
    "### Aspectos computacionales\n",
    "#### Descripción de librerías y módulos\n",
    "Se usarán las siguientes librerías y módulos por cada etapa de la construcción del modelo:\n",
    "* ingesta: pandas\n",
    "* preprocesamiento: pandas, numpy, missingno\n",
    "* visualización: matplotlib, seaborn\n",
    "* modelación: statsmodels.api, statsmodels.formula.api, sklearn.preprocessing, sklearn.linear_model, sklearn.model_selection\n",
    "* métricas de evaluación: sklearn.metrics"
   ]
  },
  {
   "cell_type": "markdown",
   "metadata": {},
   "source": [
    "## Hito 2"
   ]
  },
  {
   "cell_type": "markdown",
   "metadata": {},
   "source": [
    "### Descripción"
   ]
  },
  {
   "cell_type": "markdown",
   "metadata": {},
   "source": [
    "#### Se importa la BD y se imprimen las primeras 5 filas a modo de ejemplo"
   ]
  },
  {
   "cell_type": "code",
   "execution_count": 203,
   "metadata": {},
   "outputs": [
    {
     "data": {
      "text/html": [
       "<div>\n",
       "<style scoped>\n",
       "    .dataframe tbody tr th:only-of-type {\n",
       "        vertical-align: middle;\n",
       "    }\n",
       "\n",
       "    .dataframe tbody tr th {\n",
       "        vertical-align: top;\n",
       "    }\n",
       "\n",
       "    .dataframe thead th {\n",
       "        text-align: right;\n",
       "    }\n",
       "</style>\n",
       "<table border=\"1\" class=\"dataframe\">\n",
       "  <thead>\n",
       "    <tr style=\"text-align: right;\">\n",
       "      <th></th>\n",
       "      <th>age</th>\n",
       "      <th>workclass</th>\n",
       "      <th>fnlwgt</th>\n",
       "      <th>education</th>\n",
       "      <th>educational-num</th>\n",
       "      <th>marital-status</th>\n",
       "      <th>occupation</th>\n",
       "      <th>relationship</th>\n",
       "      <th>race</th>\n",
       "      <th>gender</th>\n",
       "      <th>capital-gain</th>\n",
       "      <th>capital-loss</th>\n",
       "      <th>hours-per-week</th>\n",
       "      <th>native-country</th>\n",
       "      <th>income</th>\n",
       "    </tr>\n",
       "  </thead>\n",
       "  <tbody>\n",
       "    <tr>\n",
       "      <th>0</th>\n",
       "      <td>25</td>\n",
       "      <td>Private</td>\n",
       "      <td>226802</td>\n",
       "      <td>11th</td>\n",
       "      <td>7</td>\n",
       "      <td>Never-married</td>\n",
       "      <td>Machine-op-inspct</td>\n",
       "      <td>Own-child</td>\n",
       "      <td>Black</td>\n",
       "      <td>Male</td>\n",
       "      <td>0</td>\n",
       "      <td>0</td>\n",
       "      <td>40</td>\n",
       "      <td>United-States</td>\n",
       "      <td>&lt;=50K</td>\n",
       "    </tr>\n",
       "    <tr>\n",
       "      <th>1</th>\n",
       "      <td>38</td>\n",
       "      <td>Private</td>\n",
       "      <td>89814</td>\n",
       "      <td>HS-grad</td>\n",
       "      <td>9</td>\n",
       "      <td>Married-civ-spouse</td>\n",
       "      <td>Farming-fishing</td>\n",
       "      <td>Husband</td>\n",
       "      <td>White</td>\n",
       "      <td>Male</td>\n",
       "      <td>0</td>\n",
       "      <td>0</td>\n",
       "      <td>50</td>\n",
       "      <td>United-States</td>\n",
       "      <td>&lt;=50K</td>\n",
       "    </tr>\n",
       "    <tr>\n",
       "      <th>2</th>\n",
       "      <td>28</td>\n",
       "      <td>Local-gov</td>\n",
       "      <td>336951</td>\n",
       "      <td>Assoc-acdm</td>\n",
       "      <td>12</td>\n",
       "      <td>Married-civ-spouse</td>\n",
       "      <td>Protective-serv</td>\n",
       "      <td>Husband</td>\n",
       "      <td>White</td>\n",
       "      <td>Male</td>\n",
       "      <td>0</td>\n",
       "      <td>0</td>\n",
       "      <td>40</td>\n",
       "      <td>United-States</td>\n",
       "      <td>&gt;50K</td>\n",
       "    </tr>\n",
       "    <tr>\n",
       "      <th>3</th>\n",
       "      <td>44</td>\n",
       "      <td>Private</td>\n",
       "      <td>160323</td>\n",
       "      <td>Some-college</td>\n",
       "      <td>10</td>\n",
       "      <td>Married-civ-spouse</td>\n",
       "      <td>Machine-op-inspct</td>\n",
       "      <td>Husband</td>\n",
       "      <td>Black</td>\n",
       "      <td>Male</td>\n",
       "      <td>7688</td>\n",
       "      <td>0</td>\n",
       "      <td>40</td>\n",
       "      <td>United-States</td>\n",
       "      <td>&gt;50K</td>\n",
       "    </tr>\n",
       "    <tr>\n",
       "      <th>4</th>\n",
       "      <td>18</td>\n",
       "      <td>?</td>\n",
       "      <td>103497</td>\n",
       "      <td>Some-college</td>\n",
       "      <td>10</td>\n",
       "      <td>Never-married</td>\n",
       "      <td>?</td>\n",
       "      <td>Own-child</td>\n",
       "      <td>White</td>\n",
       "      <td>Female</td>\n",
       "      <td>0</td>\n",
       "      <td>0</td>\n",
       "      <td>30</td>\n",
       "      <td>United-States</td>\n",
       "      <td>&lt;=50K</td>\n",
       "    </tr>\n",
       "  </tbody>\n",
       "</table>\n",
       "</div>"
      ],
      "text/plain": [
       "   age  workclass  fnlwgt     education  educational-num      marital-status  \\\n",
       "0   25    Private  226802          11th                7       Never-married   \n",
       "1   38    Private   89814       HS-grad                9  Married-civ-spouse   \n",
       "2   28  Local-gov  336951    Assoc-acdm               12  Married-civ-spouse   \n",
       "3   44    Private  160323  Some-college               10  Married-civ-spouse   \n",
       "4   18          ?  103497  Some-college               10       Never-married   \n",
       "\n",
       "          occupation relationship   race  gender  capital-gain  capital-loss  \\\n",
       "0  Machine-op-inspct    Own-child  Black    Male             0             0   \n",
       "1    Farming-fishing      Husband  White    Male             0             0   \n",
       "2    Protective-serv      Husband  White    Male             0             0   \n",
       "3  Machine-op-inspct      Husband  Black    Male          7688             0   \n",
       "4                  ?    Own-child  White  Female             0             0   \n",
       "\n",
       "   hours-per-week native-country income  \n",
       "0              40  United-States  <=50K  \n",
       "1              50  United-States  <=50K  \n",
       "2              40  United-States   >50K  \n",
       "3              40  United-States   >50K  \n",
       "4              30  United-States  <=50K  "
      ]
     },
     "execution_count": 203,
     "metadata": {},
     "output_type": "execute_result"
    }
   ],
   "source": [
    "import pandas as pd\n",
    "import numpy as np\n",
    "\n",
    "import matplotlib.pyplot as plt\n",
    "import seaborn as sns\n",
    "import missingno as msngo\n",
    "\n",
    "# statsmodels\n",
    "import statsmodels.api as sm\n",
    "import statsmodels.formula.api as smf\n",
    "\n",
    "# sklearn\n",
    "from sklearn.linear_model import LogisticRegression\n",
    "from sklearn.model_selection import train_test_split\n",
    "from sklearn.preprocessing import StandardScaler\n",
    "from sklearn.metrics import classification_report\n",
    "from sklearn.metrics import roc_curve\n",
    "from sklearn.metrics import roc_auc_score\n",
    "\n",
    "df = pd.read_csv('income-db.csv')\n",
    "df.head(5)"
   ]
  },
  {
   "cell_type": "markdown",
   "metadata": {},
   "source": [
    "#### Se realiza la inspección visual del vector objetivo\n",
    "* La BD cuenta con un 24% de los datos correspondientes a personas con un ingreso anual mayor a 50000 y el 76% restante a personas con un ingreso menor a 50000."
   ]
  },
  {
   "cell_type": "code",
   "execution_count": 180,
   "metadata": {},
   "outputs": [
    {
     "data": {
      "text/plain": [
       "<=50K    0.760718\n",
       ">50K     0.239282\n",
       "Name: income, dtype: float64"
      ]
     },
     "execution_count": 180,
     "metadata": {},
     "output_type": "execute_result"
    }
   ],
   "source": [
    "df['income'].value_counts('%')"
   ]
  },
  {
   "cell_type": "markdown",
   "metadata": {},
   "source": [
    "#### Se realiza la inspección visual de las variables contínuas"
   ]
  },
  {
   "cell_type": "code",
   "execution_count": 181,
   "metadata": {},
   "outputs": [
    {
     "data": {
      "text/html": [
       "<div>\n",
       "<style scoped>\n",
       "    .dataframe tbody tr th:only-of-type {\n",
       "        vertical-align: middle;\n",
       "    }\n",
       "\n",
       "    .dataframe tbody tr th {\n",
       "        vertical-align: top;\n",
       "    }\n",
       "\n",
       "    .dataframe thead th {\n",
       "        text-align: right;\n",
       "    }\n",
       "</style>\n",
       "<table border=\"1\" class=\"dataframe\">\n",
       "  <thead>\n",
       "    <tr style=\"text-align: right;\">\n",
       "      <th></th>\n",
       "      <th>age</th>\n",
       "      <th>fnlwgt</th>\n",
       "      <th>educational-num</th>\n",
       "      <th>capital-gain</th>\n",
       "      <th>capital-loss</th>\n",
       "      <th>hours-per-week</th>\n",
       "    </tr>\n",
       "  </thead>\n",
       "  <tbody>\n",
       "    <tr>\n",
       "      <th>count</th>\n",
       "      <td>48842.000000</td>\n",
       "      <td>4.884200e+04</td>\n",
       "      <td>48842.000000</td>\n",
       "      <td>48842.000000</td>\n",
       "      <td>48842.000000</td>\n",
       "      <td>48842.000000</td>\n",
       "    </tr>\n",
       "    <tr>\n",
       "      <th>mean</th>\n",
       "      <td>38.643585</td>\n",
       "      <td>1.896641e+05</td>\n",
       "      <td>10.078089</td>\n",
       "      <td>1079.067626</td>\n",
       "      <td>87.502314</td>\n",
       "      <td>40.422382</td>\n",
       "    </tr>\n",
       "    <tr>\n",
       "      <th>std</th>\n",
       "      <td>13.710510</td>\n",
       "      <td>1.056040e+05</td>\n",
       "      <td>2.570973</td>\n",
       "      <td>7452.019058</td>\n",
       "      <td>403.004552</td>\n",
       "      <td>12.391444</td>\n",
       "    </tr>\n",
       "    <tr>\n",
       "      <th>min</th>\n",
       "      <td>17.000000</td>\n",
       "      <td>1.228500e+04</td>\n",
       "      <td>1.000000</td>\n",
       "      <td>0.000000</td>\n",
       "      <td>0.000000</td>\n",
       "      <td>1.000000</td>\n",
       "    </tr>\n",
       "    <tr>\n",
       "      <th>25%</th>\n",
       "      <td>28.000000</td>\n",
       "      <td>1.175505e+05</td>\n",
       "      <td>9.000000</td>\n",
       "      <td>0.000000</td>\n",
       "      <td>0.000000</td>\n",
       "      <td>40.000000</td>\n",
       "    </tr>\n",
       "    <tr>\n",
       "      <th>50%</th>\n",
       "      <td>37.000000</td>\n",
       "      <td>1.781445e+05</td>\n",
       "      <td>10.000000</td>\n",
       "      <td>0.000000</td>\n",
       "      <td>0.000000</td>\n",
       "      <td>40.000000</td>\n",
       "    </tr>\n",
       "    <tr>\n",
       "      <th>75%</th>\n",
       "      <td>48.000000</td>\n",
       "      <td>2.376420e+05</td>\n",
       "      <td>12.000000</td>\n",
       "      <td>0.000000</td>\n",
       "      <td>0.000000</td>\n",
       "      <td>45.000000</td>\n",
       "    </tr>\n",
       "    <tr>\n",
       "      <th>max</th>\n",
       "      <td>90.000000</td>\n",
       "      <td>1.490400e+06</td>\n",
       "      <td>16.000000</td>\n",
       "      <td>99999.000000</td>\n",
       "      <td>4356.000000</td>\n",
       "      <td>99.000000</td>\n",
       "    </tr>\n",
       "  </tbody>\n",
       "</table>\n",
       "</div>"
      ],
      "text/plain": [
       "                age        fnlwgt  educational-num  capital-gain  \\\n",
       "count  48842.000000  4.884200e+04     48842.000000  48842.000000   \n",
       "mean      38.643585  1.896641e+05        10.078089   1079.067626   \n",
       "std       13.710510  1.056040e+05         2.570973   7452.019058   \n",
       "min       17.000000  1.228500e+04         1.000000      0.000000   \n",
       "25%       28.000000  1.175505e+05         9.000000      0.000000   \n",
       "50%       37.000000  1.781445e+05        10.000000      0.000000   \n",
       "75%       48.000000  2.376420e+05        12.000000      0.000000   \n",
       "max       90.000000  1.490400e+06        16.000000  99999.000000   \n",
       "\n",
       "       capital-loss  hours-per-week  \n",
       "count  48842.000000    48842.000000  \n",
       "mean      87.502314       40.422382  \n",
       "std      403.004552       12.391444  \n",
       "min        0.000000        1.000000  \n",
       "25%        0.000000       40.000000  \n",
       "50%        0.000000       40.000000  \n",
       "75%        0.000000       45.000000  \n",
       "max     4356.000000       99.000000  "
      ]
     },
     "execution_count": 181,
     "metadata": {},
     "output_type": "execute_result"
    }
   ],
   "source": [
    "df.describe()"
   ]
  },
  {
   "cell_type": "markdown",
   "metadata": {},
   "source": [
    "#### Se realiza la inspección visual de las variables categóricas\n",
    "* En la variable workclass la categoría Private abarca un 70% de los datos\n",
    "* En la variable race la categoría White abarca un 86% de los datos\n",
    "* En la variable gender la categoría Male abarca un 67% de los datos\n",
    "* En la variable native-country la categoría United-States abarca un 90% de los datos"
   ]
  },
  {
   "cell_type": "code",
   "execution_count": 182,
   "metadata": {},
   "outputs": [
    {
     "name": "stdout",
     "output_type": "stream",
     "text": [
      "workclass\n",
      "Private             0.694198\n",
      "Self-emp-not-inc    0.079071\n",
      "Local-gov           0.064207\n",
      "?                   0.057307\n",
      "State-gov           0.040559\n",
      "Self-emp-inc        0.034704\n",
      "Federal-gov         0.029319\n",
      "Without-pay         0.000430\n",
      "Never-worked        0.000205\n",
      "Name: workclass, dtype: float64\n",
      "education\n",
      "HS-grad         0.323164\n",
      "Some-college    0.222718\n",
      "Bachelors       0.164305\n",
      "Masters         0.054400\n",
      "Assoc-voc       0.042197\n",
      "11th            0.037099\n",
      "Assoc-acdm      0.032779\n",
      "10th            0.028439\n",
      "7th-8th         0.019553\n",
      "Prof-school     0.017075\n",
      "9th             0.015478\n",
      "12th            0.013452\n",
      "Doctorate       0.012162\n",
      "5th-6th         0.010421\n",
      "1st-4th         0.005057\n",
      "Preschool       0.001699\n",
      "Name: education, dtype: float64\n",
      "marital-status\n",
      "Married-civ-spouse       0.458192\n",
      "Never-married            0.329982\n",
      "Divorced                 0.135805\n",
      "Separated                0.031325\n",
      "Widowed                  0.031080\n",
      "Married-spouse-absent    0.012858\n",
      "Married-AF-spouse        0.000758\n",
      "Name: marital-status, dtype: float64\n",
      "occupation\n",
      "Prof-specialty       0.126367\n",
      "Craft-repair         0.125138\n",
      "Exec-managerial      0.124606\n",
      "Adm-clerical         0.114881\n",
      "Sales                0.112690\n",
      "Other-service        0.100794\n",
      "Machine-op-inspct    0.061873\n",
      "?                    0.057512\n",
      "Transport-moving     0.048217\n",
      "Handlers-cleaners    0.042423\n",
      "Farming-fishing      0.030507\n",
      "Tech-support         0.029606\n",
      "Protective-serv      0.020126\n",
      "Priv-house-serv      0.004955\n",
      "Armed-Forces         0.000307\n",
      "Name: occupation, dtype: float64\n",
      "relationship\n",
      "Husband           0.403669\n",
      "Not-in-family     0.257627\n",
      "Own-child         0.155215\n",
      "Unmarried         0.104930\n",
      "Wife              0.047725\n",
      "Other-relative    0.030834\n",
      "Name: relationship, dtype: float64\n",
      "race\n",
      "White                 0.855043\n",
      "Black                 0.095922\n",
      "Asian-Pac-Islander    0.031100\n",
      "Amer-Indian-Eskimo    0.009623\n",
      "Other                 0.008313\n",
      "Name: race, dtype: float64\n",
      "gender\n",
      "Male      0.668482\n",
      "Female    0.331518\n",
      "Name: gender, dtype: float64\n",
      "native-country\n",
      "United-States                 0.897424\n",
      "Mexico                        0.019471\n",
      "?                             0.017546\n",
      "Philippines                   0.006040\n",
      "Germany                       0.004218\n",
      "Puerto-Rico                   0.003767\n",
      "Canada                        0.003726\n",
      "El-Salvador                   0.003173\n",
      "India                         0.003092\n",
      "Cuba                          0.002825\n",
      "England                       0.002600\n",
      "China                         0.002498\n",
      "South                         0.002355\n",
      "Jamaica                       0.002170\n",
      "Italy                         0.002150\n",
      "Dominican-Republic            0.002109\n",
      "Japan                         0.001884\n",
      "Guatemala                     0.001802\n",
      "Poland                        0.001781\n",
      "Vietnam                       0.001761\n",
      "Columbia                      0.001740\n",
      "Haiti                         0.001536\n",
      "Portugal                      0.001372\n",
      "Taiwan                        0.001331\n",
      "Iran                          0.001208\n",
      "Nicaragua                     0.001003\n",
      "Greece                        0.001003\n",
      "Peru                          0.000942\n",
      "Ecuador                       0.000921\n",
      "France                        0.000778\n",
      "Ireland                       0.000758\n",
      "Thailand                      0.000614\n",
      "Hong                          0.000614\n",
      "Cambodia                      0.000573\n",
      "Trinadad&Tobago               0.000553\n",
      "Laos                          0.000471\n",
      "Yugoslavia                    0.000471\n",
      "Outlying-US(Guam-USVI-etc)    0.000471\n",
      "Scotland                      0.000430\n",
      "Honduras                      0.000409\n",
      "Hungary                       0.000389\n",
      "Holand-Netherlands            0.000020\n",
      "Name: native-country, dtype: float64\n"
     ]
    }
   ],
   "source": [
    "for var in ['workclass', 'education', 'marital-status', 'occupation', 'relationship', 'race', 'gender', 'native-country']:\n",
    "    print(var)\n",
    "    print(df[var].value_counts('%'))"
   ]
  },
  {
   "cell_type": "markdown",
   "metadata": {},
   "source": [
    "#### Se calcula y grafica la correlación de las variables\n",
    "* Al graficar la correlación se observa que no existe una correlación significativa entre las variables"
   ]
  },
  {
   "cell_type": "code",
   "execution_count": 183,
   "metadata": {},
   "outputs": [
    {
     "data": {
      "text/html": [
       "<div>\n",
       "<style scoped>\n",
       "    .dataframe tbody tr th:only-of-type {\n",
       "        vertical-align: middle;\n",
       "    }\n",
       "\n",
       "    .dataframe tbody tr th {\n",
       "        vertical-align: top;\n",
       "    }\n",
       "\n",
       "    .dataframe thead th {\n",
       "        text-align: right;\n",
       "    }\n",
       "</style>\n",
       "<table border=\"1\" class=\"dataframe\">\n",
       "  <thead>\n",
       "    <tr style=\"text-align: right;\">\n",
       "      <th></th>\n",
       "      <th>age</th>\n",
       "      <th>fnlwgt</th>\n",
       "      <th>educational-num</th>\n",
       "      <th>capital-gain</th>\n",
       "      <th>capital-loss</th>\n",
       "      <th>hours-per-week</th>\n",
       "    </tr>\n",
       "  </thead>\n",
       "  <tbody>\n",
       "    <tr>\n",
       "      <th>age</th>\n",
       "      <td>1.000000</td>\n",
       "      <td>-0.076628</td>\n",
       "      <td>0.030940</td>\n",
       "      <td>0.077229</td>\n",
       "      <td>0.056944</td>\n",
       "      <td>0.071558</td>\n",
       "    </tr>\n",
       "    <tr>\n",
       "      <th>fnlwgt</th>\n",
       "      <td>-0.076628</td>\n",
       "      <td>1.000000</td>\n",
       "      <td>-0.038761</td>\n",
       "      <td>-0.003706</td>\n",
       "      <td>-0.004366</td>\n",
       "      <td>-0.013519</td>\n",
       "    </tr>\n",
       "    <tr>\n",
       "      <th>educational-num</th>\n",
       "      <td>0.030940</td>\n",
       "      <td>-0.038761</td>\n",
       "      <td>1.000000</td>\n",
       "      <td>0.125146</td>\n",
       "      <td>0.080972</td>\n",
       "      <td>0.143689</td>\n",
       "    </tr>\n",
       "    <tr>\n",
       "      <th>capital-gain</th>\n",
       "      <td>0.077229</td>\n",
       "      <td>-0.003706</td>\n",
       "      <td>0.125146</td>\n",
       "      <td>1.000000</td>\n",
       "      <td>-0.031441</td>\n",
       "      <td>0.082157</td>\n",
       "    </tr>\n",
       "    <tr>\n",
       "      <th>capital-loss</th>\n",
       "      <td>0.056944</td>\n",
       "      <td>-0.004366</td>\n",
       "      <td>0.080972</td>\n",
       "      <td>-0.031441</td>\n",
       "      <td>1.000000</td>\n",
       "      <td>0.054467</td>\n",
       "    </tr>\n",
       "    <tr>\n",
       "      <th>hours-per-week</th>\n",
       "      <td>0.071558</td>\n",
       "      <td>-0.013519</td>\n",
       "      <td>0.143689</td>\n",
       "      <td>0.082157</td>\n",
       "      <td>0.054467</td>\n",
       "      <td>1.000000</td>\n",
       "    </tr>\n",
       "  </tbody>\n",
       "</table>\n",
       "</div>"
      ],
      "text/plain": [
       "                      age    fnlwgt  educational-num  capital-gain  \\\n",
       "age              1.000000 -0.076628         0.030940      0.077229   \n",
       "fnlwgt          -0.076628  1.000000        -0.038761     -0.003706   \n",
       "educational-num  0.030940 -0.038761         1.000000      0.125146   \n",
       "capital-gain     0.077229 -0.003706         0.125146      1.000000   \n",
       "capital-loss     0.056944 -0.004366         0.080972     -0.031441   \n",
       "hours-per-week   0.071558 -0.013519         0.143689      0.082157   \n",
       "\n",
       "                 capital-loss  hours-per-week  \n",
       "age                  0.056944        0.071558  \n",
       "fnlwgt              -0.004366       -0.013519  \n",
       "educational-num      0.080972        0.143689  \n",
       "capital-gain        -0.031441        0.082157  \n",
       "capital-loss         1.000000        0.054467  \n",
       "hours-per-week       0.054467        1.000000  "
      ]
     },
     "execution_count": 183,
     "metadata": {},
     "output_type": "execute_result"
    }
   ],
   "source": [
    "corr_mat = df.corr()\n",
    "corr_mat"
   ]
  },
  {
   "cell_type": "code",
   "execution_count": 184,
   "metadata": {},
   "outputs": [
    {
     "data": {
      "text/plain": [
       "<matplotlib.axes._subplots.AxesSubplot at 0x1a30efb828>"
      ]
     },
     "execution_count": 184,
     "metadata": {},
     "output_type": "execute_result"
    },
    {
     "data": {
      "image/png": "[encoded data removed]",
      "text/plain": [
       "<Figure size 720x288 with 2 Axes>"
      ]
     },
     "metadata": {
      "needs_background": "light"
     },
     "output_type": "display_data"
    }
   ],
   "source": [
    "plt.figure(figsize = (10, 4))\n",
    "sns.heatmap(corr_mat, cmap='Blues', annot=True)"
   ]
  },
  {
   "cell_type": "markdown",
   "metadata": {},
   "source": [
    "#### Se inspeccionan los datos perdidos de la BD\n",
    "* Se observa que las variables workclass, occupation y native-country presentan la mayor cantidad de datos perdidos."
   ]
  },
  {
   "cell_type": "code",
   "execution_count": 185,
   "metadata": {},
   "outputs": [
    {
     "name": "stdout",
     "output_type": "stream",
     "text": [
      "age 0.0\n",
      "workclass 0.057\n",
      "fnlwgt 0.0\n",
      "education 0.0\n",
      "educational-num 0.0\n",
      "marital-status 0.0\n",
      "occupation 0.058\n",
      "relationship 0.0\n",
      "race 0.0\n",
      "gender 0.0\n",
      "capital-gain 0.0\n",
      "capital-loss 0.0\n",
      "hours-per-week 0.0\n",
      "native-country 0.018\n",
      "income 0.0\n"
     ]
    },
    {
     "data": {
      "text/plain": [
       "<matplotlib.axes._subplots.AxesSubplot at 0x1a4ae31f28>"
      ]
     },
     "execution_count": 185,
     "metadata": {},
     "output_type": "execute_result"
    },
    {
     "data": {
      "text/plain": [
       "<Figure size 288x288 with 0 Axes>"
      ]
     },
     "metadata": {},
     "output_type": "display_data"
    },
    {
     "data": {
      "image/png": "[encoded data removed]",
      "text/plain": [
       "<Figure size 1800x720 with 2 Axes>"
      ]
     },
     "metadata": {
      "needs_background": "light"
     },
     "output_type": "display_data"
    }
   ],
   "source": [
    "df = df.replace([\"?\"], [np.nan])\n",
    "for colname, serie in df.iteritems():\n",
    "    if serie.isna().value_counts('%')[False] == 1.0:\n",
    "        print(colname, 0.0)\n",
    "    else:\n",
    "        print(colname, serie.isna().value_counts('%')[True].round(3))\n",
    "        \n",
    "plt.figure(figsize=(4,4))\n",
    "msngo.matrix(df)"
   ]
  },
  {
   "cell_type": "markdown",
   "metadata": {},
   "source": [
    "#### Se realiza la recodificación de las variables\n",
    "* Para el caso de workclass Private se crea una categoría llamada private\n",
    "* Para el caso de marital-status Never-married se crea una categoría never-married"
   ]
  },
  {
   "cell_type": "code",
   "execution_count": 186,
   "metadata": {},
   "outputs": [],
   "source": [
    "df['collars'] = np.nan\n",
    "df['workclass_recod'] = np.nan\n",
    "df['educ_recod'] = np.nan\n",
    "df['civstatus'] = np.nan\n",
    "df['region'] = np.nan\n",
    "\n",
    "df['collars'] = np.where(\n",
    "    df['occupation'].isin(\n",
    "        ['Prof-specialty', 'Exec-managerial', 'Adm-clerical', 'Sales', 'Tech-support']\n",
    "    ), 'white-collar', df['collars'])\n",
    "\n",
    "df['collars'] = np.where(\n",
    "    df['occupation'].isin(\n",
    "        ['Craft-repair', 'Machine-op-inspct', 'Transport-moving', 'Handlers-cleaners', 'Farming-fishing', 'Protective-serv', 'Priv-house-serv']\n",
    "    ), 'blue-collar', df['collars'])\n",
    "\n",
    "df['collars'] = np.where(\n",
    "    df['occupation'].isin(\n",
    "        ['Other-service', 'Armed-Forces']\n",
    "    ), 'others', df['collars'])\n",
    "\n",
    "df['workclass_recod'] = np.where(\n",
    "    df['workclass'].isin(\n",
    "        ['Private']\n",
    "    ), 'private', df['workclass_recod'])\n",
    "\n",
    "df['workclass_recod'] = np.where(\n",
    "    df['workclass'].isin(\n",
    "        ['Federal-gov']\n",
    "    ), 'federal-gov', df['workclass_recod'])\n",
    "\n",
    "df['workclass_recod'] = np.where(\n",
    "    df['workclass'].isin(\n",
    "        ['State-gov', 'Local-gov']\n",
    "    ), 'state-level-gov', df['workclass_recod'])\n",
    "\n",
    "df['workclass_recod'] = np.where(\n",
    "    df['workclass'].isin(\n",
    "        ['Self-emp-inc', 'Self-emp-not-inc']\n",
    "    ), 'self-employed', df['workclass_recod'])\n",
    "\n",
    "df['workclass_recod'] = np.where(\n",
    "    df['workclass'].isin(\n",
    "        ['Never-worked', 'Without-pay']\n",
    "    ), 'unemployed', df['workclass_recod'])\n",
    "\n",
    "df['educ_recod'] = np.where(\n",
    "    df['education'].isin(\n",
    "        ['Preschool']\n",
    "    ), 'preschool', df['educ_recod'])\n",
    "\n",
    "df['educ_recod'] = np.where(\n",
    "    df['education'].isin( \n",
    "        ['1st-4th', '5th-6th']\n",
    "    ), 'elementary-school', df['educ_recod'])\n",
    "\n",
    "df['educ_recod'] = np.where(\n",
    "    df['education'].isin(\n",
    "        ['7th-8th', '9th', '10th', '11th', '12th', 'HS-grad']\n",
    "    ), 'high-school', df['educ_recod'])\n",
    "\n",
    "df['educ_recod'] = np.where(\n",
    "    df['education'].isin(\n",
    "        ['Assoc-voc', 'Assoc-acdm', 'Some-college']\n",
    "    ), 'college', df['educ_recod'])\n",
    "\n",
    "df['educ_recod'] = np.where(\n",
    "    df['education'].isin(\n",
    "        ['Bachelors', 'Masters', 'Prof-school', 'Doctorate']\n",
    "    ), 'university', df['educ_recod'])\n",
    "\n",
    "df['civstatus'] = np.where(\n",
    "    df['marital-status'].isin(\n",
    "        ['Married-civ-spouse', 'Married-spouse-absent', 'Married-AF-spouse']\n",
    "    ), 'married', df['civstatus'])\n",
    "\n",
    "df['civstatus'] = np.where(\n",
    "    df['marital-status'].isin(\n",
    "        ['Divorced']\n",
    "    ), 'divorced', df['civstatus'])\n",
    "\n",
    "df['civstatus'] = np.where(\n",
    "    df['marital-status'].isin(\n",
    "        ['Separated']\n",
    "    ), 'separated', df['civstatus'])\n",
    "\n",
    "df['civstatus'] = np.where(\n",
    "    df['marital-status'].isin(\n",
    "        ['Widowed']\n",
    "    ), 'widowed', df['civstatus'])\n",
    "\n",
    "df['civstatus'] = np.where(\n",
    "    df['marital-status'].isin(\n",
    "        ['Never-married']\n",
    "    ), 'never-married', df['civstatus'])\n",
    "\n",
    "df['region'] = np.where(\n",
    "    df['native-country'].isin(\n",
    "        ['Germany', 'England', 'Italy', 'France', 'Holand-Netherlands', 'Hungary', 'Scotland', 'Yugoslavia', 'Ireland', 'Greece', 'Portugal', 'Poland']\n",
    "    ), 'europa', df['region'])\n",
    "\n",
    "df['region'] = np.where(\n",
    "    df['native-country'].isin(\n",
    "        ['United-States', 'Mexico', 'Puerto-Rico', 'Canada', 'El-Salvador', 'Cuba', 'Jamaica', 'Dominican-Republic', 'Guatemala', 'Columbia', 'Haiti', 'Nicaragua', 'Peru', 'Ecuador', 'Honduras', 'Trinadad&Tobago', 'Outlying-US(Guam-USVI-etc)']\n",
    "    ), 'america', df['region'])\n",
    "\n",
    "df['region'] = np.where(\n",
    "    df['native-country'].isin(\n",
    "        ['Philippines', 'India', 'China', 'South', 'Japan', 'Vietnam', 'Taiwan', 'Iran', 'Thailand', 'Hong', 'Cambodia', 'Laos']\n",
    "    ), 'asia', df['region'])"
   ]
  },
  {
   "cell_type": "markdown",
   "metadata": {},
   "source": [
    "#### Se eliminan filas con registros nulos"
   ]
  },
  {
   "cell_type": "code",
   "execution_count": 187,
   "metadata": {},
   "outputs": [],
   "source": [
    "df_dropna = df.dropna()"
   ]
  },
  {
   "cell_type": "markdown",
   "metadata": {},
   "source": [
    "#### Se recodifican las variables: relationship, race, gender, collars, workclass_recod, educ_recod, civstatus, region."
   ]
  },
  {
   "cell_type": "code",
   "execution_count": 188,
   "metadata": {},
   "outputs": [],
   "source": [
    "df_dropna = df_dropna.join(pd.get_dummies(df_dropna['relationship'], drop_first=True))\n",
    "df_dropna = df_dropna.join(pd.get_dummies(df_dropna['race'], drop_first=True))\n",
    "df_dropna = df_dropna.join(pd.get_dummies(df_dropna['gender'], drop_first=True))\n",
    "df_dropna = df_dropna.join(pd.get_dummies(df_dropna['collars'], drop_first=True))\n",
    "df_dropna = df_dropna.join(pd.get_dummies(df_dropna['workclass_recod'], drop_first=True))\n",
    "df_dropna = df_dropna.join(pd.get_dummies(df_dropna['educ_recod'], drop_first=True))\n",
    "df_dropna = df_dropna.join(pd.get_dummies(df_dropna['civstatus'], drop_first=True))\n",
    "df_dropna = df_dropna.join(pd.get_dummies(df_dropna['region'], drop_first=True))\n",
    "\n",
    "df_dropna['income_bin'] = np.where(df_dropna['income'] == '>50K', 1, 0)"
   ]
  },
  {
   "cell_type": "markdown",
   "metadata": {},
   "source": [
    "## Hito 3"
   ]
  },
  {
   "cell_type": "markdown",
   "metadata": {},
   "source": [
    "### Modelación descriptiva\n",
    "* Se eliminan variables que no se utilizan en modelo\n",
    "* Se elimina guion \"-\" del nombre de las columnas"
   ]
  },
  {
   "cell_type": "code",
   "execution_count": 189,
   "metadata": {},
   "outputs": [],
   "source": [
    "df_model = df_dropna.drop(['occupation', 'workclass', 'education', 'marital-status', 'native-country', 'income', 'relationship', 'race', 'gender', 'collars', 'workclass_recod', 'educ_recod', 'civstatus', 'region'], axis=1)\n",
    "df_model.columns = df_model.columns.str.replace('-', '_')"
   ]
  },
  {
   "cell_type": "code",
   "execution_count": 190,
   "metadata": {},
   "outputs": [
    {
     "data": {
      "text/html": [
       "<div>\n",
       "<style scoped>\n",
       "    .dataframe tbody tr th:only-of-type {\n",
       "        vertical-align: middle;\n",
       "    }\n",
       "\n",
       "    .dataframe tbody tr th {\n",
       "        vertical-align: top;\n",
       "    }\n",
       "\n",
       "    .dataframe thead th {\n",
       "        text-align: right;\n",
       "    }\n",
       "</style>\n",
       "<table border=\"1\" class=\"dataframe\">\n",
       "  <thead>\n",
       "    <tr style=\"text-align: right;\">\n",
       "      <th></th>\n",
       "      <th>age</th>\n",
       "      <th>fnlwgt</th>\n",
       "      <th>educational_num</th>\n",
       "      <th>capital_gain</th>\n",
       "      <th>capital_loss</th>\n",
       "      <th>hours_per_week</th>\n",
       "      <th>Not_in_family</th>\n",
       "      <th>Other_relative</th>\n",
       "      <th>Own_child</th>\n",
       "      <th>Unmarried</th>\n",
       "      <th>...</th>\n",
       "      <th>high_school</th>\n",
       "      <th>preschool</th>\n",
       "      <th>university</th>\n",
       "      <th>married</th>\n",
       "      <th>never_married</th>\n",
       "      <th>separated</th>\n",
       "      <th>widowed</th>\n",
       "      <th>asia</th>\n",
       "      <th>europa</th>\n",
       "      <th>income_bin</th>\n",
       "    </tr>\n",
       "  </thead>\n",
       "  <tbody>\n",
       "    <tr>\n",
       "      <th>0</th>\n",
       "      <td>25</td>\n",
       "      <td>226802</td>\n",
       "      <td>7</td>\n",
       "      <td>0</td>\n",
       "      <td>0</td>\n",
       "      <td>40</td>\n",
       "      <td>0</td>\n",
       "      <td>0</td>\n",
       "      <td>1</td>\n",
       "      <td>0</td>\n",
       "      <td>...</td>\n",
       "      <td>1</td>\n",
       "      <td>0</td>\n",
       "      <td>0</td>\n",
       "      <td>0</td>\n",
       "      <td>1</td>\n",
       "      <td>0</td>\n",
       "      <td>0</td>\n",
       "      <td>0</td>\n",
       "      <td>0</td>\n",
       "      <td>0</td>\n",
       "    </tr>\n",
       "    <tr>\n",
       "      <th>1</th>\n",
       "      <td>38</td>\n",
       "      <td>89814</td>\n",
       "      <td>9</td>\n",
       "      <td>0</td>\n",
       "      <td>0</td>\n",
       "      <td>50</td>\n",
       "      <td>0</td>\n",
       "      <td>0</td>\n",
       "      <td>0</td>\n",
       "      <td>0</td>\n",
       "      <td>...</td>\n",
       "      <td>1</td>\n",
       "      <td>0</td>\n",
       "      <td>0</td>\n",
       "      <td>1</td>\n",
       "      <td>0</td>\n",
       "      <td>0</td>\n",
       "      <td>0</td>\n",
       "      <td>0</td>\n",
       "      <td>0</td>\n",
       "      <td>0</td>\n",
       "    </tr>\n",
       "    <tr>\n",
       "      <th>2</th>\n",
       "      <td>28</td>\n",
       "      <td>336951</td>\n",
       "      <td>12</td>\n",
       "      <td>0</td>\n",
       "      <td>0</td>\n",
       "      <td>40</td>\n",
       "      <td>0</td>\n",
       "      <td>0</td>\n",
       "      <td>0</td>\n",
       "      <td>0</td>\n",
       "      <td>...</td>\n",
       "      <td>0</td>\n",
       "      <td>0</td>\n",
       "      <td>0</td>\n",
       "      <td>1</td>\n",
       "      <td>0</td>\n",
       "      <td>0</td>\n",
       "      <td>0</td>\n",
       "      <td>0</td>\n",
       "      <td>0</td>\n",
       "      <td>1</td>\n",
       "    </tr>\n",
       "    <tr>\n",
       "      <th>3</th>\n",
       "      <td>44</td>\n",
       "      <td>160323</td>\n",
       "      <td>10</td>\n",
       "      <td>7688</td>\n",
       "      <td>0</td>\n",
       "      <td>40</td>\n",
       "      <td>0</td>\n",
       "      <td>0</td>\n",
       "      <td>0</td>\n",
       "      <td>0</td>\n",
       "      <td>...</td>\n",
       "      <td>0</td>\n",
       "      <td>0</td>\n",
       "      <td>0</td>\n",
       "      <td>1</td>\n",
       "      <td>0</td>\n",
       "      <td>0</td>\n",
       "      <td>0</td>\n",
       "      <td>0</td>\n",
       "      <td>0</td>\n",
       "      <td>1</td>\n",
       "    </tr>\n",
       "    <tr>\n",
       "      <th>5</th>\n",
       "      <td>34</td>\n",
       "      <td>198693</td>\n",
       "      <td>6</td>\n",
       "      <td>0</td>\n",
       "      <td>0</td>\n",
       "      <td>30</td>\n",
       "      <td>1</td>\n",
       "      <td>0</td>\n",
       "      <td>0</td>\n",
       "      <td>0</td>\n",
       "      <td>...</td>\n",
       "      <td>1</td>\n",
       "      <td>0</td>\n",
       "      <td>0</td>\n",
       "      <td>0</td>\n",
       "      <td>1</td>\n",
       "      <td>0</td>\n",
       "      <td>0</td>\n",
       "      <td>0</td>\n",
       "      <td>0</td>\n",
       "      <td>0</td>\n",
       "    </tr>\n",
       "  </tbody>\n",
       "</table>\n",
       "<p>5 rows × 33 columns</p>\n",
       "</div>"
      ],
      "text/plain": [
       "   age  fnlwgt  educational_num  capital_gain  capital_loss  hours_per_week  \\\n",
       "0   25  226802                7             0             0              40   \n",
       "1   38   89814                9             0             0              50   \n",
       "2   28  336951               12             0             0              40   \n",
       "3   44  160323               10          7688             0              40   \n",
       "5   34  198693                6             0             0              30   \n",
       "\n",
       "   Not_in_family  Other_relative  Own_child  Unmarried  ...  high_school  \\\n",
       "0              0               0          1          0  ...            1   \n",
       "1              0               0          0          0  ...            1   \n",
       "2              0               0          0          0  ...            0   \n",
       "3              0               0          0          0  ...            0   \n",
       "5              1               0          0          0  ...            1   \n",
       "\n",
       "   preschool  university  married  never_married  separated  widowed  asia  \\\n",
       "0          0           0        0              1          0        0     0   \n",
       "1          0           0        1              0          0        0     0   \n",
       "2          0           0        1              0          0        0     0   \n",
       "3          0           0        1              0          0        0     0   \n",
       "5          0           0        0              1          0        0     0   \n",
       "\n",
       "   europa  income_bin  \n",
       "0       0           0  \n",
       "1       0           0  \n",
       "2       0           1  \n",
       "3       0           1  \n",
       "5       0           0  \n",
       "\n",
       "[5 rows x 33 columns]"
      ]
     },
     "execution_count": 190,
     "metadata": {},
     "output_type": "execute_result"
    }
   ],
   "source": [
    "df_model.head(5)"
   ]
  },
  {
   "cell_type": "code",
   "execution_count": 191,
   "metadata": {},
   "outputs": [
    {
     "name": "stdout",
     "output_type": "stream",
     "text": [
      "Optimization terminated successfully.\n",
      "         Current function value: 0.331645\n",
      "         Iterations 11\n"
     ]
    },
    {
     "data": {
      "text/html": [
       "<table class=\"simpletable\">\n",
       "<caption>Logit Regression Results</caption>\n",
       "<tr>\n",
       "  <th>Dep. Variable:</th>      <td>income_bin</td>    <th>  No. Observations:  </th>  <td> 45222</td> \n",
       "</tr>\n",
       "<tr>\n",
       "  <th>Model:</th>                 <td>Logit</td>      <th>  Df Residuals:      </th>  <td> 45189</td> \n",
       "</tr>\n",
       "<tr>\n",
       "  <th>Method:</th>                 <td>MLE</td>       <th>  Df Model:          </th>  <td>    32</td> \n",
       "</tr>\n",
       "<tr>\n",
       "  <th>Date:</th>            <td>Thu, 25 Jul 2019</td> <th>  Pseudo R-squ.:     </th>  <td>0.4077</td> \n",
       "</tr>\n",
       "<tr>\n",
       "  <th>Time:</th>                <td>20:14:14</td>     <th>  Log-Likelihood:    </th> <td> -14998.</td>\n",
       "</tr>\n",
       "<tr>\n",
       "  <th>converged:</th>             <td>True</td>       <th>  LL-Null:           </th> <td> -25322.</td>\n",
       "</tr>\n",
       "<tr>\n",
       "  <th>Covariance Type:</th>     <td>nonrobust</td>    <th>  LLR p-value:       </th>  <td> 0.000</td> \n",
       "</tr>\n",
       "</table>\n",
       "<table class=\"simpletable\">\n",
       "<tr>\n",
       "           <td></td>             <th>coef</th>     <th>std err</th>      <th>z</th>      <th>P>|z|</th>  <th>[0.025</th>    <th>0.975]</th>  \n",
       "</tr>\n",
       "<tr>\n",
       "  <th>Intercept</th>          <td>   -7.7627</td> <td>    0.312</td> <td>  -24.843</td> <td> 0.000</td> <td>   -8.375</td> <td>   -7.150</td>\n",
       "</tr>\n",
       "<tr>\n",
       "  <th>age</th>                <td>    0.0253</td> <td>    0.001</td> <td>   18.673</td> <td> 0.000</td> <td>    0.023</td> <td>    0.028</td>\n",
       "</tr>\n",
       "<tr>\n",
       "  <th>fnlwgt</th>             <td> 7.353e-07</td> <td>  1.4e-07</td> <td>    5.253</td> <td> 0.000</td> <td> 4.61e-07</td> <td> 1.01e-06</td>\n",
       "</tr>\n",
       "<tr>\n",
       "  <th>educational_num</th>    <td>    0.2768</td> <td>    0.016</td> <td>   17.258</td> <td> 0.000</td> <td>    0.245</td> <td>    0.308</td>\n",
       "</tr>\n",
       "<tr>\n",
       "  <th>capital_gain</th>       <td>    0.0003</td> <td> 8.61e-06</td> <td>   36.894</td> <td> 0.000</td> <td>    0.000</td> <td>    0.000</td>\n",
       "</tr>\n",
       "<tr>\n",
       "  <th>capital_loss</th>       <td>    0.0007</td> <td> 3.08e-05</td> <td>   21.319</td> <td> 0.000</td> <td>    0.001</td> <td>    0.001</td>\n",
       "</tr>\n",
       "<tr>\n",
       "  <th>hours_per_week</th>     <td>    0.0297</td> <td>    0.001</td> <td>   22.483</td> <td> 0.000</td> <td>    0.027</td> <td>    0.032</td>\n",
       "</tr>\n",
       "<tr>\n",
       "  <th>Not_in_family</th>      <td>   -0.9589</td> <td>    0.134</td> <td>   -7.166</td> <td> 0.000</td> <td>   -1.221</td> <td>   -0.697</td>\n",
       "</tr>\n",
       "<tr>\n",
       "  <th>Other_relative</th>     <td>   -1.4183</td> <td>    0.187</td> <td>   -7.580</td> <td> 0.000</td> <td>   -1.785</td> <td>   -1.052</td>\n",
       "</tr>\n",
       "<tr>\n",
       "  <th>Own_child</th>          <td>   -1.9398</td> <td>    0.166</td> <td>  -11.670</td> <td> 0.000</td> <td>   -2.266</td> <td>   -1.614</td>\n",
       "</tr>\n",
       "<tr>\n",
       "  <th>Unmarried</th>          <td>   -1.1899</td> <td>    0.150</td> <td>   -7.915</td> <td> 0.000</td> <td>   -1.485</td> <td>   -0.895</td>\n",
       "</tr>\n",
       "<tr>\n",
       "  <th>Wife</th>               <td>    1.0600</td> <td>    0.084</td> <td>   12.599</td> <td> 0.000</td> <td>    0.895</td> <td>    1.225</td>\n",
       "</tr>\n",
       "<tr>\n",
       "  <th>Asian_Pac_Islander</th> <td>    0.8007</td> <td>    0.223</td> <td>    3.587</td> <td> 0.000</td> <td>    0.363</td> <td>    1.238</td>\n",
       "</tr>\n",
       "<tr>\n",
       "  <th>Black</th>              <td>    0.2628</td> <td>    0.189</td> <td>    1.390</td> <td> 0.165</td> <td>   -0.108</td> <td>    0.634</td>\n",
       "</tr>\n",
       "<tr>\n",
       "  <th>Other</th>              <td>    0.2419</td> <td>    0.272</td> <td>    0.889</td> <td> 0.374</td> <td>   -0.291</td> <td>    0.775</td>\n",
       "</tr>\n",
       "<tr>\n",
       "  <th>White</th>              <td>    0.5072</td> <td>    0.180</td> <td>    2.822</td> <td> 0.005</td> <td>    0.155</td> <td>    0.859</td>\n",
       "</tr>\n",
       "<tr>\n",
       "  <th>Male</th>               <td>    0.7806</td> <td>    0.064</td> <td>   12.145</td> <td> 0.000</td> <td>    0.655</td> <td>    0.907</td>\n",
       "</tr>\n",
       "<tr>\n",
       "  <th>others</th>             <td>   -0.7289</td> <td>    0.087</td> <td>   -8.387</td> <td> 0.000</td> <td>   -0.899</td> <td>   -0.559</td>\n",
       "</tr>\n",
       "<tr>\n",
       "  <th>white_collar</th>       <td>    0.6016</td> <td>    0.035</td> <td>   17.010</td> <td> 0.000</td> <td>    0.532</td> <td>    0.671</td>\n",
       "</tr>\n",
       "<tr>\n",
       "  <th>private</th>            <td>   -0.4456</td> <td>    0.075</td> <td>   -5.942</td> <td> 0.000</td> <td>   -0.593</td> <td>   -0.299</td>\n",
       "</tr>\n",
       "<tr>\n",
       "  <th>self_employed</th>      <td>   -0.7886</td> <td>    0.082</td> <td>   -9.606</td> <td> 0.000</td> <td>   -0.949</td> <td>   -0.628</td>\n",
       "</tr>\n",
       "<tr>\n",
       "  <th>state_level_gov</th>    <td>   -0.5191</td> <td>    0.084</td> <td>   -6.200</td> <td> 0.000</td> <td>   -0.683</td> <td>   -0.355</td>\n",
       "</tr>\n",
       "<tr>\n",
       "  <th>unemployed</th>         <td>   -1.5475</td> <td>    0.803</td> <td>   -1.926</td> <td> 0.054</td> <td>   -3.122</td> <td>    0.027</td>\n",
       "</tr>\n",
       "<tr>\n",
       "  <th>elementary_school</th>  <td>    0.1452</td> <td>    0.237</td> <td>    0.612</td> <td> 0.540</td> <td>   -0.320</td> <td>    0.610</td>\n",
       "</tr>\n",
       "<tr>\n",
       "  <th>high_school</th>        <td>   -0.0648</td> <td>    0.047</td> <td>   -1.386</td> <td> 0.166</td> <td>   -0.156</td> <td>    0.027</td>\n",
       "</tr>\n",
       "<tr>\n",
       "  <th>preschool</th>          <td>   -3.9733</td> <td>    4.067</td> <td>   -0.977</td> <td> 0.329</td> <td>  -11.945</td> <td>    3.999</td>\n",
       "</tr>\n",
       "<tr>\n",
       "  <th>university</th>         <td>    0.0879</td> <td>    0.061</td> <td>    1.446</td> <td> 0.148</td> <td>   -0.031</td> <td>    0.207</td>\n",
       "</tr>\n",
       "<tr>\n",
       "  <th>married</th>            <td>    0.8071</td> <td>    0.138</td> <td>    5.836</td> <td> 0.000</td> <td>    0.536</td> <td>    1.078</td>\n",
       "</tr>\n",
       "<tr>\n",
       "  <th>never_married</th>      <td>   -0.4875</td> <td>    0.072</td> <td>   -6.749</td> <td> 0.000</td> <td>   -0.629</td> <td>   -0.346</td>\n",
       "</tr>\n",
       "<tr>\n",
       "  <th>separated</th>          <td>   -0.0303</td> <td>    0.133</td> <td>   -0.228</td> <td> 0.820</td> <td>   -0.291</td> <td>    0.231</td>\n",
       "</tr>\n",
       "<tr>\n",
       "  <th>widowed</th>            <td>    0.0889</td> <td>    0.128</td> <td>    0.695</td> <td> 0.487</td> <td>   -0.162</td> <td>    0.340</td>\n",
       "</tr>\n",
       "<tr>\n",
       "  <th>asia</th>               <td>   -0.5129</td> <td>    0.150</td> <td>   -3.416</td> <td> 0.001</td> <td>   -0.807</td> <td>   -0.219</td>\n",
       "</tr>\n",
       "<tr>\n",
       "  <th>europa</th>             <td>    0.2028</td> <td>    0.106</td> <td>    1.918</td> <td> 0.055</td> <td>   -0.004</td> <td>    0.410</td>\n",
       "</tr>\n",
       "</table>"
      ],
      "text/plain": [
       "<class 'statsmodels.iolib.summary.Summary'>\n",
       "\"\"\"\n",
       "                           Logit Regression Results                           \n",
       "==============================================================================\n",
       "Dep. Variable:             income_bin   No. Observations:                45222\n",
       "Model:                          Logit   Df Residuals:                    45189\n",
       "Method:                           MLE   Df Model:                           32\n",
       "Date:                Thu, 25 Jul 2019   Pseudo R-squ.:                  0.4077\n",
       "Time:                        20:14:14   Log-Likelihood:                -14998.\n",
       "converged:                       True   LL-Null:                       -25322.\n",
       "Covariance Type:            nonrobust   LLR p-value:                     0.000\n",
       "======================================================================================\n",
       "                         coef    std err          z      P>|z|      [0.025      0.975]\n",
       "--------------------------------------------------------------------------------------\n",
       "Intercept             -7.7627      0.312    -24.843      0.000      -8.375      -7.150\n",
       "age                    0.0253      0.001     18.673      0.000       0.023       0.028\n",
       "fnlwgt              7.353e-07    1.4e-07      5.253      0.000    4.61e-07    1.01e-06\n",
       "educational_num        0.2768      0.016     17.258      0.000       0.245       0.308\n",
       "capital_gain           0.0003   8.61e-06     36.894      0.000       0.000       0.000\n",
       "capital_loss           0.0007   3.08e-05     21.319      0.000       0.001       0.001\n",
       "hours_per_week         0.0297      0.001     22.483      0.000       0.027       0.032\n",
       "Not_in_family         -0.9589      0.134     -7.166      0.000      -1.221      -0.697\n",
       "Other_relative        -1.4183      0.187     -7.580      0.000      -1.785      -1.052\n",
       "Own_child             -1.9398      0.166    -11.670      0.000      -2.266      -1.614\n",
       "Unmarried             -1.1899      0.150     -7.915      0.000      -1.485      -0.895\n",
       "Wife                   1.0600      0.084     12.599      0.000       0.895       1.225\n",
       "Asian_Pac_Islander     0.8007      0.223      3.587      0.000       0.363       1.238\n",
       "Black                  0.2628      0.189      1.390      0.165      -0.108       0.634\n",
       "Other                  0.2419      0.272      0.889      0.374      -0.291       0.775\n",
       "White                  0.5072      0.180      2.822      0.005       0.155       0.859\n",
       "Male                   0.7806      0.064     12.145      0.000       0.655       0.907\n",
       "others                -0.7289      0.087     -8.387      0.000      -0.899      -0.559\n",
       "white_collar           0.6016      0.035     17.010      0.000       0.532       0.671\n",
       "private               -0.4456      0.075     -5.942      0.000      -0.593      -0.299\n",
       "self_employed         -0.7886      0.082     -9.606      0.000      -0.949      -0.628\n",
       "state_level_gov       -0.5191      0.084     -6.200      0.000      -0.683      -0.355\n",
       "unemployed            -1.5475      0.803     -1.926      0.054      -3.122       0.027\n",
       "elementary_school      0.1452      0.237      0.612      0.540      -0.320       0.610\n",
       "high_school           -0.0648      0.047     -1.386      0.166      -0.156       0.027\n",
       "preschool             -3.9733      4.067     -0.977      0.329     -11.945       3.999\n",
       "university             0.0879      0.061      1.446      0.148      -0.031       0.207\n",
       "married                0.8071      0.138      5.836      0.000       0.536       1.078\n",
       "never_married         -0.4875      0.072     -6.749      0.000      -0.629      -0.346\n",
       "separated             -0.0303      0.133     -0.228      0.820      -0.291       0.231\n",
       "widowed                0.0889      0.128      0.695      0.487      -0.162       0.340\n",
       "asia                  -0.5129      0.150     -3.416      0.001      -0.807      -0.219\n",
       "europa                 0.2028      0.106      1.918      0.055      -0.004       0.410\n",
       "======================================================================================\n",
       "\"\"\""
      ]
     },
     "execution_count": 191,
     "metadata": {},
     "output_type": "execute_result"
    }
   ],
   "source": [
    "m1_logit = smf.logit('income_bin ~ ' + \" + \".join(df_model.drop('income_bin', axis=1).columns), df_model).fit()\n",
    "m1_logit.summary()"
   ]
  },
  {
   "cell_type": "markdown",
   "metadata": {},
   "source": [
    "#### Si consideramos las variables significativas al 95% de la variabilidad de la variable dependiente podemos optimizar el modelo con las siguientes variables"
   ]
  },
  {
   "cell_type": "code",
   "execution_count": 192,
   "metadata": {},
   "outputs": [
    {
     "name": "stdout",
     "output_type": "stream",
     "text": [
      "Optimization terminated successfully.\n",
      "         Current function value: 0.331860\n",
      "         Iterations 9\n"
     ]
    },
    {
     "data": {
      "text/html": [
       "<table class=\"simpletable\">\n",
       "<caption>Logit Regression Results</caption>\n",
       "<tr>\n",
       "  <th>Dep. Variable:</th>      <td>income_bin</td>    <th>  No. Observations:  </th>  <td> 45222</td> \n",
       "</tr>\n",
       "<tr>\n",
       "  <th>Model:</th>                 <td>Logit</td>      <th>  Df Residuals:      </th>  <td> 45199</td> \n",
       "</tr>\n",
       "<tr>\n",
       "  <th>Method:</th>                 <td>MLE</td>       <th>  Df Model:          </th>  <td>    22</td> \n",
       "</tr>\n",
       "<tr>\n",
       "  <th>Date:</th>            <td>Thu, 25 Jul 2019</td> <th>  Pseudo R-squ.:     </th>  <td>0.4073</td> \n",
       "</tr>\n",
       "<tr>\n",
       "  <th>Time:</th>                <td>20:14:21</td>     <th>  Log-Likelihood:    </th> <td> -15007.</td>\n",
       "</tr>\n",
       "<tr>\n",
       "  <th>converged:</th>             <td>True</td>       <th>  LL-Null:           </th> <td> -25322.</td>\n",
       "</tr>\n",
       "<tr>\n",
       "  <th>Covariance Type:</th>     <td>nonrobust</td>    <th>  LLR p-value:       </th>  <td> 0.000</td> \n",
       "</tr>\n",
       "</table>\n",
       "<table class=\"simpletable\">\n",
       "<tr>\n",
       "           <td></td>             <th>coef</th>     <th>std err</th>      <th>z</th>      <th>P>|z|</th>  <th>[0.025</th>    <th>0.975]</th>  \n",
       "</tr>\n",
       "<tr>\n",
       "  <th>Intercept</th>          <td>   -7.8016</td> <td>    0.212</td> <td>  -36.834</td> <td> 0.000</td> <td>   -8.217</td> <td>   -7.386</td>\n",
       "</tr>\n",
       "<tr>\n",
       "  <th>age</th>                <td>    0.0255</td> <td>    0.001</td> <td>   19.084</td> <td> 0.000</td> <td>    0.023</td> <td>    0.028</td>\n",
       "</tr>\n",
       "<tr>\n",
       "  <th>fnlwgt</th>             <td> 7.559e-07</td> <td> 1.39e-07</td> <td>    5.430</td> <td> 0.000</td> <td> 4.83e-07</td> <td> 1.03e-06</td>\n",
       "</tr>\n",
       "<tr>\n",
       "  <th>educational_num</th>    <td>    0.3000</td> <td>    0.007</td> <td>   41.231</td> <td> 0.000</td> <td>    0.286</td> <td>    0.314</td>\n",
       "</tr>\n",
       "<tr>\n",
       "  <th>capital_gain</th>       <td>    0.0003</td> <td>  8.6e-06</td> <td>   36.903</td> <td> 0.000</td> <td>    0.000</td> <td>    0.000</td>\n",
       "</tr>\n",
       "<tr>\n",
       "  <th>capital_loss</th>       <td>    0.0007</td> <td> 3.08e-05</td> <td>   21.330</td> <td> 0.000</td> <td>    0.001</td> <td>    0.001</td>\n",
       "</tr>\n",
       "<tr>\n",
       "  <th>hours_per_week</th>     <td>    0.0297</td> <td>    0.001</td> <td>   22.467</td> <td> 0.000</td> <td>    0.027</td> <td>    0.032</td>\n",
       "</tr>\n",
       "<tr>\n",
       "  <th>Not_in_family</th>      <td>   -0.9551</td> <td>    0.134</td> <td>   -7.153</td> <td> 0.000</td> <td>   -1.217</td> <td>   -0.693</td>\n",
       "</tr>\n",
       "<tr>\n",
       "  <th>Other_relative</th>     <td>   -1.4149</td> <td>    0.187</td> <td>   -7.558</td> <td> 0.000</td> <td>   -1.782</td> <td>   -1.048</td>\n",
       "</tr>\n",
       "<tr>\n",
       "  <th>Own_child</th>          <td>   -1.9412</td> <td>    0.166</td> <td>  -11.707</td> <td> 0.000</td> <td>   -2.266</td> <td>   -1.616</td>\n",
       "</tr>\n",
       "<tr>\n",
       "  <th>Unmarried</th>          <td>   -1.1867</td> <td>    0.150</td> <td>   -7.910</td> <td> 0.000</td> <td>   -1.481</td> <td>   -0.893</td>\n",
       "</tr>\n",
       "<tr>\n",
       "  <th>Wife</th>               <td>    1.0502</td> <td>    0.084</td> <td>   12.534</td> <td> 0.000</td> <td>    0.886</td> <td>    1.214</td>\n",
       "</tr>\n",
       "<tr>\n",
       "  <th>Asian_Pac_Islander</th> <td>    0.5702</td> <td>    0.144</td> <td>    3.948</td> <td> 0.000</td> <td>    0.287</td> <td>    0.853</td>\n",
       "</tr>\n",
       "<tr>\n",
       "  <th>White</th>              <td>    0.2746</td> <td>    0.058</td> <td>    4.768</td> <td> 0.000</td> <td>    0.162</td> <td>    0.387</td>\n",
       "</tr>\n",
       "<tr>\n",
       "  <th>Male</th>               <td>    0.7755</td> <td>    0.064</td> <td>   12.152</td> <td> 0.000</td> <td>    0.650</td> <td>    0.901</td>\n",
       "</tr>\n",
       "<tr>\n",
       "  <th>others</th>             <td>   -0.7227</td> <td>    0.087</td> <td>   -8.320</td> <td> 0.000</td> <td>   -0.893</td> <td>   -0.552</td>\n",
       "</tr>\n",
       "<tr>\n",
       "  <th>white_collar</th>       <td>    0.6110</td> <td>    0.035</td> <td>   17.432</td> <td> 0.000</td> <td>    0.542</td> <td>    0.680</td>\n",
       "</tr>\n",
       "<tr>\n",
       "  <th>private</th>            <td>   -0.4238</td> <td>    0.074</td> <td>   -5.696</td> <td> 0.000</td> <td>   -0.570</td> <td>   -0.278</td>\n",
       "</tr>\n",
       "<tr>\n",
       "  <th>self_employed</th>      <td>   -0.7675</td> <td>    0.082</td> <td>   -9.415</td> <td> 0.000</td> <td>   -0.927</td> <td>   -0.608</td>\n",
       "</tr>\n",
       "<tr>\n",
       "  <th>state_level_gov</th>    <td>   -0.4976</td> <td>    0.083</td> <td>   -5.984</td> <td> 0.000</td> <td>   -0.661</td> <td>   -0.335</td>\n",
       "</tr>\n",
       "<tr>\n",
       "  <th>married</th>            <td>    0.8061</td> <td>    0.136</td> <td>    5.937</td> <td> 0.000</td> <td>    0.540</td> <td>    1.072</td>\n",
       "</tr>\n",
       "<tr>\n",
       "  <th>never_married</th>      <td>   -0.4858</td> <td>    0.068</td> <td>   -7.103</td> <td> 0.000</td> <td>   -0.620</td> <td>   -0.352</td>\n",
       "</tr>\n",
       "<tr>\n",
       "  <th>asia</th>               <td>   -0.5169</td> <td>    0.150</td> <td>   -3.454</td> <td> 0.001</td> <td>   -0.810</td> <td>   -0.224</td>\n",
       "</tr>\n",
       "</table>"
      ],
      "text/plain": [
       "<class 'statsmodels.iolib.summary.Summary'>\n",
       "\"\"\"\n",
       "                           Logit Regression Results                           \n",
       "==============================================================================\n",
       "Dep. Variable:             income_bin   No. Observations:                45222\n",
       "Model:                          Logit   Df Residuals:                    45199\n",
       "Method:                           MLE   Df Model:                           22\n",
       "Date:                Thu, 25 Jul 2019   Pseudo R-squ.:                  0.4073\n",
       "Time:                        20:14:21   Log-Likelihood:                -15007.\n",
       "converged:                       True   LL-Null:                       -25322.\n",
       "Covariance Type:            nonrobust   LLR p-value:                     0.000\n",
       "======================================================================================\n",
       "                         coef    std err          z      P>|z|      [0.025      0.975]\n",
       "--------------------------------------------------------------------------------------\n",
       "Intercept             -7.8016      0.212    -36.834      0.000      -8.217      -7.386\n",
       "age                    0.0255      0.001     19.084      0.000       0.023       0.028\n",
       "fnlwgt              7.559e-07   1.39e-07      5.430      0.000    4.83e-07    1.03e-06\n",
       "educational_num        0.3000      0.007     41.231      0.000       0.286       0.314\n",
       "capital_gain           0.0003    8.6e-06     36.903      0.000       0.000       0.000\n",
       "capital_loss           0.0007   3.08e-05     21.330      0.000       0.001       0.001\n",
       "hours_per_week         0.0297      0.001     22.467      0.000       0.027       0.032\n",
       "Not_in_family         -0.9551      0.134     -7.153      0.000      -1.217      -0.693\n",
       "Other_relative        -1.4149      0.187     -7.558      0.000      -1.782      -1.048\n",
       "Own_child             -1.9412      0.166    -11.707      0.000      -2.266      -1.616\n",
       "Unmarried             -1.1867      0.150     -7.910      0.000      -1.481      -0.893\n",
       "Wife                   1.0502      0.084     12.534      0.000       0.886       1.214\n",
       "Asian_Pac_Islander     0.5702      0.144      3.948      0.000       0.287       0.853\n",
       "White                  0.2746      0.058      4.768      0.000       0.162       0.387\n",
       "Male                   0.7755      0.064     12.152      0.000       0.650       0.901\n",
       "others                -0.7227      0.087     -8.320      0.000      -0.893      -0.552\n",
       "white_collar           0.6110      0.035     17.432      0.000       0.542       0.680\n",
       "private               -0.4238      0.074     -5.696      0.000      -0.570      -0.278\n",
       "self_employed         -0.7675      0.082     -9.415      0.000      -0.927      -0.608\n",
       "state_level_gov       -0.4976      0.083     -5.984      0.000      -0.661      -0.335\n",
       "married                0.8061      0.136      5.937      0.000       0.540       1.072\n",
       "never_married         -0.4858      0.068     -7.103      0.000      -0.620      -0.352\n",
       "asia                  -0.5169      0.150     -3.454      0.001      -0.810      -0.224\n",
       "======================================================================================\n",
       "\"\"\""
      ]
     },
     "execution_count": 192,
     "metadata": {},
     "output_type": "execute_result"
    }
   ],
   "source": [
    "df_model = df_model.drop(['unemployed', 'europa', 'university', 'Black', 'high_school', 'preschool', 'Other', 'widowed', 'elementary_school', 'separated'], axis=1)\n",
    "m2_logit = smf.logit('income_bin ~ ' + \" + \".join(df_model.drop('income_bin', axis=1).columns), df_model).fit()\n",
    "m2_logit.summary()"
   ]
  },
  {
   "cell_type": "markdown",
   "metadata": {},
   "source": []
  },
  {
   "cell_type": "markdown",
   "metadata": {},
   "source": [
    "## Hito 4"
   ]
  },
  {
   "cell_type": "markdown",
   "metadata": {},
   "source": [
    "### Modelación predictiva"
   ]
  },
  {
   "cell_type": "markdown",
   "metadata": {},
   "source": [
    "### Modelo 1: Se consideran variables al 95% de confianza\n",
    "* Se estandariza la matriz de atributos.\n",
    "* Se genere subconjuntos de entrenamiento y validación, separando el 33% de la muestra en el conjunto de validación.\n",
    "* Se genera la predicción de las clases y de la probabilidad.\n",
    "* Se reporta las métricas de precision, recall y f1 para ambas clases.\n",
    "* Se grafica la curva Receiver Operator Characteristic."
   ]
  },
  {
   "cell_type": "code",
   "execution_count": 251,
   "metadata": {},
   "outputs": [
    {
     "name": "stderr",
     "output_type": "stream",
     "text": [
      "/Users/julio/anaconda3/lib/python3.7/site-packages/sklearn/linear_model/logistic.py:432: FutureWarning: Default solver will be changed to 'lbfgs' in 0.22. Specify a solver to silence this warning.\n",
      "  FutureWarning)\n"
     ]
    },
    {
     "name": "stdout",
     "output_type": "stream",
     "text": [
      "              precision    recall  f1-score   support\n",
      "\n",
      "           0       0.87      0.93      0.90     11190\n",
      "           1       0.73      0.58      0.65      3734\n",
      "\n",
      "    accuracy                           0.84     14924\n",
      "   macro avg       0.80      0.75      0.77     14924\n",
      "weighted avg       0.83      0.84      0.83     14924\n",
      "\n"
     ]
    }
   ],
   "source": [
    "std_matrix = StandardScaler().fit_transform(df_model.loc[:, 'age':'asia'])\n",
    "X_train, X_test, y_train, y_test = train_test_split(std_matrix, df_model['income_bin'], test_size=.33, random_state=11238)\n",
    "default_model = LogisticRegression().fit(X_train, y_train)\n",
    "yhat = default_model.predict(X_test)\n",
    "yhat_pr = default_model.predict_proba(X_test)[:, 1]\n",
    "print(classification_report(y_test, yhat))"
   ]
  },
  {
   "cell_type": "markdown",
   "metadata": {},
   "source": [
    "#### Se grafica la curva ROC"
   ]
  },
  {
   "cell_type": "code",
   "execution_count": 252,
   "metadata": {},
   "outputs": [
    {
     "name": "stdout",
     "output_type": "stream",
     "text": [
      "El área bajo la curva es de 0.9006276885638479\n"
     ]
    },
    {
     "data": {
      "image/png": "[encoded data removed]",
      "text/plain": [
       "<Figure size 720x720 with 1 Axes>"
      ]
     },
     "metadata": {
      "needs_background": "light"
     },
     "output_type": "display_data"
    }
   ],
   "source": [
    "false_positive, true_positive, threshold = roc_curve(y_test, yhat_pr)\n",
    "plt.figure(figsize=(10, 10))\n",
    "plt.title('Curva ROC')\n",
    "plt.plot(false_positive, true_positive, lw=1)\n",
    "plt.plot([0, 1], ls=\"--\", lw=1, c='tomato')\n",
    "plt.plot([0, 0], [1, 0] , c='limegreen', lw=3), plt.plot([1, 1] , c='limegreen', lw=3)\n",
    "plt.ylabel('Verdaderos Positivos')\n",
    "plt.xlabel('Falsos Positivos')\n",
    "auc_score = roc_auc_score(y_test, yhat_pr)\n",
    "print(\"El área bajo la curva es de {}\".format(auc_score))"
   ]
  },
  {
   "cell_type": "markdown",
   "metadata": {},
   "source": [
    "### Modelo 2: Se consideran variables al 95% de confianza y con balanceo de clases\n",
    "* Se estandariza la matriz de atributos.\n",
    "* Se genere subconjuntos de entrenamiento y validación, separando el 33% de la muestra en el conjunto de validación.\n",
    "* Se genera la predicción de las clases y de la probabilidad.\n",
    "* Se reporta las métricas de precision, recall y f1 para ambas clases.\n",
    "* Se grafica la curva Receiver Operator Characteristic."
   ]
  },
  {
   "cell_type": "code",
   "execution_count": 253,
   "metadata": {},
   "outputs": [
    {
     "name": "stderr",
     "output_type": "stream",
     "text": [
      "/Users/julio/anaconda3/lib/python3.7/site-packages/sklearn/linear_model/logistic.py:432: FutureWarning: Default solver will be changed to 'lbfgs' in 0.22. Specify a solver to silence this warning.\n",
      "  FutureWarning)\n"
     ]
    },
    {
     "name": "stdout",
     "output_type": "stream",
     "text": [
      "              precision    recall  f1-score   support\n",
      "\n",
      "           0       0.94      0.79      0.86     11190\n",
      "           1       0.57      0.84      0.68      3734\n",
      "\n",
      "    accuracy                           0.80     14924\n",
      "   macro avg       0.76      0.82      0.77     14924\n",
      "weighted avg       0.85      0.80      0.81     14924\n",
      "\n"
     ]
    }
   ],
   "source": [
    "std_matrix = StandardScaler().fit_transform(df_model.loc[:, 'age':'asia'])\n",
    "X_train, X_test, y_train, y_test = train_test_split(std_matrix, df_model['income_bin'], test_size=.33, random_state=11238)\n",
    "default_model = LogisticRegression(class_weight='balanced').fit(X_train, y_train)\n",
    "yhat = default_model.predict(X_test)\n",
    "yhat_pr = default_model.predict_proba(X_test)[:, 1]\n",
    "print(classification_report(y_test, yhat))"
   ]
  },
  {
   "cell_type": "code",
   "execution_count": 254,
   "metadata": {},
   "outputs": [
    {
     "name": "stdout",
     "output_type": "stream",
     "text": [
      "El área bajo la curva es de 0.9008911899588975\n"
     ]
    },
    {
     "data": {
      "image/png": "[encoded data removed]",
      "text/plain": [
       "<Figure size 720x720 with 1 Axes>"
      ]
     },
     "metadata": {
      "needs_background": "light"
     },
     "output_type": "display_data"
    }
   ],
   "source": [
    "false_positive, true_positive, threshold = roc_curve(y_test, yhat_pr)\n",
    "plt.figure(figsize=(10, 10))\n",
    "plt.title('Curva ROC')\n",
    "plt.plot(false_positive, true_positive, lw=1)\n",
    "plt.plot([0, 1], ls=\"--\", lw=1, c='tomato')\n",
    "plt.plot([0, 0], [1, 0] , c='limegreen', lw=3), plt.plot([1, 1] , c='limegreen', lw=3)\n",
    "plt.ylabel('Verdaderos Positivos')\n",
    "plt.xlabel('Falsos Positivos')\n",
    "auc_score = roc_auc_score(y_test, yhat_pr)\n",
    "print(\"El área bajo la curva es de {}\".format(auc_score))"
   ]
  },
  {
   "cell_type": "markdown",
   "metadata": {},
   "source": [
    "### Modelo 3: Se considera la variable age como variable independiente\n",
    "* Se estandariza la matriz de atributos.\n",
    "* Se genere subconjuntos de entrenamiento y validación, separando el 33% de la muestra en el conjunto de validación.\n",
    "* Se genera la predicción de las clases y de la probabilidad.\n",
    "* Se reporta las métricas de precision, recall y f1 para ambas clases.\n",
    "* Se grafica la curva Receiver Operator Characteristic."
   ]
  },
  {
   "cell_type": "code",
   "execution_count": 336,
   "metadata": {},
   "outputs": [
    {
     "name": "stdout",
     "output_type": "stream",
     "text": [
      "              precision    recall  f1-score   support\n",
      "\n",
      "           0       0.83      0.65      0.73     11190\n",
      "           1       0.36      0.60      0.45      3734\n",
      "\n",
      "    accuracy                           0.64     14924\n",
      "   macro avg       0.60      0.62      0.59     14924\n",
      "weighted avg       0.71      0.64      0.66     14924\n",
      "\n"
     ]
    },
    {
     "name": "stderr",
     "output_type": "stream",
     "text": [
      "/Users/julio/anaconda3/lib/python3.7/site-packages/sklearn/linear_model/logistic.py:432: FutureWarning: Default solver will be changed to 'lbfgs' in 0.22. Specify a solver to silence this warning.\n",
      "  FutureWarning)\n"
     ]
    }
   ],
   "source": [
    "std_matrix = StandardScaler().fit_transform(df_model.loc[:, ['age']])\n",
    "X_train, X_test, y_train, y_test = train_test_split(std_matrix, df_model['income_bin'], test_size=.33, random_state=11238)\n",
    "default_model = LogisticRegression(class_weight='balanced').fit(X_train, y_train)\n",
    "yhat = default_model.predict(X_test)\n",
    "yhat_pr = default_model.predict_proba(X_test)[:, 1]\n",
    "print(classification_report(y_test, yhat))"
   ]
  },
  {
   "cell_type": "code",
   "execution_count": 337,
   "metadata": {},
   "outputs": [
    {
     "name": "stdout",
     "output_type": "stream",
     "text": [
      "El área bajo la curva es de 0.6810971733791313\n"
     ]
    },
    {
     "data": {
      "image/png": "[encoded data removed]",
      "text/plain": [
       "<Figure size 720x720 with 1 Axes>"
      ]
     },
     "metadata": {
      "needs_background": "light"
     },
     "output_type": "display_data"
    }
   ],
   "source": [
    "false_positive, true_positive, threshold = roc_curve(y_test, yhat_pr)\n",
    "plt.figure(figsize=(10, 10))\n",
    "plt.title('Curva ROC')\n",
    "plt.plot(false_positive, true_positive, lw=1)\n",
    "plt.plot([0, 1], ls=\"--\", lw=1, c='tomato')\n",
    "plt.plot([0, 0], [1, 0] , c='limegreen', lw=3), plt.plot([1, 1] , c='limegreen', lw=3)\n",
    "plt.ylabel('Verdaderos Positivos')\n",
    "plt.xlabel('Falsos Positivos')\n",
    "auc_score = roc_auc_score(y_test, yhat_pr)\n",
    "print(\"El área bajo la curva es de {}\".format(auc_score))"
   ]
  },
  {
   "cell_type": "markdown",
   "metadata": {},
   "source": [
    "### Conclusiones\n",
    "#### Modelo 1\n",
    "El modelo considera 22 variables independientes que corresponden a las que explican a la variable dependiente al 95% de confianza. El modelo presenta indicadores de precision, recall y f1 adecuados para ambas clases. La curva ROC se sitúa bastante por encima de la bisectriz por lo cual confirma los indicadores obtenidos y el área bajo la curva corresponde al 0.90 por lo que supera en un 40% a una decisión al azar. El problema que presenta este modelo tiene que ver con el performance debido a la alta cantidad de variables consideradas.\n",
    "\n",
    "#### Modelo 2\n",
    "El modelo considera 22 variables independientes que corresponden a las que explican a la variable dependiente al 95% de confianza. Este modelo es una variación del Modelo 1 al utilizar balanceo de clases en el algoritmo de regresión logística, dada la alta diferencia muestral entre datos con clase 0 y clase 1. El modelo presenta indicadores de precision, recall y f1 adecuados para ambas clases. La curva ROC se sitúa bastante por encima de la bisectriz por lo cual confirma los indicadores obtenidos y el área bajo la curva corresponde al 0.90 por lo que supera en un 40% a una decisión al azar. Al igual que el Modelo 1, el problema que presenta este modelo tiene que ver con el performance debido a la alta cantidad de variables consideradas. Al utilizar balanceo de clases no se obtuvo mejoras considerables en los indicadores medidos.\n",
    "\n",
    "#### Modelo 3\n",
    "El modelo considera sólo a la variable age (Edad del individuo) para predecir si el ingreso anual será inferior o superior a 50000. Además se utiliza balanceo de clases en el algoritmo de regresión logística dada la alta diferencia muestral entre datos con clase 0 y clase 1. El modelo presenta indicadores de precision, recall y f1 adecuados pero inferiores a los modelos 1 y 2. La curva ROC se sitúa por encima de la bisectriz por lo cual confirma los indicadores obtenidos y el área bajo la curva corresponde al 0.68 por lo que supera en un 18% a una decisión al azar. Este modelo es bastante mejor en términos de rendimiento al Modelo 1 y 2, debido a que considera una sola variable a diferencia de 22. En terminos de indicadores estadísticos es inferior a los modelos anteriores."
   ]
  },
  {
   "cell_type": "code",
   "execution_count": null,
   "metadata": {},
   "outputs": [],
   "source": []
  }
 ],
 "metadata": {
  "kernelspec": {
   "display_name": "Python 3",
   "language": "python",
   "name": "python3"
  },
  "language_info": {
   "codemirror_mode": {
    "name": "ipython",
    "version": 3
   },
   "file_extension": ".py",
   "mimetype": "text/x-python",
   "name": "python",
   "nbconvert_exporter": "python",
   "pygments_lexer": "ipython3",
   "version": "3.7.3"
  }
 },
 "nbformat": 4,
 "nbformat_minor": 2
}
