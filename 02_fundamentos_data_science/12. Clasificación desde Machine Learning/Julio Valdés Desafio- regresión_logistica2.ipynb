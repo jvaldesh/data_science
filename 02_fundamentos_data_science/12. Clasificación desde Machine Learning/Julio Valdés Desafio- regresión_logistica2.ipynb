{
 "cells": [
  {
   "cell_type": "markdown",
   "metadata": {},
   "source": [
    "## Desafío - Clasificación desde Machine Learning\n",
    "\n",
    "\n",
    "\n",
    "* Para poder realziar este desafío debes haber revisado la lectura y videos correspondiente a la unidad.\n",
    "* Crea una carpeta de trabajo y guarda todos los archivos correspondientes (notebook y csv).\n",
    "* Una vez terminado el desafío, comprime la carpeta y sube el .zip\n",
    "\n",
    "\n",
    "Descripción\n",
    "En esta sesión trabajaremos con una base de datos sobre clientes morosos de un banco. Dentro de ésta se registran las siguientes observaciones:\n",
    "* default : Variable binaria. Registra si el cliente entró en morosidad o no.\n",
    "* income : Ingreso promedio declarado por el cliente.\n",
    "* balance : Total de saldo en la cuenta de crédito (deuda).\n",
    "* student : Variable binaria. Registra si el cliente es estudiante o no"
   ]
  },
  {
   "cell_type": "markdown",
   "metadata": {},
   "source": [
    "### Desafío 1: Preparación del ambiente de trabajo\n",
    "\n",
    "* Importe los módulos básicos para el análisis de datos\n",
    "* Importe seaborn .\n",
    "* Importe statsmodels\n",
    "* Importe LogisticRegression , train_test_split , StandardScaler , classification_report y roc_curve de sklearn\n",
    "* Importe el archivo default_credit.csv"
   ]
  },
  {
   "cell_type": "code",
   "execution_count": null,
   "metadata": {},
   "outputs": [],
   "source": []
  },
  {
   "cell_type": "markdown",
   "metadata": {},
   "source": [
    "### Desafío 2: Análisis exploratorio\n",
    "* Explore las principales relaciones entre las variables. Utilizando los métodos boxplot y lmplot de seaborn implemente los siguientes gráficos.\n",
    "    * Un boxplot del balance total de las cuentas, segmentado por el status de estudiante.\n",
    "    * Un boxplot del ingreso total de cada cliente, segmentado por el status de estudiante.\n",
    "    * Un boxplot del balance total de las cuentas, segmentado por el status de default.\n",
    "    * Un boxplot del ingreso total de cada cliente, segmentado por el status de default.\n",
    "    * Un diagrama de dispersión entre balance e income , segmentado por el status de estudiante.\n",
    "    * Un diagrama de dispersión entre balance e income , segmentado por el status de default.\n",
    "* Comente brevemente sobre los principales patrones de comportamiento.\n",
    "* tip: Puede utilizar el argumento hue en lmplot para identificar las observaciones por status."
   ]
  },
  {
   "cell_type": "code",
   "execution_count": null,
   "metadata": {},
   "outputs": [],
   "source": []
  },
  {
   "cell_type": "code",
   "execution_count": null,
   "metadata": {},
   "outputs": [],
   "source": []
  },
  {
   "cell_type": "code",
   "execution_count": null,
   "metadata": {},
   "outputs": [],
   "source": []
  },
  {
   "cell_type": "code",
   "execution_count": null,
   "metadata": {},
   "outputs": [],
   "source": []
  },
  {
   "cell_type": "code",
   "execution_count": null,
   "metadata": {},
   "outputs": [],
   "source": []
  },
  {
   "cell_type": "code",
   "execution_count": null,
   "metadata": {},
   "outputs": [],
   "source": []
  },
  {
   "cell_type": "markdown",
   "metadata": {},
   "source": [
    "### Desafío 3: Modelación econométrica\n",
    "Recodifique las variables student y default para que adquieran atributos numéricos.\n",
    "Implemente el siguiente modelo econométrico:\n",
    "\n",
    "\n",
    "$$\\log\\left(\\frac{p({default=1})}{1 - p({default=1})}\\right)={{\\beta }_{0} + {\\beta }_{1} \\cdot {balance} +{\\beta }_{2} \\cdot {income}+{\\beta }_{3} \\cdot {student} }$$\n",
    "\n",
    "\n",
    "A partir de este modelo, depúrelo y mantenga las principales características. Ejecute de nuevo el modelo y comente brevemente sobre el comportamiento de los atributos."
   ]
  },
  {
   "cell_type": "code",
   "execution_count": null,
   "metadata": {},
   "outputs": [],
   "source": []
  },
  {
   "cell_type": "code",
   "execution_count": null,
   "metadata": {},
   "outputs": [],
   "source": []
  },
  {
   "cell_type": "code",
   "execution_count": null,
   "metadata": {},
   "outputs": [],
   "source": []
  },
  {
   "cell_type": "markdown",
   "metadata": {},
   "source": [
    "### Desafío 4: Entrenar\n",
    "A partir del modelo depurado, genere un modelo predictivo con las siguientes características:\n",
    "* Estandarize la matriz de atributos.\n",
    "* Genere subconjuntos de entrenamiento y validación, separando el 33% de la muestra en el conjunto de validación.\n",
    "*  Implemente el modelo sin alterar los hiperparámetros.\n",
    "*  Genere la predicción de las clases y de la probabilidad.\n",
    "*  Reporte las métricas de precision, recall y f1 para ambas clases.\n",
    "*  Grafique la curva Receiver Operator Characteristic.\n",
    "\n",
    "En base a los pasos, comente sobre el desempeño predictivo del modelo."
   ]
  },
  {
   "cell_type": "code",
   "execution_count": null,
   "metadata": {},
   "outputs": [],
   "source": []
  },
  {
   "cell_type": "code",
   "execution_count": null,
   "metadata": {},
   "outputs": [],
   "source": []
  }
 ],
 "metadata": {
  "hide_input": false,
  "kernelspec": {
   "display_name": "Python 3",
   "language": "python",
   "name": "python3"
  },
  "language_info": {
   "codemirror_mode": {
    "name": "ipython",
    "version": 3
   },
   "file_extension": ".py",
   "mimetype": "text/x-python",
   "name": "python",
   "nbconvert_exporter": "python",
   "pygments_lexer": "ipython3",
   "version": "3.7.3"
  }
 },
 "nbformat": 4,
 "nbformat_minor": 2
}
