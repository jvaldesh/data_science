{
 "cells": [
  {
   "cell_type": "markdown",
   "metadata": {},
   "source": [
    "# Desafío - Funciones y probabilidad básica"
   ]
  },
  {
   "cell_type": "markdown",
   "metadata": {},
   "source": [
    "## Desafío 1: Generación de funciones"
   ]
  },
  {
   "cell_type": "code",
   "execution_count": 174,
   "metadata": {},
   "outputs": [],
   "source": [
    "def media(x:list):\n",
    "    \"\"\"\n",
    "    media: calcula la media de los elementos de una lista\n",
    "    :param x: lista de valores\n",
    "    :type x: list\n",
    "    :return: retorna la media\n",
    "    :rtype: float\n",
    "    \"\"\"\n",
    "    suma = 0\n",
    "    for i in x:\n",
    "        suma += i\n",
    "\n",
    "    return suma/len(x)\n",
    "\n",
    "def varianza(x:list):\n",
    "    \"\"\"\n",
    "    varianza: calcula la varianza de los elementos de una lista\n",
    "    :param x: lista de valores\n",
    "    :type x: list\n",
    "    :return: retorna la varianza\n",
    "    :rtype: float\n",
    "    \"\"\"\n",
    "    suma = 0\n",
    "    promedio = media(x)\n",
    "    for i in x:\n",
    "        suma += (i - promedio)**2\n",
    "    \n",
    "    return suma / (len(x) - 1)"
   ]
  },
  {
   "cell_type": "code",
   "execution_count": 175,
   "metadata": {},
   "outputs": [],
   "source": [
    "import numpy as np\n",
    "import pandas as pd\n",
    "\n",
    "df = pd.read_csv('worldcup2014.csv')"
   ]
  },
  {
   "cell_type": "code",
   "execution_count": 176,
   "metadata": {},
   "outputs": [],
   "source": [
    "media_goles_favor = media(list(df['goles_favor']))\n",
    "varianza_goles_favor = varianza(list(df['goles_favor']))\n",
    "media_goles_contra = media(list(df['goles_contra']))\n",
    "varianza_goles_contra = varianza(list(df['goles_contra']))\n",
    "media_puntos = media(list(df['puntos']))\n",
    "varianza_puntos = varianza(list(df['puntos']))"
   ]
  },
  {
   "cell_type": "code",
   "execution_count": 177,
   "metadata": {},
   "outputs": [
    {
     "name": "stdout",
     "output_type": "stream",
     "text": [
      "La media de goles a favor es 4.25\n",
      "La varianza de goles a favor es 5.354838709677419\n",
      "La media de goles en contra es 4.25\n",
      "La varianza de goles en contra es 4.967741935483871\n",
      "La media de puntos es 4.21875\n",
      "La varianza de puntos es 8.305443548387096\n"
     ]
    }
   ],
   "source": [
    "print(\"La media de goles a favor es {}\".format(media_goles_favor))\n",
    "print(\"La varianza de goles a favor es {}\".format(varianza_goles_favor))\n",
    "print(\"La media de goles en contra es {}\".format(media_goles_contra))\n",
    "print(\"La varianza de goles en contra es {}\".format(varianza_goles_contra))\n",
    "print(\"La media de puntos es {}\".format(media_puntos))\n",
    "print(\"La varianza de puntos es {}\".format(varianza_puntos))"
   ]
  },
  {
   "cell_type": "markdown",
   "metadata": {},
   "source": [
    "## Desafío 2"
   ]
  },
  {
   "cell_type": "code",
   "execution_count": 102,
   "metadata": {},
   "outputs": [
    {
     "name": "stdout",
     "output_type": "stream",
     "text": [
      "     continente  media_goles_favor  std_goles_favor\n",
      "0        africa           3.600000         1.440000\n",
      "1        europe           4.769231         0.639053\n",
      "2          asia           2.250000         0.187500\n",
      "3  northamerica           3.250000         0.187500\n",
      "4  southamerica           5.666667         0.022222\n",
      "     continente  media_goles_contra  std_goles_contra\n",
      "0        africa            5.600000          0.090000\n",
      "1        europe            4.000000          0.083333\n",
      "2          asia            6.250000          0.020833\n",
      "3  northamerica            3.500000          0.083333\n",
      "4  southamerica            2.833333          0.005556\n",
      "     continente  media_puntos  std_puntos\n",
      "0        africa      2.400000    0.640000\n",
      "1        europe      4.692308    0.604043\n",
      "2          asia      0.750000    0.020833\n",
      "3  northamerica      4.500000    0.083333\n",
      "4  southamerica      6.833333    0.938889\n"
     ]
    }
   ],
   "source": [
    "europe_df = df[df['continent'] == \"europe\"]\n",
    "southamerica_df = df[df['continent'] == \"southamerica\"]\n",
    "africa_df = df[df['continent'] == \"africa\"]\n",
    "northamerica_df = df[df['continent'] == \"northamerica\"]\n",
    "asia_df = df[df['continent'] == \"asia\"]\n",
    "\n",
    "def funcion(group_by:list, var:str):\n",
    "    \"\"\"\n",
    "    funcion: Retorna un dataframe con el continente, media y varianza de la variable entregada\n",
    "    :param group_by: lista de submuestras\n",
    "    :type group_by: list\n",
    "    :param var: variable a analizar\n",
    "    :type var: str\n",
    "    :return: dataframe con el continente, media y varianza de la variable entregada\n",
    "    :rtype: pandas.core.frame.DataFrame\n",
    "    \"\"\"\n",
    "    \n",
    "    continent = []\n",
    "    store_mean = []\n",
    "    store_std = []\n",
    "    \n",
    "    for d in group_by:\n",
    "        continent.append(d.iloc[0,1])\n",
    "        store_mean.append(media(d[var]))\n",
    "        store_std.append(varianza(d[var]))\n",
    "    \n",
    "    tmp = pd.DataFrame({'continente': continent,\n",
    "                        \"media_{}\".format(var): store_mean,\n",
    "                        \"std_{}\".format(var): store_std})\n",
    "    return tmp\n",
    "\n",
    "group_by = [africa_df, europe_df, asia_df, northamerica_df, southamerica_df]\n",
    "print(funcion(group_by, 'goles_favor'))\n",
    "print(funcion(group_by, 'goles_contra'))\n",
    "print(funcion(group_by, 'puntos'))"
   ]
  },
  {
   "cell_type": "markdown",
   "metadata": {},
   "source": [
    "#### El continente con mayor cantidad de goles a favor es southamerica"
   ]
  },
  {
   "cell_type": "markdown",
   "metadata": {},
   "source": [
    "#### El continente con mayor cantidad de goles en contra es asia"
   ]
  },
  {
   "cell_type": "markdown",
   "metadata": {},
   "source": [
    "#### El continente con mayor cantidad de puntos es southamerica"
   ]
  },
  {
   "cell_type": "markdown",
   "metadata": {},
   "source": [
    "## Desafío 3: Simulaciones"
   ]
  },
  {
   "cell_type": "code",
   "execution_count": 112,
   "metadata": {},
   "outputs": [
    {
     "name": "stdout",
     "output_type": "stream",
     "text": [
      "perro\n",
      "perro\n"
     ]
    }
   ],
   "source": [
    "def generate_pet():\n",
    "    \"\"\"\n",
    "    generate_pet:  Devuelva de forma aleatoria un string 'perro' o 'gato' \n",
    "    :return: string de forma aleatoria\n",
    "    :rtype: str\n",
    "    \"\"\"\n",
    "    return np.random.choice(['perro', 'gato'])\n",
    "\n",
    "print(generate_pet())\n",
    "print(generate_pet())"
   ]
  },
  {
   "cell_type": "code",
   "execution_count": 113,
   "metadata": {},
   "outputs": [
    {
     "name": "stdout",
     "output_type": "stream",
     "text": [
      "['gato', 'perro', 'gato', 'perro', 'perro', 'perro', 'perro', 'perro', 'perro', 'perro', 'perro', 'perro', 'perro', 'gato', 'perro', 'gato', 'perro', 'perro', 'perro', 'gato']\n"
     ]
    }
   ],
   "source": [
    "lista = []\n",
    "for i in range(20):\n",
    "    lista.append(generate_pet())\n",
    "    \n",
    "print(lista)\n"
   ]
  },
  {
   "cell_type": "code",
   "execution_count": 114,
   "metadata": {},
   "outputs": [
    {
     "name": "stdout",
     "output_type": "stream",
     "text": [
      "La probabilidad de elegir un perro al azar es 0.75\n",
      "La probabilidad de elegir un gato al azar es 0.25\n"
     ]
    }
   ],
   "source": [
    "prob_perro = pd.Series(lista).value_counts(normalize = True).get('perro')\n",
    "prob_gato = pd.Series(lista).value_counts(normalize = True).get('gato')\n",
    "print(\"La probabilidad de elegir un perro al azar es {}\".format(prob_perro))\n",
    "print(\"La probabilidad de elegir un gato al azar es {}\".format(prob_gato))"
   ]
  },
  {
   "cell_type": "code",
   "execution_count": 121,
   "metadata": {},
   "outputs": [
    {
     "name": "stdout",
     "output_type": "stream",
     "text": [
      "['perro', 'gato', 'gato', 'perro', 'perro', 'gato', 'perro', 'gato', 'perro', 'gato', 'perro', 'gato', 'gato', 'gato', 'gato', 'gato', 'gato', 'gato', 'perro', 'perro']\n"
     ]
    }
   ],
   "source": [
    "lista = []\n",
    "np.random.seed(2)\n",
    "for i in range(20):\n",
    "    lista.append(generate_pet())\n",
    "    \n",
    "print(lista)"
   ]
  },
  {
   "cell_type": "code",
   "execution_count": 122,
   "metadata": {},
   "outputs": [
    {
     "name": "stdout",
     "output_type": "stream",
     "text": [
      "La probabilidad de elegir un perro al azar es 0.4\n",
      "La probabilidad de elegir un gato al azar es 0.6\n"
     ]
    }
   ],
   "source": [
    "prob_perro = pd.Series(lista).value_counts(normalize = True).get('perro')\n",
    "prob_gato = pd.Series(lista).value_counts(normalize = True).get('gato')\n",
    "print(\"La probabilidad de elegir un perro al azar es {}\".format(prob_perro))\n",
    "print(\"La probabilidad de elegir un gato al azar es {}\".format(prob_gato))"
   ]
  },
  {
   "cell_type": "markdown",
   "metadata": {},
   "source": [
    "#### El np.random.seed setea la semilla para el generador aleatorio. Al ser fijo siempre entregara los mismos resultados"
   ]
  },
  {
   "cell_type": "markdown",
   "metadata": {},
   "source": [
    "## Desafío 4: Función simuladora"
   ]
  },
  {
   "cell_type": "code",
   "execution_count": 169,
   "metadata": {},
   "outputs": [
    {
     "name": "stdout",
     "output_type": "stream",
     "text": [
      "Las ocasiones donde al menos uno de los dos sera perro son: 7514\n",
      "Las ocasiones donde al menos uno sea un perro viejo: 4994\n",
      "Las ocasiones donde los dos sean perro son: 2536\n"
     ]
    }
   ],
   "source": [
    "def simulate_pets_prob(num:int):\n",
    "    \"\"\"\n",
    "    simulate_pets_prob:  Devuelva de forma aleatoria tupla con lista young_pet y lista old_pet\n",
    "    :param num: Numero finito de simulaciones\n",
    "    :type num: int\n",
    "    :return: lista young_pet, lista old_pet\n",
    "    :rtype: tuple\n",
    "    \"\"\"\n",
    "    \n",
    "    young_pet = []\n",
    "    old_pet = []\n",
    "    np.random.seed(1)\n",
    "    for i in range(num):\n",
    "        young_pet.append(generate_pet())\n",
    "        old_pet.append(generate_pet())\n",
    "    \n",
    "    al_menos_un_perro = np.logical_or(pd.Series(young_pet) == 'perro', pd.Series(old_pet) == 'perro')\n",
    "    print(\"Las ocasiones donde al menos uno de los dos sera perro son: {}\".format(list(al_menos_un_perro).count(True)))\n",
    "    print(\"Las ocasiones donde al menos uno sea un perro viejo: {}\".format(old_pet.count(\"perro\")))\n",
    "    dos_perros = np.logical_and(pd.Series(young_pet) == 'perro', pd.Series(old_pet) == 'perro')\n",
    "    print(\"Las ocasiones donde los dos sean perro son: {}\".format(list(dos_perros).count(True)))\n",
    "simulate_pets_prob(10000)"
   ]
  },
  {
   "cell_type": "markdown",
   "metadata": {},
   "source": [
    "#### El escenario menos probable es que los dos sean perros\n",
    "#### El escenario más probable es que al menos uno de los dos sea perro"
   ]
  },
  {
   "cell_type": "code",
   "execution_count": null,
   "metadata": {},
   "outputs": [],
   "source": []
  }
 ],
 "metadata": {
  "kernelspec": {
   "display_name": "Python 3",
   "language": "python",
   "name": "python3"
  },
  "language_info": {
   "codemirror_mode": {
    "name": "ipython",
    "version": 3
   },
   "file_extension": ".py",
   "mimetype": "text/x-python",
   "name": "python",
   "nbconvert_exporter": "python",
   "pygments_lexer": "ipython3",
   "version": "3.7.3"
  }
 },
 "nbformat": 4,
 "nbformat_minor": 2
}
