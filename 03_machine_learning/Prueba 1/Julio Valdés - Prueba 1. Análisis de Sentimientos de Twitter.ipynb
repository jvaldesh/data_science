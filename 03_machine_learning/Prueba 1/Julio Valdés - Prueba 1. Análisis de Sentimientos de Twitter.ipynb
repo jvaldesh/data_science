{
 "cells": [
  {
   "cell_type": "markdown",
   "metadata": {},
   "source": [
    "## Solución Prueba 1. Análisis de Sentimientos de Twitter\n",
    "\n",
    "**Nombre alumno:** Julio Valdés\n",
    "\n",
    "**Profesor:** Gabriel Tamayo L.\n",
    "\n",
    "**Generación:** G5\n",
    "\n",
    "### Preliminares\n",
    "#### Descripción del problema y objetivos\n",
    "* El objetivo general de esta prueba es alcanzar el mejor desempeño posible para clasificar si un tweet es positivo o negativo.\n",
    "* El tipo de problema a resolver es de clasificación.\n",
    "* El objetivo de este trabajo es desarrollar un modelo predictivo para obtener la probabilidad que un tweet sea positivo o negativo, en base a las palabras que lo forman.\n",
    "\n",
    "#### Descripción de la solución\n",
    "* Se realizará un análisis exploratorio sobre los datos contenidos en el dataframe, considerando palabras más comunes y distribución de las clases en el vector objetivo.\n",
    "* Se realizará el preprocesamiento y luego la representación de cada oración como un conjunto de características.\n",
    "* Se prepararán el vector objetivo y las matrices de entrenamiento y validación.\n",
    "* Entrenamiento de modelos\n",
    "    * Se implementarán cinco modelos distintos reportando las métricas de desempeño con los conjuntos de datos de entrenamiento y validación, analizando la capacidad de generalización de cada uno de ellos.\n",
    "    * El conjunto de datos de entrenamiento consiste en un 67% y el de validación en un 33% del total de datos.\n",
    "    * Los modelos serán evaluados de acuerdo a las métricas de presicion, recall y f1-score. Además se hará uso de la curva ROC para complementar la evaluación de estos.\n",
    "* Se seleccionarán los dos mejores modelos para serializarlos y entregarlos para evaluación"
   ]
  },
  {
   "cell_type": "markdown",
   "metadata": {},
   "source": [
    "### Aspectos computacionales\n",
    "#### Descripción de librerías y módulos\n",
    "Se usarán las siguientes librerías y módulos por cada etapa de la construcción de los modelos:\n",
    "* ingesta: pandas\n",
    "* preprocesamiento: pandas, numpy, missingno\n",
    "* visualización: matplotlib, seaborn\n",
    "* modelación: statsmodels.api, statsmodels.formula.api, sklearn.preprocessing, sklearn.linear_model, sklearn.model_selection\n",
    "* métricas de evaluación: sklearn.metrics"
   ]
  },
  {
   "cell_type": "markdown",
   "metadata": {},
   "source": [
    "### Descripción\n",
    "#### Se prepara el ambiente de trabajo cargando las librerías necesarias, se importa la BD e imprimen las primeras 5 filas a modo de ejemplo"
   ]
  },
  {
   "cell_type": "code",
   "execution_count": 74,
   "metadata": {},
   "outputs": [
    {
     "name": "stderr",
     "output_type": "stream",
     "text": [
      "[nltk_data] Downloading package stopwords to /Users/julio/nltk_data...\n",
      "[nltk_data]   Package stopwords is already up-to-date!\n"
     ]
    },
    {
     "data": {
      "text/html": [
       "<div>\n",
       "<style scoped>\n",
       "    .dataframe tbody tr th:only-of-type {\n",
       "        vertical-align: middle;\n",
       "    }\n",
       "\n",
       "    .dataframe tbody tr th {\n",
       "        vertical-align: top;\n",
       "    }\n",
       "\n",
       "    .dataframe thead th {\n",
       "        text-align: right;\n",
       "    }\n",
       "</style>\n",
       "<table border=\"1\" class=\"dataframe\">\n",
       "  <thead>\n",
       "    <tr style=\"text-align: right;\">\n",
       "      <th></th>\n",
       "      <th>content</th>\n",
       "      <th>sentiment</th>\n",
       "    </tr>\n",
       "  </thead>\n",
       "  <tbody>\n",
       "    <tr>\n",
       "      <th>0</th>\n",
       "      <td>Happy Mama's day to all mothers</td>\n",
       "      <td>love</td>\n",
       "    </tr>\n",
       "    <tr>\n",
       "      <th>1</th>\n",
       "      <td>@LysdelTellez I am lost. Please help me find a...</td>\n",
       "      <td>worry</td>\n",
       "    </tr>\n",
       "    <tr>\n",
       "      <th>2</th>\n",
       "      <td>@BoomKatt yes yes I AM, networking whore to th...</td>\n",
       "      <td>happiness</td>\n",
       "    </tr>\n",
       "    <tr>\n",
       "      <th>3</th>\n",
       "      <td>you@snapplynn Wish that would have been your t...</td>\n",
       "      <td>neutral</td>\n",
       "    </tr>\n",
       "    <tr>\n",
       "      <th>4</th>\n",
       "      <td>now i am doing the MicroEconomics project  iha...</td>\n",
       "      <td>worry</td>\n",
       "    </tr>\n",
       "  </tbody>\n",
       "</table>\n",
       "</div>"
      ],
      "text/plain": [
       "                                             content  sentiment\n",
       "0                    Happy Mama's day to all mothers       love\n",
       "1  @LysdelTellez I am lost. Please help me find a...      worry\n",
       "2  @BoomKatt yes yes I AM, networking whore to th...  happiness\n",
       "3  you@snapplynn Wish that would have been your t...    neutral\n",
       "4  now i am doing the MicroEconomics project  iha...      worry"
      ]
     },
     "execution_count": 74,
     "metadata": {},
     "output_type": "execute_result"
    }
   ],
   "source": [
    "import numpy as np\n",
    "import pandas as pd\n",
    "import matplotlib.pyplot as plt\n",
    "import seaborn as sns\n",
    "from sklearn.feature_extraction.text import CountVectorizer\n",
    "from sklearn.model_selection import train_test_split, GridSearchCV\n",
    "from sklearn.pipeline import Pipeline\n",
    "from sklearn.metrics import classification_report\n",
    "from sklearn.preprocessing import LabelEncoder\n",
    "from sklearn.naive_bayes import MultinomialNB\n",
    "from sklearn.discriminant_analysis import LinearDiscriminantAnalysis\n",
    "from sklearn.svm import SVC\n",
    "\n",
    "import string\n",
    "import re\n",
    "import nltk\n",
    "nltk.download('stopwords')\n",
    "from nltk.corpus import stopwords\n",
    "\n",
    "df = pd.read_csv('training_tweets.csv').drop(columns = ['Unnamed: 0'])\n",
    "df.head(5)"
   ]
  },
  {
   "cell_type": "code",
   "execution_count": 41,
   "metadata": {},
   "outputs": [
    {
     "data": {
      "text/html": [
       "<div>\n",
       "<style scoped>\n",
       "    .dataframe tbody tr th:only-of-type {\n",
       "        vertical-align: middle;\n",
       "    }\n",
       "\n",
       "    .dataframe tbody tr th {\n",
       "        vertical-align: top;\n",
       "    }\n",
       "\n",
       "    .dataframe thead th {\n",
       "        text-align: right;\n",
       "    }\n",
       "</style>\n",
       "<table border=\"1\" class=\"dataframe\">\n",
       "  <thead>\n",
       "    <tr style=\"text-align: right;\">\n",
       "      <th></th>\n",
       "      <th>content</th>\n",
       "      <th>sentiment</th>\n",
       "    </tr>\n",
       "  </thead>\n",
       "  <tbody>\n",
       "    <tr>\n",
       "      <th>count</th>\n",
       "      <td>30000</td>\n",
       "      <td>30000</td>\n",
       "    </tr>\n",
       "    <tr>\n",
       "      <th>unique</th>\n",
       "      <td>29881</td>\n",
       "      <td>13</td>\n",
       "    </tr>\n",
       "    <tr>\n",
       "      <th>top</th>\n",
       "      <td>I just received a mothers day card from my lov...</td>\n",
       "      <td>neutral</td>\n",
       "    </tr>\n",
       "    <tr>\n",
       "      <th>freq</th>\n",
       "      <td>12</td>\n",
       "      <td>6451</td>\n",
       "    </tr>\n",
       "  </tbody>\n",
       "</table>\n",
       "</div>"
      ],
      "text/plain": [
       "                                                  content sentiment\n",
       "count                                               30000     30000\n",
       "unique                                              29881        13\n",
       "top     I just received a mothers day card from my lov...   neutral\n",
       "freq                                                   12      6451"
      ]
     },
     "execution_count": 41,
     "metadata": {},
     "output_type": "execute_result"
    }
   ],
   "source": [
    "df.describe()"
   ]
  },
  {
   "cell_type": "code",
   "execution_count": 42,
   "metadata": {},
   "outputs": [
    {
     "name": "stdout",
     "output_type": "stream",
     "text": [
      "<class 'pandas.core.frame.DataFrame'>\n",
      "RangeIndex: 30000 entries, 0 to 29999\n",
      "Data columns (total 2 columns):\n",
      "content      30000 non-null object\n",
      "sentiment    30000 non-null object\n",
      "dtypes: object(2)\n",
      "memory usage: 468.8+ KB\n"
     ]
    }
   ],
   "source": [
    "df.info()"
   ]
  },
  {
   "cell_type": "markdown",
   "metadata": {},
   "source": [
    "#### Se realiza un análisis exploratorio sobre los datos contenidos en el DataFrame, imprimiendo las 10 palabras más comunes, la distribución de las clases en el vector objetivo y las 5 palabras más comunes por cada sentimiento.\n",
    "    * Una cantidad importante de los tweets se clasifican como neutrales en sentimiento. Lo sigue en cantidad de tweets worry, happiness y sadness. \n",
    "    * La palabra just y day se presentan dentro de las cinco más frecuentes en la mayoría de los sentimientos.\n",
    "    * La palabra work se encuentra dentro de las cinco más frecuentes en los sentimientos de caracter negativo."
   ]
  },
  {
   "cell_type": "code",
   "execution_count": 43,
   "metadata": {},
   "outputs": [
    {
     "data": {
      "text/html": [
       "<div>\n",
       "<style scoped>\n",
       "    .dataframe tbody tr th:only-of-type {\n",
       "        vertical-align: middle;\n",
       "    }\n",
       "\n",
       "    .dataframe tbody tr th {\n",
       "        vertical-align: top;\n",
       "    }\n",
       "\n",
       "    .dataframe thead th {\n",
       "        text-align: right;\n",
       "    }\n",
       "</style>\n",
       "<table border=\"1\" class=\"dataframe\">\n",
       "  <thead>\n",
       "    <tr style=\"text-align: right;\">\n",
       "      <th></th>\n",
       "      <th>Cantidad</th>\n",
       "    </tr>\n",
       "  </thead>\n",
       "  <tbody>\n",
       "    <tr>\n",
       "      <th>day</th>\n",
       "      <td>2403</td>\n",
       "    </tr>\n",
       "    <tr>\n",
       "      <th>just</th>\n",
       "      <td>2369</td>\n",
       "    </tr>\n",
       "    <tr>\n",
       "      <th>good</th>\n",
       "      <td>1736</td>\n",
       "    </tr>\n",
       "    <tr>\n",
       "      <th>like</th>\n",
       "      <td>1444</td>\n",
       "    </tr>\n",
       "    <tr>\n",
       "      <th>quot</th>\n",
       "      <td>1399</td>\n",
       "    </tr>\n",
       "    <tr>\n",
       "      <th>http</th>\n",
       "      <td>1398</td>\n",
       "    </tr>\n",
       "    <tr>\n",
       "      <th>today</th>\n",
       "      <td>1269</td>\n",
       "    </tr>\n",
       "    <tr>\n",
       "      <th>love</th>\n",
       "      <td>1245</td>\n",
       "    </tr>\n",
       "    <tr>\n",
       "      <th>work</th>\n",
       "      <td>1240</td>\n",
       "    </tr>\n",
       "    <tr>\n",
       "      <th>got</th>\n",
       "      <td>1236</td>\n",
       "    </tr>\n",
       "  </tbody>\n",
       "</table>\n",
       "</div>"
      ],
      "text/plain": [
       "       Cantidad\n",
       "day        2403\n",
       "just       2369\n",
       "good       1736\n",
       "like       1444\n",
       "quot       1399\n",
       "http       1398\n",
       "today      1269\n",
       "love       1245\n",
       "work       1240\n",
       "got        1236"
      ]
     },
     "execution_count": 43,
     "metadata": {},
     "output_type": "execute_result"
    }
   ],
   "source": [
    "cv = CountVectorizer(stop_words = 'english', max_features= 100)\n",
    "cv_fit = cv.fit_transform(df['content'])\n",
    "words = cv.get_feature_names()\n",
    "words_freq = cv_fit.toarray().sum(axis=0)\n",
    "pd.DataFrame(words_freq, index = words, columns = ['Cantidad']).sort_values(by=['Cantidad'], ascending=False).head(10)"
   ]
  },
  {
   "cell_type": "code",
   "execution_count": 44,
   "metadata": {},
   "outputs": [
    {
     "data": {
      "text/plain": [
       "<matplotlib.axes._subplots.AxesSubplot at 0x1a1dc3a5f8>"
      ]
     },
     "execution_count": 44,
     "metadata": {},
     "output_type": "execute_result"
    },
    {
     "data": {
      "image/png": "[encoded data removed]",
      "text/plain": [
       "<Figure size 1080x360 with 1 Axes>"
      ]
     },
     "metadata": {
      "needs_background": "light"
     },
     "output_type": "display_data"
    }
   ],
   "source": [
    "sentiment_count = df['sentiment'].value_counts(ascending = False)\n",
    "plt.figure(figsize=(15, 5))\n",
    "sns.barplot(sentiment_count, sentiment_count.index)"
   ]
  },
  {
   "cell_type": "code",
   "execution_count": 45,
   "metadata": {},
   "outputs": [],
   "source": [
    "def top100(df, sentiment):\n",
    "    cv = CountVectorizer(stop_words = 'english', max_features= 100)\n",
    "    cv_fit = cv.fit_transform(df[df['sentiment'] == sentiment]['content'])\n",
    "    words = cv.get_feature_names()\n",
    "    words_freq = cv_fit.toarray().sum(axis=0)\n",
    "    return pd.DataFrame(words_freq, index = words, columns = ['Cantidad']).sort_values(by=['Cantidad'], ascending=False)"
   ]
  },
  {
   "cell_type": "code",
   "execution_count": 46,
   "metadata": {},
   "outputs": [
    {
     "name": "stdout",
     "output_type": "stream",
     "text": [
      "Sentiment: neutral\n",
      "      Cantidad\n",
      "just       436\n",
      "http       413\n",
      "day        321\n",
      "com        311\n",
      "quot       296\n",
      "---------------------------------\n",
      "Sentiment: worry\n",
      "      Cantidad\n",
      "just       521\n",
      "like       344\n",
      "day        317\n",
      "don        313\n",
      "got        304\n",
      "---------------------------------\n",
      "Sentiment: happiness\n",
      "        Cantidad\n",
      "day          492\n",
      "good         428\n",
      "just         324\n",
      "happy        321\n",
      "thanks       228\n",
      "---------------------------------\n",
      "Sentiment: sadness\n",
      "      Cantidad\n",
      "just       299\n",
      "sad        295\n",
      "day        271\n",
      "miss       261\n",
      "work       243\n",
      "---------------------------------\n",
      "Sentiment: love\n",
      "        Cantidad\n",
      "love         665\n",
      "day          592\n",
      "happy        452\n",
      "good         243\n",
      "mother       223\n",
      "---------------------------------\n",
      "Sentiment: surprise\n",
      "      Cantidad\n",
      "just       161\n",
      "quot       114\n",
      "day         95\n",
      "oh          88\n",
      "http        83\n",
      "---------------------------------\n",
      "Sentiment: fun\n",
      "      Cantidad\n",
      "lol        138\n",
      "just       111\n",
      "quot        99\n",
      "fun         99\n",
      "day         88\n",
      "---------------------------------\n",
      "Sentiment: relief\n",
      "        Cantidad\n",
      "just         124\n",
      "day          121\n",
      "good         106\n",
      "thanks        79\n",
      "time          67\n",
      "---------------------------------\n",
      "Sentiment: hate\n",
      "       Cantidad\n",
      "hate        166\n",
      "just         92\n",
      "like         72\n",
      "work         63\n",
      "sucks        58\n",
      "---------------------------------\n",
      "Sentiment: empty\n",
      "      Cantidad\n",
      "http        38\n",
      "just        35\n",
      "com         34\n",
      "work        32\n",
      "quot        27\n",
      "---------------------------------\n",
      "Sentiment: enthusiasm\n",
      "      Cantidad\n",
      "want        38\n",
      "just        36\n",
      "good        35\n",
      "day         29\n",
      "like        29\n",
      "---------------------------------\n",
      "Sentiment: boredom\n",
      "       Cantidad\n",
      "bored        23\n",
      "im           16\n",
      "just         14\n",
      "work         13\n",
      "amp           9\n",
      "---------------------------------\n",
      "Sentiment: anger\n",
      "        Cantidad\n",
      "just           8\n",
      "did            6\n",
      "quot           6\n",
      "people         5\n",
      "work           5\n",
      "---------------------------------\n"
     ]
    }
   ],
   "source": [
    "for sentiment in sentiment_count.index:\n",
    "    print(\"Sentiment: {}\".format(sentiment))\n",
    "    print(top100(df, sentiment).head(5))\n",
    "    print(\"---------------------------------\")"
   ]
  },
  {
   "cell_type": "markdown",
   "metadata": {},
   "source": [
    "#### Se realiza el preprocesamiento de los datos\n",
    "    * Se transforman los tweets a lower case\n",
    "    * Se eliminan URLs y user mentions\n",
    "    * Generar la exclusión de stopwords mediante libreria nltk\n",
    "    * Se muestran las 10 palabras con mayor frecuencia"
   ]
  },
  {
   "cell_type": "code",
   "execution_count": 47,
   "metadata": {},
   "outputs": [],
   "source": [
    "def preprocesamiento(text):\n",
    "    \"\"\"\n",
    "    Preprocesa un texto realizando las siguientes acciones:\n",
    "        * Se transforma el texto a lower case\n",
    "        * Se eliminan URL\n",
    "        * Se eliminan user mentions\n",
    "    Retorna el texto preprocesado.\n",
    "    \"\"\"\n",
    "    text = text.lower()\n",
    "    text = re.sub(r\"(?:\\@|https?\\://)\\S+\", \"\", text)\n",
    "    \n",
    "    return text"
   ]
  },
  {
   "cell_type": "code",
   "execution_count": 48,
   "metadata": {},
   "outputs": [
    {
     "data": {
      "text/html": [
       "<div>\n",
       "<style scoped>\n",
       "    .dataframe tbody tr th:only-of-type {\n",
       "        vertical-align: middle;\n",
       "    }\n",
       "\n",
       "    .dataframe tbody tr th {\n",
       "        vertical-align: top;\n",
       "    }\n",
       "\n",
       "    .dataframe thead th {\n",
       "        text-align: right;\n",
       "    }\n",
       "</style>\n",
       "<table border=\"1\" class=\"dataframe\">\n",
       "  <thead>\n",
       "    <tr style=\"text-align: right;\">\n",
       "      <th></th>\n",
       "      <th>Cantidad</th>\n",
       "    </tr>\n",
       "  </thead>\n",
       "  <tbody>\n",
       "    <tr>\n",
       "      <th>day</th>\n",
       "      <td>2403</td>\n",
       "    </tr>\n",
       "    <tr>\n",
       "      <th>good</th>\n",
       "      <td>1735</td>\n",
       "    </tr>\n",
       "    <tr>\n",
       "      <th>get</th>\n",
       "      <td>1503</td>\n",
       "    </tr>\n",
       "    <tr>\n",
       "      <th>like</th>\n",
       "      <td>1444</td>\n",
       "    </tr>\n",
       "    <tr>\n",
       "      <th>quot</th>\n",
       "      <td>1391</td>\n",
       "    </tr>\n",
       "    <tr>\n",
       "      <th>go</th>\n",
       "      <td>1364</td>\n",
       "    </tr>\n",
       "    <tr>\n",
       "      <th>today</th>\n",
       "      <td>1269</td>\n",
       "    </tr>\n",
       "    <tr>\n",
       "      <th>love</th>\n",
       "      <td>1245</td>\n",
       "    </tr>\n",
       "    <tr>\n",
       "      <th>work</th>\n",
       "      <td>1237</td>\n",
       "    </tr>\n",
       "    <tr>\n",
       "      <th>got</th>\n",
       "      <td>1235</td>\n",
       "    </tr>\n",
       "  </tbody>\n",
       "</table>\n",
       "</div>"
      ],
      "text/plain": [
       "       Cantidad\n",
       "day        2403\n",
       "good       1735\n",
       "get        1503\n",
       "like       1444\n",
       "quot       1391\n",
       "go         1364\n",
       "today      1269\n",
       "love       1245\n",
       "work       1237\n",
       "got        1235"
      ]
     },
     "execution_count": 48,
     "metadata": {},
     "output_type": "execute_result"
    }
   ],
   "source": [
    "cv = CountVectorizer(stop_words = stopwords.words('english'), max_features= 100, preprocessor=preprocesamiento)\n",
    "cv_fit = cv.fit_transform(df['content'])\n",
    "words = cv.get_feature_names()\n",
    "words_freq = cv_fit.toarray().sum(axis=0)\n",
    "pd.DataFrame(words_freq, index = words, columns = ['Cantidad']).sort_values(by=['Cantidad'], ascending=False).head(10)"
   ]
  },
  {
   "cell_type": "markdown",
   "metadata": {},
   "source": [
    "#### Se realiza el refinamiento de los datos"
   ]
  },
  {
   "cell_type": "code",
   "execution_count": null,
   "metadata": {},
   "outputs": [],
   "source": []
  },
  {
   "cell_type": "markdown",
   "metadata": {},
   "source": [
    "#### Preparación del vector objetivo y las matrices de entrenamiento y validación\n",
    "* Se eliminan registros con sentiment igual a neutral\n",
    "* Se recodifica el vector objetivo para trabajar con emociones positivas o negativas\n",
    "    * Al recodificar el vector objetivo se observa que las clases se encuentran balanceadas\n",
    "    * Las palabras con mayor frecuencia son similares en ambos grupos pero en los sentimientos Positivos destacan palabras como 'love' y 'happy', y en los sentimientos Negativos destacan 'work' y 'today'"
   ]
  },
  {
   "cell_type": "code",
   "execution_count": 49,
   "metadata": {},
   "outputs": [],
   "source": [
    "index = df[df['sentiment'] == 'neutral'].index\n",
    "df.drop(index, inplace=True)\n",
    "df['sentiment'] = np.where(df['sentiment'].isin(\n",
    "    ['happiness', 'love', 'surprise', 'fun', 'relief', 'enthusiasm']), 'Positiva', df['sentiment'])\n",
    "df['sentiment'] = np.where(df['sentiment'].isin(\n",
    "    ['worry', 'sadness', 'hate', 'empty', 'boredom', 'anger']), 'Negativa', df['sentiment'])"
   ]
  },
  {
   "cell_type": "code",
   "execution_count": 53,
   "metadata": {},
   "outputs": [
    {
     "data": {
      "text/plain": [
       "<matplotlib.axes._subplots.AxesSubplot at 0x1a21e7bb38>"
      ]
     },
     "execution_count": 53,
     "metadata": {},
     "output_type": "execute_result"
    },
    {
     "data": {
      "image/png": "[encoded data removed]",
      "text/plain": [
       "<Figure size 720x216 with 1 Axes>"
      ]
     },
     "metadata": {
      "needs_background": "light"
     },
     "output_type": "display_data"
    }
   ],
   "source": [
    "sentiment_count = df['sentiment'].value_counts(ascending = False)\n",
    "plt.figure(figsize=(10, 3))\n",
    "sns.barplot(sentiment_count, sentiment_count.index)"
   ]
  },
  {
   "cell_type": "code",
   "execution_count": 54,
   "metadata": {},
   "outputs": [
    {
     "name": "stdout",
     "output_type": "stream",
     "text": [
      "Sentiment: Negativa\n",
      "       Cantidad\n",
      "just        969\n",
      "day         665\n",
      "like        647\n",
      "work        646\n",
      "today       560\n",
      "---------------------------------\n",
      "Sentiment: Positiva\n",
      "       Cantidad\n",
      "day        1417\n",
      "good        975\n",
      "just        964\n",
      "love        933\n",
      "happy       891\n",
      "---------------------------------\n"
     ]
    }
   ],
   "source": [
    "for sentiment in sentiment_count.index:\n",
    "    print(\"Sentiment: {}\".format(sentiment))\n",
    "    print(top100(df, sentiment).head(5))\n",
    "    print(\"---------------------------------\")"
   ]
  },
  {
   "cell_type": "code",
   "execution_count": 57,
   "metadata": {},
   "outputs": [],
   "source": [
    "label_encoder = LabelEncoder()\n",
    "df['sentiment_bin'] = label_encoder.fit_transform(df['sentiment'])\n",
    "X_train, X_test, y_train, y_test = train_test_split(df['content'], df['sentiment_bin'], random_state=11238, test_size = 0.33)"
   ]
  },
  {
   "cell_type": "markdown",
   "metadata": {},
   "source": [
    "#### Entrenamiento de modelos"
   ]
  },
  {
   "cell_type": "markdown",
   "metadata": {},
   "source": [
    "##### Modelo 1: Multinomial NB"
   ]
  },
  {
   "cell_type": "code",
   "execution_count": 58,
   "metadata": {},
   "outputs": [
    {
     "name": "stdout",
     "output_type": "stream",
     "text": [
      "              precision    recall  f1-score   support\n",
      "\n",
      "           0       0.64      0.80      0.71      4009\n",
      "           1       0.71      0.52      0.60      3763\n",
      "\n",
      "   micro avg       0.66      0.66      0.66      7772\n",
      "   macro avg       0.67      0.66      0.65      7772\n",
      "weighted avg       0.67      0.66      0.65      7772\n",
      "\n"
     ]
    }
   ],
   "source": [
    "pipeline_model1 = Pipeline([\n",
    "    ('cv', CountVectorizer(stop_words = stopwords.words('english'), max_features= 100, preprocessor=preprocesamiento)), \n",
    "    ('multinomial', MultinomialNB())\n",
    "])\n",
    "pipeline_model1.fit(X_train, y_train)\n",
    "y_hat = pipeline_model1.predict(X_test)\n",
    "print(classification_report(y_test, y_hat))"
   ]
  },
  {
   "cell_type": "markdown",
   "metadata": {},
   "source": [
    "##### Modelo 2: LDA"
   ]
  },
  {
   "cell_type": "code",
   "execution_count": 70,
   "metadata": {},
   "outputs": [
    {
     "name": "stderr",
     "output_type": "stream",
     "text": [
      "/Users/julio/anaconda3/lib/python3.7/site-packages/sklearn/preprocessing/_function_transformer.py:98: FutureWarning: The default validate=True will be replaced by validate=False in 0.22.\n",
      "  \"validate=False in 0.22.\", FutureWarning)\n"
     ]
    },
    {
     "name": "stdout",
     "output_type": "stream",
     "text": [
      "              precision    recall  f1-score   support\n",
      "\n",
      "           0       0.64      0.80      0.71      4009\n",
      "           1       0.71      0.52      0.60      3763\n",
      "\n",
      "   micro avg       0.67      0.67      0.67      7772\n",
      "   macro avg       0.68      0.66      0.66      7772\n",
      "weighted avg       0.68      0.67      0.66      7772\n",
      "\n"
     ]
    },
    {
     "name": "stderr",
     "output_type": "stream",
     "text": [
      "/Users/julio/anaconda3/lib/python3.7/site-packages/sklearn/preprocessing/_function_transformer.py:98: FutureWarning: The default validate=True will be replaced by validate=False in 0.22.\n",
      "  \"validate=False in 0.22.\", FutureWarning)\n"
     ]
    }
   ],
   "source": [
    "from sklearn.preprocessing import FunctionTransformer\n",
    "\n",
    "pipeline_model2 = Pipeline([\n",
    "    ('cv', CountVectorizer(stop_words = stopwords.words('english'), max_features= 100, preprocessor=preprocesamiento)), \n",
    "    ('transform', FunctionTransformer(lambda x: x.todense(), accept_sparse=True)),\n",
    "    ('lda', LinearDiscriminantAnalysis())\n",
    "])\n",
    "pipeline_model2.fit(X_train, y_train)\n",
    "y_hat2 = pipeline_model2.predict(X_test)\n",
    "print(classification_report(y_test, y_hat2))"
   ]
  },
  {
   "cell_type": "markdown",
   "metadata": {},
   "source": [
    "##### Modelo 3: SVC"
   ]
  },
  {
   "cell_type": "code",
   "execution_count": 76,
   "metadata": {},
   "outputs": [
    {
     "data": {
      "text/plain": [
       "Pipeline(memory=None,\n",
       "     steps=[('cv', CountVectorizer(analyzer='word', binary=False, decode_error='strict',\n",
       "        dtype=<class 'numpy.int64'>, encoding='utf-8', input='content',\n",
       "        lowercase=True, max_df=1.0, max_features=100, min_df=1,\n",
       "        ngram_range=(1, 1),\n",
       "        preprocessor=<function preprocesamiento at 0...   pre_dispatch='2*n_jobs', refit=True, return_train_score='warn',\n",
       "       scoring=None, verbose=0))])"
      ]
     },
     "execution_count": 76,
     "metadata": {},
     "output_type": "execute_result"
    }
   ],
   "source": [
    "c_param_range = [0.0001, 0.01, 1, 100, 1000]\n",
    "gamma_param_range = [0.0000001, 0.001, 0.1, 10]\n",
    "param_grid = dict(gamma = gamma_param_range, C = c_param_range)\n",
    "grid_search_cv = Pipeline([\n",
    "    ('cv', CountVectorizer(stop_words = stopwords.words('english'), max_features= 100, preprocessor=preprocesamiento)),\n",
    "    ('grid', GridSearchCV(SVC(), param_grid = param_grid, cv=3))\n",
    "])\n",
    "grid_search_cv.fit(X_train, y_train)"
   ]
  },
  {
   "cell_type": "code",
   "execution_count": 77,
   "metadata": {},
   "outputs": [
    {
     "name": "stdout",
     "output_type": "stream",
     "text": [
      "La mejor combinación de hiperparámetros son {'C': 1, 'gamma': 0.1} con un desempeño del 0.65\n"
     ]
    }
   ],
   "source": [
    "grid_step = grid_search_cv.named_steps['grid']\n",
    "print(\"La mejor combinación de hiperparámetros son %s con un desempeño del %0.2f\" % (grid_step.best_params_, grid_step.best_score_))"
   ]
  },
  {
   "cell_type": "code",
   "execution_count": 78,
   "metadata": {},
   "outputs": [
    {
     "name": "stdout",
     "output_type": "stream",
     "text": [
      "              precision    recall  f1-score   support\n",
      "\n",
      "           0       0.61      0.87      0.72      4009\n",
      "           1       0.75      0.42      0.54      3763\n",
      "\n",
      "   micro avg       0.65      0.65      0.65      7772\n",
      "   macro avg       0.68      0.64      0.63      7772\n",
      "weighted avg       0.68      0.65      0.63      7772\n",
      "\n"
     ]
    }
   ],
   "source": [
    "pipeline_model3 = Pipeline([\n",
    "    ('cv', CountVectorizer(stop_words = stopwords.words('english'), max_features= 100, preprocessor=preprocesamiento)), \n",
    "    ('svc', SVC(kernel='rbf', C=1, gamma=0.01))\n",
    "])\n",
    "pipeline_model3.fit(X_train, y_train)\n",
    "y_hat3 = pipeline_model3.predict(X_test)\n",
    "print(classification_report(y_test, y_hat3))"
   ]
  },
  {
   "cell_type": "code",
   "execution_count": null,
   "metadata": {},
   "outputs": [],
   "source": []
  }
 ],
 "metadata": {
  "kernelspec": {
   "display_name": "Python 3",
   "language": "python",
   "name": "python3"
  },
  "language_info": {
   "codemirror_mode": {
    "name": "ipython",
    "version": 3
   },
   "file_extension": ".py",
   "mimetype": "text/x-python",
   "name": "python",
   "nbconvert_exporter": "python",
   "pygments_lexer": "ipython3",
   "version": "3.7.3"
  }
 },
 "nbformat": 4,
 "nbformat_minor": 2
}
